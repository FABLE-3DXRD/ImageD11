{
 "cells": [
  {
   "cell_type": "markdown",
   "id": "d29237e2",
   "metadata": {},
   "source": [
    "# 2D Detector Geometry\n",
    "\n",
    "Various issues come up when calibrating 2D detector geometry and doing strain refinements:\n",
    "\n",
    "- Numerical instabilities can arise for small angles in certain formulations\n",
    "\n",
    "- Exact answers for angles like 30,45,60,90,120 etc are hard to reproduce\n",
    "\n",
    "- ...leading to some philosophical misgivings about trigonometric functions\n",
    "\n",
    "- People want to get strains that are independent of orientation (despite JW resisting this idea for years)\n",
    "\n",
    "- There is a correlation between wavelength and distance (not addressed here)\n",
    "\n",
    "- Youtube videos from Norman J. Wildberger suggested looking a quadrance (length^2) and spread (sin^2 angle). He has a book \"DIVINE PROPORTIONS : Rational Trigonometry to Universal Geometry\" Wild Egg Books, Sydney 2005. ISBN: 0-9757492-0-X. It might be useful to get a copy and try to read it."
   ]
  },
  {
   "cell_type": "markdown",
   "id": "8b1b83cb",
   "metadata": {},
   "source": [
    "We set up the geometry to be ready to work on data where the detector was moved. This happens to follow the fable convention and it is a bit more common than moving the X-ray beam (but that obviously happens too). Anyway, the detector itself doest not define the geometry here. We place the x-axis along the X-ray beam. The detector is wherever it is, and some function gives the x,y,z co-ordinates of each pixel. A photon is detected at pixel co-ordinates $(x,y,z)$ in 3D cartesian space, usually in the sensitive surface of the detector.\n",
    "\n",
    "The origin of the coordinate system is usually in the centre of the sample. If the sample is not at the origin, then subtract the sample coordinates from the detector coordinates to get a vector along the direction of the output ray below.\n",
    "\n",
    "The goal here is to get a formula for the metric tensor in terms of the pixel co-ordinates. Elsewhere we have formulae for the various finite strain tensors in terms of the metric tensor.\n",
    "\n",
    "Consider the cross product of vectors along the incident and scattered rays. This is:\n",
    "\n",
    "$ \\mathbf{s_0} \\times \\mathbf{s_1} = (1,0,0) \\times (x,y,z) = |s_0|  |s_1| \\sin2\\theta \\mathbf{n} $\n",
    "\n",
    "$ \\mathbf{s_0} \\times \\mathbf{s_1} = (0,z,-y) = (1).(\\sqrt{x^2+y^2+z^2}) \\sin2\\theta \\mathbf{n} $\n",
    "\n",
    "...where $\\mathbf{n}$ is a unit vector normal to the incident and scattered rays. We dot this vector with itself to arrive at a scalar value:\n",
    "\n",
    "$ (\\mathbf{s_0} \\times \\mathbf{s_1}).(\\mathbf{s_0} \\times \\mathbf{s_1})\n",
    "= (y^2 + z^2) = (x^2 + y^2 + z^2) \\sin^22\\theta $\n",
    "\n",
    "This gives us a relationship between $\\sin^22\\theta$ and the detector coordinates. From Bragg's law, $\\lambda = 2d\\sin\\theta$, we can find the metric tensor in terms of $\\sin^2\\theta$, (note the $\\theta$ versus $2\\theta$):\n",
    "\n",
    "$ \\mathbf{ h g h^T } = \\frac{1}{d^2} = \\frac{ 4 \\sin^2\\theta } {\\lambda^2} $\n",
    "\n",
    "... where $\\mathbf{g}$ is the reciprocal metric tensor. "
   ]
  },
  {
   "cell_type": "markdown",
   "id": "841bf876",
   "metadata": {},
   "source": [
    "We convert the $2\\theta$ into $\\theta$ via trig identities:\n",
    "\n",
    "$ \\sin^22\\theta = (2\\sin\\theta\\cos\\theta)^2 = 4 \\sin^2\\theta \\cos^2\\theta = 4 \\sin^2\\theta (1 - \\sin^2\\theta)$\n",
    "\n",
    "This gives us a quadratic in $\\sin^2\\theta$:\n",
    "\n",
    "$ (\\sin^2\\theta)^2 - (\\sin^2\\theta) + \\frac { (y^2 + z^2) } {4 (x^2 + y^2 + z^2) } = 0 $\n",
    "\n",
    "This can be solved using a quadratic formula for $ax^2+bx+c$ that avoids roundoff for small scattering angles where $c$ approaches zero (https://web.physics.utah.edu/~detar/lessons/python/quadratic/node3.html):\n",
    "\n",
    "$ x = \\frac{2.c}{(-b \\mp \\sqrt( b^2 - 4ac )} $\n",
    "\n",
    "We set, $ R = z^2 + y^2 $ and $ Q = x^2 + y^2 + z^2 $ to get:\n",
    "\n",
    "$ Q (\\sin^2\\theta)^2 - Q (\\sin^2\\theta) + R/4 = 0 $\n",
    "\n",
    "$ \\sin^2\\theta = \\frac{R}{2 ( Q \\mp \\sqrt{ Q^2 - Q R } ) } $\n",
    "\n",
    "Note that $ Q = R + x^2 $:\n",
    "\n",
    "$ \\sin^2\\theta = \\frac{R}{2 ( Q \\mp \\sqrt{ Q (R + x^2) - Q R })} = \\frac{R}{2 ( Q \\mp x\\sqrt{ Q })} $\n",
    "\n",
    "$  \\mathbf{ h g h^T } = \\frac{1}{d^2} = \\frac{ 4 \\sin^2\\theta } {\\lambda^2} =  \\frac{2 R}{ \\lambda^2 ( Q \\mp x\\sqrt{ Q } ) } $"
   ]
  },
  {
   "cell_type": "code",
   "execution_count": 1,
   "id": "36a38723",
   "metadata": {},
   "outputs": [],
   "source": [
    "from numpy import arctan2, sin, cos, sqrt, allclose, where, isfinite\n",
    "\n",
    "def sinth2_atan( x, y, z ):\n",
    "    \"\"\" Compute sin(theta)^2\n",
    "    Conventional approach in ImageD11 now\n",
    "    \"\"\"\n",
    "    twotheta = arctan2( sqrt(z*z + y*y), x )\n",
    "    sinth = sin( twotheta/2 )\n",
    "    return sinth**2\n",
    "\n",
    "def sinth2_sqrt( x, y, z ):\n",
    "    \"\"\" Compute sin(theta)^2 \n",
    "    x,y,z = co-ordinates of the pixel in cartesian space\n",
    "    R = hypotenuse normal to incident beam (along x)\n",
    "    Q = hypotenuse along the scattered beam\n",
    "    \"\"\"\n",
    "    R = y*y+z*z\n",
    "    Q = x*x + R\n",
    "    sinsqth = 0.5*R/( Q + x*sqrt(Q) ) #  postive root only, not 0.5*R/( Q - x*sqrt(Q) )\n",
    "    return sinsqth"
   ]
  },
  {
   "cell_type": "code",
   "execution_count": 2,
   "id": "918ba0ce",
   "metadata": {},
   "outputs": [
    {
     "name": "stdout",
     "output_type": "stream",
     "text": [
      "-1.1102230246251565e-16 0 1000 1000 0.4999999999999999 0.5\n",
      "-5.551115123125783e-17 1 1.7320508075688772 0 0.24999999999999994 0.25\n",
      "5.551115123125783e-17 1e-09 1000 1000 0.4999999999996465 0.49999999999964645\n",
      "0.0 1000000000.0 0 1 2.5e-19 2.5e-19\n",
      "0.0 1e+20 1 0 2.5e-41 2.5e-41\n",
      "0.0 100 0 0 0.0 0.0\n",
      "-2.7755575615628914e-17 1000 1000 1000 0.2113248654051871 0.21132486540518713\n",
      "1.1102230246251565e-16 -123 456 789 0.5668799937442661 0.566879993744266\n"
     ]
    }
   ],
   "source": [
    "tests = [(0,1000,1000),       # two theta == 90 degrees, sin(45)=1/sqrt(2), ans=0.5\n",
    "              (1, sqrt(3), 0),     # two theta == 60 degrees, sin(30)=1/2, ans=0.25\n",
    "              (1e-9,1000,1000), \n",
    "              (1e9,0,1),\n",
    "              (1e20,1,0),\n",
    "              (100,0,0),\n",
    "              (1000,1000,1000),\n",
    "                       (-123,456,789)]\n",
    "\n",
    "for x,y,z in tests:\n",
    "    v1 = sinth2_atan(x,y,z)            \n",
    "    v2 = sinth2_sqrt(x,y,z)\n",
    "    e = v1-v2\n",
    "    print(e,x,y,z,v1,v2)\n",
    "    assert allclose( v1, v2)"
   ]
  },
  {
   "cell_type": "code",
   "execution_count": 3,
   "id": "099f44e9",
   "metadata": {},
   "outputs": [],
   "source": [
    "# diversion : derivatives of the atan expression:\n",
    "\"\"\"\n",
    "[jon@pine docs]$ maxima \n",
    ";;; Loading #P\"/usr/lib/ecl-21.2.1/sb-bsd-sockets.fas\"\n",
    ";;; Loading #P\"/usr/lib/ecl-21.2.1/sockets.fas\"\n",
    "Maxima 5.44.0 http://maxima.sourceforge.net\n",
    "using Lisp ECL 21.2.1\n",
    "Distributed under the GNU Public License. See the file COPYING.\n",
    "Dedicated to the memory of William Schelter.\n",
    "The function bug_report() provides bug reporting information.\n",
    "(%i1) display2d : false;\n",
    "(%o1) false\n",
    "(%i2) s : sin( atan2( sqrt( y*y+z*z), x ) / 2 );  \n",
    "(%o2) sin(atan2(sqrt(z^2+y^2),x)/2)\n",
    "(%i3) diff( s,x,1); \n",
    "(%o3) -(sqrt(z^2+y^2)*cos(atan2(sqrt(z^2+y^2),x)/2))/(2*(z^2+y^2+x^2))\n",
    "(%i4) diff(s,y,1);\n",
    "(%o4) (x*y*cos(atan2(sqrt(z^2+y^2),x)/2))/(2*sqrt(z^2+y^2)*(z^2+y^2+x^2))\n",
    "(%i5) diff(s,z,1);    \n",
    "(%o5) (x*z*cos(atan2(sqrt(z^2+y^2),x)/2))/(2*sqrt(z^2+y^2)*(z^2+y^2+x^2))\n",
    "\"\"\"\n",
    "\n",
    "# import numba    # no great effect here\n",
    "# @numba.njit   \n",
    "def sinth2_atan_deriv( x, y, z ):\n",
    "    \"\"\" Compute sin(theta)**2 and derivatives w.r.t x,y,z \"\"\"\n",
    "    R2 = z*z+y*y\n",
    "    r  = sqrt( R2 )\n",
    "    D2 = R2 + x*x    # x*x+y*y+z*z\n",
    "    theta = arctan2( r, x ) / 2\n",
    "    sinth = sin( theta )\n",
    "    costh = cos( theta )\n",
    "    div_D2 = where(isfinite(1/D2),1/D2,0)\n",
    "    p = sinth*costh*div_D2\n",
    "    dsinth2_dx = - r*p\n",
    "    # if r == 0 this blows up. For r==0 then y==0 as well. Should somehow determine y==0...\n",
    "    div_r = where(isfinite(1/r), 1/r, 0)\n",
    "    dsinth2_dy =  x*y*p*div_r # at r == 0?\n",
    "    dsinth2_dz =  x*z*p*div_r\n",
    "    return sinth*sinth, dsinth2_dx, dsinth2_dy, dsinth2_dz"
   ]
  },
  {
   "cell_type": "code",
   "execution_count": 4,
   "id": "f8ceff20",
   "metadata": {},
   "outputs": [],
   "source": [
    "\"\"\"# maxima:\n",
    "(%i3) r:z*z+y*y\n",
    "(%o3) z^2+y^2\n",
    "(%i4) q:r+x*x\n",
    "(%o4) z^2+y^2+x^2\n",
    "(%i5) s:r/(2*(q+x*sqrt(q)))\n",
    "(%o5) (z^2+y^2)/(2*(x*sqrt(z^2+y^2+x^2)+z^2+y^2+x^2))\n",
    "(%i6) diff(s,x,1)\n",
    "(%o6) -((z^2+y^2)*(sqrt(z^2+y^2+x^2)+x^2/sqrt(z^2+y^2+x^2)+2*x))\n",
    " /(2*(x*sqrt(z^2+y^2+x^2)+z^2+y^2+x^2)^2)\n",
    "(%i7) diff(s,y,1)\n",
    "(%o7) y/(x*sqrt(z^2+y^2+x^2)+z^2+y^2+x^2)\n",
    " -((z^2+y^2)*((x*y)/sqrt(z^2+y^2+x^2)+2*y))\n",
    "  /(2*(x*sqrt(z^2+y^2+x^2)+z^2+y^2+x^2)^2)\n",
    "(%i8) diff(s,z,1)\n",
    "(%o8) z/(x*sqrt(z^2+y^2+x^2)+z^2+y^2+x^2)\n",
    " -((z^2+y^2)*((x*z)/sqrt(z^2+y^2+x^2)+2*z))\n",
    "  /(2*(x*sqrt(z^2+y^2+x^2)+z^2+y^2+x^2)^2)\n",
    "\"\"\"\n",
    "# @numba.njit\n",
    "def sinth2_sqrt_deriv(x, y, z):\n",
    "    R = z*z + y*y\n",
    "    Q = R + x*x\n",
    "    SQ = sqrt(Q)\n",
    "    R2 = R/2\n",
    "    # at x==y==0 this is undefined.\n",
    "    rQ_xSQ = 1/(Q + x*SQ)\n",
    "    sinth2 = R2*rQ_xSQ\n",
    "    # some simplification and collecting terms from expressions above to get:\n",
    "    sr = sinth2*rQ_xSQ\n",
    "    p = (x/SQ+2)*sr  # p should be in the range 3sr -> 2sr for x/x to 0/sqrt(R)\n",
    "    t = (rQ_xSQ - p) # may cancel?  \n",
    "    sinth2_dx =  -(SQ*sr+x*p)\n",
    "    sinth2_dy =   y*t\n",
    "    sinth2_dz =   z*t\n",
    "    return sinth2, sinth2_dx, sinth2_dy, sinth2_dz"
   ]
  },
  {
   "cell_type": "code",
   "execution_count": 5,
   "id": "cf36f991",
   "metadata": {},
   "outputs": [
    {
     "name": "stdout",
     "output_type": "stream",
     "text": [
      "xyz: 0 1000 1000 \n",
      "sqrt\t (0.5, -0.00035355339059327376, 0.0, 0.0) \n",
      "atan\t (0.4999999999999999, -0.00035355339059327376, 0.0, 0.0)\n",
      "xyz: 1 1.7320508075688772 0 \n",
      "sqrt\t (0.25, -0.1875, 0.10825317547305482, 0.0) \n",
      "atan\t (0.24999999999999994, -0.18750000000000003, 0.10825317547305487, 0.0)\n",
      "xyz: 1e-09 1000 1000 \n",
      "sqrt\t (0.49999999999964645, -0.00035355339059327376, 1.768181277393352e-16, 1.768181277393352e-16) \n",
      "atan\t (0.4999999999996465, -0.00035355339059327376, 1.767766952966369e-16, 1.767766952966369e-16)\n",
      "xyz: 1000000000.0 0 1 \n",
      "sqrt\t (2.5e-19, -5e-28, 0.0, 5e-19) \n",
      "atan\t (2.5e-19, -5.000000000000001e-28, 0.0, 5.000000000000001e-19)\n",
      "xyz: 1e+20 1 0 \n",
      "sqrt\t (2.5e-41, -4.9999999999999985e-61, 5e-41, 0.0) \n",
      "atan\t (2.5e-41, -4.999999999999999e-61, 5e-41, 0.0)\n",
      "xyz: 100 0 0 \n",
      "sqrt\t (0.0, -0.0, 0.0, 0.0) \n",
      "atan\t (0.0, -0.0, 0.0, 0.0)\n",
      "xyz: 1000 1000 1000 \n",
      "sqrt\t (0.21132486540518713, -0.00019245008972987527, 9.622504486493763e-05, 9.622504486493763e-05) \n",
      "atan\t (0.2113248654051871, -0.00019245008972987527, 9.622504486493763e-05, 9.622504486493763e-05)\n",
      "xyz: -123 456 789 \n",
      "sqrt\t (0.5668799937442661, -0.0005340113387752514, -3.606644048906357e-05, -6.240443321462973e-05) \n",
      "atan\t (0.5668799937442661, -0.0005340113387752512, -3.60664404890636e-05, -6.240443321462979e-05)\n"
     ]
    },
    {
     "name": "stderr",
     "output_type": "stream",
     "text": [
      "/tmp/ipykernel_751591/3023911578.py:37: RuntimeWarning: divide by zero encountered in double_scalars\n",
      "  div_r = where(isfinite(1/r), 1/r, 0)\n"
     ]
    }
   ],
   "source": [
    "for x,y,z in tests:\n",
    "    a1 = sinth2_sqrt_deriv(x,y,z)\n",
    "    a2 = sinth2_atan_deriv(x,y,z)\n",
    "    print('xyz:', x,y,z,\"\\nsqrt\\t\",a1,\"\\natan\\t\",a2)\n",
    "    assert allclose(a1,a2)"
   ]
  },
  {
   "cell_type": "code",
   "execution_count": 6,
   "id": "265a2ad1",
   "metadata": {},
   "outputs": [
    {
     "name": "stdout",
     "output_type": "stream",
     "text": [
      "1 629650 -4.2043328642028395e-07 -3.2161595933277716e-10 9.70597750455382e-10\n",
      "-7.0338134765625 -7.033922666496423\n",
      "2 54669 -3.3884238262201716e-07 5.078959545993244e-10 4.734340882978083e-10\n",
      "-2211.7232267291006 -2211.8036421740667\n",
      "3 629650 -4.2043328642028395e-07 -3.2161595933277716e-10 9.70597750455382e-10\n",
      "-2745.3556259377906 -2745.4355099133227\n"
     ]
    }
   ],
   "source": [
    "from numpy import isclose, random, arange\n",
    "random.seed(11)\n",
    "for s,o in [(1e6,0.5), (1,.25), (1e-6,0.5)]:\n",
    "    x,y,z = (random.random( (3,1_000_000) )-o)*s\n",
    "    a1 = sinth2_sqrt_deriv(x,y,z)\n",
    "    a2 = sinth2_atan_deriv(x,y,z)\n",
    "    for i in range(4):\n",
    "        if allclose(a1[i], a2[i]):\n",
    "            continue\n",
    "        absdiff = abs(a1[i]-a2[i])\n",
    "        e = absdiff.argmax()\n",
    "        print(i,e, x[e],y[e],z[e])\n",
    "        print(a1[i][e],a2[i][e])\n",
    "        # The derivatives start to lose precision for small values of x,y,z:"
   ]
  },
  {
   "cell_type": "code",
   "execution_count": 7,
   "id": "57c81e75",
   "metadata": {},
   "outputs": [
    {
     "name": "stdout",
     "output_type": "stream",
     "text": [
      "110 ms ± 4.27 ms per loop (mean ± std. dev. of 7 runs, 10 loops each)\n"
     ]
    }
   ],
   "source": [
    "%timeit a1 = sinth2_sqrt_deriv(x,y,z)"
   ]
  },
  {
   "cell_type": "code",
   "execution_count": 8,
   "id": "c2cdd334",
   "metadata": {},
   "outputs": [
    {
     "name": "stdout",
     "output_type": "stream",
     "text": [
      "274 ms ± 2.25 ms per loop (mean ± std. dev. of 7 runs, 1 loop each)\n"
     ]
    }
   ],
   "source": [
    "%timeit a2 = sinth2_atan_deriv(x,y,z)"
   ]
  },
  {
   "cell_type": "markdown",
   "id": "b52f4575",
   "metadata": {},
   "source": [
    "## conclusion\n",
    "\n",
    "This method seems to be more accurate for angles where exact answers are known and appears to be slightly faster.\n",
    "\n",
    "Still need to do something useful with it.\n",
    "\n",
    "Could set up to refine the metric tensor elements directly from spot positions on the detector. Does not depend on rotation angles (except for grain origins).\n",
    "\n",
    "There should be some way to look at orientations to go along with this."
   ]
  },
  {
   "cell_type": "code",
   "execution_count": null,
   "id": "700c16ca",
   "metadata": {},
   "outputs": [],
   "source": []
  }
 ],
 "metadata": {
  "kernelspec": {
   "display_name": "Python 3 (ipykernel)",
   "language": "python",
   "name": "python3"
  },
  "language_info": {
   "codemirror_mode": {
    "name": "ipython",
    "version": 3
   },
   "file_extension": ".py",
   "mimetype": "text/x-python",
   "name": "python",
   "nbconvert_exporter": "python",
   "pygments_lexer": "ipython3",
   "version": "3.9.7"
  }
 },
 "nbformat": 4,
 "nbformat_minor": 5
}
