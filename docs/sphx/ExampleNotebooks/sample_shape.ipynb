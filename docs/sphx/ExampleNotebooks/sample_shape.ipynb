{
 "cells": [
  {
   "cell_type": "markdown",
   "metadata": {},
   "source": [
    "# Sample shapes\n",
    "\n",
    "Reconstruct shapes based on sinograms of sinograms of log(intensity)\n",
    "\n",
    "- all peaks\n",
    "- peaks assigned to a phase\n",
    "- impurity of precipitate peaks\n",
    "\n",
    "Uses the mlem reconstruction suggested by Bonnin et al, APL, 2014\n",
    "\n",
    "JW March 2024"
   ]
  },
  {
   "cell_type": "code",
   "execution_count": null,
   "metadata": {},
   "outputs": [],
   "source": [
    "import numpy as np, pylab as pl, h5py\n",
    "import sys, os\n",
    "sys.path.insert(0, os.environ['HOME'] + '/git/ImageD11')\n",
    "import ImageD11.sinograms.dataset\n",
    "import ImageD11.sinograms.properties\n",
    "import ImageD11.sinograms.roi_iradon\n",
    "import ImageD11.blobcorrector\n",
    "import ImageD11.nbGui.nb_utils\n",
    "import ImageD11.columnfile\n",
    "import ImageD11.unitcell"
   ]
  },
  {
   "cell_type": "code",
   "execution_count": null,
   "metadata": {
    "tags": []
   },
   "outputs": [],
   "source": [
    "!pwd"
   ]
  },
  {
   "cell_type": "code",
   "execution_count": null,
   "metadata": {
    "tags": []
   },
   "outputs": [],
   "source": [
    "dsname=\"/data/visitor/ihma423/id11/20231205/PROCESSED_DATA/SparsePixels_NewMask/ds_S9_deformed_sliceZ_7.h5\"\n",
    "# To Do: the next four filenames should be stored in the dataset\n",
    "pkname=\"/data/visitor/ihma423/id11/20231205/PROCESSED_DATA/SparsePixels_NewMask/pks_S9_deformed_sliceZ_7.h5\"\n",
    "sparsename=\"/data/visitor/ihma423/id11/20231205/PROCESSED_DATA/SparsePixels_NewMask/S9_deformed_sliceZ_7_sparse.h5\"\n",
    "parname= \"/data/visitor/ihma423/id11/20231205/PROCESSED_DATA/S7_deformed/Al_fcc_2.par\"\n",
    "dxfile = \"/data/id11/nanoscope/Eiger/e2dx_E-08-0144_20240205.edf\"\n",
    "dyfile = \"/data/id11/nanoscope/Eiger/e2dy_E-08-0144_20240205.edf\"\n",
    "\n",
    "# OUTPUTNAME\n",
    "shapename = \"/data/visitor/ihma423/id11/20231205/PROCESSED_DATA/SparsePixels_NewMask/shapes_S9_deformed_sliceZ_7.h5\""
   ]
  },
  {
   "cell_type": "code",
   "execution_count": null,
   "metadata": {},
   "outputs": [],
   "source": [
    "# Load the dataset\n",
    "ds = ImageD11.sinograms.dataset.load(dsname)\n",
    "\n",
    "# To Do: tocolf or getpeaks should be a dataset method\n",
    "pkst = ImageD11.sinograms.properties.pks_table.load(pkname)\n",
    "cf = ImageD11.nbGui.nb_utils.tocolf( pkst.pk2d(ds.omega, ds.dty), parname, dxfile, dyfile )"
   ]
  },
  {
   "cell_type": "code",
   "execution_count": null,
   "metadata": {
    "tags": []
   },
   "outputs": [],
   "source": [
    "# To normalise data below\n",
    "with h5py.File(sparsename,'r') as hin:\n",
    "    monitor = ds.sinohist(np.array([hin[scan]['measurement/fpico6'] for scan in ds.scans]))"
   ]
  },
  {
   "cell_type": "code",
   "execution_count": null,
   "metadata": {
    "tags": []
   },
   "outputs": [],
   "source": [
    "pl.imshow(monitor.T,aspect='auto')\n",
    "pl.colorbar()"
   ]
  },
  {
   "cell_type": "code",
   "execution_count": null,
   "metadata": {},
   "outputs": [],
   "source": [
    "# Select peaks belonging to a unit cell and below dsmax\n",
    "dstol = 0.005\n",
    "dsmax = 1.5\n",
    "\n",
    "uc = ImageD11.unitcell.unitcell_from_parameters(cf.parameters)\n",
    "uc.makerings( cf.ds.max() )\n",
    "la = cf.ds < dsmax\n",
    "m = np.zeros_like(la)\n",
    "for d in uc.ringds:\n",
    "    m |= abs( cf.ds - d ) < dstol\n",
    "m = ~m & la\n",
    "ringmask=m"
   ]
  },
  {
   "cell_type": "code",
   "execution_count": null,
   "metadata": {
    "tags": []
   },
   "outputs": [],
   "source": [
    "# Show what was selected and what was not\n",
    "f,a = pl.subplots(2,1)\n",
    "a[0].hist2d( cf.ds, np.log( cf.sum_intensity ), bins=(5000, 128), norm=pl.matplotlib.colors.LogNorm())\n",
    "a[1].hist2d( cf.ds[m], np.log( cf.sum_intensity[m] ), bins=(5000, 128), norm=pl.matplotlib.colors.LogNorm());"
   ]
  },
  {
   "cell_type": "code",
   "execution_count": null,
   "metadata": {
    "tags": []
   },
   "outputs": [],
   "source": [
    "# A series of different functions to try:\n",
    "funcs = { 'log': np.log, \n",
    "          #'sqrt': np.sqrt, \n",
    "          #'x^{1/3}' : lambda x: pow(x,1/3),\n",
    "          'linear' : lambda x: x,\n",
    "        }"
   ]
  },
  {
   "cell_type": "code",
   "execution_count": null,
   "metadata": {
    "tags": []
   },
   "outputs": [],
   "source": [
    "def circlemask(n):\n",
    "    \"\"\" mask the central circle for tomo recon \"\"\"\n",
    "    i,j = np.mgrid[0:n,0:n]\n",
    "    r = i.max()//2\n",
    "    i -= r\n",
    "    j -= r\n",
    "    m = i*i+j*j < r*r\n",
    "    return m"
   ]
  },
  {
   "cell_type": "code",
   "execution_count": null,
   "metadata": {
    "tags": []
   },
   "outputs": [],
   "source": [
    "#test case\n",
    "sino = ds.sinohist( np.log( cf.sum_intensity ) , cf.omega, cf.dty )"
   ]
  },
  {
   "cell_type": "code",
   "execution_count": null,
   "metadata": {
    "tags": []
   },
   "outputs": [],
   "source": [
    "offset=0.0\n",
    "output_size=331\n",
    "pl.imshow( circlemask(output_size)*\n",
    "    ImageD11.sinograms.roi_iradon.iradon( (sino/monitor).T, ds.obincens, output_size=output_size,\n",
    "                                                       projection_shifts=np.full_like(sino_ppt.T, offset) ),\n",
    "         vmin=0.\n",
    "         )"
   ]
  },
  {
   "cell_type": "code",
   "execution_count": null,
   "metadata": {
    "tags": []
   },
   "outputs": [],
   "source": [
    "results = {}\n",
    "\n",
    "nt = ImageD11.cImageD11.cores_available()\n",
    "nouter=10\n",
    "niter = 10     # for mlem 10x10 = 100\n",
    "offset = 0.0    # dty zero was not well aligned\n",
    "cm = circlemask(output_size)\n",
    "\n",
    "for fname in funcs:\n",
    "    fun = funcs[fname]\n",
    "    print(fname)\n",
    "    sino_all = ds.sinohist( fun( cf.sum_intensity[~m] ) , cf.omega[~m], cf.dty[~m] )/monitor\n",
    "    sino_ppt = ds.sinohist( fun( cf.sum_intensity[m] ) , cf.omega[m], cf.dty[m] )/monitor\n",
    "    iradon_all = ImageD11.sinograms.roi_iradon.iradon( sino_all.T, ds.obincens, output_size=output_size,\n",
    "                                                       projection_shifts=np.full_like(sino_all.T, offset) )\n",
    "    iradon_ppt = ImageD11.sinograms.roi_iradon.iradon( sino_ppt.T, ds.obincens, output_size=output_size,\n",
    "                                                       projection_shifts=np.full_like(sino_ppt.T, offset) )\n",
    "    mlem_all = cm.copy()\n",
    "    mlem_ppt = cm.copy()\n",
    "    for i in range(nouter):\n",
    "        mlem_all   = ImageD11.sinograms.roi_iradon.mlem( sino_all.T, ds.obincens, output_size=output_size, niter=niter, workers=nt,\n",
    "                                                     projection_shifts=np.full_like(sino_all.T, offset),\n",
    "                                                     startvalue=mlem_all)\n",
    "        \n",
    "        mlem_ppt   = ImageD11.sinograms.roi_iradon.mlem( sino_ppt.T, ds.obincens, output_size=output_size, niter=niter, workers=nt,\n",
    "                                                    projection_shifts=np.full_like(sino_ppt.T, offset),\n",
    "                                                    startvalue=mlem_ppt)\n",
    "        print('.',end='')\n",
    "    results[ fname ] = {\n",
    "        'sino_all':sino_all,\n",
    "        'sino_ppt':sino_ppt,\n",
    "        'iradon_all':iradon_all,\n",
    "        'iradon_ppt':iradon_ppt,\n",
    "        'mlem_all':mlem_all,\n",
    "        'mlem_ppt':mlem_ppt}"
   ]
  },
  {
   "cell_type": "code",
   "execution_count": null,
   "metadata": {
    "tags": []
   },
   "outputs": [],
   "source": [
    "with h5py.File(shapename,\"a\") as hout:\n",
    "    for name in results:\n",
    "        print(name)\n",
    "        grp = hout.require_group( name )\n",
    "        for arname in results[name]:\n",
    "            ar = results[name][arname]\n",
    "            ds = grp.require_dataset( arname, shape=ar.shape, dtype=ar.dtype)     \n",
    "            ds[:] = ar"
   ]
  },
  {
   "cell_type": "code",
   "execution_count": null,
   "metadata": {
    "tags": []
   },
   "outputs": [],
   "source": [
    "def imr(ax,ar,cut=0.25, **kwds):\n",
    "    return ax.imshow( ar, vmin=0, vmax=ar.max()*cut, cmap='gray_r',**kwds)\n",
    "\n",
    "for fname in results:\n",
    "    r = results[fname]\n",
    "    f, (a,b) = pl.subplots(2,3,figsize=(20,10))\n",
    "    imr(a[0], r['sino_all'].T, cut=1 , aspect='auto')\n",
    "    a[0].set(title=f'sinogram( {fname} ( all peaks )) ', xlabel='omega', ylabel='dty')\n",
    "    imr(a[1], r['iradon_all'],cut=1)\n",
    "    a[1].set(title=f'iradon( {fname} ( all peaks )) ', xlabel='x', ylabel='y')\n",
    "    m = circlemask(output_size)\n",
    "    imr(a[2],r['mlem_all']*m, cut=1 )\n",
    "    a[2].set(title=f'mlem( {fname} ( all peaks )) ', xlabel='x', ylabel='y')\n",
    "\n",
    "    imr(b[0], r['sino_ppt'].T, cut=0.2 , aspect='auto')\n",
    "    b[0].set(title=f'sinogram( {fname} ( ppt peaks )) ', xlabel='omega', ylabel='dty')\n",
    "    imr(b[1],r['iradon_ppt'], cut=0.2 )\n",
    "    b[1].set(title=f'iradon( {fname} ( ppt peaks )) ', xlabel='x', ylabel='y')\n",
    "    imr(b[2],r['mlem_ppt'], cut=0.2) \n",
    "    b[2].set(title=f'mlem( {fname} ( ppt peaks )) ', xlabel='x', ylabel='y')\n",
    "    pl.show()"
   ]
  },
  {
   "cell_type": "code",
   "execution_count": null,
   "metadata": {},
   "outputs": [],
   "source": []
  }
 ],
 "metadata": {
  "kernelspec": {
   "display_name": "Python 3 (main)",
   "language": "python",
   "name": "python3"
  },
  "language_info": {
   "codemirror_mode": {
    "name": "ipython",
    "version": 3
   },
   "file_extension": ".py",
   "mimetype": "text/x-python",
   "name": "python",
   "nbconvert_exporter": "python",
   "pygments_lexer": "ipython3",
   "version": "3.11.6"
  }
 },
 "nbformat": 4,
 "nbformat_minor": 4
}
