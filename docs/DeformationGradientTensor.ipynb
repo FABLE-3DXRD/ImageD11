{
 "cells": [
  {
   "cell_type": "markdown",
   "metadata": {},
   "source": [
    "# Strains from 3DXRD\n",
    "\n",
    "*Jon Wright, 26 April (-> 1st May -> +AH 19th May) 2020*\n",
    "\n",
    "The observed data from a 3DXRD experiment are the scattering vectors in the sample frame, the \"g-vectors\". If we succeed to index these using orientation matrices, (UB), we assign hkl indices to spots.\n",
    "The matrix inverse of (UB) gives the real space unit cell vectors, called $\\mathbf{L}$ here (for lattice, it is the **ubi** from ImageD11). In the ImageD11 code there is often confusion between row and column vectors as the code usually applies transformations from the left and does not distinguish row and column vectors. If you substitute *h,k,l* as unit vectors in (1) you can identify the unit cell vectors in reciprocal space:\n",
    "\n",
    "\\begin{equation} \n",
    "\\begin{pmatrix} g_x \\\\ g_y \\\\ g_z \\end{pmatrix} =\n",
    "\\mathbf{L^{-1}} \n",
    "\\begin{pmatrix} h \\\\ k \\\\ l \\end{pmatrix}\n",
    "= (\\mathbf{UB})\n",
    "\\begin{pmatrix} h \\\\ k \\\\ l \\end{pmatrix}\n",
    "= \n",
    "\\begin{pmatrix}  \n",
    "\\begin{pmatrix}\n",
    "x_a^* \\\\\n",
    "y_a^* \\\\\n",
    "z_a^*\n",
    "\\end{pmatrix} \n",
    "\\begin{pmatrix}\n",
    "x_b^* \\\\\n",
    "y_b^* \\\\\n",
    "z_b^*\n",
    "\\end{pmatrix} \n",
    "\\begin{pmatrix}\n",
    "x_c^* \\\\\n",
    "y_c^* \\\\\n",
    "z_c^*\n",
    "\\end{pmatrix} \n",
    "\\end{pmatrix} \n",
    "\\begin{pmatrix} h \\\\ k \\\\ l \\end{pmatrix} \n",
    "\\tag{1}\n",
    "\\end{equation}\n",
    "\n",
    "\\begin{equation} \n",
    "\\begin{pmatrix} h \\\\ k \\\\ l \\end{pmatrix} =\n",
    "\\mathbf{L} \\begin{pmatrix} g_x \\\\ g_y \\\\ g_z \\end{pmatrix} = \n",
    "( \\mathbf{UB} )^{-1}\\begin{pmatrix} g_x \\\\ g_y \\\\ g_z \\end{pmatrix} = \\begin{pmatrix} \n",
    "(x_a & y_a & z_a ) \\\\ \n",
    "(x_b & y_b & z_b ) \\\\\n",
    "(x_c & y_c & z_c ) \\end{pmatrix}\n",
    "\\begin{pmatrix} g_x \\\\ g_y \\\\ g_z \\end{pmatrix}\n",
    "\\tag{2}\n",
    "\\end{equation}\n",
    "\n",
    "The real space lattice as row vectors is not quite so obvious. Instead you need to multiply from the left with a row vector in crystal space $(c_x,c_y,c_z)$ as unit vector and compute a column vector in laboratory space, $(l_x,l_y,l_z)$ as in (3):\n",
    "\n",
    "\\begin{equation}\n",
    " (c_x, c_y, c_z)  \\begin{pmatrix}\n",
    "(x_a & y_a & z_a ) \\\\ \n",
    "(x_b & y_b & z_b ) \\\\\n",
    "(x_c & y_c & z_c ) \\end{pmatrix}\n",
    "= \\begin{pmatrix} l_x \\\\ l_y \\\\ l_z \\end{pmatrix} \n",
    "\\tag{3}\n",
    "\\end{equation}\n",
    "\n",
    "The difference of row versus column vectors and coming from the left or the right of a matrix has been the cause of many years of confusion. Many thanks to Axel Henningsson for pointing out some errors here. A quick note to self: when we multiply two matrices A, B with shapes (rows,cols):(M,K) and (K,N), then the K has to be the same and $ C = A.B $ with shapes $ C[m,n] = A[m,k].B[k,n] $."
   ]
  },
  {
   "cell_type": "markdown",
   "metadata": {},
   "source": [
    "If a crystal is strained then we look how the atoms move compared to a reference which was strain free. If we are sitting on some atom in the initial state, the positions of the atoms in the next unit cells are given by a matrix $\\mathbf{L_0}$. After strain the neighbor positions will now be given by the 3 lattice vectors:\n",
    "\n",
    "$ \\mathbf{a} = \\mathbf{F . a_0 } $\n",
    "\n",
    "$ \\mathbf{b} = \\mathbf{F . b_0 } $\n",
    "\n",
    "$ \\mathbf{c} = \\mathbf{F . c_0 } $\n",
    "\n",
    "$ \\mathbf{L^T} = \\mathbf{F . L_0^T }$\n",
    "\n",
    "[***To be confirmed: second attempt***: I think this is the deformation gradient tensor from finite strain theory, but neglecting any rigid body translations].\n",
    "\n",
    "This is easier for most people to read in terms of column vectors with $\\mathbf{A = L^T}$ and $\\mathbf{A = F.A_0}$."
   ]
  },
  {
   "cell_type": "markdown",
   "metadata": {},
   "source": [
    "Assuming this is the $\\mathbf{F}$ of finite strain theory then everything else falls beautifully into place. If we have a reference unit cell, in any orientation, then we can compute $ \\mathbf{F} $ which includes both a change in orientation and strain:\n",
    "\n",
    "$ \\mathbf{L^T} = \\mathbf{F.L_0^T } $\n",
    "\n",
    "$ \\mathbf{F} = \\mathbf{ L^T . L_0^{-T}} = \\mathbf{ (U.B)^{-T} (U_0.B_0)^{T}} $\n",
    "\n",
    "$ \\mathbf{F} = \\mathbf{ U^{-T}.B^{-T}.B_0^{T}.U_0^{T}} $\n",
    "\n",
    "We see that when we form the products $\\mathbf{F^T.F}$ and $\\mathbf{F.F^T}$ we are going to rotate the strain into the laboratory or reference axes and annihilate the central rotation matrices.\n",
    "\n",
    "Note that we can use *any* axis choice that we like, provided that we are consistent for $\\mathbf{L}$ and $\\mathbf{L_0}$. There is no requirement here for a selection of a set of orthogonal axes. If we change our definition of $\\mathbf{U_0}$ then we may change $\\mathbf{F}$, but it will come out in the wash.\n",
    "\n",
    "The code to compute $\\mathbf{F}$ from an ImageD11 grain and reference pair of ubi matrices is in the next cell:"
   ]
  },
  {
   "cell_type": "code",
   "execution_count": 1,
   "metadata": {},
   "outputs": [
    {
     "data": {
      "text/plain": [
       "'OK, all three axes transformed as they should'"
      ]
     },
     "execution_count": 1,
     "metadata": {},
     "output_type": "execute_result"
    }
   ],
   "source": [
    "import numpy as np\n",
    "np.random.seed(4567) # prime, try to get reproducible numbers\n",
    "\n",
    "def deformation_gradient_tensor(ubi, ubi_0):\n",
    "    \"\"\"\n",
    "    Computes the Deformation Gradient Tensor F such that :\n",
    "    ubi = np.dot( F, ubi_0 )\n",
    "    \"\"\"\n",
    "    F = np.dot( ubi.T, np.linalg.inv( ubi_0 ).T )\n",
    "    return F\n",
    "\n",
    "def test_F():\n",
    "    ubi1 = np.random.random((3,3))\n",
    "    ubi0 = np.random.random((3,3))\n",
    "    F = deformation_gradient_tensor( ubi1, ubi0 )\n",
    "    for i in range(3):\n",
    "        assert np.allclose( np.dot(F, ubi0[i]), ubi1[i] )\n",
    "    return \"OK, all three axes transformed as they should\"\n",
    "\n",
    "test_F()"
   ]
  },
  {
   "cell_type": "markdown",
   "metadata": {},
   "source": [
    "Now that we have $\\mathbf{F}$ then it is fairly straightforward to copy and paste various  equations from wikipedia. To get the orientation matrix we need to decompose into a rotation **R** and a strain (**V** or **S**). There are two options, first rotate and then strain (***RS***), or first do the strain and then rotate (***VR***). In the language of finite strain theory these are the left and right polar decompositions:\n",
    "\n",
    "$\\mathbf{F} = \\mathbf{R.S} = \\mathbf{V.R} $\n",
    "\n",
    "I have replaced the **U** which is on wikipedia for **S** to avoid collisions with the orientation above. This decomposition can be computed using a singular value decompositon of **F**, as in the following cell:"
   ]
  },
  {
   "cell_type": "code",
   "execution_count": 2,
   "metadata": {},
   "outputs": [
    {
     "data": {
      "text/plain": [
       "'Polar decomposition looks OK'"
      ]
     },
     "execution_count": 2,
     "metadata": {},
     "output_type": "execute_result"
    }
   ],
   "source": [
    "def polar_decomposition( F ):\n",
    "    \"\"\" \n",
    "    Uses an SVD to compute the polar decomposition of F\n",
    "    F = V.R = R.S \n",
    "    V and S are symmetric deformations in lab and sample respectively\n",
    "    R is a rotation (orthonormal) that relates them\n",
    "    Can be done quicker iteratively, apparently.\n",
    "    Returns V,R,S\n",
    "    \"\"\"\n",
    "    w,sing,vh = np.linalg.svd( F )\n",
    "    R = np.dot( w, vh )\n",
    "    S = np.dot( vh.T, np.dot( np.diag(sing),  vh ) )\n",
    "    V = np.dot( w   , np.dot( np.diag(sing), w.T ) )\n",
    "    return V, R, S\n",
    "\n",
    "def test_polar():\n",
    "    F = np.random.random((3,3))\n",
    "    V,R,S = polar_decomposition(F)\n",
    "    assert np.allclose( np.dot(V, R), F )\n",
    "    assert np.allclose( np.dot(R, S), F )\n",
    "    return \"Polar decomposition looks OK\"\n",
    "\n",
    "test_polar()"
   ]
  },
  {
   "cell_type": "markdown",
   "metadata": {},
   "source": [
    "The thing we wanted to compute is the strain. It seems there are an infinite number of different measures we could use in finite strain theory and they should all come down to the same thing for infinitesimal strains. When there are changes in orientation as well as strain, then **V** is constant and **S** depends on how/where someone defined the standard orientation. In the past I think we have been using **S** to get an infinitesimal strain in fable/FitAllB (I am not 100% sure). For the Lagrangian and Eulerian Finite Strains we have:\n",
    "\n",
    "Lagrangian Finite Strain in the Reference Crystal Axes:\n",
    "\\begin{equation}\n",
    "\\mathbf{E} = \\frac{1}{2}( \\mathbf{F^T.F - I } ) = \n",
    "\\frac{1}{2} \\mathbf{ ( (L^T . L_0^{-T})^T .( L^T . L_0^{-T} ) - I )} =\n",
    "\\frac{1}{2}  \\mathbf{ ( L_0^{-1}.(L.L^T) . L_0^{-T} - I )} \n",
    "\\end{equation}\n",
    "\n",
    "Eulerian Finite Strain, in the Sample x,y,z axes:\n",
    "\\begin{equation}\n",
    " \\mathbf{e} = \\frac{1}{2}( \\mathbf{F.F^T - I } ) = \\frac{1}{2} \n",
    " \\mathbf{ (( L^T . L_0^{-T} ).(L^T . L_0^{-T})^T - I )} = \\frac{1}{2} \n",
    " \\mathbf{ (L^T .(L_0^{-T}.L_0^{-1}).L - I)  }\n",
    "\\end{equation}\n",
    "\n",
    "Note: these come from the infinitesimal strain theory wikipedia page. Both of these equations correspond to a formula where $\\epsilon = (d-d_0)/d_0$. If you want other strains you will need to adjust accordingly. The finite strain page has the opposite sign for the Eulerian strain."
   ]
  },
  {
   "cell_type": "code",
   "execution_count": 3,
   "metadata": {},
   "outputs": [],
   "source": [
    "def strains_from_deformation(ubi, ubi_0):\n",
    "    \"\"\" \n",
    "    Gets the sample (Lagrangian) and lab (Eulerian) system strain tensors\n",
    "    ubi and ubi_0 are 3x3 numpy arrays where the rows are the real\n",
    "    space unit cell vectors.\n",
    "    Also gives back the Polar Decompostion of F = V.R = R.S\n",
    "    \n",
    "    Returns E_grain, E_sample, V, R, S\n",
    "    \"\"\"\n",
    "    F = deformation_gradient_tensor(ubi, ubi_0)\n",
    "    I = np.eye(3)\n",
    "    E_ref = 0.5 * ( np.dot(F.T,F) - I )   \n",
    "    e_lab = 0.5 * ( np.dot(F,F.T) - I )  \n",
    "    return E_ref, e_lab"
   ]
  },
  {
   "cell_type": "markdown",
   "metadata": {},
   "source": [
    "## Relation to the metric tensor\n",
    "\n",
    "In both of the previous expressions I have substituted for $\\mathbf{F}$ and we see the metric tensors have shown up. For the reference state the metric tensor is $( \\mathbf{G} = \\mathbf{L.L^T} = \\mathbf{L^T.L} )$. For the current lab axis state it is the reciprocal metric tensor:\n",
    "$( \\mathbf{g_0} = \\mathbf{L_0^{-1}.L_0^{-T}} = \\mathbf{L_0^{-T}.L_0^{-1}}) $. Finding out how the strains relate to the metric tensor has been a critical problem in Jon's mind. It appears to come down to:\n",
    "\n",
    "$ \\mathbf{ E } = \\frac{1}{2} \\mathbf{ L_0^{-1}.( G - G_0 ).L_0^{-T} }  $\n",
    "\n",
    "$ \\mathbf{e} = \\frac{1}{2} \\mathbf{ L^{T} .(g_0 - g ). L  } $\n",
    "\n",
    "If I now take the difference in metric tensors of the deformed and undeformed states as being the main observable from the experiment then I can then read finally read some sense into all of these equations. Taking the difference in real or reciprocal space and then how to transform them was not obvious at first sight(!)\n",
    "\n",
    "The change in metric tensor was always a symmetric matrix that looked like it was going to be strain. Also it is easy to compute in the laboratory axes independently of grains and reference system choices. The problem has been to relate this strain in the crystallographic coordinate system to the sample x/y/z and the crystal orthogonal axes. The strains we found above are just this tensor transformed into the sample or reference axis system. \n",
    "\n",
    "At last, we attempt to compute these different things in code:"
   ]
  },
  {
   "cell_type": "code",
   "execution_count": 4,
   "metadata": {},
   "outputs": [
    {
     "data": {
      "text/plain": [
       "'Seems the strains are OK'"
      ]
     },
     "execution_count": 4,
     "metadata": {},
     "output_type": "execute_result"
    }
   ],
   "source": [
    "def strains_from_metric(ubi_1, ubi_0):\n",
    "    \"\"\"\n",
    "    Strains computed via the shifts in metric tensors\n",
    "    - no matrix decomposition is used\n",
    "    - no choice of reference axes\n",
    "    - no orientation matrix is found\n",
    "    \n",
    "    input: ubi and ubi_0 are 3x3 numpy arrays with rows as real\n",
    "    space unit cell vectors.\n",
    "    \n",
    "    Returns E_sample E_grain\n",
    "    \"\"\"\n",
    "    G0 = np.dot( ubi_0, ubi_0.T )      # reference metric tensor\n",
    "    G = np.dot( ubi_1, ubi_1.T )           # measured metric tensor\n",
    "    ub_0 = np.linalg.inv(ubi_0)         # to go to reference axes\n",
    "    # F = np.dot( ubi.T, ubi_0.-T ) = ubi.T, ub0.T \n",
    "    # 2e = FT.F - I = ub_0 ubi ubi.T ub_0.T \n",
    "    # 2e = FT.F - I = ub_0 (G - G0) ub_0.T \n",
    "    E_ref = 0.5*np.dot( np.dot( ub_0, G - G0 ) , ub_0.T ) # into ref space\n",
    "    # 2e = F.FT - I =  ubi.T, ub_0.T  ub_0 ubi - I \n",
    "    # 2e = F.FT - I =  ubi.T( g_0 - g )ubi\n",
    "    dg = np.linalg.inv(G0) - np.linalg.inv(G)\n",
    "    e_lab = 0.5 * np.dot( np.dot( ubi_1.T , dg), ubi_1)\n",
    "    return E_ref, e_lab\n",
    "\n",
    "def test_strain():\n",
    "    ubi1 = np.random.random((3,3))+np.eye(3)\n",
    "    ubi0 = np.random.random((3,3))+np.eye(3)\n",
    "    Eref1, elab1 = strains_from_deformation(ubi1, ubi0)\n",
    "    Eref2, elab2 = strains_from_metric(ubi1, ubi0)\n",
    "    assert np.allclose(Eref1, Eref2)\n",
    "    assert np.allclose(elab1, elab2)\n",
    "    return \"Seems the strains are OK\"\n",
    "\n",
    "test_strain()"
   ]
  },
  {
   "cell_type": "markdown",
   "metadata": {},
   "source": [
    "## Worked example\n",
    "\n",
    "We make a pure shear strain on a cubic unit cell and compute the various strain tensors. "
   ]
  },
  {
   "cell_type": "code",
   "execution_count": 5,
   "metadata": {},
   "outputs": [
    {
     "name": "stdout",
     "output_type": "stream",
     "text": [
      "Eref\n",
      "[[0.03125 0.25    0.     ]\n",
      " [0.25    0.03125 0.     ]\n",
      " [0.      0.      0.     ]]\n",
      "elab\n",
      "[[0.03125 0.25    0.     ]\n",
      " [0.25    0.03125 0.     ]\n",
      " [0.      0.      0.     ]]\n"
     ]
    }
   ],
   "source": [
    "a0 = 4.064    # Aluminium\n",
    "e12 = a0*0.25 # 25% strain\n",
    "\n",
    "ubi_0 = np.diag([a0,a0,a0])\n",
    "\n",
    "ubi = np.array( [[a0, e12,  0],\n",
    "                 [e12, a0,  0],\n",
    "                 [0,    0, a0]] )\n",
    "\n",
    "Eref1, elab1 = strains_from_metric( ubi, ubi_0 )\n",
    "\n",
    "Eref2, elab2 = strains_from_deformation(ubi, ubi_0)\n",
    "\n",
    "assert np.allclose(Eref1, Eref2)\n",
    "assert np.allclose(elab1, elab2)\n",
    "print(\"Eref\\n\"+str(Eref1))\n",
    "print(\"elab\\n\"+str(elab1))"
   ]
  },
  {
   "cell_type": "code",
   "execution_count": 6,
   "metadata": {},
   "outputs": [
    {
     "name": "stdout",
     "output_type": "stream",
     "text": [
      "Ref,grain:\n",
      "[[ 0.03125  0.25    -0.     ]\n",
      " [ 0.25     0.03125 -0.     ]\n",
      " [-0.      -0.       0.     ]]\n",
      "[[ 0.03125  0.25    -0.     ]\n",
      " [ 0.25     0.03125 -0.     ]\n",
      " [-0.      -0.       0.     ]]\n",
      "LabXYZ:\n",
      "[[ 0.10448217  0.15266425 -0.11944166]\n",
      " [ 0.15266425 -0.14634993 -0.06549923]\n",
      " [-0.11944166 -0.06549923  0.10436776]]\n",
      "[[ 0.10448217  0.15266425 -0.11944166]\n",
      " [ 0.15266425 -0.14634993 -0.06549923]\n",
      " [-0.11944166 -0.06549923  0.10436776]]\n"
     ]
    }
   ],
   "source": [
    "# Apply a large random rotation to the grain\n",
    "from scipy.spatial.transform import Rotation\n",
    "rot = Rotation.from_euler(\"XYZ\",(123,456,789)).as_matrix()\n",
    "ubi_rotated = np.dot( ubi , rot )\n",
    "\n",
    "np.set_printoptions(suppress=True)\n",
    "Eref3, elab3 = ret = strains_from_deformation(ubi_rotated, ubi_0) \n",
    "\n",
    "F = deformation_gradient_tensor( ubi_rotated, ubi_0 )\n",
    "V,R,S = polar_decomposition(F)\n",
    "Eref4, elab4 = strains_from_metric( ubi_rotated, ubi_0 )\n",
    "print(\"Ref,grain:\")\n",
    "print(Eref3)\n",
    "print(Eref4)\n",
    "print(\"LabXYZ:\")\n",
    "print(elab3)\n",
    "print(elab4)\n",
    "# Ensure we get a compatible rotation back\n",
    "assert np.allclose( np.dot(R, rot), np.eye(3) )\n",
    "# Ensure the Eulerian Strain is the same as before rotation\n",
    "assert np.allclose( Eref3, Eref4 )\n",
    "assert np.allclose( elab3, elab4 )"
   ]
  },
  {
   "cell_type": "code",
   "execution_count": 7,
   "metadata": {},
   "outputs": [
    {
     "name": "stdout",
     "output_type": "stream",
     "text": [
      "Ref,grain:\n",
      "[[-0.00224369 -0.06130724 -0.00836564]\n",
      " [-0.06130724  0.09592113 -0.23357876]\n",
      " [-0.00836564 -0.23357876 -0.03117745]]\n",
      "[[-0.00224369 -0.06130724 -0.00836564]\n",
      " [-0.06130724  0.09592113 -0.23357876]\n",
      " [-0.00836564 -0.23357876 -0.03117745]]\n",
      "LabXYZ:\n",
      "[[ 0.10448217  0.15266425 -0.11944166]\n",
      " [ 0.15266425 -0.14634993 -0.06549923]\n",
      " [-0.11944166 -0.06549923  0.10436776]]\n",
      "[[ 0.10448217  0.15266425 -0.11944166]\n",
      " [ 0.15266425 -0.14634993 -0.06549923]\n",
      " [-0.11944166 -0.06549923  0.10436776]]\n"
     ]
    }
   ],
   "source": [
    "# Apply a large random rotation to the reference too grain\n",
    "from scipy.spatial.transform import Rotation\n",
    "rot1 = Rotation.from_euler(\"XYZ\",(123,456,789)).as_matrix()\n",
    "ubi_rotated = np.dot( ubi , rot1 )\n",
    "rot2 = Rotation.from_euler(\"XYZ\",(789,5,123)).as_matrix()\n",
    "ubi_ref = np.dot( ubi_0 , rot2 )\n",
    "\n",
    "np.set_printoptions(suppress=True)\n",
    "Eref6, elab6 = ret = strains_from_deformation(ubi_rotated, ubi_ref) \n",
    "\n",
    "F = deformation_gradient_tensor( ubi_rotated, ubi_ref )\n",
    "V,R,S = polar_decomposition(F)\n",
    "Eref7, elab7 = strains_from_metric( ubi_rotated, ubi_ref )\n",
    "print(\"Ref,grain:\")\n",
    "print(Eref6)\n",
    "print(Eref7)\n",
    "print(\"LabXYZ:\")\n",
    "print(elab6)\n",
    "print(elab7)\n",
    "# Ensure we get a compatible rotation back\n",
    "assert np.allclose( np.dot(R, np.dot(rot2.T, rot1)), np.eye(3) )\n",
    "# Ensure the Eulerian Strain is the same as before rotation\n",
    "assert np.allclose( Eref6, Eref7 )\n",
    "assert np.allclose( elab6, elab7 )"
   ]
  },
  {
   "cell_type": "code",
   "execution_count": null,
   "metadata": {},
   "outputs": [],
   "source": []
  }
 ],
 "metadata": {
  "kernelspec": {
   "display_name": "Python 3",
   "language": "python",
   "name": "python3"
  },
  "language_info": {
   "codemirror_mode": {
    "name": "ipython",
    "version": 3
   },
   "file_extension": ".py",
   "mimetype": "text/x-python",
   "name": "python",
   "nbconvert_exporter": "python",
   "pygments_lexer": "ipython3",
   "version": "3.7.6"
  }
 },
 "nbformat": 4,
 "nbformat_minor": 1
}
