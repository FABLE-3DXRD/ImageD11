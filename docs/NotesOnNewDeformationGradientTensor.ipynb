{
 "cells": [
  {
   "cell_type": "markdown",
   "metadata": {},
   "source": [
    "# Finite strains\n",
    "\n",
    "A quick notebook to try to reduce the problem to looking at some simple pictures. There seems to be a lot more than one way to define the strain tensor components. We use a 2D example for now so it is easier to draw pictures. This is a part two which attempts to get to the point of choosing between some options of different strain tensors."
   ]
  },
  {
   "cell_type": "code",
   "execution_count": 1,
   "metadata": {},
   "outputs": [],
   "source": [
    "%matplotlib inline  \n",
    "import matplotlib.pyplot as pl, numpy as np"
   ]
  },
  {
   "cell_type": "markdown",
   "metadata": {},
   "source": [
    "## Reference State\n",
    "\n",
    "Use the case of an in-situ loading experiment where the initial state is known. \n",
    "This is also like the case of mapping around a crack tip in a deforming single crystal.\n",
    "It will not work for residual strain where there is no reference orientation.\n",
    "We will assume the crystal is cubic (square) and was carefully aligned on the diffractometer\n",
    "so the axes are parallel to the axes. The unit cell and lattice vectors in real space are:"
   ]
  },
  {
   "cell_type": "code",
   "execution_count": 2,
   "metadata": {},
   "outputs": [],
   "source": [
    "def unstrained_lattice(a0, f):\n",
    "    a = ( a0,  0,  0 )\n",
    "    b = (  0, a0,  0 )\n",
    "    c = ( 0,  0, a0 )\n",
    "    return a, b, c"
   ]
  },
  {
   "cell_type": "markdown",
   "metadata": {},
   "source": [
    "## Pure shear strain\n",
    "We apply a pure shear strain as drawn in some pictures found on the internet. \n",
    "The atoms which were on the laboratory axes move at exactly 90 degrees to the axes and not\n",
    "along the axes. We have \"f\" as symbol for the fractional finite movement. \n",
    "It is not clear whether this \"f\" corresponds to a shear strain $\\epsilon_{12}$"
   ]
  },
  {
   "cell_type": "code",
   "execution_count": 3,
   "metadata": {},
   "outputs": [],
   "source": [
    "def pure_shear_lattice(a0, f):\n",
    "    a = (  a0, f*a0,  0)  # vector in x/y/z laboratory space\n",
    "    b = (f*a0,   a0,  0)\n",
    "    c = (   0,    0, a0)\n",
    "    return (a, b, c)"
   ]
  },
  {
   "cell_type": "markdown",
   "metadata": {},
   "source": [
    "## Simple shear strain\n",
    "This case does not seem simple at all. Nevertheless, \n",
    "there are pictures on the internet showing this definition.\n",
    "The loss of symmetry is appalling. We will re-use the same f as before but we are choosing to keep the x-axis parallel to the a axis. A different choice would place it along b."
   ]
  },
  {
   "cell_type": "code",
   "execution_count": 4,
   "metadata": {},
   "outputs": [],
   "source": [
    "def simple_shear_lattice(a0, f):\n",
    "    a = (     a0,      0,  0)\n",
    "    b = ( 2*f*a0,     a0,  0)\n",
    "    c = (      0,      0, a0)\n",
    "    return (a, b, c)"
   ]
  },
  {
   "cell_type": "markdown",
   "metadata": {},
   "source": [
    "## Experimental shear strain\n",
    "We imagine a careful experimentalist who realigns their strained crystal on the diffractometer after is has undergone a **pure** strain. Their crystal is beautiful and symmetric but because the realign it this is no longer to easy to see. The lattice vectors are now harder to compute:"
   ]
  },
  {
   "cell_type": "code",
   "execution_count": 5,
   "metadata": {},
   "outputs": [],
   "source": [
    "def experimental_shear_lattice(a0, f):\n",
    "    a1 = a0 * np.sqrt(1+f*f)   # length of a and b after straining\n",
    "    phi = 2 * np.arctan(f)  # Rotation angle to realign crystal\n",
    "    a = ( a1, 0, 0 )\n",
    "    b = ( a1*np.sin(phi), a1*np.cos(phi), 0 )\n",
    "    c = ( 0, 0, a0 )\n",
    "    return (a, b, c)"
   ]
  },
  {
   "cell_type": "markdown",
   "metadata": {},
   "source": [
    "## A new Strain Tensor?\n",
    "\n",
    "There is another notebook about this. We ended up finding the deformation gradient tensor and then giving all of the Seth-Hill family as options for ImageD11.finite_strain. Here is a fast run through:\n",
    "\n",
    "The lattice in real space row vectors is **ubi** in ImageD11. The deformation gradient tensor transforms column vectors. Also $\\mathbf{(UBI) = (UB)^{-1}}$. Therefore:\n",
    "\n",
    "$ \\mathbf{ (UBI)^T = F.(UBI_0)^T } $\n",
    "\n",
    "$ \\mathbf{ F = (UBI)^T . (UB_0)^T } $\n",
    "\n",
    "Once you have $\\mathbf{F}$ then the rest plugs into finite strain theory. This can be decomposed into a \"left\" or a \"right\" pair of matrices that correspond to rotation followed by stretch or stretch followed by rotation:\n",
    "\n",
    "$ \\mathbf{ F = V.R = R.S } $\n",
    "\n",
    "The $\\mathbf{R}$ matrix is rhe same as the conventional $\\mathbf{U}$ above. Note that the finite strain literature uses the $\\mathbf{U}$ for the stretch that we have as $\\mathbf{S}$. There are now a family of strain tensors given by m=0,0.5,1,...:\n",
    "\n",
    "$ \\mathbf{ e_m = \\frac{1}{2m} ( V^{2m} - I )  = \\frac{1}{2m} ( (F.F^{T})^{m} - I ) } $\n",
    "\n",
    "$ \\mathbf{ E_m = \\frac{1}{2m} ( S^{2m} - I )  = \\frac{1}{2m} ( (F^{T}.F)^{m} - I ) } $\n",
    "\n",
    "$ \\mathbf{ E_0 } = \\log(\\mathbf{ S })  = \\frac{1}{2} \\log( \\mathbf{F^{T}.F} ) $\n",
    "\n",
    "Numerically some of these are less pretty because of the difference between:\n",
    "\n",
    "$ \\epsilon = \\frac{d - d0}{d0} \\neq \\frac{d - d0}{d} $\n",
    "\n",
    "In what follows: note that **ubi**$ = \\mathbf{(UB)^{-1} = B^{-1}U^{-1} }$ so that whenever we use this matrix we want to try ensure the transpose is done to keep the $U$ out of the results. Many hours have been spent with transposes the wrong way around, etc."
   ]
  },
  {
   "cell_type": "code",
   "execution_count": 6,
   "metadata": {},
   "outputs": [
    {
     "name": "stdout",
     "output_type": "stream",
     "text": [
      " grain.eps_grain_matrix:\n",
      " dzero_cell can be another grain or cell parameters\n",
      "                [a,b,c,alpha,beta,gamma]\n",
      "            m is the exponent for the Seth-Hill finite strain tensors\n",
      "            E = 1/2m (U^2m - I)\n",
      "            (Negative m reverses the reference and lab systems).\n",
      "        Returns eps as a symmetric matrix\n",
      "        ... in the grain reference system of dzero_cell\n",
      "        \n",
      " grain.eps_sample_matrix:\n",
      " dzero_cell can be another grain or cell parameters:\n",
      "                [a,b,c,alpha,beta,gamma]\n",
      "            m is the exponent for the Seth-Hill finite strain tensors\n",
      "            E = 1/2m (V^2m - I)\n",
      "            (Negative m reverses the reference and lab systems).\n",
      "        Returns eps as a symmetric matrix\n",
      "        ... in the sample system (z up, x along the beam at omega=0)\n",
      "        \n"
     ]
    }
   ],
   "source": [
    "# In the implementation we have:\n",
    "from ImageD11.grain import grain\n",
    "print(\" grain.eps_grain_matrix:\")\n",
    "print( grain.eps_grain_matrix.__doc__)\n",
    "print(\" grain.eps_sample_matrix:\")\n",
    "print( grain.eps_sample_matrix.__doc__)"
   ]
  },
  {
   "cell_type": "markdown",
   "metadata": {},
   "source": [
    "## What do these look like?\n",
    "We will plot the three lattices on three plots for some different values of f."
   ]
  },
  {
   "cell_type": "code",
   "execution_count": 7,
   "metadata": {
    "scrolled": false
   },
   "outputs": [
    {
     "name": "stdout",
     "output_type": "stream",
     "text": [
      "============================================================\n"
     ]
    },
    {
     "data": {
      "image/png": "[encoded data removed]",
      "text/plain": [
       "<Figure size 288x288 with 1 Axes>"
      ]
     },
     "metadata": {
      "needs_background": "light"
     },
     "output_type": "display_data"
    },
    {
     "name": "stdout",
     "output_type": "stream",
     "text": [
      "Pure Shear unit cell [ 4.019950  4.019950  4.000000 90.000000 90.000000 78.578814]\n",
      "dzero unit cell [ 4.000000  4.000000  4.000000 90.000000 90.000000 90.000000]\n",
      "UBI:\n",
      "[[4.000000 0.400000 0.000000]\n",
      " [0.400000 4.000000 0.000000]\n",
      " [0.000000 0.000000 4.000000]]\n",
      "UBI0:\n",
      "[[4.000000 0.000000 0.000000]\n",
      " [0.000000 4.000000 0.000000]\n",
      " [0.000000 0.000000 4.000000]]\n",
      "Grain co-ordinates micro eps, m= 0\n",
      "[[-2512.6 50167.7     0.0]\n",
      " [50167.7 -2512.6     0.0]\n",
      " [    0.0     0.0     0.0]]\n",
      "Sample co-ordinates micro eps, m= 0\n",
      "[[-2512.6 50167.7     0.0]\n",
      " [50167.7 -2512.6     0.0]\n",
      " [    0.0     0.0     0.0]]\n",
      "Grain co-ordinates micro eps, m= 0.5\n",
      "[[    -0.0 100000.0      0.0]\n",
      " [100000.0     -0.0      0.0]\n",
      " [     0.0      0.0      0.0]]\n",
      "Sample co-ordinates micro eps, m= 0.5\n",
      "[[     0.0 100000.0      0.0]\n",
      " [100000.0     -0.0      0.0]\n",
      " [     0.0      0.0      0.0]]\n",
      "Grain co-ordinates micro eps, m= 1\n",
      "[[  5000.0 100000.0      0.0]\n",
      " [100000.0   5000.0      0.0]\n",
      " [     0.0      0.0      0.0]]\n",
      "Sample co-ordinates micro eps, m= 1\n",
      "[[  5000.0 100000.0      0.0]\n",
      " [100000.0   5000.0      0.0]\n",
      " [     0.0      0.0      0.0]]\n",
      "============================================================\n"
     ]
    },
    {
     "data": {
      "image/png": "[encoded data removed]",
      "text/plain": [
       "<Figure size 288x288 with 1 Axes>"
      ]
     },
     "metadata": {
      "needs_background": "light"
     },
     "output_type": "display_data"
    },
    {
     "name": "stdout",
     "output_type": "stream",
     "text": [
      "Experimental pure unit cell [ 4.019950  4.019950  4.000000 90.000000 90.000000 78.578814]\n",
      "dzero unit cell [ 4.000000  4.000000  4.000000 90.000000 90.000000 90.000000]\n",
      "UBI:\n",
      "[[4.019950 0.000000 0.000000]\n",
      " [0.796030 3.940347 0.000000]\n",
      " [0.000000 0.000000 4.000000]]\n",
      "UBI0:\n",
      "[[4.000000 0.000000 0.000000]\n",
      " [0.000000 4.000000 0.000000]\n",
      " [0.000000 0.000000 4.000000]]\n",
      "Grain co-ordinates micro eps, m= 0\n",
      "[[-2512.6 50167.7     0.0]\n",
      " [50167.7 -2512.6     0.0]\n",
      " [    0.0     0.0     0.0]]\n",
      "Sample co-ordinates micro eps, m= 0\n",
      "[[  7421.6  49174.3      0.0]\n",
      " [ 49174.3 -12446.8      0.0]\n",
      " [     0.0      0.0      0.0]]\n",
      "Grain co-ordinates micro eps, m= 0.5\n",
      "[[     0.0 100000.0      0.0]\n",
      " [100000.0     -0.0      0.0]\n",
      " [     0.0      0.0      0.0]]\n",
      "Sample co-ordinates micro eps, m= 0.5\n",
      "[[ 19802.0  98019.8      0.0]\n",
      " [ 98019.8 -19802.0      0.0]\n",
      " [     0.0      0.0      0.0]]\n",
      "Grain co-ordinates micro eps, m= 1\n",
      "[[  5000.0 100000.0      0.0]\n",
      " [100000.0   5000.0      0.0]\n",
      " [     0.0      0.0      0.0]]\n",
      "Sample co-ordinates micro eps, m= 1\n",
      "[[ 24802.0  98019.8      0.0]\n",
      " [ 98019.8 -14802.0      0.0]\n",
      " [     0.0      0.0      0.0]]\n",
      "============================================================\n"
     ]
    },
    {
     "data": {
      "image/png": "[encoded data removed]",
      "text/plain": [
       "<Figure size 288x288 with 1 Axes>"
      ]
     },
     "metadata": {
      "needs_background": "light"
     },
     "output_type": "display_data"
    },
    {
     "name": "stdout",
     "output_type": "stream",
     "text": [
      "Simple Shear unit cell [ 4.000000  4.079216  4.000000 90.000000 90.000000 78.690068]\n",
      "dzero unit cell [ 4.000000  4.000000  4.000000 90.000000 90.000000 90.000000]\n",
      "UBI:\n",
      "[[4.000000 0.000000 0.000000]\n",
      " [0.800000 4.000000 0.000000]\n",
      " [0.000000 0.000000 4.000000]]\n",
      "UBI0:\n",
      "[[4.000000 0.000000 0.000000]\n",
      " [0.000000 4.000000 0.000000]\n",
      " [0.000000 0.000000 4.000000]]\n",
      "Grain co-ordinates micro eps, m= 0\n",
      "[[-4966.9 49669.3     0.0]\n",
      " [49669.3  4966.9     0.0]\n",
      " [    0.0     0.0     0.0]]\n",
      "Sample co-ordinates micro eps, m= 0\n",
      "[[ 4966.9 49669.3     0.0]\n",
      " [49669.3 -4966.9     0.0]\n",
      " [    0.0     0.0     0.0]]\n",
      "Grain co-ordinates micro eps, m= 0.5\n",
      "[[-4962.8 99503.7     0.0]\n",
      " [99503.7 14937.9     0.0]\n",
      " [    0.0     0.0     0.0]]\n",
      "Sample co-ordinates micro eps, m= 0.5\n",
      "[[14937.9 99503.7     0.0]\n",
      " [99503.7 -4962.8     0.0]\n",
      " [    0.0     0.0     0.0]]\n",
      "Grain co-ordinates micro eps, m= 1\n",
      "[[     0.0 100000.0      0.0]\n",
      " [100000.0  20000.0      0.0]\n",
      " [     0.0      0.0      0.0]]\n",
      "Sample co-ordinates micro eps, m= 1\n",
      "[[ 20000.0 100000.0      0.0]\n",
      " [100000.0      0.0      0.0]\n",
      " [     0.0      0.0      0.0]]\n",
      "============================================================\n"
     ]
    },
    {
     "data": {
      "image/png": "[encoded data removed]",
      "text/plain": [
       "<Figure size 288x288 with 1 Axes>"
      ]
     },
     "metadata": {
      "needs_background": "light"
     },
     "output_type": "display_data"
    },
    {
     "name": "stdout",
     "output_type": "stream",
     "text": [
      "Flipped Simple unit cell [ 4.079216  4.000000  4.000000 90.000000 90.000000 78.690068]\n",
      "dzero unit cell [ 4.000000  4.000000  4.000000 90.000000 90.000000 90.000000]\n",
      "UBI:\n",
      "[[ 0.800000  4.000000  0.000000]\n",
      " [ 4.000000  0.000000  0.000000]\n",
      " [-0.000000 -0.000000 -4.000000]]\n",
      "UBI0:\n",
      "[[4.000000 0.000000 0.000000]\n",
      " [0.000000 4.000000 0.000000]\n",
      " [0.000000 0.000000 4.000000]]\n",
      "Grain co-ordinates micro eps, m= 0\n",
      "[[ 4966.9 49669.3     0.0]\n",
      " [49669.3 -4966.9     0.0]\n",
      " [    0.0     0.0     0.0]]\n",
      "Sample co-ordinates micro eps, m= 0\n",
      "[[ 4966.9 49669.3     0.0]\n",
      " [49669.3 -4966.9     0.0]\n",
      " [    0.0     0.0     0.0]]\n",
      "Grain co-ordinates micro eps, m= 0.5\n",
      "[[14937.9 99503.7     0.0]\n",
      " [99503.7 -4962.8     0.0]\n",
      " [    0.0     0.0     0.0]]\n",
      "Sample co-ordinates micro eps, m= 0.5\n",
      "[[14937.9 99503.7     0.0]\n",
      " [99503.7 -4962.8     0.0]\n",
      " [    0.0     0.0     0.0]]\n",
      "Grain co-ordinates micro eps, m= 1\n",
      "[[ 20000.0 100000.0      0.0]\n",
      " [100000.0      0.0      0.0]\n",
      " [     0.0      0.0      0.0]]\n",
      "Sample co-ordinates micro eps, m= 1\n",
      "[[ 20000.0 100000.0      0.0]\n",
      " [100000.0      0.0      0.0]\n",
      " [     0.0      0.0      0.0]]\n"
     ]
    }
   ],
   "source": [
    "from ImageD11.grain import grain\n",
    "from ImageD11.unitcell import unitcell\n",
    "\n",
    "def plot_lattice( ubi, ax ):\n",
    "    # walk around the x/y square:\n",
    "    points = [ (0,0,0), (1,0,0), (1,1,0), (0,1,0), (0,0,0) ]\n",
    "    x,y,z = np.dot( points, ubi).T\n",
    "    ax.plot( x, y, \"o-\" )\n",
    "    ax.text(x[1],y[1],'a')\n",
    "    ax.text(x[-2],y[-2],'b')\n",
    "    ax.set_xlabel(\"x\")\n",
    "    ax.set_aspect(\"equal\")\n",
    "    \n",
    "def plotstrain(lattice, a0, f, name, reference_cell):\n",
    "    # reference as a grain\n",
    "    if len(reference_cell)==3:\n",
    "        g0 = grain( reference_cell )\n",
    "    else: # as a unit cell\n",
    "        g0 = grain( np.linalg.inv( unitcell(reference_cell).B ))\n",
    "    # distorted sample\n",
    "    g = grain( lattice(a0,f) )\n",
    "    fig, ax = pl.subplots(1,1,\n",
    "                          figsize=(4,4))\n",
    "    plot_lattice( g0.ubi , ax )\n",
    "    plot_lattice( g.ubi, ax )\n",
    "    ax.set_title(\"%.2f %s\"%(f, name))\n",
    "    pl.show()\n",
    "    np.set_printoptions(floatmode='fixed', precision=6, suppress=True)            \n",
    "    print(name,\"unit cell\",g.unitcell)\n",
    "    print(\"dzero unit cell\",g0.unitcell)\n",
    "    print(\"UBI:\")\n",
    "    print(g.ubi)\n",
    "    print(\"UBI0:\")\n",
    "    print(g0.ubi)\n",
    "    np.set_printoptions(floatmode='fixed', precision=1, suppress=True)\n",
    "    for m in (0,0.5,1):\n",
    "        print(\"Grain co-ordinates micro eps, m=\",m)\n",
    "        print(g.eps_grain_matrix(g0, m)*1e6)\n",
    "        print(\"Sample co-ordinates micro eps, m=\",m)\n",
    "        print(g.eps_sample_matrix(g0, m)*1e6)    \n",
    "\n",
    "        \n",
    "a0 = 4.\n",
    "f = 0.1\n",
    "reference_cell = np.eye(3)*a0\n",
    "\n",
    "def flipped(a0,f):\n",
    "    a, b, c = np.array( simple_shear_lattice( a0, f ) )\n",
    "    return (b, a, -c )\n",
    "    \n",
    "lattices = {\n",
    "    \"Pure Shear\" : pure_shear_lattice,\n",
    "    \"Experimental pure\" : experimental_shear_lattice,\n",
    "    \"Simple Shear\" : simple_shear_lattice,\n",
    "    \"Flipped Simple\" : flipped\n",
    "}    \n",
    "\n",
    "for name in lattices:\n",
    "    print(\"============================================================\")\n",
    "    plotstrain(lattices[name], a0, f, name, reference_cell)"
   ]
  },
  {
   "cell_type": "markdown",
   "metadata": {},
   "source": [
    "Now we bring the reference cell closer to distorted"
   ]
  },
  {
   "cell_type": "code",
   "execution_count": 8,
   "metadata": {
    "scrolled": false
   },
   "outputs": [
    {
     "name": "stdout",
     "output_type": "stream",
     "text": [
      "============================================================\n"
     ]
    },
    {
     "data": {
      "image/png": "[encoded data removed]",
      "text/plain": [
       "<Figure size 288x288 with 1 Axes>"
      ]
     },
     "metadata": {
      "needs_background": "light"
     },
     "output_type": "display_data"
    },
    {
     "name": "stdout",
     "output_type": "stream",
     "text": [
      "pure unit cell [ 4.019950  4.019950  4.000000 90.000000 90.000000 78.578814]\n",
      "dzero unit cell [ 4.019900  4.019900  4.000000 90.000000 90.000000 78.579000]\n",
      "UBI:\n",
      "[[4.000000 0.400000 0.000000]\n",
      " [0.400000 4.000000 0.000000]\n",
      " [0.000000 0.000000 4.000000]]\n",
      "UBI0:\n",
      "[[3.940301 0.796007 0.000000]\n",
      " [0.000000 4.019900 0.000000]\n",
      " [0.000000 0.000000 4.000000]]\n",
      "Grain co-ordinates micro eps, m= 0\n",
      "[[ 5.9  0.8 -0.0]\n",
      " [ 0.8  6.2 -0.0]\n",
      " [-0.0 -0.0  0.0]]\n",
      "Sample co-ordinates micro eps, m= 0\n",
      "[[ 6.1  0.8 -0.0]\n",
      " [ 0.8  6.1 -0.0]\n",
      " [-0.0 -0.0  0.0]]\n",
      "Grain co-ordinates micro eps, m= 0.5\n",
      "[[11.8  1.6 -0.0]\n",
      " [ 1.6 12.5 -0.0]\n",
      " [-0.0 -0.0  0.0]]\n",
      "Sample co-ordinates micro eps, m= 0.5\n",
      "[[12.2  1.7 -0.0]\n",
      " [ 1.7 12.2 -0.0]\n",
      " [-0.0 -0.0  0.0]]\n",
      "Grain co-ordinates micro eps, m= 1\n",
      "[[11.8  1.6 -0.0]\n",
      " [ 1.6 12.5 -0.0]\n",
      " [-0.0 -0.0  0.0]]\n",
      "Sample co-ordinates micro eps, m= 1\n",
      "[[12.2  1.7 -0.0]\n",
      " [ 1.7 12.2 -0.0]\n",
      " [-0.0 -0.0  0.0]]\n",
      "============================================================\n"
     ]
    },
    {
     "data": {
      "image/png": "[encoded data removed]",
      "text/plain": [
       "<Figure size 288x288 with 1 Axes>"
      ]
     },
     "metadata": {
      "needs_background": "light"
     },
     "output_type": "display_data"
    },
    {
     "name": "stdout",
     "output_type": "stream",
     "text": [
      "experimental pure unit cell [ 4.019950  4.019950  4.000000 90.000000 90.000000 78.578814]\n",
      "dzero unit cell [ 4.019900  4.019900  4.000000 90.000000 90.000000 78.579000]\n",
      "UBI:\n",
      "[[4.019950 0.000000 0.000000]\n",
      " [0.796030 3.940347 0.000000]\n",
      " [0.000000 0.000000 4.000000]]\n",
      "UBI0:\n",
      "[[3.940301 0.796007 0.000000]\n",
      " [0.000000 4.019900 0.000000]\n",
      " [0.000000 0.000000 4.000000]]\n",
      "Grain co-ordinates micro eps, m= 0\n",
      "[[ 5.9  0.8 -0.0]\n",
      " [ 0.8  6.2 -0.0]\n",
      " [-0.0 -0.0  0.0]]\n",
      "Sample co-ordinates micro eps, m= 0\n",
      "[[ 6.2  0.8 -0.0]\n",
      " [ 0.8  5.9 -0.0]\n",
      " [-0.0 -0.0  0.0]]\n",
      "Grain co-ordinates micro eps, m= 0.5\n",
      "[[11.8  1.6 -0.0]\n",
      " [ 1.6 12.5 -0.0]\n",
      " [-0.0 -0.0  0.0]]\n",
      "Sample co-ordinates micro eps, m= 0.5\n",
      "[[12.5  1.6 -0.0]\n",
      " [ 1.6 11.8 -0.0]\n",
      " [-0.0 -0.0  0.0]]\n",
      "Grain co-ordinates micro eps, m= 1\n",
      "[[11.8  1.6 -0.0]\n",
      " [ 1.6 12.5 -0.0]\n",
      " [-0.0 -0.0  0.0]]\n",
      "Sample co-ordinates micro eps, m= 1\n",
      "[[12.5  1.6 -0.0]\n",
      " [ 1.6 11.8  0.0]\n",
      " [-0.0  0.0  0.0]]\n",
      "============================================================\n"
     ]
    },
    {
     "data": {
      "image/png": "[encoded data removed]",
      "text/plain": [
       "<Figure size 288x288 with 1 Axes>"
      ]
     },
     "metadata": {
      "needs_background": "light"
     },
     "output_type": "display_data"
    },
    {
     "name": "stdout",
     "output_type": "stream",
     "text": [
      "simple unit cell [ 4.000000  4.079216  4.000000 90.000000 90.000000 78.690068]\n",
      "dzero unit cell [ 4.019900  4.019900  4.000000 90.000000 90.000000 78.579000]\n",
      "UBI:\n",
      "[[4.000000 0.000000 0.000000]\n",
      " [0.800000 4.000000 0.000000]\n",
      " [0.000000 0.000000 4.000000]]\n",
      "UBI0:\n",
      "[[3.940301 0.796007 0.000000]\n",
      " [0.000000 4.019900 0.000000]\n",
      " [0.000000 0.000000 4.000000]]\n",
      "Grain co-ordinates micro eps, m= 0\n",
      "[[-2282.2 -1484.2    -0.0]\n",
      " [-1484.2  7319.5     0.0]\n",
      " [   -0.0     0.0     0.0]]\n",
      "Sample co-ordinates micro eps, m= 0\n",
      "[[-2480.8   505.8     0.0]\n",
      " [  505.8  7518.2     0.0]\n",
      " [    0.0     0.0     0.0]]\n",
      "Grain co-ordinates micro eps, m= 0.5\n",
      "[[-4549.5 -2983.5    -0.0]\n",
      " [-2983.5 14751.1     0.0]\n",
      " [   -0.0     0.0     0.0]]\n",
      "Sample co-ordinates micro eps, m= 0.5\n",
      "[[-4948.9  1016.8     0.0]\n",
      " [ 1016.8 15150.5     0.0]\n",
      " [    0.0     0.0     0.0]]\n",
      "Grain co-ordinates micro eps, m= 1\n",
      "[[-4534.7 -2998.7    -0.0]\n",
      " [-2998.7 14864.4    -0.0]\n",
      " [   -0.0    -0.0     0.0]]\n",
      "Sample co-ordinates micro eps, m= 1\n",
      "[[-4936.1  1022.0    -0.0]\n",
      " [ 1022.0 15265.8     0.0]\n",
      " [   -0.0     0.0     0.0]]\n",
      "============================================================\n"
     ]
    },
    {
     "data": {
      "image/png": "[encoded data removed]",
      "text/plain": [
       "<Figure size 288x288 with 1 Axes>"
      ]
     },
     "metadata": {
      "needs_background": "light"
     },
     "output_type": "display_data"
    },
    {
     "name": "stdout",
     "output_type": "stream",
     "text": [
      "flipped unit cell [ 4.079216  4.000000  4.000000 90.000000 90.000000 78.690068]\n",
      "dzero unit cell [ 4.019900  4.019900  4.000000 90.000000 90.000000 78.579000]\n",
      "UBI:\n",
      "[[ 0.800000  4.000000  0.000000]\n",
      " [ 4.000000  0.000000  0.000000]\n",
      " [-0.000000 -0.000000 -4.000000]]\n",
      "UBI0:\n",
      "[[3.940301 0.796007 0.000000]\n",
      " [0.000000 4.019900 0.000000]\n",
      " [0.000000 0.000000 4.000000]]\n",
      "Grain co-ordinates micro eps, m= 0\n",
      "[[ 7519.2   495.8    -0.0]\n",
      " [  495.8 -2481.8     0.0]\n",
      " [   -0.0     0.0    -0.0]]\n",
      "Sample co-ordinates micro eps, m= 0\n",
      "[[-2480.8   505.8    -0.0]\n",
      " [  505.8  7518.2     0.0]\n",
      " [   -0.0     0.0    -0.0]]\n",
      "Grain co-ordinates micro eps, m= 0.5\n",
      "[[15152.5   996.7    -0.0]\n",
      " [  996.7 -4950.9     0.0]\n",
      " [   -0.0     0.0     0.0]]\n",
      "Sample co-ordinates micro eps, m= 0.5\n",
      "[[-4948.9  1016.8    -0.0]\n",
      " [ 1016.8 15150.5     0.0]\n",
      " [   -0.0     0.0     0.0]]\n",
      "Grain co-ordinates micro eps, m= 1\n",
      "[[15267.8  1001.7    -0.0]\n",
      " [ 1001.7 -4938.1    -0.0]\n",
      " [   -0.0    -0.0     0.0]]\n",
      "Sample co-ordinates micro eps, m= 1\n",
      "[[-4936.1  1022.0     0.0]\n",
      " [ 1022.0 15265.8     0.0]\n",
      " [    0.0     0.0     0.0]]\n"
     ]
    }
   ],
   "source": [
    "a0 = 4.\n",
    "f = 0.1\n",
    "reference_cell = [a0+0.0199,a0+0.0199,a0,90,90,78.579]\n",
    "\n",
    "def flipped(a0,f):\n",
    "    a, b, c = np.array( simple_shear_lattice( a0, f ) )\n",
    "    return (b, a, -c )\n",
    "    \n",
    "lattices = {\n",
    "    \"pure\" : pure_shear_lattice,\n",
    "    \"experimental pure\" : experimental_shear_lattice,\n",
    "    \"simple\" : simple_shear_lattice,\n",
    "    \"flipped\" : flipped\n",
    "}    \n",
    "\n",
    "for name in lattices:\n",
    "    print(\"============================================================\")\n",
    "    plotstrain(lattices[name], a0, f, name, reference_cell)"
   ]
  },
  {
   "cell_type": "code",
   "execution_count": null,
   "metadata": {},
   "outputs": [],
   "source": []
  }
 ],
 "metadata": {
  "kernelspec": {
   "display_name": "Python 3",
   "language": "python",
   "name": "python3"
  },
  "language_info": {
   "codemirror_mode": {
    "name": "ipython",
    "version": 3
   },
   "file_extension": ".py",
   "mimetype": "text/x-python",
   "name": "python",
   "nbconvert_exporter": "python",
   "pygments_lexer": "ipython3",
   "version": "3.7.6"
  }
 },
 "nbformat": 4,
 "nbformat_minor": 4
}
