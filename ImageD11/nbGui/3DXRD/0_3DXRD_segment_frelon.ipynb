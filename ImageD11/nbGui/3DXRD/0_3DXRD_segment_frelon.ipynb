{
 "cells": [
  {
   "cell_type": "markdown",
   "id": "8deabe5b",
   "metadata": {},
   "source": [
    "# Jupyter notebook based on ImageD11 to process 3DXRD data\n",
    "# Written by Haixing Fang, Jon Wright and James Ball\n",
    "## Date: 27/02/2024"
   ]
  },
  {
   "cell_type": "markdown",
   "id": "6835a47c-a552-4d1d-b605-1867dd631b2a",
   "metadata": {},
   "source": [
    "This notebook will help you to extract the locations of diffraction peaks on your detector images.\n",
    "\n",
    "It will also merge together your 2D spots (on a stack of detector images with different omega angles).\n",
    "\n",
    "We merge across omega because we often see the same spot twice on multiple detector images.\n",
    "\n",
    "The results are saved to the PROCESSED_DATA folder of the experiment, inside the sample and dataset folders that you select within this notebook\n",
    "\n",
    "## NOTE: These notebooks are under active development\n",
    "They require the latest version of ImageD11 from Git to run.\n",
    "\n",
    "If you don't have this set up yet, you can run the below cell.\n",
    "\n",
    "It will automatically download and install ImageD11 to your home directory"
   ]
  },
  {
   "cell_type": "code",
   "execution_count": null,
   "id": "2402147c-5513-4907-8ca9-76e3e252df0c",
   "metadata": {},
   "outputs": [],
   "source": [
    "import os\n",
    "\n",
    "home_dir = !echo $HOME\n",
    "home_dir = str(home_dir[0])\n",
    "\n",
    "# USER: You can change this location if you want\n",
    "\n",
    "id11_code_path = os.path.join(home_dir, \"Code/ImageD11\")\n",
    "\n",
    "# check whether we already have ImageD11 here\n",
    "\n",
    "if os.path.exists(id11_code_path):\n",
    "    raise FileExistsError(\"ImageD11 already present! Giving up\")\n",
    "\n",
    "!git clone https://github.com/FABLE-3DXRD/ImageD11 {id11_code_path}\n",
    "output = !cd {id11_code_path} && python setup.py build_ext --inplace\n",
    "\n",
    "if not os.path.exists(os.path.join(id11_code_path, \"build\")):\n",
    "    raise FileNotFoundError(f\"Can't find build folder in {id11_code_path}, compilation went wrong somewhere\")\n",
    "\n",
    "import sys\n",
    "\n",
    "sys.path.insert(0, id11_code_path)\n",
    "\n",
    "# if this works, we installed ImageD11 properly!\n",
    "try:\n",
    "    import ImageD11.cImageD11\n",
    "except:\n",
    "    raise FileNotFoundError(\"Couldn't import cImageD11, there's a problem with your Git install!\")"
   ]
  },
  {
   "cell_type": "code",
   "execution_count": null,
   "id": "851fcab9-7631-439f-885c-438bcefeac84",
   "metadata": {
    "tags": []
   },
   "outputs": [],
   "source": [
    "# USER: Change the path below to point to your local copy of ImageD11:\n",
    "\n",
    "import os\n",
    "\n",
    "home_dir = !echo $HOME\n",
    "home_dir = str(home_dir[0])\n",
    "\n",
    "# USER: You can change this location if you want\n",
    "\n",
    "id11_code_path = os.path.join(home_dir, \"Code/ImageD11\")\n",
    "\n",
    "import sys\n",
    "\n",
    "sys.path.insert(0, id11_code_path)"
   ]
  },
  {
   "cell_type": "code",
   "execution_count": null,
   "id": "9b5c1db6-5a32-4294-abef-cfc2150d24de",
   "metadata": {
    "tags": []
   },
   "outputs": [],
   "source": [
    "# import functions we need\n",
    "\n",
    "import glob, pprint\n",
    "\n",
    "import ImageD11.sinograms.dataset\n",
    "import ImageD11.sinograms.lima_segmenter\n",
    "import ImageD11.sinograms.assemble_label\n",
    "import ImageD11.sinograms.properties\n",
    "\n",
    "import numpy as np\n",
    "import fabio\n",
    "import matplotlib.pyplot as plt\n",
    "from matplotlib.colors import LogNorm\n",
    "from skimage import filters, measure, morphology\n",
    "import ipywidgets as widgets\n",
    "import h5py\n",
    "from IPython.display import display\n",
    "%matplotlib widget\n",
    "\n",
    "from ImageD11.nbGui import nb_utils as utils\n",
    "\n",
    "from frelon_peaksearch import worker, process\n",
    "\n",
    "# from utils import apply_spatial"
   ]
  },
  {
   "cell_type": "code",
   "execution_count": null,
   "id": "f45e3647-2e1b-4a31-b5de-01adbd4d7573",
   "metadata": {
    "tags": []
   },
   "outputs": [],
   "source": [
    "# Check that we're importing ImageD11 from the home directory rather than from the Jupyter kernel\n",
    "\n",
    "?ImageD11.sinograms.dataset"
   ]
  },
  {
   "cell_type": "code",
   "execution_count": null,
   "id": "de77981e-c3bf-4a29-8944-95286831ac34",
   "metadata": {
    "tags": []
   },
   "outputs": [],
   "source": [
    "# NOTE: For old datasets before the new directory layout structure, we don't distinguish between RAW_DATA and PROCESSED_DATA\n",
    "\n",
    "### USER: specify your experimental directory\n",
    "\n",
    "rawdata_path = \"/data/visitor/ihma439/id11/20231211/RAW_DATA\"\n",
    "\n",
    "!ls -lrt {rawdata_path}\n",
    "\n",
    "### USER: specify where you want your processed data to go\n",
    "\n",
    "processed_data_root_dir = \"/data/visitor/ihma439/id11/20231211/PROCESSED_DATA/James/nb_testing\"# NOTE: For old datasets before the new directory layout structure, we don't distinguish between RAW_DATA and PROCESSED_DATA\n",
    "\n",
    "### USER: specify your experimental directory\n",
    "\n",
    "rawdata_path = \"/data/visitor/ihma439/id11/20231211/RAW_DATA\"\n",
    "\n",
    "!ls -lrt {rawdata_path}\n",
    "\n",
    "### USER: specify where you want your processed data to go\n",
    "\n",
    "processed_data_root_dir = \"/data/visitor/ihma439/id11/20231211/PROCESSED_DATA/James/nb_testing\""
   ]
  },
  {
   "cell_type": "code",
   "execution_count": null,
   "id": "187950bd-18b5-4bd4-80da-2a0c7a984b11",
   "metadata": {
    "tags": []
   },
   "outputs": [],
   "source": [
    "# USER: pick a sample and a dataset you want to segment\n",
    "\n",
    "sample = \"FeAu_0p5_tR\"\n",
    "dataset = \"ff1\"\n",
    "\n",
    "# USER: specify path to detector spline file\n",
    "\n",
    "spline_file = '/data/id11/inhouse1/ewoks/detectors/files/Frelon2k_C36/frelon36.spline'"
   ]
  },
  {
   "cell_type": "code",
   "execution_count": null,
   "id": "ad077c4b-39cc-4b90-9637-33c32f12e364",
   "metadata": {
    "tags": []
   },
   "outputs": [],
   "source": [
    "# create ImageD11 dataset object\n",
    "\n",
    "ds = ImageD11.sinograms.dataset.DataSet(dataroot=rawdata_path,\n",
    "                                        analysisroot=processed_data_root_dir,\n",
    "                                        sample=sample,\n",
    "                                        dset=dataset,\n",
    "                                        detector=\"frelon3\",\n",
    "                                        omegamotor=\"diffrz\",\n",
    "                                        dtymotor=\"diffty\")\n",
    "ds.import_all(scans=[\"1.1\"])\n",
    "ds.save()"
   ]
  },
  {
   "cell_type": "code",
   "execution_count": null,
   "id": "83f17f79-87ba-4081-b6ed-e17e48fd9697",
   "metadata": {
    "tags": []
   },
   "outputs": [],
   "source": [
    "# USER: specify path to background and mask file\n",
    "\n",
    "bg_file = \"/home/esrf/james1997a/Data/ihma439/id11/20231211/PROCESSED_DATA/FeAu_0p5_tR/tdxrd_all/ff_bkg.edf\"\n",
    "maskfile = '/data/id11/inhouse1/ewoks/detectors/files/Frelon2k_C36/mask.edf'"
   ]
  },
  {
   "cell_type": "code",
   "execution_count": null,
   "id": "e853b7db-1d0b-4504-a6a6-e6b38c5ff32d",
   "metadata": {
    "tags": []
   },
   "outputs": [],
   "source": [
    "ds.splinefile = spline_file\n",
    "ds.maskfile = maskfile\n",
    "ds.bgfile = bg_file"
   ]
  },
  {
   "cell_type": "code",
   "execution_count": null,
   "id": "069b343d-4695-45fe-9ead-eab2c4c4cd16",
   "metadata": {
    "tags": []
   },
   "outputs": [],
   "source": [
    "#Define the initial parameters\n",
    "start_worker_args = {\n",
    "    \"bgfile\":ds.bgfile,\n",
    "    \"maskfile\":ds.maskfile,\n",
    "    \"threshold\":50,\n",
    "    \"smoothsigma\":1.0,\n",
    "    \"bgc\":0.9,\n",
    "    \"minpx\":3,\n",
    "    \"m_offset_thresh\":80,\n",
    "    \"m_ratio_thresh\":135,\n",
    "}"
   ]
  },
  {
   "cell_type": "code",
   "execution_count": null,
   "id": "ef30f6f8-8611-4f66-be3b-006c890b91fa",
   "metadata": {
    "tags": []
   },
   "outputs": [],
   "source": [
    "with h5py.File(ds.masterfile, 'r') as h5In:\n",
    "    test_image = h5In['1.1/measurement/frelon3'][0].astype('uint16')\n",
    "\n",
    "# Display the image initially\n",
    "fig, axs = plt.subplots(1, 3, sharex=True, sharey=True, figsize=(16, 5))\n",
    "test_image_worker = worker(**start_worker_args)\n",
    "goodpeaks = test_image_worker.peaksearch(img=test_image, omega=0)\n",
    "fc, sc = goodpeaks[:, 23:25].T  # 23 and 24 are the columns for fc and sc from blob properties\n",
    "\n",
    "im1 = axs[0].imshow(test_image, norm=LogNorm(vmax=1000))\n",
    "axs[0].set_title(\"Original image\")\n",
    "im2 = axs[1].imshow(test_image_worker.smoothed, cmap=\"viridis\", norm=LogNorm(vmax=1000), interpolation=\"nearest\")\n",
    "axs[1].set_title(\"Background corrected\")\n",
    "im3 = axs[2].imshow(test_image_worker.smoothed, cmap=\"viridis\", norm=LogNorm(vmax=1000), interpolation=\"nearest\")\n",
    "axs[2].set_title(f\"{len(fc)} peaks\")\n",
    "sc1, = axs[2].plot(fc, sc, marker='+', c=\"r\", ls=\"\")\n",
    "axs[2].set_aspect(1)\n",
    "plt.show()\n",
    "\n",
    "thresh_slider = widgets.IntSlider(value=start_worker_args[\"threshold\"], min=1, max=100, step=1, description='Threshold:')\n",
    "smsig_slider = widgets.FloatSlider(value=start_worker_args[\"smoothsigma\"], min=0.0, max=1.0, step=0.05, description='Smoothsigma:')\n",
    "bgc_slider = widgets.FloatSlider(value=start_worker_args[\"bgc\"], min=0.0, max=1.0, step=0.05, description='bgc:')\n",
    "minpx_slider = widgets.IntSlider(value=start_worker_args[\"minpx\"], min=1, max=5, step=1, description='minpx:')\n",
    "mofft_slider = widgets.IntSlider(value=start_worker_args[\"m_offset_thresh\"], min=1, max=200, step=1, description='m_offset_thresh:')\n",
    "mratt_slider = widgets.IntSlider(value=start_worker_args[\"m_ratio_thresh\"], min=1, max=200, step=1, description='m_ratio_thresh:')\n",
    "\n",
    "\n",
    "def update(threshold, smoothsigma, bgc, minpx, m_offset_thresh, m_ratio_thresh):\n",
    "    image_worker = worker(ds.bgfile,\n",
    "                          ds.maskfile,\n",
    "                          threshold,\n",
    "                          smoothsigma,\n",
    "                          bgc,\n",
    "                          minpx,\n",
    "                          m_offset_thresh,\n",
    "                          m_ratio_thresh)\n",
    "    goodpeaks = image_worker.peaksearch(img=test_image, omega=0)\n",
    "    fc, sc = goodpeaks[:, 23:25].T\n",
    "    im2.set_data(image_worker.smoothed)\n",
    "    im3.set_data(image_worker.smoothed)\n",
    "    sc1.set_data(fc, sc)\n",
    "    axs[2].set_title(f\"{len(fc)} peaks\")\n",
    "    plt.draw()\n",
    "\n",
    "interactive_plot = widgets.interactive(update,\n",
    "                                       threshold=thresh_slider,\n",
    "                                       smoothsigma=smsig_slider,\n",
    "                                       bgc=bgc_slider,\n",
    "                                       minpx=minpx_slider,\n",
    "                                       m_offset_thresh=mofft_slider,\n",
    "                                       m_ratio_thresh=mratt_slider)\n",
    "\n",
    "display(interactive_plot)"
   ]
  },
  {
   "cell_type": "code",
   "execution_count": null,
   "id": "c0a98042-065d-4d22-bd1e-e9c656432f44",
   "metadata": {
    "tags": []
   },
   "outputs": [],
   "source": [
    "end_worker_args = {\n",
    "    \"bgfile\":ds.bgfile,\n",
    "    \"maskfile\":ds.maskfile,\n",
    "    \"threshold\":thresh_slider.value,\n",
    "    \"smoothsigma\":smsig_slider.value,\n",
    "    \"bgc\":bgc_slider.value,\n",
    "    \"minpx\":minpx_slider.value,\n",
    "    \"m_offset_thresh\":mofft_slider.value,\n",
    "    \"m_ratio_thresh\":mratt_slider.value,\n",
    "}"
   ]
  },
  {
   "cell_type": "code",
   "execution_count": null,
   "id": "eee00548-3a48-44d0-b4ad-e71b71de95ca",
   "metadata": {
    "tags": []
   },
   "outputs": [],
   "source": [
    "print(end_worker_args)"
   ]
  },
  {
   "cell_type": "code",
   "execution_count": null,
   "id": "5a1795a9-16eb-430d-a246-a26b12c35e77",
   "metadata": {
    "tags": []
   },
   "outputs": [],
   "source": [
    "# now we run the segmenter on all our data\n",
    "\n",
    "nthreads = len(os.sched_getaffinity(os.getpid()))\n",
    "\n",
    "cf_2d, cf_3d = process(ds, nthreads-1, end_worker_args)"
   ]
  },
  {
   "cell_type": "code",
   "execution_count": null,
   "id": "daccc72e-0aae-4332-80b0-e9ed894056e9",
   "metadata": {
    "tags": []
   },
   "outputs": [],
   "source": [
    "# we can use this to verify that the 3D merging is behaving as expected\n",
    "# don't worry about this too much!\n",
    "\n",
    "# take a few 3d peaks with the most 2d peaks, plot them\n",
    "\n",
    "unique, counts = np.unique(cf_2d.spot3d_id, return_counts=True)\n",
    "hits_dict = dict(zip(unique, counts))\n",
    "hits_dict_max = sorted(hits_dict.items(), key=lambda x: x[1], reverse=True)\n",
    "\n",
    "m = np.isin(cf_3d.index, [spot3d_id for spot3d_id, count in hits_dict_max[500:501]])\n",
    "cf_3d_single_peak = cf_3d.copy()\n",
    "cf_3d_single_peak.filter(m)\n",
    "\n",
    "peak_2d_mask = np.isin(cf_2d.spot3d_id, cf_3d_single_peak.index)\n",
    "cf_2d_peaks = cf_2d.copy()\n",
    "cf_2d_peaks.filter(peak_2d_mask)\n",
    "\n",
    "fig, ax = plt.subplots()\n",
    "ax.scatter(cf_3d_single_peak.f_raw, cf_3d_single_peak.s_raw, marker=\"X\", c=cf_3d_single_peak.omega, s=50, label='Merged 3D peak')\n",
    "cols = ax.scatter(cf_2d_peaks.f_raw, cf_2d_peaks.s_raw, c=cf_2d_peaks.o_raw, s=cf_2d_peaks.s_I / 1000, label='Contibutory 2D peaks')\n",
    "fig.colorbar(cols)\n",
    "ax.set_xlim(0, 2048)\n",
    "ax.set_ylim(0, 2048)\n",
    "ax.invert_yaxis()\n",
    "ax.legend()\n",
    "ax.set_title(\"Color is omega of peak. Scaled by sum intensity\")\n",
    "ax.set_xlabel(\"f_raw\")\n",
    "ax.set_ylabel(\"s_raw\")\n",
    "plt.show()"
   ]
  },
  {
   "cell_type": "code",
   "execution_count": null,
   "id": "88fe5554-8b0a-4c17-a2a1-02536e476c42",
   "metadata": {
    "tags": []
   },
   "outputs": [],
   "source": [
    "cf_2d = utils.apply_spatial_lut(cf_2d, spline_file)"
   ]
  },
  {
   "cell_type": "code",
   "execution_count": null,
   "id": "e10d2350-e9f6-419a-a69d-07b575a9e8ae",
   "metadata": {
    "tags": []
   },
   "outputs": [],
   "source": [
    "cf_3d = utils.apply_spatial_lut(cf_3d, spline_file)"
   ]
  },
  {
   "cell_type": "code",
   "execution_count": null,
   "id": "c71ebf96-3bbe-46a2-aa27-30a7a0a2c9f2",
   "metadata": {
    "tags": []
   },
   "outputs": [],
   "source": [
    "parfile = '/home/esrf/james1997a/Data/ihma439/id11/20231211/SCRIPTS/James/3DXRD/Fe_tdxrd_refined.par'"
   ]
  },
  {
   "cell_type": "code",
   "execution_count": null,
   "id": "197e8418-030b-4901-8e8f-9f8b1df7c017",
   "metadata": {
    "tags": []
   },
   "outputs": [],
   "source": [
    "cf_2d.parameters.loadparameters(parfile)\n",
    "\n",
    "cf_2d.updateGeometry()\n",
    "ImageD11.columnfile.colfile_to_hdf(cf_2d, ds.col2dfile)"
   ]
  },
  {
   "cell_type": "code",
   "execution_count": null,
   "id": "d44b9da8-f533-4295-9453-dc2dffd0a774",
   "metadata": {
    "tags": []
   },
   "outputs": [],
   "source": [
    "cf_3d.parameters.loadparameters(parfile)\n",
    "cf_3d.updateGeometry()\n",
    "ImageD11.columnfile.colfile_to_hdf(cf_3d, ds.col3dfile)"
   ]
  },
  {
   "cell_type": "code",
   "execution_count": null,
   "id": "7085183c-1991-49b3-af09-abe119542166",
   "metadata": {
    "tags": []
   },
   "outputs": [],
   "source": [
    "ds.parfile = parfile\n",
    "ds.save()"
   ]
  },
  {
   "cell_type": "code",
   "execution_count": null,
   "id": "148fb053-420b-4534-ba48-9e6a67e7a746",
   "metadata": {},
   "outputs": [],
   "source": [
    "# change to 0 to allow all cells to be run automatically\n",
    "if 1:\n",
    "    raise ValueError(\"Hello!\")"
   ]
  },
  {
   "cell_type": "code",
   "execution_count": null,
   "id": "ac6a298f-1405-4d90-b677-7a29c04de67e",
   "metadata": {},
   "outputs": [],
   "source": [
    "# Now that weparfile happy with our indexing parameters, we can run the below cell to do this in bulk for many samples/datasets\n",
    "# by default this will do all samples in sample_list, all datasets with a prefix of dset_prefix\n",
    "# you can add samples and datasets to skip in skips_dict\n",
    "\n",
    "skips_dict = {\n",
    "    \"FeAu_0p5_tR\": []\n",
    "}\n",
    "\n",
    "dset_prefix = \"ff\"\n",
    "\n",
    "sample_list = [\"FeAu_0p5_tR\"]\n",
    "    \n",
    "samples_dict = utils.find_datasets_to_process(rawdata_path, skips_dict, dset_prefix, sample_list)\n",
    "    \n",
    "# manual override:\n",
    "# samples_dict = {\"FeAu_0p5_tR_nscope\": [\"top_100um\", \"top_200um\"]}\n",
    "\n",
    "worker_args = end_worker_args\n",
    "\n",
    "nthreads = len(os.sched_getaffinity(os.getpid()))\n",
    "\n",
    "for sample, datasets in samples_dict.items():\n",
    "    for dataset in datasets:\n",
    "        print(f\"Processing dataset {dataset} in sample {sample}\")\n",
    "        print(\"Importing DataSet object\")\n",
    "        ds = ImageD11.sinograms.dataset.DataSet(dataroot=rawdata_path,\n",
    "                                            analysisroot=processed_data_root_dir,\n",
    "                                            sample=sample,\n",
    "                                            dset=dataset,\n",
    "                                            detector=\"frelon3\",\n",
    "                                            omegamotor=\"diffrz\",\n",
    "                                            dtymotor=\"diffty\")\n",
    "        \n",
    "        if os.path.exists(ds.col2dfile):\n",
    "            print(f\"Found existing cf_2d for {dataset} in {sample}, skipping\")\n",
    "            continue\n",
    "        \n",
    "        ds.import_all(scans=[\"1.1\"])\n",
    "        print(f\"I have a DataSet {ds.dset} in sample {ds.sample}\")\n",
    "        ds.save()\n",
    "        \n",
    "        ds.splinefile = spline_file\n",
    "        ds.maskfile = maskfile\n",
    "        ds.bgfile = bg_file\n",
    "\n",
    "        print(\"Peaksearching\")\n",
    "        cf_2d, cf_3d = process(ds, nthreads-1, worker_args)\n",
    "        \n",
    "        print(\"Spatially correcting peaks\")\n",
    "        cf_2d = utils.apply_spatial_lut(cf_2d, spline_file)\n",
    "        cf_3d = utils.apply_spatial_lut(cf_3d, spline_file)\n",
    "        \n",
    "        print(\"Saving peaks to file\")\n",
    "        cf_2d.parameters.loadparameters(parfile)\n",
    "\n",
    "        cf_2d.updateGeometry()\n",
    "        ImageD11.columnfile.colfile_to_hdf(cf_2d, ds.col2dfile)\n",
    "        \n",
    "        cf_3d.parameters.loadparameters(parfile)\n",
    "        cf_3d.updateGeometry()\n",
    "        ImageD11.columnfile.colfile_to_hdf(cf_3d, ds.col3dfile)\n",
    "        \n",
    "        ds.parfile = parfile\n",
    "        ds.save()"
   ]
  },
  {
   "cell_type": "code",
   "execution_count": null,
   "id": "ab892957-5ce7-4f04-a01c-c04cc9a2715c",
   "metadata": {},
   "outputs": [],
   "source": []
  }
 ],
 "metadata": {
  "kernelspec": {
   "display_name": "Python 3 (main)",
   "language": "python",
   "name": "python3"
  },
  "language_info": {
   "codemirror_mode": {
    "name": "ipython",
    "version": 3
   },
   "file_extension": ".py",
   "mimetype": "text/x-python",
   "name": "python",
   "nbconvert_exporter": "python",
   "pygments_lexer": "ipython3",
   "version": "3.11.6"
  }
 },
 "nbformat": 4,
 "nbformat_minor": 5
}
