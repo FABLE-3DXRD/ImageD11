{
 "cells": [
  {
   "cell_type": "markdown",
   "id": "8deabe5b",
   "metadata": {},
   "source": [
    "# Jupyter notebook based on ImageD11 to process 3DXRD data\n",
    "# Written by Haixing Fang, Jon Wright and James Ball\n",
    "## Date: 16/02/2024"
   ]
  },
  {
   "cell_type": "markdown",
   "id": "6835a47c-a552-4d1d-b605-1867dd631b2a",
   "metadata": {},
   "source": [
    "This notebook will help you to extract the locations of diffraction peaks on your detector images.\n",
    "\n",
    "It will also merge together your 2D spots (on a stack of detector images with different omega angles).\n",
    "\n",
    "We merge across omega because we often see the same spot twice on multiple detector images.\n",
    "\n",
    "The results are saved to the PROCESSED_DATA folder of the experiment, inside the sample and dataset folders that you select within this notebook"
   ]
  },
  {
   "cell_type": "code",
   "execution_count": null,
   "id": "851fcab9-7631-439f-885c-438bcefeac84",
   "metadata": {
    "tags": []
   },
   "outputs": [],
   "source": [
    "# There is a bug with the current version of ImageD11 in the site-wide Jupyter env.\n",
    "# This has been fixed here: https://github.com/FABLE-3DXRD/ImageD11/commit/4af88b886b1775585e868f2339a0eb975401468f\n",
    "# Until a new release has been made and added to the env, we need to get the latest version of ImageD11 from GitHub\n",
    "# Put it in your home directory\n",
    "# USER: Change the path below to point to your local copy of ImageD11:\n",
    "\n",
    "import os\n",
    "\n",
    "username = os.environ.get(\"USER\")\n",
    "\n",
    "id11_code_path = f\"/home/esrf/{username}/Code/ImageD11\"\n",
    "\n",
    "import sys\n",
    "\n",
    "sys.path.insert(0, id11_code_path)"
   ]
  },
  {
   "cell_type": "code",
   "execution_count": null,
   "id": "9b5c1db6-5a32-4294-abef-cfc2150d24de",
   "metadata": {
    "tags": []
   },
   "outputs": [],
   "source": [
    "# import functions we need\n",
    "\n",
    "import glob, pprint\n",
    "\n",
    "import ImageD11.sinograms.dataset\n",
    "import ImageD11.sinograms.lima_segmenter\n",
    "import ImageD11.sinograms.assemble_label\n",
    "import ImageD11.sinograms.properties\n",
    "\n",
    "import numpy as np\n",
    "import fabio\n",
    "import matplotlib.pyplot as plt\n",
    "from matplotlib.colors import LogNorm\n",
    "from skimage import filters, measure, morphology\n",
    "import ipywidgets as widgets\n",
    "import h5py\n",
    "from IPython.display import display\n",
    "%matplotlib widget\n",
    "\n",
    "\n",
    "from frelon_peaksearch import worker, process\n",
    "\n",
    "from utils import apply_spatial"
   ]
  },
  {
   "cell_type": "code",
   "execution_count": null,
   "id": "f45e3647-2e1b-4a31-b5de-01adbd4d7573",
   "metadata": {
    "tags": []
   },
   "outputs": [],
   "source": [
    "# Check that we're importing ImageD11 from the home directory rather than from the Jupyter kernel\n",
    "\n",
    "?ImageD11.sinograms.dataset"
   ]
  },
  {
   "cell_type": "code",
   "execution_count": null,
   "id": "de77981e-c3bf-4a29-8944-95286831ac34",
   "metadata": {
    "tags": []
   },
   "outputs": [],
   "source": [
    "# NEW DATASETS\n",
    "\n",
    "### USER: specify your experimental directory\n",
    "\n",
    "base_dir = \"/data/visitor/ma5837/id11/20240208\"\n",
    "\n",
    "rawdata_path = os.path.join(base_dir, 'RAW_DATA')\n",
    "\n",
    "!ls -lrt {rawdata_path}\n",
    "\n",
    "processed_data_root_dir = os.path.join(base_dir, 'PROCESSED_DATA')  # USER: modify this to change the destination folder if desired"
   ]
  },
  {
   "cell_type": "code",
   "execution_count": null,
   "id": "187950bd-18b5-4bd4-80da-2a0c7a984b11",
   "metadata": {
    "tags": []
   },
   "outputs": [],
   "source": [
    "# USER: pick a sample and a dataset you want to segment\n",
    "\n",
    "sample = \"S12\"\n",
    "dataset = \"FF_zeries_0\"\n",
    "\n",
    "# USER: specify path to detector spline file\n",
    "\n",
    "spline_file = '/data/id11/inhouse1/ewoks/detectors/files/Frelon2k_C36/frelon36.spline'"
   ]
  },
  {
   "cell_type": "code",
   "execution_count": null,
   "id": "ad077c4b-39cc-4b90-9637-33c32f12e364",
   "metadata": {
    "tags": []
   },
   "outputs": [],
   "source": [
    "# create ImageD11 dataset object\n",
    "\n",
    "ds = ImageD11.sinograms.dataset.DataSet(dataroot=rawdata_path,\n",
    "                                        analysisroot=processed_data_root_dir,\n",
    "                                        sample=sample,\n",
    "                                        dset=dataset,\n",
    "                                        detector=\"frelon3\",\n",
    "                                        omegamotor=\"diffrz\",\n",
    "                                        dtymotor=\"diffty\")\n",
    "ds.import_all(scans=[\"1.1\"])\n",
    "ds.save()"
   ]
  },
  {
   "cell_type": "code",
   "execution_count": null,
   "id": "83f17f79-87ba-4081-b6ed-e17e48fd9697",
   "metadata": {
    "tags": []
   },
   "outputs": [],
   "source": [
    "# USER: specify path to background file\n",
    "\n",
    "bg_file = os.path.join(ds.analysisroot, \"CeO2/CeO2_bkg_3dxrd_beam_shutter_open/CeO2_bkg_3dxrd_beam_shutter_open.edf\")"
   ]
  },
  {
   "cell_type": "code",
   "execution_count": null,
   "id": "21b07c8a-7b1d-4fb7-be52-15ecde46130d",
   "metadata": {
    "tags": []
   },
   "outputs": [],
   "source": [
    "with h5py.File(ds.masterfile, 'r') as h5In:\n",
    "    test_image = h5In['1.1/measurement/frelon3'][0].astype('uint16')"
   ]
  },
  {
   "cell_type": "code",
   "execution_count": null,
   "id": "e04317c9-f029-4167-94b0-ed68b02ed9d6",
   "metadata": {
    "tags": []
   },
   "outputs": [],
   "source": [
    "test_image_worker = worker(bgfile=bg_file)\n",
    "goodpeaks = test_image_worker.peaksearch(img=test_image, omega=0)\n",
    "fc, sc = goodpeaks[:, 23:25].T"
   ]
  },
  {
   "cell_type": "code",
   "execution_count": null,
   "id": "cbde6264-a634-49f3-b858-dfdc55aa94b4",
   "metadata": {
    "tags": []
   },
   "outputs": [],
   "source": [
    "fig, axs = plt.subplots(1, 3, sharex=True, sharey=True, figsize=(16, 5))\n",
    "axs[0].imshow(test_image, norm=LogNorm(vmax=1000))\n",
    "axs[0].set_title(\"Original image\")\n",
    "axs[1].imshow(test_image_worker.smoothed, cmap=\"viridis\", norm=LogNorm(vmax=1000), interpolation=\"nearest\")\n",
    "axs[2].imshow(test_image_worker.smoothed, cmap=\"viridis\", norm=LogNorm(vmax=1000), interpolation=\"nearest\")\n",
    "axs[2].scatter(fc, sc, marker='+', c=\"r\")\n",
    "axs[2].set_aspect(1)\n",
    "plt.show()"
   ]
  },
  {
   "cell_type": "code",
   "execution_count": null,
   "id": "5a1795a9-16eb-430d-a246-a26b12c35e77",
   "metadata": {
    "tags": []
   },
   "outputs": [],
   "source": [
    "# now we run the segmenter on all our data\n",
    "\n",
    "cf_2d, cf_3d = process(ds, bg_file, 64)"
   ]
  },
  {
   "cell_type": "code",
   "execution_count": null,
   "id": "daccc72e-0aae-4332-80b0-e9ed894056e9",
   "metadata": {
    "tags": []
   },
   "outputs": [],
   "source": [
    "# we can use this to verify that the 3D merging is behaving as expected\n",
    "# don't worry about this too much!\n",
    "\n",
    "# take a few 3d peaks with the most 2d peaks, plot them\n",
    "\n",
    "unique, counts = np.unique(cf_2d.spot3d_id, return_counts=True)\n",
    "hits_dict = dict(zip(unique, counts))\n",
    "hits_dict_max = sorted(hits_dict.items(), key=lambda x: x[1], reverse=True)\n",
    "\n",
    "m = np.isin(cf_3d.index, [spot3d_id for spot3d_id, count in hits_dict_max[4:5]])\n",
    "cf_3d_single_peak = cf_3d.copy()\n",
    "cf_3d_single_peak.filter(m)\n",
    "\n",
    "peak_2d_mask = np.isin(cf_2d.spot3d_id, cf_3d_single_peak.index)\n",
    "cf_2d_peaks = cf_2d.copy()\n",
    "cf_2d_peaks.filter(peak_2d_mask)\n",
    "\n",
    "fig, ax = plt.subplots()\n",
    "ax.scatter(cf_3d_single_peak.f_raw, cf_3d_single_peak.s_raw, marker=\"X\", c=cf_3d_single_peak.omega, s=50, label='Merged 3D peak')\n",
    "cols = ax.scatter(cf_2d_peaks.f_raw, cf_2d_peaks.s_raw, c=cf_2d_peaks.o_raw, s=cf_2d_peaks.s_I / 1000, label='Contibutory 2D peaks')\n",
    "fig.colorbar(cols)\n",
    "ax.set_xlim(0, 2048)\n",
    "ax.set_ylim(0, 2048)\n",
    "ax.invert_yaxis()\n",
    "ax.legend()\n",
    "ax.set_title(\"Color is omega of peak. Scaled by sum intensity\")\n",
    "ax.set_xlabel(\"f_raw\")\n",
    "ax.set_ylabel(\"s_raw\")\n",
    "plt.show()"
   ]
  },
  {
   "cell_type": "code",
   "execution_count": null,
   "id": "39fc939e-a6cd-425f-8fea-2b65e2551358",
   "metadata": {
    "tags": []
   },
   "outputs": [],
   "source": [
    "cf_2d = apply_spatial(cf_2d, spline_file)"
   ]
  },
  {
   "cell_type": "code",
   "execution_count": null,
   "id": "e10d2350-e9f6-419a-a69d-07b575a9e8ae",
   "metadata": {
    "tags": []
   },
   "outputs": [],
   "source": [
    "cf_3d = apply_spatial(cf_3d, spline_file)"
   ]
  },
  {
   "cell_type": "code",
   "execution_count": null,
   "id": "c71ebf96-3bbe-46a2-aa27-30a7a0a2c9f2",
   "metadata": {
    "tags": []
   },
   "outputs": [],
   "source": [
    "parfile = 'Fe_refined.par'"
   ]
  },
  {
   "cell_type": "code",
   "execution_count": null,
   "id": "197e8418-030b-4901-8e8f-9f8b1df7c017",
   "metadata": {
    "tags": []
   },
   "outputs": [],
   "source": [
    "cf_2d.parameters.loadparameters(parfile)\n",
    "\n",
    "cf_2d.updateGeometry()\n",
    "ImageD11.columnfile.colfile_to_hdf(cf_2d, ds.col2dfile)"
   ]
  },
  {
   "cell_type": "code",
   "execution_count": null,
   "id": "d44b9da8-f533-4295-9453-dc2dffd0a774",
   "metadata": {
    "tags": []
   },
   "outputs": [],
   "source": [
    "cf_3d.parameters.loadparameters(parfile)\n",
    "cf_3d.updateGeometry()\n",
    "ImageD11.columnfile.colfile_to_hdf(cf_3d, ds.col3dfile)"
   ]
  },
  {
   "cell_type": "code",
   "execution_count": null,
   "id": "ac6a298f-1405-4d90-b677-7a29c04de67e",
   "metadata": {},
   "outputs": [],
   "source": [
    "# Now that we're happy with our segmentation parameters, we can run the below cell to do this in bulk for many samples/datasets\n",
    "# just modify samples_dict accordingly!\n",
    "\n",
    "mask_path = '/data/id11/inhouse1/ewoks/detectors/files/Frelon2k_C36/mask.edf'\n",
    "\n",
    "spline_file = '/data/id11/inhouse1/ewoks/detectors/files/Frelon2k_C36/frelon36.spline'\n",
    "parfile = 'Fe_refined.par'\n",
    "\n",
    "samples_dict = {\n",
    "    \"S13\" : [\n",
    "        \"FF_zeries_0\",\n",
    "        \"FF_zeries_1\",\n",
    "        \"FF_zeries_2\",\n",
    "        \"FF_zeries_3\",\n",
    "        \"FF_zeries_4\",\n",
    "    ],\n",
    "    \"S14\" : [\n",
    "        \"FF_zeries_0\",\n",
    "        \"FF_zeries_1\",\n",
    "        \"FF_zeries_2\",\n",
    "        \"FF_zeries_3\",\n",
    "        \"FF_zeries_4\",\n",
    "    ],\n",
    "}\n",
    "\n",
    "for sample, datasets in samples_dict.items():\n",
    "    for dataset in datasets:\n",
    "        print(f\"Processing dataset {dataset} in sample {sample}\")\n",
    "        print(\"Importing DataSet object\")\n",
    "        ds = ImageD11.sinograms.dataset.DataSet(dataroot=rawdata_path,\n",
    "                                            analysisroot=processed_data_root_dir,\n",
    "                                            sample=sample,\n",
    "                                            dset=dataset,\n",
    "                                            detector=\"frelon3\",\n",
    "                                            omegamotor=\"diffrz\",\n",
    "                                            dtymotor=\"diffty\")\n",
    "        ds.import_all(scans=[\"1.1\"])\n",
    "        print(f\"I have a DataSet {ds.dset} in sample {ds.sample}\")\n",
    "        ds.save()\n",
    "        \n",
    "        bg_path = os.path.join(ds.analysisroot, \"CeO2/CeO2_bkg_3dxrd_beam_shutter_open/CeO2_bkg_3dxrd_beam_shutter_open.edf\")\n",
    "        \n",
    "        print(\"Peaksearching\")\n",
    "        cf_2d, cf_3d = process(ds, bg_path, 64)\n",
    "        \n",
    "        print(\"Spatially correcting peaks\")\n",
    "        cf_2d = apply_spatial(cf_2d, spline_file)\n",
    "        cf_3d = apply_spatial(cf_3d, spline_file)\n",
    "        \n",
    "        print(\"Saving peaks to file\")\n",
    "        cf_2d.parameters.loadparameters(parfile)\n",
    "\n",
    "        cf_2d.updateGeometry()\n",
    "        ImageD11.columnfile.colfile_to_hdf(cf_2d, ds.col2dfile)\n",
    "        \n",
    "        cf_3d.parameters.loadparameters(parfile)\n",
    "        cf_3d.updateGeometry()\n",
    "        ImageD11.columnfile.colfile_to_hdf(cf_3d, ds.col3dfile)"
   ]
  }
 ],
 "metadata": {
  "kernelspec": {
   "display_name": "Python 3 (main)",
   "language": "python",
   "name": "python3"
  },
  "language_info": {
   "codemirror_mode": {
    "name": "ipython",
    "version": 3
   },
   "file_extension": ".py",
   "mimetype": "text/x-python",
   "name": "python",
   "nbconvert_exporter": "python",
   "pygments_lexer": "ipython3",
   "version": "3.11.6"
  }
 },
 "nbformat": 4,
 "nbformat_minor": 5
}
