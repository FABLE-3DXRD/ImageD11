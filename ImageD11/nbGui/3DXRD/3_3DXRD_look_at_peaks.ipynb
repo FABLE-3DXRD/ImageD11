{
 "cells": [
  {
   "cell_type": "markdown",
   "metadata": {},
   "source": [
    "# Jupyter notebook based on ImageD11 to process scanning 3DXRD data\n",
    "# Written by Haixing Fang, Jon Wright and James Ball\n",
    "## Date: 16/01/2024"
   ]
  },
  {
   "cell_type": "code",
   "execution_count": null,
   "metadata": {
    "tags": []
   },
   "outputs": [],
   "source": [
    "# There is a bug with the current version of ImageD11 in the site-wide Jupyter env.\n",
    "# This has been fixed here: https://github.com/FABLE-3DXRD/ImageD11/commit/4af88b886b1775585e868f2339a0eb975401468f\n",
    "# Until a new release has been made and added to the env, we need to get the latest version of ImageD11 from GitHub\n",
    "# Put it in your home directory\n",
    "# USER: Change the path below to point to your local copy of ImageD11:\n",
    "\n",
    "import os\n",
    "\n",
    "username = os.environ.get(\"USER\")\n",
    "\n",
    "id11_code_path = f\"/home/esrf/{username}/Code/ImageD11\"\n",
    "\n",
    "import sys\n",
    "\n",
    "sys.path.insert(0, id11_code_path)"
   ]
  },
  {
   "cell_type": "code",
   "execution_count": null,
   "metadata": {
    "tags": []
   },
   "outputs": [],
   "source": [
    "# import functions we need\n",
    "\n",
    "import os, glob, pprint\n",
    "import numpy as np\n",
    "import h5py\n",
    "from tqdm.notebook import tqdm\n",
    "\n",
    "import matplotlib\n",
    "%matplotlib widget\n",
    "from matplotlib import pyplot as plt\n",
    "\n",
    "import utils\n",
    "\n",
    "import ImageD11.grain\n",
    "import ImageD11.indexing\n",
    "import ImageD11.columnfile\n",
    "from ImageD11.sinograms import properties, dataset\n",
    "\n",
    "from ImageD11.blobcorrector import eiger_spatial"
   ]
  },
  {
   "cell_type": "code",
   "execution_count": null,
   "metadata": {
    "tags": []
   },
   "outputs": [],
   "source": [
    "# NEW DATASETS\n",
    "\n",
    "### USER: specify your experimental directory\n",
    "\n",
    "base_dir = \"/data/visitor/ma5837/id11/20240208\"\n",
    "\n",
    "rawdata_path = os.path.join(base_dir, 'RAW_DATA')\n",
    "\n",
    "!ls -lrt {rawdata_path}\n",
    "\n",
    "processed_data_root_dir = os.path.join(base_dir, 'PROCESSED_DATA')  # USER: modify this to change the destination folder if desired"
   ]
  },
  {
   "cell_type": "code",
   "execution_count": null,
   "metadata": {
    "tags": []
   },
   "outputs": [],
   "source": [
    "# USER: pick a sample and a dataset you want to segment\n",
    "\n",
    "sample = \"S12\"\n",
    "dataset = \"FF_zeries_0\"\n",
    "\n",
    "# USER: specify path to detector mask\n",
    "\n",
    "mask_path = '/data/id11/inhouse1/ewoks/detectors/files/Frelon2k_C36/mask.edf'"
   ]
  },
  {
   "cell_type": "code",
   "execution_count": null,
   "metadata": {
    "tags": []
   },
   "outputs": [],
   "source": [
    "# desination of H5 files\n",
    "\n",
    "dset_path = os.path.join(processed_data_root_dir, sample, f\"{sample}_{dataset}\", f\"{sample}_{dataset}_dataset.h5\")\n",
    "\n",
    "# USER: specify the path to the parameter file\n",
    "\n",
    "parfile = 'Fe_refined.par'\n",
    "spline_file = '/data/id11/inhouse1/ewoks/detectors/files/Frelon2k_C36/frelon36.spline'"
   ]
  },
  {
   "cell_type": "code",
   "execution_count": null,
   "metadata": {
    "tags": []
   },
   "outputs": [],
   "source": [
    "# load the dataset from file\n",
    "\n",
    "ds = ImageD11.sinograms.dataset.load(dset_path)\n",
    "\n",
    "print(ds)\n",
    "print(ds.shape)"
   ]
  },
  {
   "cell_type": "code",
   "execution_count": null,
   "metadata": {
    "tags": []
   },
   "outputs": [],
   "source": [
    "# load 3d columnfile from disk\n",
    "\n",
    "cf_3d = ImageD11.columnfile.colfile_from_hdf(ds.col3dfile)\n",
    "\n",
    "cf_3d.parameters.loadparameters(parfile)\n",
    "cf_3d.updateGeometry()\n",
    "\n",
    "if \"index\" not in cf_3d.titles:\n",
    "    cf_3d.addcolumn(np.arange(cf_3d.nrows), \"index\")"
   ]
  },
  {
   "cell_type": "code",
   "execution_count": null,
   "metadata": {
    "tags": []
   },
   "outputs": [],
   "source": [
    "# load 2d columnfile from disk\n",
    "\n",
    "cf_2d = ImageD11.columnfile.colfile_from_hdf(ds.col2dfile)\n",
    "\n",
    "cf_2d.parameters.loadparameters(parfile)\n",
    "cf_2d.updateGeometry()"
   ]
  },
  {
   "cell_type": "code",
   "execution_count": null,
   "metadata": {
    "tags": []
   },
   "outputs": [],
   "source": [
    "# load grains from disk\n",
    "\n",
    "def read_grains(ds):\n",
    "    with h5py.File(ds.grainsfile, 'r') as hin:      \n",
    "        grains_group = 'grains'\n",
    "        \n",
    "        grains = []\n",
    "        for gid_string in tqdm(sorted(hin[grains_group].keys(), key=lambda x: int(x))):\n",
    "            gg = hin[grains_group][gid_string]\n",
    "            ubi = gg.attrs['ubi'][:]\n",
    "            translation = gg.attrs['translation'][:]\n",
    "            g = ImageD11.grain.grain(ubi, translation=translation)\n",
    "            g.gid = int(gid_string)\n",
    "            g.peaks_3d = gg['peaks_3d_indexing'][:]\n",
    "            grains.append(g)\n",
    "    \n",
    "    return grains"
   ]
  },
  {
   "cell_type": "code",
   "execution_count": null,
   "metadata": {
    "tags": []
   },
   "outputs": [],
   "source": [
    "grains = read_grains(ds)"
   ]
  },
  {
   "cell_type": "code",
   "execution_count": null,
   "metadata": {},
   "outputs": [],
   "source": [
    "# pick a grain and look at its 3D peaks"
   ]
  },
  {
   "cell_type": "code",
   "execution_count": null,
   "metadata": {
    "tags": []
   },
   "outputs": [],
   "source": [
    "selected_grain = sorted(grains, key=lambda g: len(g.peaks_3d), reverse=True)[0]\n",
    "\n",
    "grain1_3d_mask = np.isin(cf_3d.index, selected_grain.peaks_3d)\n",
    "\n",
    "cf_3d_grain1 = cf_3d.copy()\n",
    "cf_3d_grain1.filter(grain1_3d_mask)\n",
    "\n",
    "# cf_3d_grain1 now contains only the 3D peaks for our selected grain"
   ]
  },
  {
   "cell_type": "code",
   "execution_count": null,
   "metadata": {},
   "outputs": [],
   "source": [
    "# let's look at the corresponding 2D peaks for the 3D grain\n",
    "\n",
    "grain1_2d_mask = np.isin(cf_2d.spot3d_id, cf_3d_grain1.index)\n",
    "cf_2d_grain1 = cf_2d.copy()\n",
    "cf_2d_grain1.filter(grain1_2d_mask)"
   ]
  },
  {
   "cell_type": "code",
   "execution_count": null,
   "metadata": {
    "tags": []
   },
   "outputs": [],
   "source": [
    "print(cf_3d_grain1.nrows)  # number of 3D peaks for this grain\n",
    "print(cf_2d_grain1.nrows)  # number of 2D peaks for this grain"
   ]
  },
  {
   "cell_type": "code",
   "execution_count": null,
   "metadata": {
    "tags": []
   },
   "outputs": [],
   "source": [
    "fig, ax = plt.subplots()\n",
    "ax.scatter(cf_3d_grain1.fc, cf_3d_grain1.sc, marker=\"X\", c=cf_3d_grain1.omega, label='Merged 3D peak')\n",
    "cols = ax.scatter(cf_2d_grain1.fc, cf_2d_grain1.sc, c=cf_2d_grain1.o_raw, s=cf_2d_grain1.s_I / 1000, label='Contibutory 2D peaks')\n",
    "fig.colorbar(cols)\n",
    "ax.set_xlim(0, 2048)\n",
    "ax.set_ylim(0, 2048)\n",
    "ax.invert_yaxis()\n",
    "ax.legend()\n",
    "ax.set_title(\"\\nColor is omega of peak. Scaled by sum intensity\")\n",
    "ax.set_xlabel(\"f_raw\")\n",
    "ax.set_ylabel(\"s_raw\")\n",
    "ax.set_aspect(1)\n",
    "plt.show()"
   ]
  },
  {
   "cell_type": "code",
   "execution_count": null,
   "metadata": {},
   "outputs": [],
   "source": [
    "# better thing is a slider\n",
    "# iterate over the frames\n",
    "# sort frame order by omega using numpy argsort\n",
    "# get the frame number\n",
    "# get the omega value from ds.omega sorted\n",
    "# get the corresponding 3D peaks\n",
    "# get the 2D peaks from that"
   ]
  },
  {
   "cell_type": "code",
   "execution_count": null,
   "metadata": {
    "tags": []
   },
   "outputs": [],
   "source": [
    "# get the 2D frame with the most peaks from this grain on it\n",
    "\n",
    "unique, counts = np.unique(cf_2d_grain1.omega, return_counts=True)\n",
    "hits_dict = dict(zip(unique, counts))\n",
    "hits_dict_max = sorted(hits_dict.items(), key=lambda x: x[1], reverse=True)[0]\n",
    "\n",
    "max_omega, peaks_on_frame = hits_dict_max\n",
    "\n",
    "omega_mask = cf_2d_grain1.omega == max_omega\n",
    "\n",
    "fast, slow, omega = cf_2d_grain1.f_raw[omega_mask], cf_2d_grain1.s_raw[omega_mask], cf_2d_grain1.omega[omega_mask]\n",
    "\n",
    "# print(fast, slow, omega)\n",
    "\n",
    "# get the corresponding frame number\n",
    "\n",
    "omegas_sorted = np.sort(ds.omega)[0]\n",
    "omega_slop = np.round(np.diff(omegas_sorted).mean(), 3)\n",
    "\n",
    "frame_number = np.where(np.isclose(ds.omega[0, :], max_omega, atol=omega_slop/10))[0][0]\n",
    "\n",
    "# get the corresponding 2D frame\n",
    "with h5py.File(ds.masterfile, 'r') as h5In:\n",
    "    frame_2d = h5In['1.1/measurement/frelon3'][frame_number].astype('uint16')"
   ]
  },
  {
   "cell_type": "code",
   "execution_count": null,
   "metadata": {
    "tags": []
   },
   "outputs": [],
   "source": [
    "# plot it\n",
    "\n",
    "from matplotlib.colors import LogNorm\n",
    "\n",
    "fig, ax = plt.subplots()\n",
    "ax.imshow(frame_2d, norm=LogNorm(vmax=1000), interpolation=\"nearest\")\n",
    "ax.scatter(fast, slow, marker='+', c=\"r\")\n",
    "ax.set_title(f\"Frame {frame_number} at w = {max_omega:.2f}\")\n",
    "plt.show()"
   ]
  },
  {
   "cell_type": "code",
   "execution_count": null,
   "metadata": {},
   "outputs": [],
   "source": [
    "# Guide to what the 2D peaks columns mean, from ImageD11/src/blobs.h:\n",
    "\n",
    "# s_1 = 0, /* 1 Npix */\n",
    "# s_I,     /* 2 Sum intensity */\n",
    "# s_I2,    /* 3 Sum intensity^2 */\n",
    "# s_fI,    /* 4 Sum f * intensity */\n",
    "# s_ffI,   /* 5 Sum f * f* intensity */\n",
    "# s_sI,    /* 6 Sum s * intensity */\n",
    "# s_ssI,   /* 7 Sum s * s * intensity */\n",
    "# s_sfI,   /* 8 Sum f * s * intensity */\n",
    "# s_oI,    /* 9 sum omega * intensity */\n",
    "# s_ooI,   /* 10 sum omega2 * intensity */\n",
    "# s_soI,   /* 11 sum omega * s * intensity */\n",
    "# s_foI,   /* 12 sum omega * f * intensity */\n",
    "\n",
    "# mx_I,   /* 13 Max intensity */\n",
    "# mx_I_f, /* 14 fast at Max intensity */\n",
    "# mx_I_s, /* 15 slow at Max intensity */\n",
    "# mx_I_o, /* 16 omega at max I */\n",
    "\n",
    "# bb_mx_f, /* 17 max of f */\n",
    "# bb_mx_s, /* 18 max of s */\n",
    "# bb_mx_o, /* 19 max of omega */\n",
    "# bb_mn_f, /* 20 min of f */\n",
    "# bb_mn_s, /* 21 min of s */\n",
    "# bb_mn_o, /* 22 min of o */\n",
    "\n",
    "# avg_i, /* Average intensity */\n",
    "# f_raw, /* fast centre of mass */\n",
    "# s_raw, /* slow centre of mass */\n",
    "# o_raw, /* omega centre of mass */\n",
    "# m_ss,  /* moments */\n",
    "# m_ff,\n",
    "# m_oo,\n",
    "# m_sf,\n",
    "# m_so,\n",
    "# m_fo,"
   ]
  },
  {
   "cell_type": "code",
   "execution_count": null,
   "metadata": {
    "tags": []
   },
   "outputs": [],
   "source": [
    "# peak \"aspect ratio\" could be considered the ratio between bounding box size in fast and slow direction\n",
    "\n",
    "cf_2d_grain1.addcolumn(cf_2d_grain1.bb_mx_f - cf_2d_grain1.bb_mn_f, \"bb_size_f\")\n",
    "cf_2d_grain1.addcolumn(cf_2d_grain1.bb_mx_s - cf_2d_grain1.bb_mn_s, \"bb_size_s\")\n",
    "cf_2d_grain1.addcolumn(cf_2d_grain1.bb_size_f / cf_2d_grain1.bb_size_s, \"bb_aspect\")"
   ]
  },
  {
   "cell_type": "code",
   "execution_count": null,
   "metadata": {
    "tags": []
   },
   "outputs": [],
   "source": [
    "fig, ax = plt.subplots()\n",
    "ax.hist(cf_2d_grain1.bb_aspect[cf_2d_grain1.bb_aspect != np.inf], bins=50)\n",
    "plt.show()"
   ]
  },
  {
   "cell_type": "code",
   "execution_count": null,
   "metadata": {
    "tags": []
   },
   "outputs": [],
   "source": [
    "# the problem here is it depends where on the ring you are\n",
    "# perhaps moment between slow and fast is a better metric\n",
    "\n",
    "fig, ax = plt.subplots()\n",
    "ax.hist(cf_2d_grain1.m_sf, bins=100)\n",
    "plt.show()"
   ]
  },
  {
   "cell_type": "code",
   "execution_count": null,
   "metadata": {
    "tags": []
   },
   "outputs": [],
   "source": [
    "# construct a mean moment for each grain\n",
    "\n",
    "for grain in tqdm(grains):\n",
    "    grain1_3d_mask = np.isin(cf_3d.index, grain.peaks_3d)\n",
    "\n",
    "    cf_3d_grain1 = cf_3d.copy()\n",
    "    cf_3d_grain1.filter(grain1_3d_mask)\n",
    "\n",
    "    grain1_2d_mask = np.isin(cf_2d.spot3d_id, cf_3d_grain1.index)\n",
    "    cf_2d_grain1 = cf_2d.copy()\n",
    "    cf_2d_grain1.filter(grain1_2d_mask)\n",
    "    \n",
    "    grain.cf_3d = cf_3d_grain1\n",
    "    grain.cf_2d = cf_2d_grain1"
   ]
  },
  {
   "cell_type": "code",
   "execution_count": null,
   "metadata": {
    "tags": []
   },
   "outputs": [],
   "source": [
    "for grain in grains:\n",
    "    grain.mean_sf_moment = np.abs(np.mean(grain.cf_2d.m_sf))"
   ]
  },
  {
   "cell_type": "code",
   "execution_count": null,
   "metadata": {
    "tags": []
   },
   "outputs": [],
   "source": [
    "centre_plot = False\n",
    "\n",
    "fig = plt.figure(figsize=(12, 12))\n",
    "ax = fig.add_subplot(projection='3d')\n",
    "xx = [grain.translation[0] for grain in grains]\n",
    "yy = [grain.translation[1] for grain in grains]\n",
    "zz = [grain.translation[2] for grain in grains]\n",
    "col = [grain.mean_sf_moment for grain in grains]\n",
    "sizes = [0.0001*(cf_3d.nrows) for grain in grains]\n",
    "if centre_plot:\n",
    "    scatterplot = ax.scatter(xx-np.mean(xx), yy-np.mean(yy), zz, c=col, s=sizes)\n",
    "else:\n",
    "    scatterplot = ax.scatter(xx, yy, zz, c=col, s=sizes)\n",
    "ax.set_xlim(-200,200)\n",
    "ax.set_ylim(-200,200)\n",
    "ax.set_zlim(-200,200)\n",
    "plt.colorbar(scatterplot)\n",
    "ax.set_title(\"Grains coloured by m_sf\")\n",
    "ax.set_xlabel(\"x\")\n",
    "ax.set_ylabel(\"y\")\n",
    "ax.set_zlabel(\"z\")\n",
    "plt.show()"
   ]
  },
  {
   "cell_type": "code",
   "execution_count": null,
   "metadata": {},
   "outputs": [],
   "source": [
    "# perhaps something else\n",
    "# like - the mean number of 2d peaks per merged 3d peak?\n",
    "# gives a terrible rough approximation for omega spread"
   ]
  },
  {
   "cell_type": "code",
   "execution_count": null,
   "metadata": {
    "tags": []
   },
   "outputs": [],
   "source": [
    "for grain in grains:\n",
    "    spots_3d, merge_counts = np.unique(grain.cf_2d.spot3d_id, return_counts=True)\n",
    "    grain.mean_merges = np.mean(merge_counts)"
   ]
  },
  {
   "cell_type": "code",
   "execution_count": null,
   "metadata": {
    "tags": []
   },
   "outputs": [],
   "source": [
    "centre_plot = False\n",
    "\n",
    "fig = plt.figure(figsize=(12, 12))\n",
    "ax = fig.add_subplot(projection='3d')\n",
    "xx = [grain.translation[0] for grain in grains]\n",
    "yy = [grain.translation[1] for grain in grains]\n",
    "zz = [grain.translation[2] for grain in grains]\n",
    "col = [grain.mean_merges for grain in grains]\n",
    "sizes = [0.0001*(cf_3d.nrows) for grain in grains]\n",
    "if centre_plot:\n",
    "    scatterplot = ax.scatter(xx-np.mean(xx), yy-np.mean(yy), zz, c=col, s=sizes, vmax=4)\n",
    "else:\n",
    "    scatterplot = ax.scatter(xx, yy, zz, c=col, s=sizes, vmax=4)\n",
    "ax.set_xlim(-200,200)\n",
    "ax.set_ylim(-200,200)\n",
    "ax.set_zlim(-200,200)\n",
    "plt.colorbar(scatterplot)\n",
    "ax.set_title(\"Grains coloured by mean merges\")\n",
    "ax.set_xlabel(\"x\")\n",
    "ax.set_ylabel(\"y\")\n",
    "ax.set_zlabel(\"z\")\n",
    "plt.show()"
   ]
  },
  {
   "cell_type": "code",
   "execution_count": null,
   "metadata": {},
   "outputs": [],
   "source": []
  }
 ],
 "metadata": {
  "kernelspec": {
   "display_name": "Python 3 (main)",
   "language": "python",
   "name": "python3"
  },
  "language_info": {
   "codemirror_mode": {
    "name": "ipython",
    "version": 3
   },
   "file_extension": ".py",
   "mimetype": "text/x-python",
   "name": "python",
   "nbconvert_exporter": "python",
   "pygments_lexer": "ipython3",
   "version": "3.11.6"
  }
 },
 "nbformat": 4,
 "nbformat_minor": 4
}
