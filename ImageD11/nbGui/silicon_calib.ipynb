{
 "cells": [
  {
   "cell_type": "markdown",
   "metadata": {},
   "source": [
    "# Silicon calibration for a single crystal on ID11 nscope\n",
    "\n",
    "Uses the older ImageD11 calibration fitting routines\n",
    "\n",
    "Last updated 24/7/2024 by @jonwright"
   ]
  },
  {
   "cell_type": "code",
   "execution_count": null,
   "metadata": {
    "tags": []
   },
   "outputs": [],
   "source": [
    "exec(open('/data/id11/nanoscope/install_ImageD11_from_git.py').read())\n",
    "PYTHONPATH = setup_ImageD11_from_git( os.path.join( os.environ['HOME'],'git'), 'ImageD11_clean' )"
   ]
  },
  {
   "cell_type": "code",
   "execution_count": null,
   "metadata": {},
   "outputs": [],
   "source": [
    "%matplotlib ipympl\n",
    "import pylab as pl\n",
    "import numpy as np\n",
    "import ImageD11.sinograms.dataset\n",
    "import ImageD11.transformer\n",
    "import ImageD11.columnfile\n",
    "import ImageD11.indexing\n",
    "import ImageD11.grain\n",
    "import ImageD11.nbGui.fit_geometry"
   ]
  },
  {
   "cell_type": "code",
   "execution_count": null,
   "metadata": {
    "tags": []
   },
   "outputs": [],
   "source": [
    "# 'Ag': 25.514, 'Sn': 29.2001, 'Nd': 43.5689, 'Gd': 50.2391, 'Hf': 65.3508, 'W' : 69.525, 'Pt': 78.3948, 'Pb': 88.0045\n",
    "a_silicon = 5.43094\n",
    "econst = 12.398423\n",
    "energy = 43.5689"
   ]
  },
  {
   "cell_type": "code",
   "execution_count": null,
   "metadata": {},
   "outputs": [],
   "source": [
    "# Load some peaks for your silicone\n",
    "# colf = ImageD11.columnfile.columnfile('Silicon/Silicon_100ms/Silicon_100ms_peaks_2d.h5')\n",
    "dset = ImageD11.sinograms.dataset.load(\"WAu_siliconAttrz25_dataset.h5\")\n",
    "colf = dset.get_cf_2d()"
   ]
  },
  {
   "cell_type": "code",
   "execution_count": null,
   "metadata": {
    "tags": []
   },
   "outputs": [],
   "source": [
    "# Remove any weak peaks / noise (average intensity > cutoff)\n",
    "cutoff = 10\n",
    "colf.filter(colf.sum_intensity / colf.Number_of_pixels > cutoff)"
   ]
  },
  {
   "cell_type": "code",
   "execution_count": null,
   "metadata": {},
   "outputs": [],
   "source": [
    "f, a = pl.subplots(1,2,figsize=(12,6), constrained_layout=True)\n",
    "a[0].plot(colf.fc,colf.sum_intensity/colf.Number_of_pixels,'.',alpha=0.2)\n",
    "a[0].set(yscale='log',xlabel='pixel',ylabel='intensity')\n",
    "a[1].plot(colf.fc,colf.sc,'.')\n",
    "a[1].set(xlabel='pixel', ylabel='pixel');"
   ]
  },
  {
   "cell_type": "code",
   "execution_count": null,
   "metadata": {},
   "outputs": [],
   "source": [
    "colf.writefile(\"si.flt\")"
   ]
  },
  {
   "cell_type": "code",
   "execution_count": null,
   "metadata": {
    "tags": []
   },
   "outputs": [],
   "source": [
    "with open(\"si_start.par\",\"w\") as pars:\n",
    "    pars.write(f\"\"\"cell__a {a_silicon}\n",
    "cell__b {a_silicon}\n",
    "cell__c {a_silicon}\n",
    "cell_alpha 90.0\n",
    "cell_beta 90.0\n",
    "cell_gamma 90.0\n",
    "cell_lattice_[P,A,B,C,I,F,R] 227\n",
    "chi 0.0\n",
    "distance 151000.0\n",
    "fit_tolerance 0.05\n",
    "o11 -1\n",
    "o12 0\n",
    "o21 0\n",
    "o22 -1\n",
    "omegasign 1.0\n",
    "t_x 0\n",
    "t_y 0\n",
    "t_z 0\n",
    "tilt_x 0.0\n",
    "tilt_y 0.0\n",
    "tilt_z 0.0\n",
    "wavelength {econst/energy}\n",
    "wedge 0.0\n",
    "y_center 1050.4779244096353\n",
    "y_size 75.0\n",
    "z_center 1111.1724398511979\n",
    "z_size 75.0\"\"\")"
   ]
  },
  {
   "cell_type": "code",
   "execution_count": null,
   "metadata": {
    "tags": []
   },
   "outputs": [],
   "source": [
    "ui = ImageD11.nbGui.fit_geometry.FitGeom( )\n",
    "ui.loadfiltered( 'si.flt' )\n",
    "ui.loadfileparameters( 'si_start.par' )\n",
    "ui.fitGui()"
   ]
  },
  {
   "cell_type": "code",
   "execution_count": null,
   "metadata": {
    "tags": []
   },
   "outputs": [],
   "source": [
    "ui.valuewidgets['fit_tolerance'].value = 0.5\n",
    "ui.fit(2,9)\n",
    "ui.valuewidgets['fit_tolerance'].value = 0.05\n",
    "ui.fit(3,21)\n",
    "ui.fit(0,180)\n",
    "ui.updateGui()"
   ]
  },
  {
   "cell_type": "code",
   "execution_count": null,
   "metadata": {
    "tags": []
   },
   "outputs": [],
   "source": [
    "ui.savegv('si.gve')\n",
    "ui.saveparameters('si_powder.par')"
   ]
  },
  {
   "cell_type": "code",
   "execution_count": null,
   "metadata": {
    "tags": []
   },
   "outputs": [],
   "source": [
    "# Change log level to 1 to see what it did\n",
    "idx = ImageD11.indexing.index( ui.colfile, npk_tol=[( ui.colfile.nrows//2, 0.05),], log_level=3)\n",
    "idx.ubis"
   ]
  },
  {
   "cell_type": "code",
   "execution_count": null,
   "metadata": {
    "tags": []
   },
   "outputs": [],
   "source": [
    "idx.saveubis('si.ubi')"
   ]
  },
  {
   "cell_type": "raw",
   "metadata": {},
   "source": [
    "# TODO : modernize the rest ..."
   ]
  },
  {
   "cell_type": "code",
   "execution_count": null,
   "metadata": {
    "tags": []
   },
   "outputs": [],
   "source": [
    "!makemap.py -f si.flt -u si.ubi -U si.map -p si_powder.par -l cubic -s cubic -t 0.05 --omega_slop={dset.ostep/2}\n",
    "!makemap.py -f si.flt -u si.map -U si.map -p si_powder.par -l cubic -s cubic -t 0.025 --omega_slop={dset.ostep/2}"
   ]
  },
  {
   "cell_type": "code",
   "execution_count": null,
   "metadata": {
    "tags": []
   },
   "outputs": [],
   "source": [
    "!refine_em.py si.flt.new si.map si_powder.par --omega_slop={dset.ostep/2} -x wedge -l cubic"
   ]
  },
  {
   "cell_type": "code",
   "execution_count": null,
   "metadata": {
    "tags": []
   },
   "outputs": [],
   "source": [
    "!cp 0.par si.par\n",
    "!makemap.py -f si.flt -u si.map -U si.map -p si.par -l cubic -s cubic -t 0.05 --omega_slop={dset.ostep/2}\n",
    "!makemap.py -f si.flt -u si.map -U si.map -p si.par -l cubic -s cubic -t 0.025 --omega_slop={dset.ostep/2}"
   ]
  },
  {
   "cell_type": "code",
   "execution_count": null,
   "metadata": {
    "tags": []
   },
   "outputs": [],
   "source": [
    "!refine_em.py si.flt.new si.map si.par --omega_slop={dset.ostep/2} -x wedge -l cubic"
   ]
  },
  {
   "cell_type": "code",
   "execution_count": null,
   "metadata": {},
   "outputs": [],
   "source": [
    "!cp 0.par si.par\n",
    "!cat si.par"
   ]
  },
  {
   "cell_type": "code",
   "execution_count": null,
   "metadata": {
    "tags": []
   },
   "outputs": [],
   "source": [
    "!makemap.py -f si.flt -u si.map -U si.map -p si.par -s cubic -t 0.025 --omega_slop={dset.ostep/2}"
   ]
  },
  {
   "cell_type": "code",
   "execution_count": null,
   "metadata": {
    "tags": []
   },
   "outputs": [],
   "source": [
    "!ubi2cellpars.py si.map"
   ]
  },
  {
   "cell_type": "code",
   "execution_count": null,
   "metadata": {},
   "outputs": [],
   "source": [
    "g = ImageD11.grain.read_grain_file('si.map')[0]\n",
    "v  = np.linalg.det(g.ubi)\n",
    "a_avg = pow(v ,1/3)\n",
    "\n",
    "deviatoric = g.eps_grain_matrix( [a_avg, a_avg, a_avg, 90, 90, 90] )\n",
    "print('deviatoric strains, should be zero, so an estimate of precision:\\n',deviatoric)"
   ]
  },
  {
   "cell_type": "code",
   "execution_count": null,
   "metadata": {
    "tags": []
   },
   "outputs": [],
   "source": [
    "wold = ui.parameterobj.get('wavelength')\n",
    "wnew = wold*a_silicon/a_avg\n",
    "print( 'Wavelength input',wold,'estimated from silicon',wnew)\n",
    "print( 'Energy input',econst/wold,'estimated from silicon',econst/wnew)"
   ]
  },
  {
   "cell_type": "code",
   "execution_count": null,
   "metadata": {},
   "outputs": [],
   "source": []
  }
 ],
 "metadata": {
  "kernelspec": {
   "display_name": "Python 3 (main)",
   "language": "python",
   "name": "python3"
  },
  "language_info": {
   "codemirror_mode": {
    "name": "ipython",
    "version": 3
   },
   "file_extension": ".py",
   "mimetype": "text/x-python",
   "name": "python",
   "nbconvert_exporter": "python",
   "pygments_lexer": "ipython3",
   "version": "3.11.6"
  }
 },
 "nbformat": 4,
 "nbformat_minor": 4
}
