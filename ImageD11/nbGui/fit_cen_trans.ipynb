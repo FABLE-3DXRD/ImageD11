{
 "cells": [
  {
   "cell_type": "code",
   "execution_count": null,
   "metadata": {},
   "outputs": [],
   "source": [
    "%matplotlib notebook\n",
    "import ipywidgets, pylab as pl\n",
    "from ImageD11 import transformer"
   ]
  },
  {
   "cell_type": "code",
   "execution_count": null,
   "metadata": {},
   "outputs": [],
   "source": [
    "# input data from peaksearch and starting parameter file:\n",
    "trans=transformer.transformer()\n",
    "trans.loadfiltered(\"github/FABLE-3DXRD/ImageD11/test/nac_demo/peaks.out_merge_t200\")\n",
    "trans.loadfileparameters(\"github/FABLE-3DXRD/ImageD11/test/nac_demo/nac.prm\")"
   ]
  },
  {
   "cell_type": "code",
   "execution_count": null,
   "metadata": {
    "scrolled": false
   },
   "outputs": [],
   "source": [
    "def parCallBack( arg ):\n",
    "    trans.parameterobj.parameters.update( { arg['owner'].description : arg['new'] } )\n",
    "    drawPlot()\n",
    "    \n",
    "def fixVaryCallBack( arg ):\n",
    "    name = arg['owner'].description.split(\" \")[1]\n",
    "    vars = trans.getvars()\n",
    "    if arg.new and not (name in vars):\n",
    "        vars.append( name )\n",
    "    if name in vars and not arg.new:\n",
    "        vars.remove(name)\n",
    "    trans.parameterobj.set_varylist(vars)\n",
    "    \n",
    "def fitCallBack(arg):\n",
    "    \"\"\" fit call back - runs fit \"\"\"\n",
    "    lo, hi = ax1.get_xlim()\n",
    "    trans.fit( lo, hi )\n",
    "    for i, pname in enumerate(vars):\n",
    "        layout[i,0].value = trans.parameterobj.get(pname)\n",
    "    drawPlot()\n",
    "    \n",
    "def drawPlot():\n",
    "    tth, eta = trans.compute_tth_eta()\n",
    "    pt1.set_data( tth, eta )\n",
    "\n",
    "# Things to be edited in the UI\n",
    "vars = \"y_center z_center distance tilt_y tilt_z\".split()\n",
    "steps = (1,         1,       100,     0.01, 0.01, 0)\n",
    "nv = len(vars)\n",
    "\n",
    "# Draw the widgets:\n",
    "layout = ipywidgets.GridspecLayout(nv+1,2)\n",
    "for i,( pname, pstep ) in enumerate( zip( vars, steps ) ) :\n",
    "    layout[i,0] = ipywidgets.FloatText( description=pname, \n",
    "        value = trans.parameterobj.parameters.get(pname),\n",
    "        step=pstep)\n",
    "    layout[i,0].observe( parCallBack , names='value' )\n",
    "    layout[i,1] = ipywidgets.ToggleButton( description=\"Vary \"+pname, \n",
    "        value = pname in trans.getvars() )\n",
    "    layout[i,1].observe( fixVaryCallBack, names='value' )\n",
    "    \n",
    "layout[nv,0] = ipywidgets.FloatText( description='fit_tolerance', \n",
    "        value = trans.parameterobj.parameters.get(\"fit_tolerance\"), step=0,)\n",
    "layout[nv,0].observe( parCallBack , names='value' )\n",
    "\n",
    "layout[nv,1] = ipywidgets.Button(description=\"Run Fit (blocks)\")\n",
    "layout[nv,1].on_click( fitCallBack )"
   ]
  },
  {
   "cell_type": "code",
   "execution_count": null,
   "metadata": {
    "scrolled": false
   },
   "outputs": [],
   "source": [
    "# Draw plot\n",
    "fig1 = pl.figure(1, figsize=(9,6))\n",
    "ax1 = fig1.add_subplot()\n",
    "tth, eta = trans.compute_tth_eta()\n",
    "trans.addcellpeaks()\n",
    "pt1, = ax1.plot( tth, eta, \",\")\n",
    "ax1.set(xlabel=\"tth\", ylabel=\"eta\")\n",
    "ax1.plot( trans.theorytth, [0,]*len(trans.theorytth), \"r|\", ms=360, alpha=0.2 )\n",
    "# Add controls\n",
    "display(layout)"
   ]
  }
 ],
 "metadata": {
  "kernelspec": {
   "display_name": "Python 3",
   "language": "python",
   "name": "python3"
  },
  "language_info": {
   "codemirror_mode": {
    "name": "ipython",
    "version": 3
   },
   "file_extension": ".py",
   "mimetype": "text/x-python",
   "name": "python",
   "nbconvert_exporter": "python",
   "pygments_lexer": "ipython3",
   "version": "3.7.3"
  }
 },
 "nbformat": 4,
 "nbformat_minor": 2
}
