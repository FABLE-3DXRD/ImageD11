{
 "cells": [
  {
   "cell_type": "code",
   "execution_count": 1,
   "id": "3ff7a14d-db7c-4c71-9de9-12bda564f827",
   "metadata": {
    "tags": []
   },
   "outputs": [],
   "source": [
    "from xfab.structure import build_atomlist"
   ]
  },
  {
   "cell_type": "code",
   "execution_count": 11,
   "id": "22ae1142-2cc4-40bf-801c-96a03ab82af1",
   "metadata": {
    "tags": []
   },
   "outputs": [],
   "source": [
    "import pyFAI"
   ]
  },
  {
   "cell_type": "code",
   "execution_count": 22,
   "id": "1c02aaae-6c95-4aaa-b2b8-93154688b999",
   "metadata": {},
   "outputs": [
    {
     "name": "stderr",
     "output_type": "stream",
     "text": [
      "2024-02-13 16:57:27,125 - xfab.structure - WARNING - No _atom_type_symbol found in CIF\n",
      "WARNING:xfab.structure:No _atom_type_symbol found in CIF\n",
      "2024-02-13 16:57:27,126 - xfab.structure - WARNING - No dispersion factors for Si in cif file - set to zero\n",
      "WARNING:xfab.structure:No dispersion factors for Si in cif file - set to zero\n",
      "2024-02-13 16:57:27,126 - xfab.structure - WARNING - No dispersion factors for Si in cif file - set to zero\n",
      "WARNING:xfab.structure:No dispersion factors for Si in cif file - set to zero\n",
      "2024-02-13 16:57:27,127 - xfab.structure - WARNING - No dispersion factors for Si in cif file - set to zero\n",
      "WARNING:xfab.structure:No dispersion factors for Si in cif file - set to zero\n",
      "2024-02-13 16:57:27,127 - xfab.structure - WARNING - No dispersion factors for O in cif file - set to zero\n",
      "WARNING:xfab.structure:No dispersion factors for O in cif file - set to zero\n",
      "2024-02-13 16:57:27,128 - xfab.structure - WARNING - No dispersion factors for O in cif file - set to zero\n",
      "WARNING:xfab.structure:No dispersion factors for O in cif file - set to zero\n",
      "2024-02-13 16:57:27,128 - xfab.structure - WARNING - No dispersion factors for O in cif file - set to zero\n",
      "WARNING:xfab.structure:No dispersion factors for O in cif file - set to zero\n",
      "2024-02-13 16:57:27,128 - xfab.structure - WARNING - No dispersion factors for O in cif file - set to zero\n",
      "WARNING:xfab.structure:No dispersion factors for O in cif file - set to zero\n",
      "2024-02-13 16:57:27,129 - xfab.structure - WARNING - No dispersion factors for O in cif file - set to zero\n",
      "WARNING:xfab.structure:No dispersion factors for O in cif file - set to zero\n",
      "2024-02-13 16:57:27,129 - xfab.structure - WARNING - No dispersion factors for O in cif file - set to zero\n",
      "WARNING:xfab.structure:No dispersion factors for O in cif file - set to zero\n"
     ]
    }
   ],
   "source": [
    "# Import the CIF, save the results in unit_cell\n",
    "\n",
    "cif_path = 'SiO2_mp-7000_conventional_standard.cif'\n",
    "\n",
    "mylist = build_atomlist()\n",
    "mylist.CIFread(cif_path)\n",
    "unit_cell = mylist.atomlist.cell\n",
    "cell_lattice = mylist.atomlist.sgname[0]"
   ]
  },
  {
   "cell_type": "code",
   "execution_count": 35,
   "id": "7c8234be-a3d9-4695-bdac-56a613a78753",
   "metadata": {
    "tags": []
   },
   "outputs": [],
   "source": [
    "# import calibration results from PONI\n",
    "\n",
    "poni_path = \"CeO2_20240210_1348_175mm.poni\"\n",
    "poni_results = pyFAI.load(poni_path).getImageD11()"
   ]
  },
  {
   "cell_type": "code",
   "execution_count": 36,
   "id": "e536b2ec-6047-4a0d-a342-f21bee268276",
   "metadata": {
    "tags": []
   },
   "outputs": [],
   "source": [
    "# build parameter string\n",
    "\n",
    "par_string = f\"\"\"cell__a {unit_cell[0]}\n",
    "cell__b {unit_cell[1]}\n",
    "cell__c {unit_cell[2]}\n",
    "cell_alpha {unit_cell[3]}\n",
    "cell_beta {unit_cell[4]}\n",
    "cell_gamma {unit_cell[5]}\n",
    "cell_lattice_[P,A,B,C,I,F,R] {cell_lattice}\n",
    "chi 0.0\n",
    "distance {poni_results[\"distance\"]}\n",
    "fit_tolerance 0.1\n",
    "min_bin_prob 1e-05\n",
    "no_bins 10000\n",
    "o11 {poni_results[\"o11\"]}\n",
    "o12 {poni_results[\"o12\"]}\n",
    "o21 {poni_results[\"o21\"]}\n",
    "o22 {poni_results[\"o22\"]}\n",
    "omegasign 1.0\n",
    "t_x 0\n",
    "t_y 0\n",
    "t_z 0\n",
    "tilt_x {poni_results[\"tilt_x\"]}\n",
    "tilt_y {poni_results[\"tilt_y\"]}\n",
    "tilt_z {poni_results[\"tilt_z\"]}\n",
    "wavelength {poni_results[\"wavelength\"]*10}\n",
    "wedge 0.0\n",
    "weight_hist_intensities 0\n",
    "y_center {poni_results[\"y_center\"]}\n",
    "y_size {poni_results[\"y_size\"]}\n",
    "z_center {poni_results[\"z_center\"]}\n",
    "z_size {poni_results[\"z_size\"]}\"\"\""
   ]
  },
  {
   "cell_type": "code",
   "execution_count": 37,
   "id": "f3dde877-751f-438d-9c64-eb3c0da72c77",
   "metadata": {
    "tags": []
   },
   "outputs": [],
   "source": [
    "# Save it to file\n",
    "\n",
    "par_path = \"output.par\"\n",
    "with open(par_path, \"w\") as par_file:\n",
    "    par_file.writelines(par_string)"
   ]
  },
  {
   "cell_type": "raw",
   "id": "59c34763-f1b4-4881-91cf-2c1757e5184e",
   "metadata": {},
   "source": []
  }
 ],
 "metadata": {
  "kernelspec": {
   "display_name": "Python 3 (main)",
   "language": "python",
   "name": "python3"
  },
  "language_info": {
   "codemirror_mode": {
    "name": "ipython",
    "version": 3
   },
   "file_extension": ".py",
   "mimetype": "text/x-python",
   "name": "python",
   "nbconvert_exporter": "python",
   "pygments_lexer": "ipython3",
   "version": "3.11.6"
  }
 },
 "nbformat": 4,
 "nbformat_minor": 5
}
