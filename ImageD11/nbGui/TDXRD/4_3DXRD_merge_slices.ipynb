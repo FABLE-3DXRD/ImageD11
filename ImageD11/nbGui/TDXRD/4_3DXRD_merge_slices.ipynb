{
 "cells": [
  {
   "cell_type": "markdown",
   "metadata": {},
   "source": [
    "# Jupyter notebook based on ImageD11 to process scanning 3DXRD data\n",
    "# Written by Haixing Fang, Jon Wright and James Ball\n",
    "## Date: 21/02/2024"
   ]
  },
  {
   "cell_type": "code",
   "execution_count": null,
   "metadata": {
    "tags": []
   },
   "outputs": [],
   "source": [
    "exec(open('/data/id11/nanoscope/install_ImageD11_from_git.py').read())\n",
    "PYTHONPATH = setup_ImageD11_from_git( ) # ( os.path.join( os.environ['HOME'],'Code'), 'ImageD11_git' )"
   ]
  },
  {
   "cell_type": "code",
   "execution_count": null,
   "metadata": {
    "tags": []
   },
   "outputs": [],
   "source": [
    "# import functions we need\n",
    "\n",
    "import os, glob, pprint\n",
    "import numpy as np\n",
    "import h5py\n",
    "from tqdm.notebook import tqdm\n",
    "\n",
    "import matplotlib\n",
    "%matplotlib widget\n",
    "from matplotlib import pyplot as plt\n",
    "\n",
    "# import utils\n",
    "from ImageD11.nbGui import nb_utils as utils\n",
    "\n",
    "import ImageD11.grain\n",
    "import ImageD11.indexing\n",
    "import ImageD11.columnfile\n",
    "from ImageD11.sinograms import properties, dataset\n",
    "\n",
    "from ImageD11.blobcorrector import eiger_spatial"
   ]
  },
  {
   "cell_type": "code",
   "execution_count": null,
   "metadata": {
    "tags": []
   },
   "outputs": [],
   "source": [
    "# load one of the first datasets to get the paths\n",
    "\n",
    "dset_path = '/data/visitor/ihma439/id11/20231211/PROCESSED_DATA/James/20240724/FeAu_0p5_tR/FeAu_0p5_tR_ff1/FeAu_0p5_tR_ff1_dataset.h5'\n",
    "\n",
    "# load the dataset from file\n",
    "\n",
    "ds = ImageD11.sinograms.dataset.load(dset_path)\n",
    "\n",
    "print(ds)\n",
    "print(ds.shape)\n",
    "\n",
    "rawdata_path = ds.dataroot\n",
    "processed_data_root_dir = ds.analysisroot"
   ]
  },
  {
   "cell_type": "code",
   "execution_count": null,
   "metadata": {
    "tags": []
   },
   "outputs": [],
   "source": [
    "# USER: pick a sample you want to import\n",
    "\n",
    "skips_dict = {\n",
    "    \"FeAu_0p5_tR\": []\n",
    "}\n",
    "\n",
    "dset_prefix = \"ff\"\n",
    "\n",
    "sample_list = [\"FeAu_0p5_tR\"]\n",
    "\n",
    "samples_dict = utils.find_datasets_to_process(rawdata_path, skips_dict, dset_prefix, sample_list)\n",
    "\n",
    "print(samples_dict)"
   ]
  },
  {
   "cell_type": "code",
   "execution_count": null,
   "metadata": {
    "tags": []
   },
   "outputs": [],
   "source": [
    "# load all 3DXRD datasets for this sample\n",
    "\n",
    "from collections import OrderedDict\n",
    "\n",
    "# just take first sample for now\n",
    "\n",
    "sample = sample_list[0]\n",
    "datasets = samples_dict[sample]\n",
    "ds_dict = OrderedDict()\n",
    "\n",
    "# try to sort datasets alphabetically\n",
    "\n",
    "datasets_sorted = sorted(datasets)\n",
    "\n",
    "for dataset in datasets_sorted:\n",
    "    dset_path = os.path.join(processed_data_root_dir, sample, f\"{sample}_{dataset}\", f\"{sample}_{dataset}_dataset.h5\")\n",
    "    ds = ImageD11.sinograms.dataset.load(dset_path)\n",
    "    print(f\"I have a DataSet {ds.dset} in sample {ds.sample}\")\n",
    "    ds_dict[dataset] = ds"
   ]
  },
  {
   "cell_type": "code",
   "execution_count": null,
   "metadata": {
    "tags": []
   },
   "outputs": [],
   "source": [
    "# populate z translations\n",
    "\n",
    "z_translation_motor = \"samtz\"\n",
    "\n",
    "for ds in ds_dict.values():\n",
    "    with h5py.File(ds.masterfile, 'r' ) as hin:\n",
    "        this_z_trans_value = hin[\"1.1/instrument/positioners\"][z_translation_motor][()]\n",
    "    ds.zpos = this_z_trans_value  # this is in microns for samtz"
   ]
  },
  {
   "cell_type": "code",
   "execution_count": null,
   "metadata": {
    "tags": []
   },
   "outputs": [],
   "source": [
    "# load grains for each dataset and tie them to the dataset objects\n",
    "for ds in ds_dict.values():\n",
    "    ds.grains = ds.get_grains_from_disk()"
   ]
  },
  {
   "cell_type": "code",
   "execution_count": null,
   "metadata": {
    "tags": []
   },
   "outputs": [],
   "source": [
    "# get positions within the sample (set middle slice as zero position)\n",
    "\n",
    "middle_ds = list(ds_dict.values())[len(ds_dict.values())//2]\n",
    "middle_pos = middle_ds.zpos\n",
    "\n",
    "for ds in ds_dict.values():\n",
    "    # adjust so that the first letterbox (lowest z so highest on the sample) has the highest value of zpos\n",
    "    ds.zpos_sample = middle_pos - ds.zpos\n",
    "    print(ds.zpos, ds.zpos_sample)"
   ]
  },
  {
   "cell_type": "code",
   "execution_count": null,
   "metadata": {
    "tags": []
   },
   "outputs": [],
   "source": [
    "for inc, ds in enumerate(ds_dict.values()):\n",
    "    for gid, grain in enumerate(ds.grains):\n",
    "        grain.pos_sample = grain.translation + np.array([0., 0., ds.zpos_sample * 1000])\n",
    "        grain.dataset = ds.dsname\n",
    "        grain.z_slice = inc\n",
    "        grain.gid = gid"
   ]
  },
  {
   "cell_type": "code",
   "execution_count": null,
   "metadata": {
    "tags": []
   },
   "outputs": [],
   "source": [
    "all_grains = []\n",
    "for ds in ds_dict.values():\n",
    "    all_grains.extend(ds.grains)"
   ]
  },
  {
   "cell_type": "code",
   "execution_count": null,
   "metadata": {
    "tags": []
   },
   "outputs": [],
   "source": [
    "print(all_grains[0].pos_sample, all_grains[0].translation)"
   ]
  },
  {
   "cell_type": "code",
   "execution_count": null,
   "metadata": {
    "tags": []
   },
   "outputs": [],
   "source": [
    "centre_plot = False\n",
    "\n",
    "fig = plt.figure(figsize=(12, 12))\n",
    "ax = fig.add_subplot(projection='3d')\n",
    "\n",
    "import matplotlib.cm as cm\n",
    "\n",
    "colors = cm.rainbow(np.linspace(0, 1, len(list(ds_dict.values()))))\n",
    "\n",
    "for ds in ds_dict.values():\n",
    "    xx = [grain.pos_sample[0] for grain in ds.grains]\n",
    "    yy = [grain.pos_sample[1] for grain in ds.grains]\n",
    "    zz = [grain.pos_sample[2] for grain in ds.grains]\n",
    "    # col = [len(grain.peaks_3d) for grain in ds.grains]\n",
    "    # col = [grain.z_slice for grain in ds.grains]\n",
    "    scatterplot = ax.scatter(xx, yy, zz, c=colors[ds.grains[0].z_slice], label=ds.grains[0].z_slice)\n",
    "ax.set_xlim(-200,200)\n",
    "ax.set_ylim(-200,200)\n",
    "ax.set_zlim(-100,100)\n",
    "# plt.colorbar(scatterplot)\n",
    "ax.set_title(\"Grains coloured by z slice\")\n",
    "ax.set_xlabel(\"x\")\n",
    "ax.set_ylabel(\"y\")\n",
    "ax.set_zlabel(\"z\")\n",
    "ax.legend()\n",
    "plt.show()"
   ]
  },
  {
   "cell_type": "code",
   "execution_count": null,
   "metadata": {
    "tags": []
   },
   "outputs": [],
   "source": [
    "# now we can look for duplicate grains\n",
    "# this is a very simple duplicate grain detector\n",
    "\n",
    "distance_tolerance = 25/2  # microns\n",
    "angle_tolerance = 2  # degrees\n",
    "\n",
    "def eudis(v1, v2):\n",
    "    return np.linalg.norm(v1-v2)\n",
    "\n",
    "from xfab.symmetry import Umis\n",
    "\n",
    "def misorien_deg(U1, U2):\n",
    "    return np.min(Umis(U1, U2, 7), axis=0)[1]  # 7 == cubic\n",
    "\n",
    "matches = []\n",
    "\n",
    "for grain_a in all_grains:\n",
    "    for grain_b in all_grains:\n",
    "        if grain_a.z_slice == grain_b.z_slice:\n",
    "            # grains are in the same slice, skip\n",
    "            continue\n",
    "        translation = eudis(grain_a.pos_sample, grain_b.pos_sample)\n",
    "        if translation < distance_tolerance:\n",
    "            # might have a match in translation, now check misorientation\n",
    "            misorien = misorien_deg(grain_a.U, grain_b.U)\n",
    "            if misorien < angle_tolerance:\n",
    "                print(f\"Found match! Grain A: {grain_a.z_slice}:{grain_a.gid} | Grain B: {grain_b.z_slice}:{grain_b.gid} | Distance: {translation:.0f} um | Angle: {misorien:.3f} deg\")\n",
    "                matches.append((grain_a, grain_b))"
   ]
  },
  {
   "cell_type": "code",
   "execution_count": null,
   "metadata": {},
   "outputs": [],
   "source": [
    "# how do we determine good choices of parameters?\n",
    "# one way is to follow Louca and try a range of parameters and plot the results"
   ]
  },
  {
   "cell_type": "code",
   "execution_count": null,
   "metadata": {
    "tags": []
   },
   "outputs": [],
   "source": [
    "def get_n_matches(dist_tol, ang_tol):\n",
    "    n_matches = 0\n",
    "    for grain_a in all_grains:\n",
    "        for grain_b in all_grains:\n",
    "            if grain_a.z_slice == grain_b.z_slice:\n",
    "                # grains are in the same slice, skip\n",
    "                continue\n",
    "            translation = eudis(grain_a.pos_sample, grain_b.pos_sample)\n",
    "            if translation < dist_tol:\n",
    "                # might have a match in translation, now check misorientation\n",
    "                misorien = misorien_deg(grain_a.U, grain_b.U)\n",
    "                if misorien < ang_tol:\n",
    "                    n_matches += 1\n",
    "    return n_matches"
   ]
  },
  {
   "cell_type": "code",
   "execution_count": null,
   "metadata": {
    "tags": []
   },
   "outputs": [],
   "source": [
    "dist_tols = [1, 2, 5, 10, 15, 20, 25]\n",
    "ang_tols = [1, 2, 3, 4, 5]\n",
    "\n",
    "tol_check_results = {}\n",
    "\n",
    "print(\"dist_tol | ang_tol | n_matches\")\n",
    "\n",
    "for dist_tol in dist_tols:\n",
    "    for ang_tol in ang_tols:\n",
    "\n",
    "        n_matches = get_n_matches(dist_tol, ang_tol)\n",
    "        tol_check_results[dist_tol, ang_tol] = n_matches\n",
    "        print(f\"{dist_tol} | {ang_tol} | {n_matches}\")"
   ]
  },
  {
   "cell_type": "code",
   "execution_count": null,
   "metadata": {
    "tags": []
   },
   "outputs": [],
   "source": [
    "fig, ax = plt.subplots()\n",
    "\n",
    "for ang_tol in ang_tols:\n",
    "    n_matches_at_this_angle = []\n",
    "    for dist_tol in dist_tols:\n",
    "        n_matches_at_this_distance = tol_check_results[dist_tol, ang_tol]\n",
    "        n_matches_at_this_angle.append(n_matches_at_this_distance)\n",
    "    \n",
    "    ax.plot(dist_tols, n_matches_at_this_angle, label=ang_tol)\n",
    "    \n",
    "ax.legend()\n",
    "\n",
    "ax.set_xlabel(\"Distance tolerance (um)\")\n",
    "ax.set_ylabel(\"Number of merges\")\n",
    "ax.set_title(\"Legend is angle tolerance (deg)\")\n",
    "\n",
    "plt.show()"
   ]
  },
  {
   "cell_type": "code",
   "execution_count": null,
   "metadata": {
    "tags": []
   },
   "outputs": [],
   "source": [
    "# please note that this is a very simple duplicate grain detector\n",
    "# it doesn't consider things like whether grains can match to multiple other grains\n",
    "# or whether there could be duplicate grains within a single slice\n",
    "# we're also not currently considering how to merge grains together\n",
    "# this involves averaging the positions (easy) and the UBIs (not so easy)\n",
    "# hopefully this notebook gives you a starting point though!"
   ]
  }
 ],
 "metadata": {
  "kernelspec": {
   "display_name": "Python 3 (main)",
   "language": "python",
   "name": "python3"
  },
  "language_info": {
   "codemirror_mode": {
    "name": "ipython",
    "version": 3
   },
   "file_extension": ".py",
   "mimetype": "text/x-python",
   "name": "python",
   "nbconvert_exporter": "python",
   "pygments_lexer": "ipython3",
   "version": "3.11.6"
  }
 },
 "nbformat": 4,
 "nbformat_minor": 4
}
