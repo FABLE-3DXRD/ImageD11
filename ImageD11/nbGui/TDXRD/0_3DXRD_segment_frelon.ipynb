{
 "cells": [
  {
   "cell_type": "markdown",
   "id": "8deabe5b",
   "metadata": {},
   "source": [
    "# Jupyter notebook based on ImageD11 to process 3DXRD data\n",
    "# Written by Haixing Fang, Jon Wright and James Ball\n",
    "## Date: 10/09/2024"
   ]
  },
  {
   "cell_type": "markdown",
   "id": "6835a47c-a552-4d1d-b605-1867dd631b2a",
   "metadata": {},
   "source": [
    "This notebook will help you to extract the locations of diffraction peaks on your detector images.\n",
    "\n",
    "It will also merge together your 2D spots (on a stack of detector images with different omega angles).\n",
    "\n",
    "We merge across omega because we often see the same spot twice on multiple detector images.\n",
    "\n",
    "The results are saved to the PROCESSED_DATA folder of the experiment, inside the sample and dataset folders that you select within this notebook\n",
    "\n",
    "## NOTE: These notebooks are under active development\n",
    "They require the latest version of ImageD11 from Git to run.\n",
    "\n",
    "If you don't have this set up yet, you can run the below cell.\n",
    "\n",
    "It will automatically download and install ImageD11 to your home directory"
   ]
  },
  {
   "cell_type": "code",
   "execution_count": null,
   "id": "2402147c-5513-4907-8ca9-76e3e252df0c",
   "metadata": {
    "tags": []
   },
   "outputs": [],
   "source": [
    "exec(open('/data/id11/nanoscope/install_ImageD11_from_git.py').read())\n",
    "PYTHONPATH = setup_ImageD11_from_git( ) # ( os.path.join( os.environ['HOME'],'Code'), 'ImageD11_git' )"
   ]
  },
  {
   "cell_type": "code",
   "execution_count": null,
   "id": "9b5c1db6-5a32-4294-abef-cfc2150d24de",
   "metadata": {
    "tags": []
   },
   "outputs": [],
   "source": [
    "# import functions we need\n",
    "\n",
    "import glob, pprint\n",
    "\n",
    "import ImageD11.sinograms.dataset\n",
    "import ImageD11.sinograms.lima_segmenter\n",
    "import ImageD11.sinograms.assemble_label\n",
    "import ImageD11.sinograms.properties\n",
    "\n",
    "import numpy as np\n",
    "import fabio\n",
    "import matplotlib.pyplot as plt\n",
    "from matplotlib.colors import LogNorm\n",
    "from skimage import filters, measure, morphology\n",
    "import ipywidgets as widgets\n",
    "import h5py\n",
    "from IPython.display import display\n",
    "%matplotlib widget\n",
    "\n",
    "from ImageD11.nbGui import nb_utils as utils\n",
    "from ImageD11.nbGui import segmenter_gui\n",
    "\n",
    "from ImageD11.frelon_peaksearch import worker, process, guess_bg\n",
    "\n",
    "\n",
    "# Experts : update these files for your detector if you need to\n",
    "\n",
    "# give dx/dy as tuple instead of spline\n",
    "# Since 2024: there is no good spline for a detector at ID11.\n",
    "# splinefile = ('/data/id11/3dxrd/inhouse/Frelon36/frelon36_spline_20240604_dx.edf','/data/id11/3dxrd/inhouse/Frelon36/frelon36_spline_20240604_dy.edf')\n",
    "splinefile = ('/data/id11/3dxrd/inhouse/Frelon36/frelon36_spline_20240604_ftm1x1_dx.edf','/data/id11/3dxrd/inhouse/Frelon36/frelon36_spline_20240604_ftm1x1_dy.edf')\n",
    "bgfile = None     #  'bg.edf'\n",
    "maskfile = '/data/visitor/xa8/id11/20240917/PROCESSED_DATA/setup/ftm_mask.edf' # '/data/id11/inhouse1/ewoks/detectors/files/Frelon2k_C36/mask.edf'\n",
    "\n",
    "detector = \"frelon6\"  # fixme - guess this from masterfile + scan\n",
    "omegamotor = \"frot\"\n",
    "dtymotor = \"diffy\"\n",
    "\n",
    "\n",
    "#Define the initial parameters\n",
    "options = {\n",
    "    \"bgfile\":bgfile,\n",
    "    \"maskfile\":maskfile,\n",
    "    \"threshold\":500,\n",
    "    \"smoothsigma\":1.0,\n",
    "    \"bgc\":0.9,\n",
    "    \"minpx\":3,\n",
    "    \"m_offset_thresh\":100,\n",
    "    \"m_ratio_thresh\":150,\n",
    "}"
   ]
  },
  {
   "cell_type": "code",
   "execution_count": null,
   "id": "5560db3e-720d-440e-954d-6dc313f6c460",
   "metadata": {
    "tags": []
   },
   "outputs": [],
   "source": [
    "# Set up the file paths. Edit this if you are not at ESRF or not using the latest data policy.\n",
    "dataroot, analysisroot = segmenter_gui.guess_ESRF_paths() \n",
    "\n",
    "if len(dataroot)==0:\n",
    "    print(\"Please fix in the dataroot and analysisroot folder names above!!\")\n",
    "print('dataroot =',repr(dataroot))\n",
    "print('analysisroot =',repr(analysisroot))"
   ]
  },
  {
   "cell_type": "code",
   "execution_count": null,
   "id": "de77981e-c3bf-4a29-8944-95286831ac34",
   "metadata": {
    "tags": []
   },
   "outputs": [],
   "source": [
    "# List the samples available:\n",
    "segmenter_gui.printsamples(dataroot)"
   ]
  },
  {
   "cell_type": "code",
   "execution_count": null,
   "id": "187950bd-18b5-4bd4-80da-2a0c7a984b11",
   "metadata": {
    "tags": []
   },
   "outputs": [],
   "source": [
    "# USER: Decide which sample\n",
    "sample = 'S01_Pure_Al_After_PDF'"
   ]
  },
  {
   "cell_type": "code",
   "execution_count": null,
   "id": "2b2a72fa-ff6d-4e45-89b7-fa64adb62214",
   "metadata": {
    "tags": []
   },
   "outputs": [],
   "source": [
    "# List the datasets for that sample:\n",
    "segmenter_gui.printdatasets( dataroot, sample )"
   ]
  },
  {
   "cell_type": "code",
   "execution_count": null,
   "id": "90e2aeb5-8893-4f0f-bf4f-de2c541a83df",
   "metadata": {
    "tags": []
   },
   "outputs": [],
   "source": [
    "# USER: Decide which dataset\n",
    "dataset = \"3dxrd_rt_04\""
   ]
  },
  {
   "cell_type": "code",
   "execution_count": null,
   "id": "ad077c4b-39cc-4b90-9637-33c32f12e364",
   "metadata": {
    "tags": []
   },
   "outputs": [],
   "source": [
    "# create ImageD11 dataset object\n",
    "\n",
    "ds = ImageD11.sinograms.dataset.DataSet(dataroot=dataroot,\n",
    "                                        analysisroot=analysisroot,\n",
    "                                        sample=sample,\n",
    "                                        dset=dataset,\n",
    "                                        detector=detector,\n",
    "                                        omegamotor=omegamotor,\n",
    "                                        dtymotor=dtymotor)\n",
    "ds.import_all(scans=[\"1.1\"])\n",
    "if len(splinefile) == 1:\n",
    "    ds.splinefile = splinefile\n",
    "else:\n",
    "    ds.e2dxfile, ds.e2dyfile = splinefile\n",
    "ds.maskfile = maskfile\n",
    "ds.bgfile = bgfile\n",
    "ds.save()"
   ]
  },
  {
   "cell_type": "code",
   "execution_count": null,
   "id": "8822b96c-a33b-4bf2-9d95-e42d6d90e55b",
   "metadata": {
    "tags": []
   },
   "outputs": [],
   "source": [
    "bg = guess_bg( ds )\n",
    "plt.imshow(bg)\n",
    "fabio.edfimage.edfimage(bg).save('bg.edf')\n",
    "plt.colorbar()"
   ]
  },
  {
   "cell_type": "code",
   "execution_count": null,
   "id": "051901fc-e8a6-455e-9418-17823c6b222e",
   "metadata": {
    "tags": []
   },
   "outputs": [],
   "source": [
    "%matplotlib widget"
   ]
  },
  {
   "cell_type": "code",
   "execution_count": null,
   "id": "68b22a6a-9325-40f4-af9d-945c0187ffae",
   "metadata": {
    "tags": []
   },
   "outputs": [],
   "source": [
    "ui = segmenter_gui.FrelonSegmenterGui(ds, worker, process, **options)"
   ]
  },
  {
   "cell_type": "code",
   "execution_count": null,
   "id": "eee00548-3a48-44d0-b4ad-e71b71de95ca",
   "metadata": {
    "tags": []
   },
   "outputs": [],
   "source": [
    "options = ui.getopts()\n",
    "print(options)"
   ]
  },
  {
   "cell_type": "code",
   "execution_count": null,
   "id": "5a1795a9-16eb-430d-a246-a26b12c35e77",
   "metadata": {
    "tags": []
   },
   "outputs": [],
   "source": [
    "# now we run the segmenter on all our data\n",
    "\n",
    "cf_2d, cf_3d = process(ds, options)"
   ]
  },
  {
   "cell_type": "code",
   "execution_count": null,
   "id": "0fa07e53-93f4-4ce9-b0e5-1da5e6a5d511",
   "metadata": {
    "tags": []
   },
   "outputs": [],
   "source": [
    "# display some peaks\n",
    "f,a=plt.subplots(1,2,figsize=(12,6))\n",
    "a[0].plot(cf_3d.f_raw,cf_3d.s_raw,'.',ms=1)\n",
    "a[0].set(xlabel='fast index', ylabel='slow index',aspect='equal', title='peaks on detector')\n",
    "a[1].plot(cf_3d.omega,cf_3d.sum_intensity,'.',ms=1)\n",
    "a[1].set(xlabel='omega',ylabel='sum intensity',yscale='log',title='peaks vs omega');"
   ]
  },
  {
   "cell_type": "code",
   "execution_count": null,
   "id": "c71ebf96-3bbe-46a2-aa27-30a7a0a2c9f2",
   "metadata": {
    "tags": []
   },
   "outputs": [],
   "source": [
    "# frequent problem here: we do not have parameters at this point in the project. This comes later.\n",
    "# parfile = os.path.join(ds.analysisroot, 'pars_tdxrd.json')\n",
    "parfile = os.path.join(ds.analysisroot, 'Al.par')\n",
    "ds.parfile = parfile"
   ]
  },
  {
   "cell_type": "code",
   "execution_count": null,
   "id": "7c6fd4f9-d67f-4b00-bd0c-7af62fd542e3",
   "metadata": {
    "tags": []
   },
   "outputs": [],
   "source": [
    "ds.update_colfile_pars(cf_2d)  # phase is not needed as unitcell is not used in here\n",
    "ds.update_colfile_pars(cf_3d)"
   ]
  },
  {
   "cell_type": "code",
   "execution_count": null,
   "id": "197e8418-030b-4901-8e8f-9f8b1df7c017",
   "metadata": {
    "tags": []
   },
   "outputs": [],
   "source": [
    "ImageD11.columnfile.colfile_to_hdf(cf_2d, ds.col2dfile)\n",
    "ImageD11.columnfile.colfile_to_hdf(cf_3d, ds.col3dfile)"
   ]
  },
  {
   "cell_type": "code",
   "execution_count": null,
   "id": "1354aa5d-8924-43cf-b163-21bdb18e860e",
   "metadata": {
    "tags": []
   },
   "outputs": [],
   "source": [
    "ds.col2dfile"
   ]
  },
  {
   "cell_type": "code",
   "execution_count": null,
   "id": "7085183c-1991-49b3-af09-abe119542166",
   "metadata": {
    "tags": []
   },
   "outputs": [],
   "source": [
    "ds.save()"
   ]
  },
  {
   "cell_type": "code",
   "execution_count": null,
   "id": "148fb053-420b-4534-ba48-9e6a67e7a746",
   "metadata": {},
   "outputs": [],
   "source": [
    "# change to 0 to allow all cells to be run automatically\n",
    "if 1:\n",
    "    raise ValueError(\"Hello!\")"
   ]
  },
  {
   "cell_type": "code",
   "execution_count": null,
   "id": "ac6a298f-1405-4d90-b677-7a29c04de67e",
   "metadata": {},
   "outputs": [],
   "source": [
    "# Now that weparfile happy with our indexing parameters, we can run the below cell to do this in bulk for many samples/datasets\n",
    "# by default this will do all samples in sample_list, all datasets with a prefix of dset_prefix\n",
    "# you can add samples and datasets to skip in skips_dict\n",
    "\n",
    "skips_dict = {\n",
    "    \"FeAu_0p5_tR\": []\n",
    "}\n",
    "\n",
    "dset_prefix = \"ff\"\n",
    "\n",
    "sample_list = [\"FeAu_0p5_tR\"]\n",
    "    \n",
    "samples_dict = utils.find_datasets_to_process(ds.dataroot, skips_dict, dset_prefix, sample_list)\n",
    "    \n",
    "# manual override:\n",
    "# samples_dict = {\"FeAu_0p5_tR\": [\"ff1\", \"ff2\"]}\n",
    "\n",
    "for sample, datasets in samples_dict.items():\n",
    "    for dataset in datasets:\n",
    "        print(f\"Processing dataset {dataset} in sample {sample}\")\n",
    "        print(\"Importing DataSet object\")\n",
    "        ds = ImageD11.sinograms.dataset.DataSet(dataroot=ds.dataroot,\n",
    "                                            analysisroot=ds.analysisroot,\n",
    "                                            sample=sample,\n",
    "                                            dset=dataset,\n",
    "                                            detector=detector,\n",
    "                                            omegamotor=omegamotor,\n",
    "                                            dtymotor=dtymotor)\n",
    "        \n",
    "        if os.path.exists(ds.col2dfile):\n",
    "            print(f\"Found existing cf_2d for {dataset} in {sample}, skipping\")\n",
    "            continue\n",
    "        \n",
    "        ds.import_all(scans=[\"1.1\"])\n",
    "        print(f\"I have a DataSet {ds.dset} in sample {ds.sample}\")\n",
    "        if len(splinefile) == 1:\n",
    "            ds.splinefile = splinefile\n",
    "        else:\n",
    "            ds.e2dxfile, ds.e2dyfile = splinefile\n",
    "        \n",
    "        ds.splinefile = splinefile\n",
    "        ds.maskfile = maskfile\n",
    "        ds.bgfile = bgfile\n",
    "        ds.parfile = parfile\n",
    "        ds.save()\n",
    "        \n",
    "        print(\"Peaksearching\")\n",
    "        cf_2d, cf_3d = process(ds, options)\n",
    "        \n",
    "        ds.update_colfile_pars( cf_2d )\n",
    "        ds.update_colfile_pars( cf_3d )\n",
    "\n",
    "        print(\"Saving peaks to file\")\n",
    "        ImageD11.columnfile.colfile_to_hdf(cf_2d, ds.col2dfile)\n",
    "        ImageD11.columnfile.colfile_to_hdf(cf_3d, ds.col3dfile)\n",
    "        \n",
    "        ds.save()\n",
    "print('Done!')"
   ]
  },
  {
   "cell_type": "code",
   "execution_count": null,
   "id": "ab892957-5ce7-4f04-a01c-c04cc9a2715c",
   "metadata": {},
   "outputs": [],
   "source": []
  }
 ],
 "metadata": {
  "kernelspec": {
   "display_name": "Python 3 (main)",
   "language": "python",
   "name": "python3"
  },
  "language_info": {
   "codemirror_mode": {
    "name": "ipython",
    "version": 3
   },
   "file_extension": ".py",
   "mimetype": "text/x-python",
   "name": "python",
   "nbconvert_exporter": "python",
   "pygments_lexer": "ipython3",
   "version": "3.11.6"
  }
 },
 "nbformat": 4,
 "nbformat_minor": 5
}
