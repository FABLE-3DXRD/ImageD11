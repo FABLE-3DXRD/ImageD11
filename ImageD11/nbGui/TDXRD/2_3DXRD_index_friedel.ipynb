{
 "cells": [
  {
   "cell_type": "markdown",
   "metadata": {},
   "source": [
    "# Jupyter notebook based on ImageD11 to process 3DXRD data\n",
    "# Written by Haixing Fang, Jon Wright and James Ball\n",
    "## Date: 27/02/2024"
   ]
  },
  {
   "cell_type": "markdown",
   "metadata": {},
   "source": [
    "Now we have good experimental parameters, we can index more grains!"
   ]
  },
  {
   "cell_type": "code",
   "execution_count": null,
   "metadata": {
    "tags": []
   },
   "outputs": [],
   "source": [
    "exec(open('/data/id11/nanoscope/install_ImageD11_from_git.py').read())\n",
    "PYTHONPATH = setup_ImageD11_from_git( ) # ( os.path.join( os.environ['HOME'],'Code'), 'ImageD11_git' )"
   ]
  },
  {
   "cell_type": "code",
   "execution_count": null,
   "metadata": {
    "tags": []
   },
   "outputs": [],
   "source": [
    "# import functions we need\n",
    "\n",
    "import os, glob, pprint\n",
    "import numpy as np\n",
    "import h5py\n",
    "from tqdm.notebook import tqdm\n",
    "\n",
    "import matplotlib\n",
    "%matplotlib widget\n",
    "from matplotlib import pyplot as plt\n",
    "import scipy.spatial\n",
    "\n",
    "# import utils\n",
    "from ImageD11.nbGui import nb_utils as utils\n",
    "\n",
    "import ImageD11.grain\n",
    "import ImageD11.indexing\n",
    "import ImageD11.columnfile\n",
    "import ImageD11.refinegrains\n",
    "import ImageD11.grid_index_parallel\n",
    "from ImageD11.sinograms import properties, dataset\n",
    "\n",
    "from ImageD11.blobcorrector import eiger_spatial\n",
    "from ImageD11.peakselect import select_ring_peaks_by_intensity"
   ]
  },
  {
   "cell_type": "code",
   "execution_count": null,
   "metadata": {
    "tags": []
   },
   "outputs": [],
   "source": [
    "# desination of H5 files\n",
    "\n",
    "dset_path = '/data/visitor/ihma439/id11/20231211/PROCESSED_DATA/James/20240909/FeAu_0p5_tR/FeAu_0p5_tR_ff1/FeAu_0p5_tR_ff1_dataset.h5'"
   ]
  },
  {
   "cell_type": "code",
   "execution_count": null,
   "metadata": {
    "tags": []
   },
   "outputs": [],
   "source": [
    "# load the dataset from file\n",
    "\n",
    "ds = ImageD11.sinograms.dataset.load(dset_path)\n",
    "\n",
    "sample = ds.sample\n",
    "dataset = ds.dset\n",
    "print(ds)\n",
    "print(ds.shape)"
   ]
  },
  {
   "cell_type": "code",
   "execution_count": null,
   "metadata": {
    "tags": []
   },
   "outputs": [],
   "source": [
    "ds.phases = ds.get_phases_from_disk()\n",
    "ds.phases.unitcells\n",
    "\n",
    "# now let's select a phase to index from our parameters json\n",
    "phase_str = 'Fe'\n",
    "\n",
    "ucell = ds.phases.unitcells[phase_str]\n",
    "\n",
    "print(ucell.lattice_parameters, ucell.spacegroup)"
   ]
  },
  {
   "cell_type": "code",
   "execution_count": null,
   "metadata": {
    "tags": []
   },
   "outputs": [],
   "source": [
    "# load 3d columnfile from disk\n",
    "\n",
    "cf_3d = ds.get_cf_3d_from_disk()\n",
    "ds.update_colfile_pars(cf_3d, phase_name=phase_str) \n",
    "\n",
    "cf_3d_path = f'{sample}_{dataset}_3d_peaks.flt'\n",
    "cf_3d.writefile(cf_3d_path)"
   ]
  },
  {
   "cell_type": "code",
   "execution_count": null,
   "metadata": {
    "tags": []
   },
   "outputs": [],
   "source": [
    "# plot the 3D peaks (fewer of them) as a cake (two-theta vs eta)\n",
    "# if the parameters in the par file are good, these should look like straight lines\n",
    "\n",
    "ucell.makerings(cf_3d.ds.max())\n",
    "\n",
    "fig, ax = plt.subplots(figsize=(16,9), layout='constrained')\n",
    "\n",
    "ax.scatter(cf_3d.ds, cf_3d.eta, s=1)\n",
    "ax.plot( ucell.ringds, [0,]*len(ucell.ringds), '|', ms=90, c=\"red\")\n",
    "\n",
    "ax.set_xlabel(\"D-star\")\n",
    "ax.set_ylabel(\"eta\")\n",
    "\n",
    "plt.show()"
   ]
  },
  {
   "cell_type": "markdown",
   "metadata": {},
   "source": [
    "# First step: Visually inspect if we can easily see Friedel pairs\n",
    "# Not worth doing if we can't see them!"
   ]
  },
  {
   "cell_type": "code",
   "execution_count": null,
   "metadata": {
    "tags": []
   },
   "outputs": [],
   "source": [
    "# here we are filtering our peaks (cf_3d) to select only the strong peaks from the first ring\n",
    "\n",
    "cf_strong_frac = 0.9837\n",
    "cf_strong_dsmax = 0.6\n",
    "cf_strong_dstol = 0.01\n",
    "\n",
    "cf_strong = select_ring_peaks_by_intensity(cf_3d, frac=cf_strong_frac, dsmax=cf_strong_dsmax, doplot=0.8, dstol=cf_strong_dstol)\n",
    "print(f\"Got {cf_strong.nrows} strong peaks for indexing\")"
   ]
  },
  {
   "cell_type": "code",
   "execution_count": null,
   "metadata": {
    "tags": []
   },
   "outputs": [],
   "source": [
    "fig, ax = plt.subplots(figsize=(16, 9), constrained_layout=True)\n",
    "\n",
    "ax.plot( ucell.ringds, [1e4,]*len(ucell.ringds), '|', ms=90, c=\"red\")\n",
    "\n",
    "ax.plot(cf_3d.ds, cf_3d.sum_intensity,',', label='cf_3d')\n",
    "ax.plot(cf_strong.ds, cf_strong.sum_intensity,',', label='first ring')\n",
    "ax.semilogy()\n",
    "\n",
    "ax.set_xlabel(\"Dstar\")\n",
    "ax.set_ylabel(\"Intensity\")\n",
    "ax.legend()\n",
    "\n",
    "plt.show()"
   ]
  },
  {
   "cell_type": "code",
   "execution_count": null,
   "metadata": {
    "tags": []
   },
   "outputs": [],
   "source": [
    "lf = ImageD11.refinegrains.lf(cf_strong.tth, cf_strong.eta)\n",
    "\n",
    "f = plt.figure(figsize=(15,5))\n",
    "ax = f.add_subplot()\n",
    "\n",
    "# select peaks between 3 and 5 degrees in omega\n",
    "om1 = (cf_strong.omega < 5) & (cf_strong.omega > 3)\n",
    "\n",
    "# plot omega against intensity for those peaks, coloured by eta (azimuthal position on the ring)\n",
    "ax.scatter(cf_strong.omega[om1], np.log10(cf_strong.sum_intensity)[om1], c=cf_strong.eta[om1], marker='o')\n",
    "\n",
    "# the friedel pair of these peaks should be 180 degrees away\n",
    "etapair = 180 - cf_strong.eta\n",
    "\n",
    "# modulate\n",
    "etapair = np.where(etapair > 180, etapair - 360, etapair)\n",
    "\n",
    "# select peaks for the friedel pairs between 183 and 185 degrees\n",
    "om2 = (cf_strong.omega < 185) & (cf_strong.omega > 183)\n",
    "\n",
    "# plot omega against intensity for the friedel pairs as crosses\n",
    "ax.scatter(cf_strong.omega[om2] - 180, np.log10(cf_strong.sum_intensity)[om2], c=etapair[om2], marker='+')\n",
    "\n",
    "# for valid friedel pairs, we should see 'o' and '+' markers close together in omega and intensity, with similar colours (eta)\n",
    "plt.show()"
   ]
  },
  {
   "cell_type": "code",
   "execution_count": null,
   "metadata": {
    "tags": []
   },
   "outputs": [],
   "source": [
    "def calc_tth_eta( c, pi, pj ):\n",
    "    dX = c.xl[pi] + c.xl[pj]\n",
    "    dY = c.yl[pi] + c.yl[pj]\n",
    "    dZ = c.zl[pi] - c.zl[pj]\n",
    "    r = np.sqrt(dY*dY + dZ*dZ)\n",
    "    tth = np.degrees( np.arctan2( r, dX )  )\n",
    "    eta = np.degrees(np.arctan2( -dY, dZ ))\n",
    "    return tth, eta\n",
    "\n",
    "def find_friedel_pairs(cf_in, doplot=False):\n",
    "    womega = 1.5\n",
    "    weta = 0.2\n",
    "    wtth = 1.5\n",
    "    wI = 0.5\n",
    "    t1 = scipy.spatial.cKDTree( np.transpose( [ \n",
    "                                womega*(cf_in.omega%360),\n",
    "                                weta*(cf_in.eta%360),\n",
    "                                wtth*cf_in.tth,\n",
    "                                wI*np.log10(cf_in.sum_intensity) ] ))\n",
    "\n",
    "    t2 = scipy.spatial.cKDTree( np.transpose([ \n",
    "                                 womega*((cf_in.omega+180)%360),\n",
    "                                 weta*((180-cf_in.eta)%360),\n",
    "                                 wtth* cf_in.tth,\n",
    "                                 wI*np.log10(cf_in.sum_intensity) ] ))\n",
    "    \n",
    "    coo = t1.sparse_distance_matrix( t2, max_distance=1, output_type='coo_matrix' ) # 1 degree eta might be tight?\n",
    "    \n",
    "    inds = np.arange(cf_in.nrows)\n",
    "    p1 = inds[coo.row]\n",
    "    p2 = inds[coo.col]\n",
    "    \n",
    "    tth, eta = calc_tth_eta( cf_in, p1, p2 )\n",
    "    s1 = cf_3d.sum_intensity[p1]\n",
    "    s2 = cf_3d.sum_intensity[p2]\n",
    "    \n",
    "    dstar = 2*np.sin(np.radians(tth)/2)/cf_in.parameters.get('wavelength')\n",
    "    \n",
    "    if doplot:\n",
    "        f,a = plt.subplots(2,1,figsize=(20,6))\n",
    "        a[0].hist2d(dstar,eta,bins=(2000,360), norm='log', weights=s1+s2)\n",
    "        a[0].plot(ucell.ringds, np.zeros_like(ucell.ringds),\"|r\",lw=1,ms=90)\n",
    "        a[0].set(ylabel='eta/deg')\n",
    "        a[1].hist2d(dstar,coo.data,\n",
    "        #            np.log(s1+s2),\n",
    "                    bins=(1000,128), norm='log');\n",
    "        a[1].plot( ucell.ringds, np.full_like(ucell.ringds,4),\"|r\",lw=1,ms=20)\n",
    "        a[1].set(xlabel='dstar', ylabel='distance for search')\n",
    "        plt.show()\n",
    "    \n",
    "    if doplot:\n",
    "        f,a = plt.subplots(t1.data.shape[1],1,figsize=(20,6))\n",
    "        for i in range(t1.data.shape[1]):\n",
    "            a[i].hist2d(dstar, t1.data[coo.row,i] - t2.data[coo.col,i], bins=(1000,128), norm='log')\n",
    "        \n",
    "        plt.show()\n",
    "        \n",
    "    m = np.zeros_like(p1, dtype=bool)\n",
    "    for d in ucell.ringds:\n",
    "        m |= abs(dstar - d)<0.002\n",
    "        \n",
    "    c1 = cf_in.copyrows( p1[m] )\n",
    "    c2 = cf_in.copyrows( p2[m] )\n",
    "    \n",
    "    c1.tth[:] = tth[m]\n",
    "    c2.tth[:] = tth[m]\n",
    "    c1.ds[:] = dstar[m]\n",
    "    c2.ds[:] = dstar[m]\n",
    "    \n",
    "    if doplot:\n",
    "        fig, ax = plt.subplots()\n",
    "        ax.plot(c1.eta%360, eta[m]%360,',')\n",
    "        plt.show()\n",
    "        \n",
    "    c1.eta[:] = eta[m]\n",
    "    e2 = 180 - eta[m]\n",
    "    c2.eta[:] = np.where( e2 > 180, e2-360, e2)\n",
    "    \n",
    "    cpair = ImageD11.columnfile.colfile_from_dict({\n",
    "        t: np.concatenate( (c1[t], c2[t]) ) for t in c1.titles } )\n",
    "    cpair.parameters = cf_in.parameters\n",
    "    \n",
    "    if doplot:\n",
    "        plt.figure()\n",
    "        plt.plot(c1.ds, c1.eta, ',')\n",
    "        plt.plot(c2.ds, c2.eta, ',')\n",
    "        plt.plot(cpair.ds, cpair.eta, ',')\n",
    "        plt.show()\n",
    "    \n",
    "    cpair.gx[:],cpair.gy[:],cpair.gz[:] = ImageD11.transform.compute_g_vectors( cpair.tth, cpair.eta, cpair.omega, cpair.parameters.get('wavelength') )\n",
    "    \n",
    "    if doplot:\n",
    "        plt.figure()\n",
    "        plt.plot(cpair.ds, cpair.sum_intensity*np.exp(5*cpair.ds**2),',')\n",
    "        plt.semilogy()\n",
    "        plt.show()\n",
    "        \n",
    "    return cpair"
   ]
  },
  {
   "cell_type": "code",
   "execution_count": null,
   "metadata": {
    "tags": []
   },
   "outputs": [],
   "source": [
    "cf_friedel_pairs = find_friedel_pairs(cf_3d, doplot=False)"
   ]
  },
  {
   "cell_type": "code",
   "execution_count": null,
   "metadata": {
    "tags": []
   },
   "outputs": [],
   "source": [
    "# here we are filtering our peaks (cf_3d) to select only the strong peaks from the first ring\n",
    "\n",
    "cf_friedel_pairs_strong_frac = 0.9837\n",
    "cf_friedel_pairs_strong_dsmax = cf_friedel_pairs.ds.max()\n",
    "cf_friedel_pairs_strong_dstol = 0.01\n",
    "\n",
    "cf_friedel_pairs_strong = select_ring_peaks_by_intensity(cf_friedel_pairs, frac=cf_friedel_pairs_strong_frac, dsmax=cf_friedel_pairs_strong_dsmax, doplot=0.8, dstol=cf_friedel_pairs_strong_dstol)\n",
    "print(f\"Got {cf_friedel_pairs_strong.nrows} strong peaks for indexing\")\n",
    "# cf_strong_path = f'{sample}_{dataset}_3d_peaks_strong.flt'\n",
    "# cf_strong.writefile(cf_strong_path)"
   ]
  },
  {
   "cell_type": "code",
   "execution_count": null,
   "metadata": {
    "tags": []
   },
   "outputs": [],
   "source": [
    "# specify our ImageD11 indexer with these peaks\n",
    "\n",
    "indexer = ImageD11.indexing.indexer_from_colfile(cf_friedel_pairs_strong)\n",
    "\n",
    "print(f\"Indexing {cf_friedel_pairs_strong.nrows} peaks\")\n",
    "\n",
    "# USER: set a tolerance in d-space (for assigning peaks to powder rings)\n",
    "\n",
    "indexer_ds_tol = 0.05\n",
    "indexer.ds_tol = indexer_ds_tol\n",
    "\n",
    "# change the log level so we can see what the ring assigments look like\n",
    "\n",
    "ImageD11.indexing.loglevel = 1\n",
    "\n",
    "# assign peaks to powder rings\n",
    "\n",
    "indexer.assigntorings()\n",
    "\n",
    "# change log level back again\n",
    "\n",
    "ImageD11.indexing.loglevel = 3"
   ]
  },
  {
   "cell_type": "code",
   "execution_count": null,
   "metadata": {
    "tags": []
   },
   "outputs": [],
   "source": [
    "# let's plot the assigned peaks\n",
    "\n",
    "fig, ax = plt.subplots()\n",
    "\n",
    "# indexer.ra is the ring assignments\n",
    "\n",
    "ax.scatter(cf_friedel_pairs_strong.ds, cf_friedel_pairs_strong.eta, c=indexer.ra, cmap='tab20', s=1)\n",
    "ax.plot( ucell.ringds, [0,]*len(ucell.ringds), '|', ms=90, c=\"red\")\n",
    "ax.set_xlabel(\"d-star\")\n",
    "ax.set_ylabel(\"eta\")\n",
    "ax.set_xlim(cf_friedel_pairs_strong.ds.min()-0.05, cf_friedel_pairs_strong.ds.max()+0.05)\n",
    "\n",
    "plt.show()"
   ]
  },
  {
   "cell_type": "code",
   "execution_count": null,
   "metadata": {
    "tags": []
   },
   "outputs": [],
   "source": [
    "# now we are indexing!\n",
    "# we have to choose which rings we want to generate orientations on\n",
    "# generally we want two or three low-multiplicity rings that are isolated from other phases\n",
    "# take a look at the ring assignment output from a few cells above, and choose two or three\n",
    "rings_for_gen = [1, 1]\n",
    "\n",
    "# now we want to decide which rings to score our found orientations against\n",
    "# generally we can just exclude dodgy rings (close to other phases, only a few peaks in etc)\n",
    "rings_for_scoring = [0, 1, 2, 3, 4, 5, 6, 7, 8]\n",
    "\n",
    "# the sequence of hkl tolerances the indexer will iterate through\n",
    "hkl_tols_seq = [0.01, 0.02, 0.03]\n",
    "# the sequence of minpks fractions the indexer will iterate through\n",
    "fracs = [0.5]\n",
    "# the tolerance in g-vector angle\n",
    "cosine_tol = np.cos(np.radians(90 - 0.25))\n",
    "# the max number of UBIs we can find per pair of rings\n",
    "max_grains = 1000\n",
    "\n",
    "_, indexer = utils.do_index(cf=cf_friedel_pairs_strong,\n",
    "                                dstol=indexer.ds_tol,\n",
    "                                forgen=rings_for_gen,\n",
    "                                foridx=rings_for_scoring,\n",
    "                                hkl_tols=hkl_tols_seq,\n",
    "                                fracs=fracs,\n",
    "                                cosine_tol=cosine_tol,\n",
    "                                max_grains=max_grains,\n",
    "                                unitcell=ucell\n",
    ")"
   ]
  },
  {
   "cell_type": "code",
   "execution_count": null,
   "metadata": {
    "tags": []
   },
   "outputs": [],
   "source": [
    "# inspect the results of the index\n",
    "\n",
    "indexer.histogram_drlv_fit()\n",
    "\n",
    "plt.figure()\n",
    "for row in indexer.histogram:\n",
    "    plt.plot(indexer.bins[1:-1], row[:-1],'-')"
   ]
  },
  {
   "cell_type": "code",
   "execution_count": null,
   "metadata": {
    "tags": []
   },
   "outputs": [],
   "source": [
    "# now we switch to grid indexing"
   ]
  },
  {
   "cell_type": "code",
   "execution_count": null,
   "metadata": {
    "tags": []
   },
   "outputs": [],
   "source": [
    "omegas_sorted = np.sort(ds.omega)[0]\n",
    "omega_step = np.round(np.diff(omegas_sorted).mean(), 3)\n",
    "omega_slop = omega_step/2\n",
    "\n",
    "gridpars = {\n",
    "    'DSTOL' : 0.004,\n",
    "    'OMEGAFLOAT' : omega_slop,\n",
    "    'COSTOL' : 0.002,\n",
    "    'NPKS' : 10,\n",
    "    'TOLSEQ' : [ 0.05, ],\n",
    "    'SYMMETRY' : \"cubic\",\n",
    "    'RING1'  : [1,5],\n",
    "    'RING2' : [1,5],\n",
    "    'NUL' : True,\n",
    "    'FITPOS' : True,\n",
    "    'tolangle' : 0.25,\n",
    "    'toldist' : 100.,\n",
    "    'NPROC' : None, # guess from cpu_count\n",
    "    'NTHREAD' : 1 ,\n",
    "    }\n",
    "\n",
    "cf_friedel_pairs_strong.addcolumn(indexer.ga.copy(), 'labels')\n",
    "cf_friedel_pairs_strong.addcolumn(np.zeros(cf_friedel_pairs_strong.nrows), 'drlv2')\n",
    "\n",
    "for v in 'xyz':\n",
    "    cf_3d.parameters.stepsizes[f't_{v}'] = 0.1\n",
    "\n",
    "fittedgrains = []\n",
    "for i in range(len(indexer.ubis)):\n",
    "    grains = [ImageD11.grain.grain(indexer.ubis[i].copy() ),]\n",
    "    # only take indexed spots using Friedel pairs\n",
    "    cfit = ImageD11.columnfile.colfile_from_dict(\n",
    "        { t:cf_friedel_pairs_strong[t][indexer.ga==i+1] for t in cf_friedel_pairs_strong.titles} )\n",
    "    if cfit.nrows == 0:\n",
    "        continue\n",
    "    fitted = ImageD11.grid_index_parallel.domap( cf_3d.parameters,\n",
    "                                    cfit,\n",
    "                                    grains,\n",
    "                                    gridpars )\n",
    "    fittedgrains.append( fitted[0] )\n",
    "    print(fitted[0].ubi)\n",
    "    print(fitted[0].translation, fitted[0].npks, fitted[0].nuniq )"
   ]
  },
  {
   "cell_type": "code",
   "execution_count": null,
   "metadata": {
    "tags": []
   },
   "outputs": [],
   "source": [
    "centre_plot = False\n",
    "\n",
    "fig = plt.figure(figsize=(12, 12))\n",
    "ax = fig.add_subplot(projection='3d', proj_type=\"ortho\")\n",
    "xx = [grain.translation[0] for grain in fittedgrains]\n",
    "yy = [grain.translation[1] for grain in fittedgrains]\n",
    "zz = [grain.translation[2] for grain in fittedgrains]\n",
    "# col = [utils.grain_to_rgb(grain) for grain in grains_filtered]  # IPF-Z colour instead\n",
    "col = [float(grain.npks) for grain in fittedgrains]\n",
    "sizes = [0.01*(float(grain.intensity_info.split(\"mean = \")[1].split(\" , \")[0].replace(\"'\", \"\"))) for grain in fittedgrains]\n",
    "if centre_plot:\n",
    "    scatterplot = ax.scatter(xx-np.mean(xx), yy-np.mean(yy), zz, c=col, s=sizes)\n",
    "else:\n",
    "    scatterplot = ax.scatter(xx, yy, zz, c=col, s=sizes)\n",
    "ax.set_aspect(\"equal\")\n",
    "plt.colorbar(scatterplot)\n",
    "ax.set_title(\"Grains coloured by n peaks\")\n",
    "ax.set_xlabel(\"x\")\n",
    "ax.set_ylabel(\"y\")\n",
    "ax.set_zlabel(\"z\")\n",
    "plt.show()"
   ]
  },
  {
   "cell_type": "code",
   "execution_count": null,
   "metadata": {
    "tags": []
   },
   "outputs": [],
   "source": [
    "fig, ax = plt.subplots()\n",
    "ax.hist([float(grain.npks) for grain in fittedgrains], bins=50)\n",
    "# ax.semilogy()\n",
    "plt.show()"
   ]
  },
  {
   "cell_type": "code",
   "execution_count": null,
   "metadata": {
    "tags": []
   },
   "outputs": [],
   "source": [
    "# find the spike\n",
    "absolute_minpks = 250"
   ]
  },
  {
   "cell_type": "code",
   "execution_count": null,
   "metadata": {
    "tags": []
   },
   "outputs": [],
   "source": [
    "# filter out grains with fewer than absolute_minpks peaks\n",
    "grains_filtered = [grain for grain in fittedgrains if float(grain.npks) > absolute_minpks]"
   ]
  },
  {
   "cell_type": "code",
   "execution_count": null,
   "metadata": {
    "tags": []
   },
   "outputs": [],
   "source": [
    "centre_plot = False\n",
    "\n",
    "fig = plt.figure(figsize=(12, 12))\n",
    "ax = fig.add_subplot(projection='3d', proj_type=\"ortho\")\n",
    "xx = [grain.translation[0] for grain in grains_filtered]\n",
    "yy = [grain.translation[1] for grain in grains_filtered]\n",
    "zz = [grain.translation[2] for grain in grains_filtered]\n",
    "# col = [utils.grain_to_rgb(grain) for grain in grains_filtered]  # IPF-Z colour instead\n",
    "col = [float(grain.npks) for grain in grains_filtered]\n",
    "sizes = [0.01*(float(grain.intensity_info.split(\"mean = \")[1].split(\" , \")[0].replace(\"'\", \"\"))) for grain in grains_filtered]\n",
    "if centre_plot:\n",
    "    scatterplot = ax.scatter(xx-np.mean(xx), yy-np.mean(yy), zz, c=col, s=sizes)\n",
    "else:\n",
    "    scatterplot = ax.scatter(xx, yy, zz, c=col, s=sizes)\n",
    "ax.set_aspect(\"equal\")\n",
    "plt.colorbar(scatterplot)\n",
    "ax.set_title(\"Grains coloured by n peaks\")\n",
    "ax.set_xlabel(\"x\")\n",
    "ax.set_ylabel(\"y\")\n",
    "ax.set_zlabel(\"z\")\n",
    "plt.show()"
   ]
  },
  {
   "cell_type": "code",
   "execution_count": null,
   "metadata": {
    "tags": []
   },
   "outputs": [],
   "source": [
    "# write the filtered grains to disk\n",
    "\n",
    "filtered_map_path = f'{sample}_{dataset}_nice_grains.map'\n",
    "\n",
    "ImageD11.grain.write_grain_file(filtered_map_path, grains_filtered)"
   ]
  },
  {
   "cell_type": "code",
   "execution_count": null,
   "metadata": {
    "tags": []
   },
   "outputs": [],
   "source": [
    "# write cf_3d to disk temporarily\n",
    "\n",
    "cf_3d_path = f'{sample}_{dataset}_3d_peaks.flt'\n",
    "cf_3d.writefile(cf_3d_path)"
   ]
  },
  {
   "cell_type": "code",
   "execution_count": null,
   "metadata": {
    "tags": []
   },
   "outputs": [],
   "source": [
    "# write a classic parameter file for makemap.py\n",
    "\n",
    "from ImageD11 import parameters\n",
    "\n",
    "pars = parameters.parameters()\n",
    "pars.parameters.update(ds.phases.get_xfab_pars_dict(phase_str))\n",
    "\n",
    "oldparfile = phase_str + '.par'\n",
    "\n",
    "pars.saveparameters(oldparfile)"
   ]
  },
  {
   "cell_type": "code",
   "execution_count": null,
   "metadata": {
    "tags": []
   },
   "outputs": [],
   "source": [
    "# run makemap again against all peaks\n",
    "\n",
    "symmetry = \"cubic\"\n",
    "\n",
    "new_filtered_map_path = f'{sample}_{dataset}_nice_grains.map.new'\n",
    "new_cf_3d_path = cf_3d_path + '.new'\n",
    "\n",
    "final_makemap_tol = 0.01\n",
    "\n",
    "makemap_output = !makemap.py -p {oldparfile} -u {filtered_map_path} -U {new_filtered_map_path} -f {cf_3d_path} -s {symmetry} -t {final_makemap_tol} --omega_slop={omega_slop} --no_sort"
   ]
  },
  {
   "cell_type": "code",
   "execution_count": null,
   "metadata": {
    "tags": []
   },
   "outputs": [],
   "source": [
    "grains_final = ImageD11.grain.read_grain_file(new_filtered_map_path)\n",
    "\n",
    "# import makemap output columnfile with peak assignments\n",
    "cf_3d = ImageD11.columnfile.columnfile(new_cf_3d_path)\n",
    "\n",
    "# write 3D columnfile to disk\n",
    "ImageD11.columnfile.colfile_to_hdf(cf_3d, ds.col3dfile, name='peaks')\n",
    "\n",
    "# save grain data\n",
    "ds.save_grains_to_disk(grains_final, phase_name=phase_str)\n",
    "\n",
    "ds.save()"
   ]
  },
  {
   "cell_type": "code",
   "execution_count": null,
   "metadata": {
    "tags": []
   },
   "outputs": [],
   "source": [
    "# cleaning up\n",
    "\n",
    "for path in [\n",
    "    cf_3d_path,\n",
    "    filtered_map_path,\n",
    "    new_filtered_map_path,\n",
    "    new_cf_3d_path\n",
    "]:\n",
    "    if os.path.exists(path):\n",
    "        os.remove(path)"
   ]
  },
  {
   "cell_type": "code",
   "execution_count": null,
   "metadata": {},
   "outputs": [],
   "source": [
    "# change to 0 to allow all cells to be run automatically\n",
    "if 1:\n",
    "    raise ValueError(\"Hello!\")"
   ]
  },
  {
   "cell_type": "code",
   "execution_count": null,
   "metadata": {},
   "outputs": [],
   "source": [
    "# Now that we're happy with our indexing parameters, we can run the below cell to do this in bulk for many samples/datasets\n",
    "# by default this will do all samples in sample_list, all datasets with a prefix of dset_prefix\n",
    "# you can add samples and datasets to skip in skips_dict\n",
    "\n",
    "skips_dict = {\n",
    "    \"FeAu_0p5_tR\": []\n",
    "}\n",
    "\n",
    "dset_prefix = \"ff\"\n",
    "\n",
    "sample_list = [\"FeAu_0p5_tR\"]\n",
    "    \n",
    "samples_dict = utils.find_datasets_to_process(ds.dataroot, skips_dict, dset_prefix, sample_list)\n",
    "\n",
    "\n",
    "for sample, datasets in samples_dict.items():\n",
    "    for dataset in datasets:\n",
    "        print(f\"Processing dataset {dataset} in sample {sample}\")\n",
    "        print(\"Importing DataSet object\")\n",
    "        dset_path = os.path.join(ds.analysisroot, sample, f\"{sample}_{dataset}\", f\"{sample}_{dataset}_dataset.h5\")\n",
    "        \n",
    "        if not os.path.exists(dset_path):\n",
    "            print(f\"Couldn't find {dataset} in {sample}, skipping\")\n",
    "            continue\n",
    "            \n",
    "        ds = ImageD11.sinograms.dataset.load(dset_path)\n",
    "        print(f\"I have a DataSet {ds.dset} in sample {ds.sample}\")\n",
    "        \n",
    "        if os.path.exists(ds.grainsfile):\n",
    "            # check grains file for existance of minor phase, skip if it's there\n",
    "            with h5py.File(ds.grainsfile, \"r\") as hin:\n",
    "                if phase_str in hin.keys():\n",
    "                    print(f\"Already have grains for {dataset} in sample {sample}, skipping\")\n",
    "                    continue\n",
    "        \n",
    "        ds.phases = ds.get_phases_from_disk()\n",
    "        ucell = ds.phases.unitcells[phase_str]\n",
    "        \n",
    "        print(\"Loading 3D peaks\")\n",
    "        cf_3d = ds.get_cf_3d_from_disk()\n",
    "        ds.update_colfile_pars(cf_3d, phase_name=phase_str) \n",
    "        cf_3d_path = f'{sample}_{dataset}_3d_peaks.flt'\n",
    "        cf_3d.writefile(cf_3d_path)\n",
    "        \n",
    "        ucell.makerings(cf_3d.ds.max())\n",
    "\n",
    "        print(\"Finding Friedel pairs\")\n",
    "        cf_friedel_pairs = find_friedel_pairs(cf_3d, doplot=False)\n",
    "        cf_friedel_pairs_strong_dsmax = cf_friedel_pairs.ds.max()\n",
    "        cf_friedel_pairs_strong = select_ring_peaks_by_intensity(cf_friedel_pairs, frac=cf_friedel_pairs_strong_frac, dsmax=cf_friedel_pairs_strong_dsmax, dstol=cf_friedel_pairs_strong_dstol)\n",
    "        \n",
    "        print('Finding orientations from collapsed Friedel pairs')\n",
    "        _, indexer = utils.do_index(cf=cf_friedel_pairs_strong,\n",
    "                                dstol=indexer.ds_tol,\n",
    "                                forgen=rings_for_gen,\n",
    "                                foridx=rings_for_scoring,\n",
    "                                hkl_tols=hkl_tols_seq,\n",
    "                                fracs=fracs,\n",
    "                                cosine_tol=cosine_tol,\n",
    "                                max_grains=max_grains,\n",
    "                                unitcell=ucell\n",
    "                                   )\n",
    "        \n",
    "        print('Fitting positions of indexed grains')\n",
    "        omegas_sorted = np.sort(ds.omega)[0]\n",
    "        omega_step = np.round(np.diff(omegas_sorted).mean(), 3)\n",
    "        omega_slop = omega_step/2\n",
    "        gridpars['OMEGAFLOAT'] = omega_slop\n",
    "        \n",
    "        cf_friedel_pairs_strong.addcolumn(indexer.ga.copy(), 'labels')\n",
    "        cf_friedel_pairs_strong.addcolumn(np.zeros(cf_friedel_pairs_strong.nrows), 'drlv2')\n",
    "\n",
    "        for v in 'xyz':\n",
    "            cf_3d.parameters.stepsizes[f't_{v}'] = 0.1\n",
    "        \n",
    "        fittedgrains = []\n",
    "        for i in range(len(indexer.ubis)):\n",
    "            grains = [ImageD11.grain.grain(indexer.ubis[i].copy() ),]\n",
    "            cfit = ImageD11.columnfile.colfile_from_dict(\n",
    "                { t:cf_friedel_pairs_strong[t][indexer.ga==i+1] for t in cf_friedel_pairs_strong.titles} )\n",
    "            if cfit.nrows == 0:\n",
    "                continue\n",
    "            fitted = ImageD11.grid_index_parallel.domap( cf_3d.parameters,\n",
    "                                            cfit,\n",
    "                                            grains,\n",
    "                                            gridpars )\n",
    "            fittedgrains.append( fitted[0] )\n",
    "        \n",
    "        grains_filtered = [grain for grain in fittedgrains if float(grain.npks) > absolute_minpks]\n",
    "        filtered_map_path = f'{sample}_{dataset}_nice_grains.map'\n",
    "        ImageD11.grain.write_grain_file(filtered_map_path, grains_filtered)\n",
    "        new_filtered_map_path = f'{sample}_{dataset}_nice_grains.map.new'\n",
    "        new_cf_3d_path = cf_3d_path + '.new'\n",
    "        makemap_output = !makemap.py -p {oldparfile} -u {filtered_map_path} -U {new_filtered_map_path} -f {cf_3d_path} -s {symmetry} -t {final_makemap_tol} --omega_slop={omega_slop} --no_sort\n",
    "        \n",
    "        grains_final = ImageD11.grain.read_grain_file(new_filtered_map_path)\n",
    "        cf_3d = ImageD11.columnfile.columnfile(new_cf_3d_path)\n",
    "        ImageD11.columnfile.colfile_to_hdf(cf_3d, ds.col3dfile, name='peaks')\n",
    "        ds.save_grains_to_disk(grains_final, phase_name=phase_str)\n",
    "        ds.save()\n",
    "        \n",
    "        for path in [\n",
    "            cf_3d_path,\n",
    "            filtered_map_path,\n",
    "            new_filtered_map_path,\n",
    "            new_cf_3d_path\n",
    "        ]:\n",
    "            if os.path.exists(path):\n",
    "                os.remove(path)\n",
    "\n",
    "print(\"Done!\")"
   ]
  },
  {
   "cell_type": "code",
   "execution_count": null,
   "metadata": {},
   "outputs": [],
   "source": []
  }
 ],
 "metadata": {
  "kernelspec": {
   "display_name": "Python 3 (main)",
   "language": "python",
   "name": "python3"
  },
  "language_info": {
   "codemirror_mode": {
    "name": "ipython",
    "version": 3
   },
   "file_extension": ".py",
   "mimetype": "text/x-python",
   "name": "python",
   "nbconvert_exporter": "python",
   "pygments_lexer": "ipython3",
   "version": "3.11.6"
  }
 },
 "nbformat": 4,
 "nbformat_minor": 4
}
