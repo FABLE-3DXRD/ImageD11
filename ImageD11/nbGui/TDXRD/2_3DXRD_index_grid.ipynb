{
 "cells": [
  {
   "cell_type": "code",
   "execution_count": null,
   "id": "bdf2e7f7-773b-464e-a0b1-5cb56a76676e",
   "metadata": {
    "tags": []
   },
   "outputs": [],
   "source": [
    "exec(open('/data/id11/nanoscope/install_ImageD11_from_git.py').read())\n",
    "PYTHONPATH = setup_ImageD11_from_git( ) # ( os.path.join( os.environ['HOME'],'Code'), 'ImageD11_git' )"
   ]
  },
  {
   "cell_type": "code",
   "execution_count": null,
   "id": "16f32f19-7eaa-4e4b-a347-3b9a44f8ada1",
   "metadata": {
    "tags": []
   },
   "outputs": [],
   "source": [
    "# import functions we need\n",
    "\n",
    "import os, glob, pprint\n",
    "import numpy as np\n",
    "import h5py\n",
    "from tqdm.notebook import tqdm\n",
    "\n",
    "import matplotlib\n",
    "%matplotlib widget\n",
    "from matplotlib import pyplot as plt\n",
    "\n",
    "# import utils\n",
    "from ImageD11.nbGui import nb_utils as utils\n",
    "\n",
    "import ImageD11.grain\n",
    "import ImageD11.indexing\n",
    "import ImageD11.columnfile\n",
    "from ImageD11.sinograms import properties, dataset\n",
    "\n",
    "from ImageD11.blobcorrector import eiger_spatial\n",
    "from ImageD11.peakselect import select_ring_peaks_by_intensity"
   ]
  },
  {
   "cell_type": "code",
   "execution_count": null,
   "id": "69964e34-6f94-4594-8ff7-1b32c0324a4b",
   "metadata": {
    "tags": []
   },
   "outputs": [],
   "source": [
    "# desination of H5 files\n",
    "\n",
    "dset_path = '/data/visitor/ihma439/id11/20231211/PROCESSED_DATA/James/20240909/FeAu_0p5_tR/FeAu_0p5_tR_ff1/FeAu_0p5_tR_ff1_dataset.h5'"
   ]
  },
  {
   "cell_type": "code",
   "execution_count": null,
   "id": "8f366d52-a560-4f08-bb1e-6d585cc41f4d",
   "metadata": {
    "tags": []
   },
   "outputs": [],
   "source": [
    "# load the dataset from file\n",
    "\n",
    "ds = ImageD11.sinograms.dataset.load(dset_path)\n",
    "\n",
    "sample = ds.sample\n",
    "dataset = ds.dset\n",
    "\n",
    "print(ds)\n",
    "print(ds.shape)"
   ]
  },
  {
   "cell_type": "code",
   "execution_count": null,
   "id": "16ae5fb2-de97-468c-b83c-82fc72d3aa56",
   "metadata": {
    "tags": []
   },
   "outputs": [],
   "source": [
    "ds.phases = ds.get_phases_from_disk()\n",
    "ds.phases.unitcells\n",
    "\n",
    "# now let's select a phase to index from our parameters json\n",
    "phase_str = 'Fe'\n",
    "\n",
    "ucell = ds.phases.unitcells[phase_str]\n",
    "\n",
    "print(ucell.lattice_parameters, ucell.spacegroup)"
   ]
  },
  {
   "cell_type": "code",
   "execution_count": null,
   "id": "f8b62f6a-0290-474c-b704-742293397518",
   "metadata": {
    "tags": []
   },
   "outputs": [],
   "source": [
    "# load 3d columnfile from disk\n",
    "\n",
    "cf_3d = ds.get_cf_3d_from_disk()\n",
    "ds.update_colfile_pars(cf_3d, phase_name=phase_str) \n",
    "\n",
    "cf_3d_path = f'{sample}_{dataset}_3d_peaks.flt'\n",
    "cf_3d.writefile(cf_3d_path)"
   ]
  },
  {
   "cell_type": "code",
   "execution_count": null,
   "id": "2058371d-b908-4698-b567-67126bbb144a",
   "metadata": {
    "tags": []
   },
   "outputs": [],
   "source": [
    "# plot the 3D peaks (fewer of them) as a cake (two-theta vs eta)\n",
    "# if the parameters in the par file are good, these should look like straight lines\n",
    "\n",
    "ucell.makerings(cf_3d.ds.max())\n",
    "\n",
    "fig, ax = plt.subplots(figsize=(16,9), layout='constrained')\n",
    "\n",
    "ax.scatter(cf_3d.ds, cf_3d.eta, s=1)\n",
    "ax.plot( ucell.ringds, [0,]*len(ucell.ringds), '|', ms=90, c=\"red\")\n",
    "\n",
    "ax.set_xlabel(\"D-star\")\n",
    "ax.set_ylabel(\"eta\")\n",
    "\n",
    "plt.show()"
   ]
  },
  {
   "cell_type": "code",
   "execution_count": null,
   "id": "3f8d51c9-b2f9-418c-a4b9-746d84dfbbb8",
   "metadata": {
    "tags": []
   },
   "outputs": [],
   "source": [
    "# here we are filtering our peaks (cf_3d) to select only the strongest ones for indexing purposes only!\n",
    "# dsmax is being set to limit rings given to the indexer - 6-8 rings is normally good\n",
    "\n",
    "# USER: modify the \"frac\" parameter below and re-run the cell until the orange dot sits nicely on the \"elbow\" of the blue line\n",
    "# this indicates the fractional intensity cutoff we will select\n",
    "# if the blue line does not look elbow-shaped in the logscale plot, try changing the \"doplot\" parameter (the y scale of the logscale plot) until it does\n",
    "\n",
    "\n",
    "cf_strong_frac = 0.999\n",
    "cf_strong_dsmax = 1.017\n",
    "cf_strong_dstol = 0.025\n",
    "\n",
    "cf_strong = select_ring_peaks_by_intensity(cf_3d, frac=cf_strong_frac, dsmax=cf_strong_dsmax, doplot=0.65, dstol=cf_strong_dstol)\n",
    "print(f\"Got {cf_strong.nrows} strong peaks for indexing\")"
   ]
  },
  {
   "cell_type": "code",
   "execution_count": null,
   "id": "b37656ec-1d8b-4ada-bf39-de97842950f1",
   "metadata": {},
   "outputs": [],
   "source": [
    "# we will also export some additional strong peaks across all rings\n",
    "# this will be useful for grain refinement later (using makemap)\n",
    "\n",
    "cf_strong_allrings_frac = 0.999\n",
    "cf_strong_allrings_dstol = 0.025\n",
    "\n",
    "cf_strong_allrings = select_ring_peaks_by_intensity(cf_3d, frac=cf_strong_allrings_frac, dsmax=cf_3d.ds.max(), doplot=0.8, dstol=cf_strong_allrings_dstol)\n",
    "print(f\"Got {cf_strong_allrings.nrows} strong peaks for makemap\")\n",
    "cf_strong_allrings_path = f'{sample}_{dataset}_3d_peaks_strong_all_rings.flt'\n",
    "cf_strong_allrings.writefile(cf_strong_allrings_path)"
   ]
  },
  {
   "cell_type": "code",
   "execution_count": null,
   "id": "e3d423d9-15b3-4d0e-9824-168c0e8bceea",
   "metadata": {
    "tags": []
   },
   "outputs": [],
   "source": [
    "# now we can take a look at the intensities of the remaining peaks\n",
    "\n",
    "fig, ax = plt.subplots(figsize=(16, 9), constrained_layout=True)\n",
    "\n",
    "ax.plot( ucell.ringds, [1e4,]*len(ucell.ringds), '|', ms=90, c=\"red\")\n",
    "\n",
    "ax.plot(cf_3d.ds, cf_3d.sum_intensity,',', label='cf_3d')\n",
    "ax.plot(cf_strong.ds, cf_strong.sum_intensity,',', label='cf_strong')\n",
    "ax.semilogy()\n",
    "\n",
    "ax.set_xlabel(\"Dstar\")\n",
    "ax.set_ylabel(\"Intensity\")\n",
    "ax.legend()\n",
    "\n",
    "plt.show()"
   ]
  },
  {
   "cell_type": "code",
   "execution_count": null,
   "id": "6a2e4aaa-3caf-4af5-8d2e-312a0aa31956",
   "metadata": {
    "tags": []
   },
   "outputs": [],
   "source": [
    "# specify our ImageD11 indexer with these peaks\n",
    "\n",
    "indexer = ImageD11.indexing.indexer_from_colfile(cf_strong)\n",
    "\n",
    "print(f\"Indexing {cf_strong.nrows} peaks\")\n",
    "\n",
    "# USER: set a tolerance in d-space (for assigning peaks to powder rings)\n",
    "\n",
    "indexer_ds_tol = 0.025\n",
    "indexer.ds_tol = indexer_ds_tol\n",
    "\n",
    "# change the log level so we can see what the ring assigments look like\n",
    "\n",
    "ImageD11.indexing.loglevel = 1\n",
    "\n",
    "# assign peaks to powder rings\n",
    "\n",
    "indexer.assigntorings()\n",
    "\n",
    "# change log level back again\n",
    "\n",
    "ImageD11.indexing.loglevel = 3"
   ]
  },
  {
   "cell_type": "code",
   "execution_count": null,
   "id": "db701ea9-de81-43b9-b68d-3b78a77f9520",
   "metadata": {
    "tags": []
   },
   "outputs": [],
   "source": [
    "# let's plot the assigned peaks\n",
    "\n",
    "fig, ax = plt.subplots()\n",
    "\n",
    "# indexer.ra is the ring assignments\n",
    "\n",
    "ax.scatter(cf_strong.ds, cf_strong.eta, c=indexer.ra, cmap='tab20', s=1)\n",
    "ax.plot( ucell.ringds, [0,]*len(ucell.ringds), '|', ms=90, c=\"red\")\n",
    "ax.set_xlabel(\"d-star\")\n",
    "ax.set_ylabel(\"eta\")\n",
    "ax.set_xlim(cf_strong.ds.min()-0.05, cf_strong.ds.max()+0.05)\n",
    "\n",
    "plt.show()"
   ]
  },
  {
   "cell_type": "code",
   "execution_count": null,
   "id": "8b904e07-7481-4396-b502-29f19fdbf924",
   "metadata": {
    "tags": []
   },
   "outputs": [],
   "source": [
    "# now we need to decide which rings to use in the grid index\n",
    "# typically, 3-4 low multiplicity rings are good\n",
    "\n",
    "rings_to_use = [0, 1, 3]\n",
    "\n",
    "mask = np.zeros(cf_strong.nrows, dtype=bool)\n",
    "\n",
    "for ring in rings_to_use:\n",
    "    mask |= indexer.ra == ring\n",
    "\n",
    "peaks_to_export = cf_strong.copy()\n",
    "peaks_to_export.filter(mask)"
   ]
  },
  {
   "cell_type": "code",
   "execution_count": null,
   "id": "ca11f2e9-a16b-4474-80de-58cc9f8c4ba7",
   "metadata": {
    "tags": []
   },
   "outputs": [],
   "source": [
    "# now we can take a look at the intensities of the peaks we will be exporting\n",
    "\n",
    "fig, ax = plt.subplots(figsize=(16, 9), constrained_layout=True)\n",
    "\n",
    "ax.plot( ucell.ringds, [1e4,]*len(ucell.ringds), '|', ms=90, c=\"red\")\n",
    "ax.plot(cf_3d.ds, cf_3d.sum_intensity,',', label='cf_3d')\n",
    "ax.plot(peaks_to_export.ds, peaks_to_export.sum_intensity,',', label='peaks to export')\n",
    "ax.semilogy()\n",
    "\n",
    "ax.set_xlabel(\"Dstar\")\n",
    "ax.set_ylabel(\"Intensity\")\n",
    "ax.legend()\n",
    "\n",
    "plt.show()"
   ]
  },
  {
   "cell_type": "code",
   "execution_count": null,
   "id": "19724115-572b-4646-9b66-8d21608178f7",
   "metadata": {
    "tags": []
   },
   "outputs": [],
   "source": [
    "grid_peaks_path = f'{sample}_{dataset}_3d_peaks_grid.flt'\n",
    "peaks_to_export.writefile(grid_peaks_path)"
   ]
  },
  {
   "cell_type": "code",
   "execution_count": null,
   "id": "97c5f0d9-127e-4154-b286-5827a86d17ac",
   "metadata": {
    "tags": []
   },
   "outputs": [],
   "source": [
    "omegas_sorted = np.sort(ds.omega)[0]\n",
    "omega_step = np.round(np.diff(omegas_sorted).mean(), 3)\n",
    "omega_slop = omega_step/2"
   ]
  },
  {
   "cell_type": "code",
   "execution_count": null,
   "id": "8dce3237-85c6-4453-a3ef-fdf587982fbf",
   "metadata": {
    "tags": []
   },
   "outputs": [],
   "source": [
    "# now we need to compute the number of expected peaks\n",
    "# to do this, you add up the multiplicites of the rings you chose\n",
    "# if you recorded a 360 degree scan, multiply the result by 2\n",
    "# e.g given this output:\n",
    "\n",
    "# info: Ring     (  h,  k,  l) Mult  total indexed to_index  ubis  peaks_per_ubi   tth\n",
    "# info: Ring 3   ( -2, -2,  0)   12   2251       0     2251    93     24  16.11\n",
    "# info: Ring 2   ( -1, -1, -2)   24   4899       0     4899   101     48  13.94\n",
    "# info: Ring 1   ( -2,  0,  0)    6   1233       0     1233   102     12  11.37\n",
    "# info: Ring 0   ( -1, -1,  0)   12   2861       0     2861   118     24  8.03\n",
    "\n",
    "# selecting rings 0,1,3 we would get\n",
    "# we would get (12+6+12)*2 = 84 peaks"
   ]
  },
  {
   "cell_type": "code",
   "execution_count": null,
   "id": "1de49f05-e0f3-4d10-bb76-0635a789c2ca",
   "metadata": {
    "tags": []
   },
   "outputs": [],
   "source": [
    "peaks_expected = (12+6+12)*2\n",
    "\n",
    "# choose the fraction of the number of peaks expected - this should be around 0.9 if you had a good clean segementation\n",
    "# if you suspect you are missing peaks in your data, decrease to around 0.6\n",
    "\n",
    "frac = 0.85\n",
    "minpeaks = int(np.round(peaks_expected * frac, 2))\n",
    "minpeaks"
   ]
  },
  {
   "cell_type": "code",
   "execution_count": null,
   "id": "fb9b35bb-a692-4826-aee0-05a2e7822c69",
   "metadata": {
    "tags": []
   },
   "outputs": [],
   "source": [
    "nproc = len(os.sched_getaffinity(os.getpid())) - 3"
   ]
  },
  {
   "cell_type": "code",
   "execution_count": null,
   "id": "7d215329-1bab-4817-a698-9247f5df73da",
   "metadata": {
    "tags": []
   },
   "outputs": [],
   "source": [
    "# write a classic parameter file for makemap.py\n",
    "\n",
    "from ImageD11 import parameters\n",
    "\n",
    "pars = parameters.parameters()\n",
    "pars.parameters.update(ds.phases.get_xfab_pars_dict(phase_str))\n",
    "\n",
    "oldparfile = phase_str + '.par'\n",
    "\n",
    "pars.saveparameters(oldparfile)"
   ]
  },
  {
   "cell_type": "code",
   "execution_count": null,
   "id": "ba4e4d1c-0ec7-4dea-a75b-97765cb28d80",
   "metadata": {
    "tags": []
   },
   "outputs": [],
   "source": [
    "from ImageD11.grid_index_parallel import grid_index_parallel\n",
    "\n",
    "symmetry = \"cubic\"\n",
    "\n",
    "makemap_tol_seq = [0.02, 0.015, 0.01]\n",
    "\n",
    "gridpars = {\n",
    "        'DSTOL' : 0.004,\n",
    "        'OMEGAFLOAT' : omega_slop,\n",
    "        'COSTOL' : np.cos(np.radians(90 - omega_slop)),\n",
    "        'NPKS' : int(minpeaks),\n",
    "        'TOLSEQ' : makemap_tol_seq,\n",
    "        'SYMMETRY' : symmetry,\n",
    "        'RING1'  : [1,0,],\n",
    "        'RING2' : [0,],\n",
    "        'NUL' : True,\n",
    "        'FITPOS' : True,\n",
    "        'tolangle' : 0.50,\n",
    "        'toldist' : 100.,\n",
    "        'NPROC' : nproc, # guess from cpu_count\n",
    "        'NTHREAD' : 1 ,\n",
    "    }\n",
    "            \n",
    "# grid to search\n",
    "translations = [(t_x, t_y, t_z) \n",
    "    for t_x in range(-600, 601, 100)\n",
    "    for t_y in range(-600, 601, 100) \n",
    "    for t_z in range(-600, 601, 100) ]\n",
    "# Cylinder: \n",
    "# translations = [( x,y,z) for (x,y,z) in translations if (x*x+y*y)< 500*500 ]\n",
    "#\n",
    "\n",
    "import random\n",
    "random.seed(42) # reproducible\n",
    "random.shuffle(translations)\n",
    "\n",
    "tmp_output_path = 'tmp'\n",
    "map_path = 'alltmp.map'\n",
    "\n",
    "grid_index_parallel(grid_peaks_path, oldparfile, tmp_output_path, gridpars, translations)"
   ]
  },
  {
   "cell_type": "code",
   "execution_count": null,
   "id": "3d981eae-dd1a-40dd-a05e-147ab92a37f7",
   "metadata": {
    "tags": []
   },
   "outputs": [],
   "source": [
    "# re-import our refined grains from the makemap procedure\n",
    "\n",
    "grains2 = ImageD11.grain.read_grain_file(map_path)"
   ]
  },
  {
   "cell_type": "code",
   "execution_count": null,
   "id": "9bf840f9-f6e1-47ba-a0b8-ccf00f13d3f1",
   "metadata": {
    "tags": []
   },
   "outputs": [],
   "source": [
    "centre_plot = False\n",
    "\n",
    "fig = plt.figure(figsize=(12, 12))\n",
    "ax = fig.add_subplot(projection='3d', proj_type=\"ortho\")\n",
    "xx = [grain.translation[0] for grain in grains2]\n",
    "yy = [grain.translation[1] for grain in grains2]\n",
    "zz = [grain.translation[2] for grain in grains2]\n",
    "# col = [utils.grain_to_rgb(grain) for grain in grains2]  # IPF-Z colour instead\n",
    "col = [float(grain.npks) for grain in grains2]\n",
    "sizes = [0.01*(float(grain.intensity_info.split(\"mean = \")[1].split(\" , \")[0].replace(\"'\", \"\"))) for grain in grains2]\n",
    "if centre_plot:\n",
    "    scatterplot = ax.scatter(xx-np.mean(xx), yy-np.mean(yy), zz, c=col, s=sizes)\n",
    "else:\n",
    "    scatterplot = ax.scatter(xx, yy, zz, c=col, s=sizes)\n",
    "plt.colorbar(scatterplot)\n",
    "ax.set_title(\"Grains coloured by n peaks\")\n",
    "ax.set_xlabel(\"x\")\n",
    "ax.set_ylabel(\"y\")\n",
    "ax.set_zlabel(\"z\")\n",
    "ax.set_aspect(\"equal\")\n",
    "plt.show()"
   ]
  },
  {
   "cell_type": "code",
   "execution_count": null,
   "id": "3f40d348-98bc-4d95-a372-e2da82fecc11",
   "metadata": {
    "tags": []
   },
   "outputs": [],
   "source": [
    "# run makemap against the selected grid peaks\n",
    "\n",
    "symmetry = \"cubic\"\n",
    "\n",
    "new_map_path = f'alltmp.map.new'\n",
    "new_grid_peaks_path = f'{sample}_{dataset}_3d_peaks_grid.flt.new'\n",
    "\n",
    "makemap_output = !makemap.py -p {oldparfile} -u {map_path} -U {new_map_path} -f {grid_peaks_path} -s {symmetry} -t {makemap_tol_seq[-1]} --omega_slop={omega_slop} --no_sort"
   ]
  },
  {
   "cell_type": "code",
   "execution_count": null,
   "id": "707bbfbb-cdc0-460d-a941-02067798e777",
   "metadata": {
    "tags": []
   },
   "outputs": [],
   "source": [
    "# re-import our refined grains from the makemap procedure\n",
    "\n",
    "grains3 = ImageD11.grain.read_grain_file(new_map_path)"
   ]
  },
  {
   "cell_type": "code",
   "execution_count": null,
   "id": "e0a9f7d5-d35b-45de-adae-6982d3f40b59",
   "metadata": {
    "tags": []
   },
   "outputs": [],
   "source": [
    "# remove grains with no peaks\n",
    "\n",
    "grains3 = [grain for grain in grains3 if \"no peaks\" not in grain.intensity_info]"
   ]
  },
  {
   "cell_type": "code",
   "execution_count": null,
   "id": "87c3d3f9-f9ad-4cc1-a8d1-4d897f48a064",
   "metadata": {
    "tags": []
   },
   "outputs": [],
   "source": [
    "centre_plot = False\n",
    "\n",
    "fig = plt.figure(figsize=(12, 12))\n",
    "ax = fig.add_subplot(projection='3d', proj_type=\"ortho\")\n",
    "xx = [grain.translation[0] for grain in grains3]\n",
    "yy = [grain.translation[1] for grain in grains3]\n",
    "zz = [grain.translation[2] for grain in grains3]\n",
    "# col = [utils.grain_to_rgb(grain) for grain in grains2]  # IPF-Z colour instead\n",
    "col = [float(grain.npks) for grain in grains3]\n",
    "sizes = [0.01*(float(grain.intensity_info.split(\"mean = \")[1].split(\" , \")[0].replace(\"'\", \"\"))) for grain in grains3]\n",
    "if centre_plot:\n",
    "    scatterplot = ax.scatter(xx-np.mean(xx), yy-np.mean(yy), zz, c=col, s=sizes)\n",
    "else:\n",
    "    scatterplot = ax.scatter(xx, yy, zz, c=col, s=sizes)\n",
    "ax.set_aspect(\"equal\")\n",
    "plt.colorbar(scatterplot)\n",
    "ax.set_title(\"Grains coloured by n peaks\")\n",
    "ax.set_xlabel(\"x\")\n",
    "ax.set_ylabel(\"y\")\n",
    "ax.set_zlabel(\"z\")\n",
    "plt.show()"
   ]
  },
  {
   "cell_type": "code",
   "execution_count": null,
   "id": "39784af8-8960-4a3b-8097-9923bb5517c7",
   "metadata": {
    "tags": []
   },
   "outputs": [],
   "source": [
    "fig, ax = plt.subplots()\n",
    "ax.hist([float(grain.npks) for grain in grains3], bins=50)\n",
    "# ax.semilogy()\n",
    "plt.show()"
   ]
  },
  {
   "cell_type": "code",
   "execution_count": null,
   "id": "9c847bd2-62e5-442b-a580-1b585407cde8",
   "metadata": {
    "tags": []
   },
   "outputs": [],
   "source": [
    "# find the spike\n",
    "absolute_minpks = 56"
   ]
  },
  {
   "cell_type": "code",
   "execution_count": null,
   "id": "e8f9240f-1f95-414d-9a48-583ff76e5a4e",
   "metadata": {
    "tags": []
   },
   "outputs": [],
   "source": [
    "# filter out grains with fewer than absolute_minpks peaks\n",
    "grains_filtered = [grain for grain in grains3 if float(grain.npks) > absolute_minpks]"
   ]
  },
  {
   "cell_type": "code",
   "execution_count": null,
   "id": "9bd8f651-5279-4071-9681-4bdf7905c826",
   "metadata": {
    "tags": []
   },
   "outputs": [],
   "source": [
    "centre_plot = False\n",
    "\n",
    "fig = plt.figure(figsize=(12, 12))\n",
    "ax = fig.add_subplot(projection='3d', proj_type=\"ortho\")\n",
    "xx = [grain.translation[0] for grain in grains_filtered]\n",
    "yy = [grain.translation[1] for grain in grains_filtered]\n",
    "zz = [grain.translation[2] for grain in grains_filtered]\n",
    "# col = [utils.grain_to_rgb(grain) for grain in grains_filtered]  # IPF-Z colour instead\n",
    "col = [float(grain.npks) for grain in grains_filtered]\n",
    "sizes = [0.01*(float(grain.intensity_info.split(\"mean = \")[1].split(\" , \")[0].replace(\"'\", \"\"))) for grain in grains_filtered]\n",
    "if centre_plot:\n",
    "    scatterplot = ax.scatter(xx-np.mean(xx), yy-np.mean(yy), zz, c=col, s=sizes)\n",
    "else:\n",
    "    scatterplot = ax.scatter(xx, yy, zz, c=col, s=sizes)\n",
    "ax.set_aspect(\"equal\")\n",
    "plt.colorbar(scatterplot)\n",
    "ax.set_title(\"Grains coloured by n peaks\")\n",
    "ax.set_xlabel(\"x\")\n",
    "ax.set_ylabel(\"y\")\n",
    "ax.set_zlabel(\"z\")\n",
    "plt.show()"
   ]
  },
  {
   "cell_type": "code",
   "execution_count": null,
   "id": "4dd93683-8749-4d45-817c-954d91f14e52",
   "metadata": {
    "tags": []
   },
   "outputs": [],
   "source": [
    "for g in grains_filtered:\n",
    "    g.intensity = float(g.intensity_info.split(\"mean = \")[1].split(\" , \")[0].replace(\"'\", \"\"))"
   ]
  },
  {
   "cell_type": "code",
   "execution_count": null,
   "id": "949697dd-6919-4226-a91c-505069df3598",
   "metadata": {
    "tags": []
   },
   "outputs": [],
   "source": [
    "# write the filtered grains to disk\n",
    "\n",
    "filtered_map_path = f'{sample}_{dataset}_nice_grains.map'\n",
    "\n",
    "ImageD11.grain.write_grain_file(filtered_map_path, grains_filtered)"
   ]
  },
  {
   "cell_type": "code",
   "execution_count": null,
   "id": "9f2f04e4-5248-4900-a146-cc339bc3cf56",
   "metadata": {
    "tags": []
   },
   "outputs": [],
   "source": [
    "# run makemap again against all peaks\n",
    "\n",
    "symmetry = \"cubic\"\n",
    "\n",
    "new_filtered_map_path = f'{sample}_{dataset}_nice_grains.map.new'\n",
    "new_cf_3d_path = cf_3d_path + '.new'\n",
    "\n",
    "makemap_output = !makemap.py -p {oldparfile} -u {filtered_map_path} -U {new_filtered_map_path} -f {cf_3d_path} -s {symmetry} -t {makemap_tol_seq[-1]} --omega_slop={omega_slop} --no_sort"
   ]
  },
  {
   "cell_type": "code",
   "execution_count": null,
   "id": "9572e1c0-094c-4d45-bd95-6366540ccd02",
   "metadata": {
    "tags": []
   },
   "outputs": [],
   "source": [
    "grains_final = ImageD11.grain.read_grain_file(new_filtered_map_path)"
   ]
  },
  {
   "cell_type": "code",
   "execution_count": null,
   "id": "f493a9ea-2744-4e2b-96d1-e8561c6ab395",
   "metadata": {
    "tags": []
   },
   "outputs": [],
   "source": [
    "centre_plot = False\n",
    "\n",
    "fig = plt.figure(figsize=(12, 12))\n",
    "ax = fig.add_subplot(projection='3d', proj_type=\"ortho\")\n",
    "xx = [grain.translation[0] for grain in grains_final]\n",
    "yy = [grain.translation[1] for grain in grains_final]\n",
    "zz = [grain.translation[2] for grain in grains_final]\n",
    "# col = [utils.grain_to_rgb(grain) for grain in grains_filtered]  # IPF-Z colour instead\n",
    "col = [float(grain.npks) for grain in grains_final]\n",
    "sizes = [0.01*(float(grain.intensity_info.split(\"mean = \")[1].split(\" , \")[0].replace(\"'\", \"\"))) for grain in grains_final]\n",
    "if centre_plot:\n",
    "    scatterplot = ax.scatter(xx-np.mean(xx), yy-np.mean(yy), zz, c=col, s=sizes)\n",
    "else:\n",
    "    scatterplot = ax.scatter(xx, yy, zz, c=col, s=sizes)\n",
    "ax.set_aspect(\"equal\")\n",
    "plt.colorbar(scatterplot)\n",
    "ax.set_title(\"Sample 4\\nGrains coloured by n peaks\")\n",
    "ax.set_xlabel(\"x\")\n",
    "ax.set_ylabel(\"y\")\n",
    "ax.set_zlabel(\"z\")\n",
    "plt.show()"
   ]
  },
  {
   "cell_type": "code",
   "execution_count": null,
   "id": "9ca1a55e-14b1-4672-b78f-d32ca1aa0c3a",
   "metadata": {
    "tags": []
   },
   "outputs": [],
   "source": [
    "fig, ax = plt.subplots()\n",
    "ax.hist([float(grain.npks) for grain in grains_final], bins=50)\n",
    "# ax.semilogy()\n",
    "plt.show()"
   ]
  },
  {
   "cell_type": "code",
   "execution_count": null,
   "id": "e8e8e76e-19aa-4b00-b7ec-5eae66435581",
   "metadata": {
    "tags": []
   },
   "outputs": [],
   "source": [
    "fig, ax = plt.subplots()\n",
    "ax.scatter([float(grain.npks) for grain in grains_final], [float(g.intensity_info.split(\"mean = \")[1].split(\" , \")[0].replace(\"'\", \"\")) for g in grains_final])\n",
    "ax.set_xlabel('npks')\n",
    "ax.set_ylabel('sum_int')\n",
    "ax.semilogy()\n",
    "plt.show()"
   ]
  },
  {
   "cell_type": "code",
   "execution_count": null,
   "id": "e145e4bd-f70a-47a3-b2f0-c06ab194d880",
   "metadata": {
    "tags": []
   },
   "outputs": [],
   "source": [
    "len(grains_final)"
   ]
  },
  {
   "cell_type": "code",
   "execution_count": null,
   "id": "d15b8b8d-65a0-4003-88fd-cf9117cc7869",
   "metadata": {
    "tags": []
   },
   "outputs": [],
   "source": [
    "# import makemap output columnfile with peak assignments\n",
    "cf_3d = ImageD11.columnfile.columnfile(new_cf_3d_path)\n",
    "\n",
    "# write 3D columnfile to disk\n",
    "ImageD11.columnfile.colfile_to_hdf(cf_3d, ds.col3dfile, name='peaks')"
   ]
  },
  {
   "cell_type": "code",
   "execution_count": null,
   "id": "0c99f8e7-3353-4677-927a-99ef749e2bbc",
   "metadata": {},
   "outputs": [],
   "source": [
    "ds.save_grains_to_disk(grains_filtered, phase_name=phase_str)"
   ]
  },
  {
   "cell_type": "code",
   "execution_count": null,
   "id": "997b7d27-c48c-41b0-8b9a-cc5b55cf073d",
   "metadata": {
    "tags": []
   },
   "outputs": [],
   "source": [
    "ds.save()"
   ]
  },
  {
   "cell_type": "code",
   "execution_count": null,
   "id": "c1306c40-ace6-4680-8ae9-d9ccdf5db8de",
   "metadata": {},
   "outputs": [],
   "source": [
    "# cleaning up\n",
    "\n",
    "for path in [\n",
    "    cf_3d_path,\n",
    "    cf_strong_allrings_path,\n",
    "    grid_peaks_path,\n",
    "    tmp_output_path + '.flt',\n",
    "    map_path,\n",
    "    new_map_path,\n",
    "    new_grid_peaks_path,\n",
    "    filtered_map_path,\n",
    "    new_filtered_map_path,\n",
    "    new_cf_3d_path\n",
    "]:\n",
    "    if os.path.exists(path):\n",
    "        os.remove(path)"
   ]
  },
  {
   "cell_type": "code",
   "execution_count": null,
   "id": "22576f0f-539a-4169-8638-b5021bad6790",
   "metadata": {},
   "outputs": [],
   "source": [
    "# change to 0 to allow all cells to be run automatically\n",
    "if 1:\n",
    "    raise ValueError(\"Hello!\")"
   ]
  },
  {
   "cell_type": "code",
   "execution_count": null,
   "id": "f85467e7-6780-40e5-9964-b37dcadd26f7",
   "metadata": {
    "tags": []
   },
   "outputs": [],
   "source": [
    "# Now that we're happy with our indexing parameters, we can run the below cell to do this in bulk for many samples/datasets\n",
    "# by default this will do all samples in sample_list, all datasets with a prefix of dset_prefix\n",
    "# you can add samples and datasets to skip in skips_dict\n",
    "\n",
    "skips_dict = {\n",
    "    \"FeAu_0p5_tR\": []\n",
    "}\n",
    "\n",
    "dset_prefix = \"ff\"\n",
    "\n",
    "sample_list = [\"FeAu_0p5_tR\"]\n",
    "    \n",
    "samples_dict = utils.find_datasets_to_process(ds.dataroot, skips_dict, dset_prefix, sample_list)\n",
    "\n",
    "\n",
    "for sample, datasets in samples_dict.items():\n",
    "    for dataset in datasets:\n",
    "        print(f\"Processing dataset {dataset} in sample {sample}\")\n",
    "        print(\"Importing DataSet object\")\n",
    "        dset_path = os.path.join(ds.analysisroot, sample, f\"{sample}_{dataset}\", f\"{sample}_{dataset}_dataset.h5\")\n",
    "        \n",
    "        if not os.path.exists(dset_path):\n",
    "            print(f\"Couldn't find {dataset} in {sample}, skipping\")\n",
    "            continue\n",
    "        ds = ImageD11.sinograms.dataset.load(dset_path)\n",
    "        print(f\"I have a DataSet {ds.dset} in sample {ds.sample}\")\n",
    "        \n",
    "        if os.path.exists(ds.grainsfile):\n",
    "            # check grains file for existance of minor phase, skip if it's there\n",
    "            with h5py.File(ds.grainsfile, \"r\") as hin:\n",
    "                if phase_str in hin.keys():\n",
    "                    print(f\"Already have grains for {dataset} in sample {sample}, skipping\")\n",
    "                    continue\n",
    "        \n",
    "        ds.phases = ds.get_phases_from_disk()\n",
    "        ucell = ds.phases.unitcells[phase_str]\n",
    "        \n",
    "        sample = ds.sample\n",
    "        dataset = ds.dset\n",
    "        \n",
    "        print(\"Loading 3D peaks\")\n",
    "        cf_3d = ds.get_cf_3d_from_disk()\n",
    "        ds.update_colfile_pars(cf_3d, phase_name=phase_str) \n",
    "        cf_3d_path = f'{sample}_{dataset}_3d_peaks.flt'\n",
    "        cf_3d.writefile(cf_3d_path)\n",
    "        \n",
    "        ucell.makerings(cf_3d.ds.max())\n",
    "        \n",
    "        print('Filtering peaks based on intensity')\n",
    "        cf_strong = select_ring_peaks_by_intensity(cf_3d, frac=cf_strong_frac, dsmax=cf_strong_dsmax, dstol=cf_strong_dstol)\n",
    "        cf_strong_allrings = select_ring_peaks_by_intensity(cf_3d, frac=cf_strong_allrings_frac, dsmax=cf_3d.ds.max(), dstol=cf_strong_allrings_dstol)\n",
    "        cf_strong_allrings_path = f'{sample}_{dataset}_3d_peaks_strong_all_rings.flt'\n",
    "        cf_strong_allrings.writefile(cf_strong_allrings_path)\n",
    "        \n",
    "        print('Filtering peaks to rings for grid index')\n",
    "        indexer = ImageD11.indexing.indexer_from_colfile(cf_strong)\n",
    "        indexer.ds_tol = indexer_ds_tol\n",
    "        indexer.assigntorings()\n",
    "        mask = np.zeros(cf_strong.nrows, dtype=bool)\n",
    "        for ring in rings_to_use:\n",
    "            mask |= indexer.ra == ring\n",
    "        peaks_to_export = cf_strong.copy()\n",
    "        peaks_to_export.filter(mask)\n",
    "        grid_peaks_path = f'{sample}_{dataset}_3d_peaks_grid.flt'\n",
    "        peaks_to_export.writefile(grid_peaks_path)\n",
    "        \n",
    "        omegas_sorted = np.sort(ds.omega)[0]\n",
    "        omega_step = np.round(np.diff(omegas_sorted).mean(), 3)\n",
    "        omega_slop = omega_step/2\n",
    "        \n",
    "        print('Launching grid index')\n",
    "        grid_index_parallel(grid_peaks_path, oldparfile, tmp_output_path, gridpars, translations)\n",
    "        \n",
    "        print('Running makemap against grid peaks')\n",
    "        new_grid_peaks_path = f'{sample}_{dataset}_3d_peaks_grid.flt.new'\n",
    "        makemap_output = !makemap.py -p {oldparfile} -u {map_path} -U {new_map_path} -f {grid_peaks_path} -s {symmetry} -t {makemap_tol_seq[-1]} --omega_slop={omega_slop} --no_sort\n",
    "        \n",
    "        print('Filtering grains based on minimum peaks')\n",
    "        grains3 = ImageD11.grain.read_grain_file(new_map_path)\n",
    "        grains3 = [grain for grain in grains3 if \"no peaks\" not in grain.intensity_info]\n",
    "        grains_filtered = [grain for grain in grains3 if float(grain.npks) > absolute_minpks]\n",
    "        \n",
    "        print('Running final makemap against all peaks')\n",
    "        filtered_map_path = f'{sample}_{dataset}_nice_grains.map'\n",
    "        ImageD11.grain.write_grain_file(filtered_map_path, grains_filtered)\n",
    "        new_filtered_map_path = f'{sample}_{dataset}_nice_grains.map.new'\n",
    "        new_cf_3d_path = cf_3d_path + '.new'\n",
    "        makemap_output = !makemap.py -p {oldparfile} -u {filtered_map_path} -U {new_filtered_map_path} -f {cf_3d_path} -s {symmetry} -t {makemap_tol_seq[-1]} --omega_slop={omega_slop} --no_sort\n",
    "        grains_final = ImageD11.grain.read_grain_file(new_filtered_map_path)\n",
    "        ds.save_grains_to_disk(grains_filtered, phase_name=phase_str)\n",
    "\n",
    "        cf_3d = ImageD11.columnfile.columnfile(new_cf_3d_path)\n",
    "        ImageD11.columnfile.colfile_to_hdf(cf_3d, ds.col3dfile, name='peaks')\n",
    "        \n",
    "        ds.save()\n",
    "        \n",
    "        print('Cleaning up')\n",
    "        for path in [\n",
    "            cf_3d_path,\n",
    "            cf_strong_allrings_path,\n",
    "            grid_peaks_path,\n",
    "            tmp_output_path + '.flt',\n",
    "            map_path,\n",
    "            new_map_path,\n",
    "            new_grid_peaks_path,\n",
    "            filtered_map_path,\n",
    "            new_filtered_map_path,\n",
    "            new_cf_3d_path\n",
    "        ]:\n",
    "            if os.path.exists(path):\n",
    "                os.remove(path)\n",
    "\n",
    "print(\"Done!\")"
   ]
  },
  {
   "cell_type": "code",
   "execution_count": null,
   "id": "a6e26e8b-5cee-42a9-b5fc-0b155a5d0c57",
   "metadata": {},
   "outputs": [],
   "source": []
  }
 ],
 "metadata": {
  "kernelspec": {
   "display_name": "Python 3 (main)",
   "language": "python",
   "name": "python3"
  },
  "language_info": {
   "codemirror_mode": {
    "name": "ipython",
    "version": 3
   },
   "file_extension": ".py",
   "mimetype": "text/x-python",
   "name": "python",
   "nbconvert_exporter": "python",
   "pygments_lexer": "ipython3",
   "version": "3.11.6"
  }
 },
 "nbformat": 4,
 "nbformat_minor": 5
}
