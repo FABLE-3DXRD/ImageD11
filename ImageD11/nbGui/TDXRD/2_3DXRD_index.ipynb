{
 "cells": [
  {
   "cell_type": "markdown",
   "metadata": {},
   "source": [
    "# Jupyter notebook based on ImageD11 to process 3DXRD data\n",
    "# Written by Haixing Fang, Jon Wright and James Ball\n",
    "## Date: 10/09/2024"
   ]
  },
  {
   "cell_type": "markdown",
   "metadata": {},
   "source": [
    "Now we have good experimental parameters, we can index more grains!"
   ]
  },
  {
   "cell_type": "code",
   "execution_count": null,
   "metadata": {
    "tags": []
   },
   "outputs": [],
   "source": [
    "exec(open('/data/id11/nanoscope/install_ImageD11_from_git.py').read())\n",
    "PYTHONPATH = setup_ImageD11_from_git( ) # ( os.path.join( os.environ['HOME'],'Code'), 'ImageD11_git' )"
   ]
  },
  {
   "cell_type": "code",
   "execution_count": null,
   "metadata": {
    "tags": []
   },
   "outputs": [],
   "source": [
    "# import functions we need\n",
    "\n",
    "import os, glob, pprint\n",
    "import numpy as np\n",
    "import h5py\n",
    "from tqdm.notebook import tqdm\n",
    "\n",
    "import matplotlib\n",
    "%matplotlib widget\n",
    "from matplotlib import pyplot as plt\n",
    "\n",
    "# import utils\n",
    "from ImageD11.nbGui import nb_utils as utils\n",
    "\n",
    "import ImageD11.grain\n",
    "import ImageD11.indexing\n",
    "import ImageD11.columnfile\n",
    "from ImageD11.sinograms import properties, dataset\n",
    "\n",
    "from ImageD11.blobcorrector import eiger_spatial\n",
    "from ImageD11.peakselect import select_ring_peaks_by_intensity"
   ]
  },
  {
   "cell_type": "code",
   "execution_count": null,
   "metadata": {
    "tags": []
   },
   "outputs": [],
   "source": [
    "# desination of H5 files\n",
    "\n",
    "dset_path = '/data/visitor/ihma439/id11/20231211/PROCESSED_DATA/James/20240909/FeAu_0p5_tR/FeAu_0p5_tR_ff1/FeAu_0p5_tR_ff1_dataset.h5'"
   ]
  },
  {
   "cell_type": "code",
   "execution_count": null,
   "metadata": {
    "tags": []
   },
   "outputs": [],
   "source": [
    "# load the dataset from file\n",
    "\n",
    "ds = ImageD11.sinograms.dataset.load(dset_path)\n",
    "sample = ds.sample\n",
    "dataset = ds.dset\n",
    "\n",
    "print(ds)\n",
    "print(ds.shape)"
   ]
  },
  {
   "cell_type": "code",
   "execution_count": null,
   "metadata": {
    "tags": []
   },
   "outputs": [],
   "source": [
    "ds.phases = ds.get_phases_from_disk()\n",
    "ds.phases.unitcells\n",
    "\n",
    "# now let's select a phase to index from our parameters json\n",
    "phase_str = 'Fe'\n",
    "\n",
    "ucell = ds.phases.unitcells[phase_str]\n",
    "\n",
    "print(ucell.lattice_parameters, ucell.spacegroup)"
   ]
  },
  {
   "cell_type": "code",
   "execution_count": null,
   "metadata": {
    "tags": []
   },
   "outputs": [],
   "source": [
    "# load 3d columnfile from disk\n",
    "\n",
    "cf_3d = ds.get_cf_3d_from_disk()\n",
    "ds.update_colfile_pars(cf_3d, phase_name=phase_str) \n",
    "\n",
    "cf_3d_path = f'{sample}_{dataset}_3d_peaks.flt'\n",
    "cf_3d.writefile(cf_3d_path)"
   ]
  },
  {
   "cell_type": "code",
   "execution_count": null,
   "metadata": {
    "tags": []
   },
   "outputs": [],
   "source": [
    "# plot the 3D peaks (fewer of them) as a cake (two-theta vs eta)\n",
    "# if the parameters in the par file are good, these should look like straight lines\n",
    "\n",
    "ucell.makerings(cf_3d.ds.max())\n",
    "\n",
    "fig, ax = plt.subplots(figsize=(16,9), layout='constrained')\n",
    "\n",
    "ax.scatter(cf_3d.ds, cf_3d.eta, s=1)\n",
    "ax.plot( ucell.ringds, [0,]*len(ucell.ringds), '|', ms=90, c=\"red\")\n",
    "\n",
    "ax.set_xlabel(\"D-star\")\n",
    "ax.set_ylabel(\"eta\")\n",
    "\n",
    "plt.show()"
   ]
  },
  {
   "cell_type": "code",
   "execution_count": null,
   "metadata": {
    "tags": []
   },
   "outputs": [],
   "source": [
    "# here we are filtering our peaks (cf_3d) to select only the strongest ones for indexing purposes only!\n",
    "# dsmax is being set to limit rings given to the indexer - 6-8 rings is normally good\n",
    "\n",
    "# USER: modify the \"frac\" parameter below and re-run the cell until the orange dot sits nicely on the \"elbow\" of the blue line\n",
    "# this indicates the fractional intensity cutoff we will select\n",
    "# if the blue line does not look elbow-shaped in the logscale plot, try changing the \"doplot\" parameter (the y scale of the logscale plot) until it does\n",
    "\n",
    "\n",
    "cf_strong_frac = 0.9837\n",
    "cf_strong_dsmax = 1.01\n",
    "cf_strong_dstol = 0.01\n",
    "\n",
    "cf_strong = select_ring_peaks_by_intensity(cf_3d, frac=cf_strong_frac, dsmax=cf_strong_dsmax, doplot=0.8, dstol=cf_strong_dstol)\n",
    "print(f\"Got {cf_strong.nrows} strong peaks for indexing\")\n",
    "cf_strong_path = f'{sample}_{dataset}_3d_peaks_strong.flt'\n",
    "cf_strong.writefile(cf_strong_path)"
   ]
  },
  {
   "cell_type": "code",
   "execution_count": null,
   "metadata": {
    "tags": []
   },
   "outputs": [],
   "source": [
    "# we will also export some additional strong peaks across all rings\n",
    "# this will be useful for grain refinement later (using makemap)\n",
    "\n",
    "cf_strong_allrings_frac = cf_strong_frac\n",
    "cf_strong_allrings_dstol = cf_strong_dstol\n",
    "\n",
    "cf_strong_allrings = select_ring_peaks_by_intensity(cf_3d, frac=cf_strong_allrings_frac, dsmax=cf_3d.ds.max(), doplot=0.8, dstol=cf_strong_allrings_dstol)\n",
    "print(f\"Got {cf_strong_allrings.nrows} strong peaks for makemap\")\n",
    "cf_strong_allrings_path = f'{sample}_{dataset}_3d_peaks_strong_all_rings.flt'\n",
    "cf_strong_allrings.writefile(cf_strong_allrings_path)"
   ]
  },
  {
   "cell_type": "code",
   "execution_count": null,
   "metadata": {
    "tags": []
   },
   "outputs": [],
   "source": [
    "# now we can take a look at the intensities of the remaining peaks\n",
    "\n",
    "fig, ax = plt.subplots(figsize=(16, 9), constrained_layout=True)\n",
    "\n",
    "ax.plot(ucell.ringds, [1e4,]*len(ucell.ringds), '|', ms=90, c=\"red\")\n",
    "\n",
    "ax.plot(cf_3d.ds, cf_3d.sum_intensity,',', label='cf_3d')\n",
    "ax.plot(cf_strong.ds, cf_strong.sum_intensity,',', label='cf_strong')\n",
    "ax.semilogy()\n",
    "\n",
    "ax.set_xlabel(\"Dstar\")\n",
    "ax.set_ylabel(\"Intensity\")\n",
    "ax.legend()\n",
    "\n",
    "plt.show()"
   ]
  },
  {
   "cell_type": "code",
   "execution_count": null,
   "metadata": {
    "tags": []
   },
   "outputs": [],
   "source": [
    "# specify our ImageD11 indexer with these peaks\n",
    "\n",
    "indexer = ImageD11.indexing.indexer_from_colfile(cf_strong)\n",
    "\n",
    "print(f\"Indexing {cf_strong.nrows} peaks\")\n",
    "\n",
    "# USER: set a tolerance in d-space (for assigning peaks to powder rings)\n",
    "\n",
    "indexer_ds_tol = 0.05\n",
    "indexer.ds_tol = indexer_ds_tol\n",
    "\n",
    "# change the log level so we can see what the ring assigments look like\n",
    "\n",
    "ImageD11.indexing.loglevel = 1\n",
    "\n",
    "# assign peaks to powder rings\n",
    "\n",
    "indexer.assigntorings()\n",
    "\n",
    "# change log level back again\n",
    "\n",
    "ImageD11.indexing.loglevel = 3"
   ]
  },
  {
   "cell_type": "code",
   "execution_count": null,
   "metadata": {},
   "outputs": [],
   "source": [
    "# let's plot the assigned peaks\n",
    "\n",
    "fig, ax = plt.subplots()\n",
    "\n",
    "# indexer.ra is the ring assignments\n",
    "\n",
    "ax.scatter(cf_strong.ds, cf_strong.eta, c=indexer.ra, cmap='tab20', s=1)\n",
    "ax.plot( ucell.ringds, [0,]*len(ucell.ringds), '|', ms=90, c=\"red\")\n",
    "ax.set_xlabel(\"d-star\")\n",
    "ax.set_ylabel(\"eta\")\n",
    "ax.set_xlim(cf_strong.ds.min()-0.05, cf_strong.ds.max()+0.05)\n",
    "\n",
    "plt.show()"
   ]
  },
  {
   "cell_type": "code",
   "execution_count": null,
   "metadata": {
    "tags": []
   },
   "outputs": [],
   "source": [
    "# now we are indexing!\n",
    "# we have to choose which rings we want to generate orientations on\n",
    "# generally we want two or three low-multiplicity rings that are isolated from other phases\n",
    "# take a look at the ring assignment output from a few cells above, and choose two or three\n",
    "rings_for_gen = [0, 1]\n",
    "\n",
    "# now we want to decide which rings to score our found orientations against\n",
    "# generally we can just exclude dodgy rings (close to other phases, only a few peaks in etc)\n",
    "rings_for_scoring = [0, 1, 2, 3]\n",
    "\n",
    "# the sequence of hkl tolerances the indexer will iterate through\n",
    "hkl_tols_seq = [0.01, 0.02, 0.03, 0.04]\n",
    "# the sequence of minpks fractions the indexer will iterate through\n",
    "fracs = [0.9, 0.75]\n",
    "# the tolerance in g-vector angle\n",
    "cosine_tol = np.cos(np.radians(90 - 0.25))\n",
    "# the max number of UBIs we can find per pair of rings\n",
    "max_grains = 1000\n",
    "\n",
    "grains, indexer = utils.do_index(cf=cf_strong,\n",
    "                                dstol=indexer.ds_tol,\n",
    "                                forgen=rings_for_gen,\n",
    "                                foridx=rings_for_scoring,\n",
    "                                hkl_tols=hkl_tols_seq,\n",
    "                                fracs=fracs,\n",
    "                                cosine_tol=cosine_tol,\n",
    "                                max_grains=max_grains,\n",
    "                                unitcell=ucell\n",
    ")"
   ]
  },
  {
   "cell_type": "code",
   "execution_count": null,
   "metadata": {
    "tags": []
   },
   "outputs": [],
   "source": [
    "# set grain GIDs (useful if we ever delete a grain)\n",
    "for i, g in enumerate(grains):\n",
    "    g.gid = i\n",
    "    g.translation = np.array([0., 0., 0.])"
   ]
  },
  {
   "cell_type": "code",
   "execution_count": null,
   "metadata": {},
   "outputs": [],
   "source": [
    "utils.plot_all_ipfs(grains)"
   ]
  },
  {
   "cell_type": "code",
   "execution_count": null,
   "metadata": {
    "tags": []
   },
   "outputs": [],
   "source": [
    "tmp_ubi_path = f'{sample}_{dataset}_grains.ubi'\n",
    "tmp_map_path = f'{sample}_{dataset}_grains.map'\n",
    "\n",
    "new_flt_path = f'{sample}_{dataset}_3d_peaks_strong_all_rings.flt.new'  # flt file containing assignments from makemap\n",
    "unindexed_flt_path = f'{sample}_{dataset}_3d_peaks_strong_all_rings.flt.unindexed'  # remaining unassigned peaks from makemap"
   ]
  },
  {
   "cell_type": "code",
   "execution_count": null,
   "metadata": {
    "tags": []
   },
   "outputs": [],
   "source": [
    "ImageD11.grain.write_grain_file(tmp_ubi_path, grains)"
   ]
  },
  {
   "cell_type": "code",
   "execution_count": null,
   "metadata": {
    "tags": []
   },
   "outputs": [],
   "source": [
    "omegas_sorted = np.sort(ds.omega)[0]\n",
    "omega_step = np.round(np.diff(omegas_sorted).mean(), 3)\n",
    "omega_slop = omega_step/2\n",
    "\n",
    "makemap_hkl_tol_seq = [0.05, 0.025, 0.01]"
   ]
  },
  {
   "cell_type": "code",
   "execution_count": null,
   "metadata": {
    "tags": []
   },
   "outputs": [],
   "source": [
    "# write a classic parameter file for makemap.py\n",
    "\n",
    "from ImageD11 import parameters\n",
    "\n",
    "pars = parameters.parameters()\n",
    "pars.parameters.update(ds.phases.get_xfab_pars_dict(phase_str))\n",
    "\n",
    "oldparfile = phase_str + '.par'\n",
    "\n",
    "pars.saveparameters(oldparfile)"
   ]
  },
  {
   "cell_type": "code",
   "execution_count": null,
   "metadata": {
    "tags": []
   },
   "outputs": [],
   "source": [
    "symmetry = \"cubic\"\n",
    "\n",
    "for inc, makemap_tol in enumerate(makemap_hkl_tol_seq):\n",
    "    print(f\"Running makemap {inc+1}/{len(makemap_hkl_tol_seq)}\")\n",
    "    if inc == 0:  # ubi into map\n",
    "        makemap_output = !makemap.py -p {oldparfile} -u {tmp_ubi_path} -U {tmp_map_path} -f {cf_strong_allrings_path} -F {unindexed_flt_path} -s {symmetry} -t {makemap_hkl_tol_seq[inc]} --omega_slop={omega_slop} --no_sort\n",
    "    else:  # map into map\n",
    "        makemap_output = !makemap.py -p {oldparfile} -u {tmp_map_path} -U {tmp_map_path} -f {cf_strong_allrings_path} -F {unindexed_flt_path} -s {symmetry} -t {makemap_hkl_tol_seq[inc]} --omega_slop={omega_slop} --no_sort"
   ]
  },
  {
   "cell_type": "code",
   "execution_count": null,
   "metadata": {
    "tags": []
   },
   "outputs": [],
   "source": [
    "# re-import our refined grains from the makemap procedure\n",
    "\n",
    "grains2 = ImageD11.grain.read_grain_file(tmp_map_path)"
   ]
  },
  {
   "cell_type": "code",
   "execution_count": null,
   "metadata": {
    "tags": []
   },
   "outputs": [],
   "source": [
    "# remove grains with no peaks\n",
    "\n",
    "grains2 = [grain for grain in grains2 if \"no peaks\" not in grain.intensity_info]"
   ]
  },
  {
   "cell_type": "code",
   "execution_count": null,
   "metadata": {
    "tags": []
   },
   "outputs": [],
   "source": [
    "centre_plot = False\n",
    "\n",
    "fig = plt.figure(figsize=(12, 12))\n",
    "ax = fig.add_subplot(projection='3d')\n",
    "xx = [grain.translation[0] for grain in grains2]\n",
    "yy = [grain.translation[1] for grain in grains2]\n",
    "zz = [grain.translation[2] for grain in grains2]\n",
    "# col = [utils.grain_to_rgb(grain) for grain in grains2]  # IPF-Z colour instead\n",
    "col = [float(grain.npks) for grain in grains2]\n",
    "sizes = [0.01*(float(grain.intensity_info.split(\"mean = \")[1].split(\" , \")[0].replace(\"'\", \"\"))) for grain in grains2]\n",
    "if centre_plot:\n",
    "    scatterplot = ax.scatter(xx-np.mean(xx), yy-np.mean(yy), zz, c=col, s=sizes)\n",
    "else:\n",
    "    scatterplot = ax.scatter(xx, yy, zz, c=col, s=sizes)\n",
    "ax.set_xlim(-200,200)\n",
    "ax.set_ylim(-200,200)\n",
    "ax.set_zlim(-200,200)\n",
    "plt.colorbar(scatterplot)\n",
    "ax.set_title(\"Grains coloured by n peaks\")\n",
    "ax.set_xlabel(\"x\")\n",
    "ax.set_ylabel(\"y\")\n",
    "ax.set_zlabel(\"z\")\n",
    "plt.show()"
   ]
  },
  {
   "cell_type": "code",
   "execution_count": null,
   "metadata": {
    "tags": []
   },
   "outputs": [],
   "source": [
    "fig, ax = plt.subplots()\n",
    "ax.hist([float(grain.npks) for grain in grains2], bins=30)\n",
    "plt.show()"
   ]
  },
  {
   "cell_type": "code",
   "execution_count": null,
   "metadata": {
    "tags": []
   },
   "outputs": [],
   "source": [
    "# find the spike\n",
    "absolute_minpks = 120"
   ]
  },
  {
   "cell_type": "code",
   "execution_count": null,
   "metadata": {
    "tags": []
   },
   "outputs": [],
   "source": [
    "# filter out grains with fewer than 15 peaks\n",
    "grains_filtered = [grain for grain in grains2 if float(grain.npks) > absolute_minpks]"
   ]
  },
  {
   "cell_type": "code",
   "execution_count": null,
   "metadata": {
    "tags": []
   },
   "outputs": [],
   "source": [
    "centre_plot = False\n",
    "\n",
    "fig = plt.figure(figsize=(12, 12))\n",
    "ax = fig.add_subplot(projection='3d')\n",
    "xx = [grain.translation[0] for grain in grains_filtered]\n",
    "yy = [grain.translation[1] for grain in grains_filtered]\n",
    "zz = [grain.translation[2] for grain in grains_filtered]\n",
    "# col = [utils.grain_to_rgb(grain) for grain in grains_filtered]  # IPF-Z colour instead\n",
    "col = [float(grain.npks) for grain in grains_filtered]\n",
    "sizes = [0.01*(float(grain.intensity_info.split(\"mean = \")[1].split(\" , \")[0].replace(\"'\", \"\"))) for grain in grains_filtered]\n",
    "if centre_plot:\n",
    "    scatterplot = ax.scatter(xx-np.mean(xx), yy-np.mean(yy), zz, c=col, s=sizes)\n",
    "else:\n",
    "    scatterplot = ax.scatter(xx, yy, zz, c=col, s=sizes)\n",
    "ax.set_xlim(-200,200)\n",
    "ax.set_ylim(-200,200)\n",
    "ax.set_zlim(-200,200)\n",
    "plt.colorbar(scatterplot)\n",
    "ax.set_title(\"Grains coloured by n peaks\")\n",
    "ax.set_xlabel(\"x\")\n",
    "ax.set_ylabel(\"y\")\n",
    "ax.set_zlabel(\"z\")\n",
    "plt.show()"
   ]
  },
  {
   "cell_type": "code",
   "execution_count": null,
   "metadata": {
    "tags": []
   },
   "outputs": [],
   "source": [
    "# we now have our trustworthy grains\n",
    "# we should run makemap again to regenerate our peak <-> grain assigments\n",
    "\n",
    "map_path = f'{sample}_{dataset}_grains_filtered.map'\n",
    "final_unindexed_flt_path = f'{sample}_{dataset}_3d_peaks.flt.unindexed'\n",
    "final_new_flt_path = f'{sample}_{dataset}_3d_peaks.flt.new'\n",
    "\n",
    "# write filtered grains to disk\n",
    "ImageD11.grain.write_grain_file(map_path, grains_filtered)\n",
    "\n",
    "# run makemap on filtered grains with all 3D peals\n",
    "makemap_output = !makemap.py -p {oldparfile} -u {map_path} -U {map_path} -f {cf_3d_path} -F {final_unindexed_flt_path} -s {symmetry} -t {makemap_hkl_tol_seq[-1]} --omega_slop={omega_slop} --no_sort\n",
    "\n",
    "# import makemap output columnfile with peak assignments\n",
    "cf_3d = ImageD11.columnfile.columnfile(final_new_flt_path)\n",
    "\n",
    "# write 3D columnfile to disk\n",
    "ImageD11.columnfile.colfile_to_hdf(cf_3d, ds.col3dfile, name='peaks')\n",
    "\n",
    "# re-import filtered grains with new peak statistics\n",
    "grains_filtered = ImageD11.grain.read_grain_file(map_path)"
   ]
  },
  {
   "cell_type": "code",
   "execution_count": null,
   "metadata": {
    "tags": []
   },
   "outputs": [],
   "source": [
    "# save grain data\n",
    "\n",
    "ds.save_grains_to_disk(grains_filtered, phase_name=phase_str)"
   ]
  },
  {
   "cell_type": "code",
   "execution_count": null,
   "metadata": {
    "tags": []
   },
   "outputs": [],
   "source": [
    "centre_plot = False\n",
    "\n",
    "fig = plt.figure(figsize=(12, 12))\n",
    "ax = fig.add_subplot(projection='3d')\n",
    "xx = [grain.translation[0] for grain in grains_filtered]\n",
    "yy = [grain.translation[1] for grain in grains_filtered]\n",
    "zz = [grain.translation[2] for grain in grains_filtered]\n",
    "# col = [utils.grain_to_rgb(grain) for grain in grains_filtered]  # IPF-Z colour instead\n",
    "col = [float(grain.npks) for grain in grains_filtered]\n",
    "sizes = [0.01*(float(grain.intensity_info.split(\"mean = \")[1].split(\" , \")[0].replace(\"'\", \"\"))) for grain in grains_filtered]\n",
    "if centre_plot:\n",
    "    scatterplot = ax.scatter(xx-np.mean(xx), yy-np.mean(yy), zz, c=col, s=sizes)\n",
    "else:\n",
    "    scatterplot = ax.scatter(xx, yy, zz, c=col, s=sizes)\n",
    "ax.set_xlim(-200,200)\n",
    "ax.set_ylim(-200,200)\n",
    "ax.set_zlim(-200,200)\n",
    "plt.colorbar(scatterplot)\n",
    "ax.set_title(\"Grains coloured by n peaks\")\n",
    "ax.set_xlabel(\"x\")\n",
    "ax.set_ylabel(\"y\")\n",
    "ax.set_zlabel(\"z\")\n",
    "plt.show()"
   ]
  },
  {
   "cell_type": "code",
   "execution_count": null,
   "metadata": {},
   "outputs": [],
   "source": [
    "# cleaning up\n",
    "\n",
    "for path in [\n",
    "    cf_3d_path,\n",
    "    cf_strong_path,\n",
    "    cf_strong_allrings_path,\n",
    "    tmp_ubi_path,\n",
    "    tmp_map_path,\n",
    "    new_flt_path,\n",
    "    unindexed_flt_path,\n",
    "    map_path,\n",
    "    final_unindexed_flt_path,\n",
    "    final_new_flt_path\n",
    "]:\n",
    "    if os.path.exists(path):\n",
    "        os.remove(path)"
   ]
  },
  {
   "cell_type": "code",
   "execution_count": null,
   "metadata": {},
   "outputs": [],
   "source": [
    "# change to 0 to allow all cells to be run automatically\n",
    "if 1:\n",
    "    raise ValueError(\"Hello!\")"
   ]
  },
  {
   "cell_type": "code",
   "execution_count": null,
   "metadata": {},
   "outputs": [],
   "source": [
    "# Now that we're happy with our indexing parameters, we can run the below cell to do this in bulk for many samples/datasets\n",
    "# by default this will do all samples in sample_list, all datasets with a prefix of dset_prefix\n",
    "# you can add samples and datasets to skip in skips_dict\n",
    "\n",
    "skips_dict = {\n",
    "    \"FeAu_0p5_tR\": []\n",
    "}\n",
    "\n",
    "dset_prefix = \"ff\"\n",
    "\n",
    "sample_list = [\"FeAu_0p5_tR\"]\n",
    "\n",
    "rawdata_path = ds.dataroot\n",
    "processed_data_root_dir = ds.analysisroot\n",
    "samples_dict = utils.find_datasets_to_process(rawdata_path, skips_dict, dset_prefix, sample_list)\n",
    "\n",
    "\n",
    "for sample, datasets in samples_dict.items():\n",
    "    for dataset in datasets:\n",
    "        print(f\"Processing dataset {dataset} in sample {sample}\")\n",
    "        print(\"Importing DataSet object\")\n",
    "        dset_path = os.path.join(processed_data_root_dir, sample, f\"{sample}_{dataset}\", f\"{sample}_{dataset}_dataset.h5\")\n",
    "        \n",
    "        if not os.path.exists(dset_path):\n",
    "            print(\"Couldn't find, skipp \")\n",
    "        \n",
    "        ds = ImageD11.sinograms.dataset.load(dset_path)\n",
    "        print(f\"I have a DataSet {ds.dset} in sample {ds.sample}\")\n",
    "        \n",
    "        if os.path.exists(ds.grainsfile):\n",
    "            print(f\"Found existing grains file for {dataset} in {sample}, skipping\")\n",
    "            continue\n",
    "        \n",
    "        ds.phases = ds.get_phases_from_disk()\n",
    "        ucell = ds.phases.unitcells[phase_str]\n",
    "        sample = ds.sample\n",
    "        dataset = ds.dset\n",
    "        \n",
    "        print(\"Loading 3D peaks\")\n",
    "        cf_3d = ds.get_cf_3d_from_disk()\n",
    "        ds.update_colfile_pars(cf_3d, phase_name=phase_str) \n",
    "        cf_3d_path = f'{sample}_{dataset}_3d_peaks.flt'\n",
    "        cf_3d.writefile(cf_3d_path)\n",
    "        \n",
    "        ucell.makerings(cf_3d.ds.max())\n",
    "\n",
    "        print(\"Filtering 3D peaks\")\n",
    "        cf_strong = select_ring_peaks_by_intensity(cf_3d, frac=cf_strong_frac, dsmax=cf_strong_dsmax, doplot=None, dstol=cf_strong_dstol)\n",
    "        print(f\"Got {cf_strong.nrows} strong peaks for indexing\")\n",
    "        cf_strong_path = f'{sample}_{dataset}_3d_peaks_strong.flt'\n",
    "        cf_strong.writefile(cf_strong_path)\n",
    "\n",
    "        cf_strong_allrings = select_ring_peaks_by_intensity(cf_3d, frac=cf_strong_allrings_frac, dsmax=cf_3d.ds.max(), doplot=None, dstol=cf_strong_allrings_dstol)\n",
    "        print(f\"Got {cf_strong_allrings.nrows} strong peaks for makemap\")\n",
    "        cf_strong_allrings_path = f'{sample}_{dataset}_3d_peaks_strong_all_rings.flt'\n",
    "        cf_strong_allrings.writefile(cf_strong_allrings_path)\n",
    "        \n",
    "        grains, indexer = utils.do_index(cf=cf_strong,\n",
    "                                        dstol=indexer.ds_tol,\n",
    "                                        forgen=rings_for_gen,\n",
    "                                        foridx=rings_for_scoring,\n",
    "                                        hkl_tols=hkl_tols_seq,\n",
    "                                        fracs=fracs,\n",
    "                                        cosine_tol=cosine_tol,\n",
    "                                        max_grains=max_grains\n",
    "        )\n",
    "\n",
    "        grains = [ImageD11.grain.grain(ubi, translation=np.array([0., 0., 0.])) for ubi in indexer.ubis]\n",
    "\n",
    "        for i, g in enumerate(grains):\n",
    "            g.gid = i\n",
    "\n",
    "        tmp_ubi_path = f'{sample}_{dataset}_grains.ubi'\n",
    "        tmp_map_path = f'{sample}_{dataset}_grains.map'\n",
    "\n",
    "        new_flt_path = f'{sample}_{dataset}_3d_peaks_strong_all_rings.flt.new'  # flt file containing assignments from makemap\n",
    "        unindexed_flt_path = f'{sample}_{dataset}_3d_peaks_strong_all_rings.flt.unindexed'  # remaining unassigned peaks from makemap\n",
    "\n",
    "        ImageD11.grain.write_grain_file(tmp_ubi_path, grains)\n",
    "\n",
    "        omegas_sorted = np.sort(ds.omega)[0]\n",
    "        omega_slop = np.round(np.diff(omegas_sorted).mean(), 3)\n",
    "\n",
    "        makemap_hkl_tol_seq = makemap_hkl_tol_seq\n",
    "\n",
    "        for inc, makemap_tol in enumerate(makemap_hkl_tol_seq):\n",
    "            print(f\"Running makemap {inc+1}/{len(makemap_hkl_tol_seq)}\")\n",
    "            if inc == 0:  # ubi into map\n",
    "                makemap_output = !makemap.py -p {oldparfile} -u {tmp_ubi_path} -U {tmp_map_path} -f {cf_strong_allrings_path} -F {unindexed_flt_path} -s cubic -t {makemap_hkl_tol_seq[inc]} --omega_slop={omega_slop} --no_sort\n",
    "            else:  # map into map\n",
    "                makemap_output = !makemap.py -p {oldparfile} -u {tmp_map_path} -U {tmp_map_path} -f {cf_strong_allrings_path} -F {unindexed_flt_path} -s cubic -t {makemap_hkl_tol_seq[inc]} --omega_slop={omega_slop} --no_sort\n",
    "\n",
    "        grains2 = ImageD11.grain.read_grain_file(tmp_map_path)\n",
    "        \n",
    "        # remove grains with no peaks\n",
    "        grains2 = [grain for grain in grains2 if \"no peaks\" not in grain.intensity_info]\n",
    "        grains_filtered = [grain for grain in grains2 if float(grain.npks) > absolute_minpks]\n",
    "        \n",
    "        map_path = f'{sample}_{dataset}_grains_filtered.map'\n",
    "        final_unindexed_flt_path = f'{sample}_{dataset}_3d_peaks.flt.unindexed'\n",
    "        final_new_flt_path = f'{sample}_{dataset}_3d_peaks.flt.new'\n",
    "        ImageD11.grain.write_grain_file(map_path, grains_filtered)\n",
    "        makemap_output = !makemap.py -p {oldparfile} -u {map_path} -U {map_path} -f {cf_3d_path} -F {final_unindexed_flt_path} -s {symmetry} -t {makemap_hkl_tol_seq[-1]} --omega_slop={omega_slop} --no_sort\n",
    "        cf_3d = ImageD11.columnfile.columnfile(final_new_flt_path)\n",
    "        ImageD11.columnfile.colfile_to_hdf(cf_3d, ds.col3dfile, name='peaks')\n",
    "        grains_filtered = ImageD11.grain.read_grain_file(map_path)\n",
    "\n",
    "        print(\"Saving grains\")\n",
    "        ds.save_grains_to_disk(grains_filtered, phase_name=phase_str)\n",
    "        \n",
    "        print(\"Cleaning up\")\n",
    "        for path in [\n",
    "            cf_3d_path,\n",
    "            cf_strong_path,\n",
    "            cf_strong_allrings_path,\n",
    "            tmp_ubi_path,\n",
    "            tmp_map_path,\n",
    "            new_flt_path,\n",
    "            unindexed_flt_path,\n",
    "            map_path,\n",
    "            final_unindexed_flt_path,\n",
    "            final_new_flt_path\n",
    "        ]:\n",
    "            if os.path.exists(path):\n",
    "                os.remove(path)\n",
    "\n",
    "print(\"Done!\")"
   ]
  },
  {
   "cell_type": "code",
   "execution_count": null,
   "metadata": {},
   "outputs": [],
   "source": []
  }
 ],
 "metadata": {
  "kernelspec": {
   "display_name": "Python 3 (main)",
   "language": "python",
   "name": "python3"
  },
  "language_info": {
   "codemirror_mode": {
    "name": "ipython",
    "version": 3
   },
   "file_extension": ".py",
   "mimetype": "text/x-python",
   "name": "python",
   "nbconvert_exporter": "python",
   "pygments_lexer": "ipython3",
   "version": "3.11.6"
  }
 },
 "nbformat": 4,
 "nbformat_minor": 4
}
