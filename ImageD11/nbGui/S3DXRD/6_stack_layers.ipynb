{
 "cells": [
  {
   "cell_type": "markdown",
   "id": "7a9839f6-a3f2-4b34-b0d5-9095be4eac08",
   "metadata": {
    "tags": []
   },
   "source": [
    "# Jupyter notebook based on ImageD11 to process scanning 3DXRD data\n",
    "# Written by Haixing Fang, Jon Wright and James Ball\n",
    "## Date: 26/02/2024"
   ]
  },
  {
   "cell_type": "code",
   "execution_count": null,
   "id": "92baa2cd-4e85-4998-979b-88ef0a674c48",
   "metadata": {
    "tags": []
   },
   "outputs": [],
   "source": [
    "exec(open('/data/id11/nanoscope/install_ImageD11_from_git.py').read())\n",
    "PYTHONPATH = setup_ImageD11_from_git( ) # ( os.path.join( os.environ['HOME'],'Code'), 'ImageD11_git' )"
   ]
  },
  {
   "cell_type": "code",
   "execution_count": null,
   "id": "74e066b0-ae13-46e9-81b0-a11ea524a469",
   "metadata": {
    "tags": []
   },
   "outputs": [],
   "source": [
    "# import functions we need\n",
    "\n",
    "import concurrent.futures\n",
    "import timeit\n",
    "import glob\n",
    "import pprint\n",
    "from shutil import rmtree\n",
    "import time\n",
    "from functools import partial\n",
    "\n",
    "import matplotlib\n",
    "%matplotlib ipympl\n",
    "\n",
    "import h5py\n",
    "from tqdm.notebook import tqdm\n",
    "import numpy as np\n",
    "import matplotlib.pyplot as plt\n",
    "\n",
    "import ImageD11.columnfile\n",
    "from ImageD11.sinograms import properties, roi_iradon, dataset\n",
    "from ImageD11.sinograms.sinogram import GrainSinogram, build_slice_arrays, write_slice_recon, read_slice_recon, write_h5, read_h5, write_pbp_strain\n",
    "from ImageD11.sinograms.tensor_map import TensorMap\n",
    "from ImageD11.grain import grain\n",
    "\n",
    "import ImageD11.nbGui.nb_utils as utils\n"
   ]
  },
  {
   "cell_type": "code",
   "execution_count": null,
   "id": "ec147b86-3ce5-44ed-bfaf-bc7b3fde371e",
   "metadata": {},
   "outputs": [],
   "source": [
    "# USER: Pass path to dataset file\n",
    "\n",
    "dset_file = 'si_cube_test/processed/Si_cube/Si_cube_S3DXRD_nt_moves_dty/Si_cube_S3DXRD_nt_moves_dty_dataset.h5'\n",
    "\n",
    "ds = ImageD11.sinograms.dataset.load(dset_file)\n",
    "   \n",
    "sample = ds.sample\n",
    "dataset = ds.dsname\n",
    "rawdata_path = ds.dataroot\n",
    "processed_data_root_dir = ds.analysisroot\n",
    "\n",
    "print(ds)\n",
    "print(ds.shape)"
   ]
  },
  {
   "cell_type": "code",
   "execution_count": null,
   "id": "a1ff363a-8106-45c4-b4de-f557f33c852a",
   "metadata": {
    "tags": []
   },
   "outputs": [],
   "source": [
    "samples_dict = {}\n",
    "\n",
    "skips_dict = {\n",
    "    \"FeAu_0p5_tR_nscope\": [\"top_100um\", \"top_-100um\"]\n",
    "}\n",
    "\n",
    "dset_prefix = \"top\"\n",
    "\n",
    "sample_list = [\"FeAu_0p5_tR_nscope\"]\n",
    "\n",
    "for sample in sample_list:\n",
    "    all_dset_folders_for_sample = os.listdir(os.path.join(rawdata_path, sample))\n",
    "    dsets_list = []\n",
    "    for folder in all_dset_folders_for_sample:\n",
    "        if dset_prefix in folder:\n",
    "            dset_name = folder.split(f\"{sample}_\")[1]\n",
    "            if dset_name not in skips_dict[sample]:\n",
    "                dsets_list.append(dset_name)\n",
    "\n",
    "    samples_dict[sample] = dsets_list\n",
    "    \n",
    "# manually override:\n",
    "\n",
    "samples_dict = {\"FeAu_0p5_tR_nscope\": [\"top_150um\", \"top_200um\", \"top_250um\"]}"
   ]
  },
  {
   "cell_type": "code",
   "execution_count": null,
   "id": "e659e4b6-2962-45c0-a980-d8207a3479be",
   "metadata": {},
   "outputs": [],
   "source": [
    "# pick a specific sample to continue\n",
    "\n",
    "sample = 'FeAu_0p5_tR_nscope'\n",
    "\n",
    "# pick the name of the H5 group to import the TensorMap from\n",
    "\n",
    "tmap_h5group = 'TensorMap_YSZ_refined'\n",
    "\n",
    "from collections import OrderedDict\n",
    "\n",
    "ds_dict = OrderedDict()\n",
    "\n",
    "for dataset in samples_dict[sample]:\n",
    "    # read the ds\n",
    "    dset_path = os.path.join(processed_data_root_dir, sample, f\"{sample}_{dataset}\", f\"{sample}_{dataset}_dataset.h5\")\n",
    "    ds = ImageD11.sinograms.dataset.load(dset_path)\n",
    "    \n",
    "    # read the tensormaps\n",
    "    ds.tensor_map = TensorMap.from_h5(ds.grainsfile, h5group=tmap_h5group)\n",
    "    ds_dict[dataset] = ds"
   ]
  },
  {
   "cell_type": "code",
   "execution_count": null,
   "id": "5a67e6da-0581-4b35-ab55-27a53982d774",
   "metadata": {},
   "outputs": [],
   "source": [
    "# in this case, first scan  has the Z motor at its lowest value\n",
    "# you should double-check this for your data!\n",
    "# this means we're scanning the highest region on the sample first\n",
    "# then moving down in the sample as we increase the Z number\n",
    "# therefore we want the combined tensormaps in reverse order\n",
    "\n",
    "# choose the z step for your data\n",
    "# in our case we assume it's the same as the y step\n",
    "# this may not be true for you!!!\n",
    "\n",
    "zstep = ds.ystep\n",
    "\n",
    "combined_tensormap = TensorMap.from_stack([ds.tensor_map for ds in list(ds_dict.values())][::-1], zstep=zstep)"
   ]
  },
  {
   "cell_type": "code",
   "execution_count": null,
   "id": "798acf0d-c5c7-47d8-b0b5-ce8cc89a87e9",
   "metadata": {},
   "outputs": [],
   "source": [
    "# compute and plot strains for Z slice 0\n",
    "\n",
    "fig, axs = plt.subplots(3,3, sharex=True, sharey=True, layout='constrained')\n",
    "for i in range(3):\n",
    "    for j in range(3):\n",
    "        axs[i,j].imshow(combined_tensormap.eps_sample[0, ..., i, j])\n",
    "        axs[i,j].set_title(f'eps_{i+1}{j+1}')\n",
    "plt.show()"
   ]
  },
  {
   "cell_type": "code",
   "execution_count": null,
   "id": "28707736-3db4-476c-9204-0ae15ead9365",
   "metadata": {},
   "outputs": [],
   "source": [
    "# export to file\n",
    "\n",
    "combined_tensormap.to_h5('combined.h5')\n",
    "combined_tensormap.to_paraview('combined.h5')"
   ]
  },
  {
   "cell_type": "code",
   "execution_count": null,
   "id": "16775ee0-1d44-4557-874d-8c06fe607e2c",
   "metadata": {},
   "outputs": [],
   "source": []
  }
 ],
 "metadata": {
  "kernelspec": {
   "display_name": "Python 3 (main)",
   "language": "python",
   "name": "python3"
  },
  "language_info": {
   "codemirror_mode": {
    "name": "ipython",
    "version": 3
   },
   "file_extension": ".py",
   "mimetype": "text/x-python",
   "name": "python",
   "nbconvert_exporter": "python",
   "pygments_lexer": "ipython3",
   "version": "3.11.6"
  }
 },
 "nbformat": 4,
 "nbformat_minor": 5
}
