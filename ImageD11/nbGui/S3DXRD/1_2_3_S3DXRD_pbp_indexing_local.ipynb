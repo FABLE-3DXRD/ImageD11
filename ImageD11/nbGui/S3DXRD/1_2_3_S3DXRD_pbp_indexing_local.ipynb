{
 "cells": [
  {
   "cell_type": "code",
   "execution_count": null,
   "metadata": {
    "tags": []
   },
   "outputs": [],
   "source": [
    "# USER: Change the path below to point to your local copy of ImageD11:\n",
    "\n",
    "import os\n",
    "\n",
    "home_dir = !echo $HOME\n",
    "home_dir = str(home_dir[0])\n",
    "\n",
    "# USER: You can change this location if you want\n",
    "\n",
    "id11_code_path = os.path.join(home_dir, \"Code/ImageD11\")\n",
    "\n",
    "import sys\n",
    "\n",
    "sys.path.insert(0, id11_code_path)\n",
    "\n",
    "os.environ['OMP_NUM_THREADS']='1'"
   ]
  },
  {
   "cell_type": "code",
   "execution_count": null,
   "metadata": {
    "tags": []
   },
   "outputs": [],
   "source": [
    "import numpy as np\n",
    "from matplotlib import pyplot as plt\n",
    "%matplotlib ipympl\n",
    "\n",
    "import ImageD11.sinograms.point_by_point\n",
    "import ImageD11.sinograms.dataset\n",
    "import ImageD11.sinograms.properties\n",
    "import ImageD11.columnfile\n",
    "\n",
    "import ImageD11.nbGui.nb_utils as utils"
   ]
  },
  {
   "cell_type": "code",
   "execution_count": null,
   "metadata": {
    "tags": []
   },
   "outputs": [],
   "source": [
    "# NOTE: For old datasets before the new directory layout structure, we don't distinguish between RAW_DATA and PROCESSED_DATA\n",
    "\n",
    "### USER: specify your experimental directory\n",
    "\n",
    "rawdata_path = \"/data/visitor/ihma439/id11/20231211/RAW_DATA\"\n",
    "\n",
    "!ls -lrt {rawdata_path}\n",
    "\n",
    "### USER: specify where you want your processed data to go\n",
    "\n",
    "processed_data_root_dir = \"/data/visitor/ihma439/id11/20231211/PROCESSED_DATA/James/nb_testing\""
   ]
  },
  {
   "cell_type": "code",
   "execution_count": null,
   "metadata": {
    "tags": []
   },
   "outputs": [],
   "source": [
    "# USER: pick a sample and a dataset you want to segment\n",
    "\n",
    "sample = \"FeAu_0p5_tR_nscope\"\n",
    "dataset = \"top_250um\""
   ]
  },
  {
   "cell_type": "code",
   "execution_count": null,
   "metadata": {
    "tags": []
   },
   "outputs": [],
   "source": [
    "# desination of H5 files\n",
    "\n",
    "dset_file = os.path.join(processed_data_root_dir, sample, f\"{sample}_{dataset}\", f\"{sample}_{dataset}_dataset.h5\")"
   ]
  },
  {
   "cell_type": "code",
   "execution_count": null,
   "metadata": {
    "tags": []
   },
   "outputs": [],
   "source": [
    "# load the dataset from file\n",
    "\n",
    "ds = ImageD11.sinograms.dataset.load(dset_file)\n",
    "\n",
    "print(ds)\n",
    "print(ds.shape)"
   ]
  },
  {
   "cell_type": "code",
   "execution_count": null,
   "metadata": {
    "tags": []
   },
   "outputs": [],
   "source": [
    "# This assumes you've only just segmented, so we need to add these things to the dataset:\n",
    "\n",
    "# USER: specify the path to the parameter file\n",
    "\n",
    "par_file = os.path.join(processed_data_root_dir, '../../../SCRIPTS/James/S3DXRD/Fe_refined.par')\n",
    "e2dx_file = os.path.join(processed_data_root_dir, '../../CeO2/e2dx_E-08-0173_20231127.edf')\n",
    "e2dy_file = os.path.join(processed_data_root_dir, '../../CeO2/e2dy_E-08-0173_20231127.edf')\n",
    "\n",
    "# add them to the dataset\n",
    "\n",
    "ds.parfile = par_file\n",
    "ds.e2dxfile = e2dx_file\n",
    "ds.e2dyfile = e2dy_file"
   ]
  },
  {
   "cell_type": "code",
   "execution_count": null,
   "metadata": {
    "tags": []
   },
   "outputs": [],
   "source": [
    "# Import the 2D columnfile, or make it if it doesn't exist\n",
    "\n",
    "if os.path.exists(ds.col2dfile):\n",
    "    cf_2d = ImageD11.columnfile.colfile_from_hdf(ds.col2dfile)\n",
    "else:\n",
    "    # Import 2D peaks, make a spatially corrected columnfile, save it\n",
    "    peaks_table = ImageD11.sinograms.properties.pks_table.load(ds.pksfile)\n",
    "\n",
    "    # Grab the 2d peak centroids\n",
    "    peaks_2d = peaks_table.pk2d(ds.omega, ds.dty)\n",
    "    cf_2d = utils.tocolf(peaks_2d)\n",
    "\n",
    "    # save the 2D peaks to file so we don't have to spatially correct them again\n",
    "    ImageD11.columnfile.colfile_to_hdf(cf_2d, ds.col2dfile)"
   ]
  },
  {
   "cell_type": "code",
   "execution_count": null,
   "metadata": {
    "tags": []
   },
   "outputs": [],
   "source": [
    "# filter the columnfile to discard weak peaks\n",
    "\n",
    "cf_2d.filter(cf_2d.Number_of_pixels > 5)"
   ]
  },
  {
   "cell_type": "code",
   "execution_count": null,
   "metadata": {
    "tags": []
   },
   "outputs": [],
   "source": [
    "pbp_object = ImageD11.sinograms.point_by_point.PBP(ds.parfile,\n",
    "                                                    ds,\n",
    "                                                    hkl_tol=0.01,\n",
    "                                                    fpks=0.9,\n",
    "                                                    ds_tol=0.005,\n",
    "                                                    etacut=0.1,\n",
    "                                                    ifrac=1./300,\n",
    "                                                    cosine_tol=np.cos(np.radians(90 - 0.25)),\n",
    "                                                    y0=-7.985,\n",
    "                                                    symmetry=\"cubic\",\n",
    "                                                    foridx=[0, 1, 2, 3, 4],\n",
    "                                                    forgen=[0, 1],\n",
    "                                                    uniqcut=0.9)"
   ]
  },
  {
   "cell_type": "code",
   "execution_count": null,
   "metadata": {
    "tags": []
   },
   "outputs": [],
   "source": [
    "pbp_object.setpeaks(cf_2d)"
   ]
  },
  {
   "cell_type": "code",
   "execution_count": null,
   "metadata": {
    "tags": []
   },
   "outputs": [],
   "source": [
    "fig, ax = pbp_object.iplot()"
   ]
  },
  {
   "cell_type": "code",
   "execution_count": null,
   "metadata": {
    "tags": []
   },
   "outputs": [],
   "source": [
    "ds.pbpfile = os.path.join(ds.analysispath, ds.dsname + '_pbp_index.pbp')"
   ]
  },
  {
   "cell_type": "code",
   "execution_count": null,
   "metadata": {
    "tags": []
   },
   "outputs": [],
   "source": [
    "pbp_object.point_by_point(ds.pbpfile, loglevel=3)"
   ]
  },
  {
   "cell_type": "code",
   "execution_count": null,
   "metadata": {},
   "outputs": [],
   "source": [
    "ds.save()"
   ]
  }
 ],
 "metadata": {
  "kernelspec": {
   "display_name": "Python 3 (main)",
   "language": "python",
   "name": "python3"
  },
  "language_info": {
   "codemirror_mode": {
    "name": "ipython",
    "version": 3
   },
   "file_extension": ".py",
   "mimetype": "text/x-python",
   "name": "python",
   "nbconvert_exporter": "python",
   "pygments_lexer": "ipython3",
   "version": "3.11.6"
  }
 },
 "nbformat": 4,
 "nbformat_minor": 4
}
