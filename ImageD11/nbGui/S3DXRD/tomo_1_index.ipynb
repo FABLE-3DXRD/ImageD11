{
 "cells": [
  {
   "cell_type": "markdown",
   "metadata": {},
   "source": [
    "# Jupyter notebook based on ImageD11 to process scanning 3DXRD data\n",
    "# Written by Haixing Fang, Jon Wright and James Ball\n",
    "## Date: 12/10/2024"
   ]
  },
  {
   "cell_type": "markdown",
   "metadata": {},
   "source": [
    "This notebook will try to find good grain orientations from a 4D merge of your peak data.  \n",
    "This means your peaks have been merged across omega and dty.  \n",
    "This notebook (and the tomo route in general) works best for low levels of deformation.  \n",
    "If it doesn't seem to work well, try the point-by-point route instead!"
   ]
  },
  {
   "cell_type": "code",
   "execution_count": null,
   "metadata": {
    "tags": []
   },
   "outputs": [],
   "source": [
    "exec(open('/data/id11/nanoscope/install_ImageD11_from_git.py').read())\n",
    "PYTHONPATH = setup_ImageD11_from_git( ) # ( os.path.join( os.environ['HOME'],'Code'), 'ImageD11_git' )"
   ]
  },
  {
   "cell_type": "code",
   "execution_count": null,
   "metadata": {
    "tags": []
   },
   "outputs": [],
   "source": [
    "# import functions we need\n",
    "\n",
    "import h5py\n",
    "import numpy as np\n",
    "\n",
    "import matplotlib\n",
    "%matplotlib ipympl\n",
    "from matplotlib import pyplot as plt\n",
    "\n",
    "import ImageD11.nbGui.nb_utils as utils\n",
    "\n",
    "import ImageD11.grain\n",
    "import ImageD11.indexing\n",
    "import ImageD11.columnfile\n",
    "from ImageD11.unitcell import Phases\n",
    "from ImageD11.peakselect import select_ring_peaks_by_intensity"
   ]
  },
  {
   "cell_type": "code",
   "execution_count": null,
   "metadata": {
    "tags": []
   },
   "outputs": [],
   "source": [
    "# USER: Pass path to dataset file\n",
    "\n",
    "dset_file = 'si_cube_test/processed/Si_cube/Si_cube_S3DXRD_nt_moves_dty/Si_cube_S3DXRD_nt_moves_dty_dataset.h5'\n",
    "\n",
    "ds = ImageD11.sinograms.dataset.load(dset_file)\n",
    "   \n",
    "sample = ds.sample\n",
    "dataset = ds.dsname\n",
    "rawdata_path = ds.dataroot\n",
    "processed_data_root_dir = ds.analysisroot\n",
    "\n",
    "print(ds)\n",
    "print(ds.shape)"
   ]
  },
  {
   "cell_type": "code",
   "execution_count": null,
   "metadata": {
    "tags": []
   },
   "outputs": [],
   "source": [
    "# USER: specify the path to the parameter file\n",
    "# you can find an example json in the same folder as this notebook\n",
    "\n",
    "par_file = os.path.join(processed_data_root_dir, 'pars.json')\n",
    "\n",
    "# add them to the dataset\n",
    "\n",
    "ds.parfile = par_file\n",
    "\n",
    "ds.save()"
   ]
  },
  {
   "cell_type": "code",
   "execution_count": null,
   "metadata": {
    "tags": []
   },
   "outputs": [],
   "source": [
    "# load phases from parameter file\n",
    "\n",
    "ds.phases = ds.get_phases_from_disk()\n",
    "ds.phases.unitcells"
   ]
  },
  {
   "cell_type": "code",
   "execution_count": null,
   "metadata": {
    "tags": []
   },
   "outputs": [],
   "source": [
    "# now let's select a phase to index from our parameters json\n",
    "phase_str = 'Si'\n",
    "\n",
    "ucell = ds.phases.unitcells[phase_str]\n",
    "\n",
    "print(ucell.lattice_parameters, ucell.spacegroup)"
   ]
  },
  {
   "cell_type": "code",
   "execution_count": null,
   "metadata": {
    "tags": []
   },
   "outputs": [],
   "source": [
    "# We will now generate a cf (columnfile) object for the 4D peaks.\n",
    "# Will be corrected for detector spatial distortion\n",
    "\n",
    "cf_4d = ds.get_cf_4d()\n",
    "ds.update_colfile_pars(cf_4d, phase_name=phase_str)\n",
    "\n",
    "if not os.path.exists(ds.col4dfile):\n",
    "    # save the 4D peaks to file so we don't have to spatially correct them again\n",
    "    ImageD11.columnfile.colfile_to_hdf(cf_4d, ds.col4dfile)"
   ]
  },
  {
   "cell_type": "code",
   "execution_count": null,
   "metadata": {
    "tags": []
   },
   "outputs": [],
   "source": [
    "# Generate a mask that selects only 4D peaks greater than 25 pixels in size\n",
    "\n",
    "m = cf_4d['Number_of_pixels'] > 25\n",
    "\n",
    "# then plot omega vs dty for all peaks - should look sinusoidal\n",
    "\n",
    "fig, ax = plt.subplots()\n",
    "counts, xedges, yedges, im = ax.hist2d(cf_4d['omega'][m], cf_4d['dty'][m], weights=np.sqrt(cf_4d['sum_intensity'][m]), bins=(ds.obinedges, ds.ybinedges), norm=matplotlib.colors.LogNorm())\n",
    "ax.set_xlabel(\"Omega angle\")\n",
    "ax.set_ylabel(\"dty\")\n",
    "\n",
    "fig.colorbar(im, ax=ax)\n",
    "\n",
    "plt.show()"
   ]
  },
  {
   "cell_type": "code",
   "execution_count": null,
   "metadata": {
    "tags": []
   },
   "outputs": [],
   "source": [
    "# plot the 4D peaks (fewer of them) as a cake (two-theta vs eta)\n",
    "# if the parameters in the par file are good, these should look like straight lines\n",
    "\n",
    "ucell.makerings(cf_4d.ds.max())\n",
    "\n",
    "fig, ax = plt.subplots(figsize=(16,9), layout='constrained')\n",
    "\n",
    "ax.scatter(cf_4d.ds, cf_4d.eta, s=1)\n",
    "ax.plot( ucell.ringds, [0,]*len(ucell.ringds), '|', ms=90, c=\"red\")\n",
    "ax.set_xlabel(\"dstar\")\n",
    "ax.set_ylabel(\"eta\")\n",
    "\n",
    "plt.show()"
   ]
  },
  {
   "cell_type": "code",
   "execution_count": null,
   "metadata": {
    "tags": []
   },
   "outputs": [],
   "source": [
    "# OPTIONAL: export CF to an flt so we can play with it with ImageD11_gui\n",
    "# uncomment the below line\n",
    "\n",
    "# cf_4d.writefile(f'{sample}_{dataset}_4d_peaks.flt')"
   ]
  },
  {
   "cell_type": "code",
   "execution_count": null,
   "metadata": {
    "tags": []
   },
   "outputs": [],
   "source": [
    "# here we are filtering our peaks (cf_4d) to select only the strongest ones for indexing purposes only!\n",
    "# dsmax is being set to limit rings given to the indexer - 6-8 rings is normally good\n",
    "\n",
    "# USER: modify the \"frac\" parameter below and re-run the cell until the orange dot sits nicely on the \"elbow\" of the blue line\n",
    "# this indicates the fractional intensity cutoff we will select\n",
    "# if the blue line does not look elbow-shaped in the logscale plot, try changing the \"doplot\" parameter (the y scale of the logscale plot) until it does\n",
    "\n",
    "cf_strong_frac = 0.9939\n",
    "cf_strong_dsmax = 1.594\n",
    "cf_strong_dstol = 0.005\n",
    "\n",
    "cf_strong = select_ring_peaks_by_intensity(cf_4d, frac=cf_strong_frac, dsmax=cf_strong_dsmax, dstol=cf_strong_dstol, doplot=0.95)\n",
    "print(cf_4d.nrows)\n",
    "print(cf_strong.nrows)"
   ]
  },
  {
   "cell_type": "code",
   "execution_count": null,
   "metadata": {
    "tags": []
   },
   "outputs": [],
   "source": [
    "# OPTIONAL: export CF to an flt so we can play with it with ImageD11_gui\n",
    "# uncomment the below line\n",
    "\n",
    "# cf_strong.writefile(f'{sample}_{dataset}_strong_4d_peaks.flt')"
   ]
  },
  {
   "cell_type": "code",
   "execution_count": null,
   "metadata": {
    "tags": []
   },
   "outputs": [],
   "source": [
    "# now we can take a look at the intensities of the remaining peaks\n",
    "\n",
    "fig, ax = plt.subplots(figsize=(16, 9), constrained_layout=True)\n",
    "\n",
    "ax.plot( ucell.ringds, [1e4,]*len(ucell.ringds), '|', ms=90, c=\"red\")\n",
    "\n",
    "ax.plot(cf_4d.ds, cf_4d.sum_intensity,',', label='cf_4d')\n",
    "ax.plot(cf_strong.ds, cf_strong.sum_intensity,',', label='cf_strong')\n",
    "ax.semilogy()\n",
    "\n",
    "ax.set_xlabel(\"Dstar\")\n",
    "ax.set_ylabel(\"Intensity\")\n",
    "ax.legend()\n",
    "\n",
    "plt.show()"
   ]
  },
  {
   "cell_type": "code",
   "execution_count": null,
   "metadata": {
    "tags": []
   },
   "outputs": [],
   "source": [
    "# specify our ImageD11 indexer with these peaks\n",
    "\n",
    "indexer = ImageD11.indexing.indexer_from_colfile(cf_strong)\n",
    "\n",
    "print(f\"Indexing {cf_strong.nrows} peaks\")"
   ]
  },
  {
   "cell_type": "code",
   "execution_count": null,
   "metadata": {
    "tags": []
   },
   "outputs": [],
   "source": [
    "# USER: set a tolerance in d-space (for assigning peaks to powder rings)\n",
    "\n",
    "indexer_ds_tol = 0.01\n",
    "indexer.ds_tol = indexer_ds_tol\n",
    "\n",
    "# change the log level so we can see what the ring assigments look like\n",
    "\n",
    "ImageD11.indexing.loglevel = 1\n",
    "\n",
    "# assign peaks to powder rings\n",
    "\n",
    "indexer.assigntorings()\n",
    "\n",
    "# change log level back again\n",
    "\n",
    "ImageD11.indexing.loglevel = 3"
   ]
  },
  {
   "cell_type": "code",
   "execution_count": null,
   "metadata": {
    "tags": []
   },
   "outputs": [],
   "source": [
    "# let's plot the assigned peaks\n",
    "\n",
    "fig, ax = plt.subplots(layout='constrained', figsize=(16,9))\n",
    "\n",
    "# indexer.ra is the ring assignments\n",
    "\n",
    "ax.scatter(cf_strong.ds, cf_strong.eta, c=indexer.ra, cmap='tab20', s=1)\n",
    "ax.plot( ucell.ringds, [0,]*len(ucell.ringds), '|', ms=90, c=\"red\")\n",
    "ax.set_xlim(cf_strong.ds.min()-0.05, cf_strong.ds.max()+0.05)\n",
    "ax.set_xlabel(\"d-star\")\n",
    "ax.set_ylabel(\"eta\")\n",
    "\n",
    "plt.show()"
   ]
  },
  {
   "cell_type": "code",
   "execution_count": null,
   "metadata": {
    "tags": []
   },
   "outputs": [],
   "source": [
    "# now we are indexing!\n",
    "# we have to choose which rings we want to generate orientations on\n",
    "# generally we want two or three low-multiplicity rings that are isolated from other phases\n",
    "# take a look at the ring assignment output from a few cells above, and choose two or three\n",
    "rings_for_gen = [0, 1, 3]\n",
    "\n",
    "# now we want to decide which rings to score our found orientations against\n",
    "# generally we can just exclude dodgy rings (close to other phases, only a few peaks in etc)\n",
    "rings_for_scoring = [0, 1, 2, 3, 4]\n",
    "\n",
    "# the sequence of hkl tolerances the indexer will iterate through\n",
    "hkl_tols_seq = [0.01, 0.02, 0.03, 0.04, 0.05, 0.06, 0.075]\n",
    "# the sequence of minpks fractions the indexer will iterate through\n",
    "fracs = [0.9, 0.7]\n",
    "# the tolerance in g-vector angle\n",
    "cosine_tol = np.cos(np.radians(90 - 0.25))\n",
    "# the max number of UBIs we can find per pair of rings\n",
    "max_grains = 1000\n",
    "\n",
    "grains, indexer = utils.do_index(cf=cf_strong,\n",
    "                                 unitcell=ds.phases.unitcells[phase_str],\n",
    "                                 dstol=indexer_ds_tol,\n",
    "                                 forgen=rings_for_gen,\n",
    "                                 foridx=rings_for_scoring,\n",
    "                                 hkl_tols=hkl_tols_seq,\n",
    "                                 fracs=fracs,\n",
    "                                 cosine_tol=cosine_tol,\n",
    "                                 max_grains=max_grains,\n",
    "                                \n",
    ")\n",
    "print(f'Found {len(grains)} grains!')"
   ]
  },
  {
   "cell_type": "code",
   "execution_count": null,
   "metadata": {
    "tags": []
   },
   "outputs": [],
   "source": [
    "# add temporary grain IDs to the grains\n",
    "\n",
    "for ginc, g in enumerate(grains):\n",
    "    g.gid = ginc"
   ]
  },
  {
   "cell_type": "code",
   "execution_count": null,
   "metadata": {
    "tags": []
   },
   "outputs": [],
   "source": [
    "mean_unit_cell_lengths = [np.cbrt(np.linalg.det(g.ubi)) for g in grains]\n",
    "\n",
    "fig, ax = plt.subplots()\n",
    "ax.plot(mean_unit_cell_lengths)\n",
    "ax.set_xlabel(\"Grain ID\")\n",
    "ax.set_ylabel(\"Unit cell length\")\n",
    "plt.show()\n",
    "\n",
    "a0 = np.median(mean_unit_cell_lengths)\n",
    "    \n",
    "print(a0)"
   ]
  },
  {
   "cell_type": "code",
   "execution_count": null,
   "metadata": {
    "tags": []
   },
   "outputs": [],
   "source": [
    "# assign peaks to grains\n",
    "\n",
    "peak_assign_tol = 0.05\n",
    "\n",
    "utils.assign_peaks_to_grains(grains, cf_strong, tol=peak_assign_tol)"
   ]
  },
  {
   "cell_type": "code",
   "execution_count": null,
   "metadata": {
    "tags": []
   },
   "outputs": [],
   "source": [
    "utils.plot_index_results(indexer, cf_strong, 'First attempt')"
   ]
  },
  {
   "cell_type": "code",
   "execution_count": null,
   "metadata": {
    "tags": []
   },
   "outputs": [],
   "source": [
    "utils.plot_grain_sinograms(grains, cf_strong)"
   ]
  },
  {
   "cell_type": "code",
   "execution_count": null,
   "metadata": {
    "tags": []
   },
   "outputs": [],
   "source": [
    "# save grain data\n",
    "\n",
    "ds.save_grains_to_disk(grains, phase_name=phase_str)"
   ]
  },
  {
   "cell_type": "code",
   "execution_count": null,
   "metadata": {
    "tags": []
   },
   "outputs": [],
   "source": [
    "# save new things to the dataset\n",
    "\n",
    "ds.save()"
   ]
  },
  {
   "cell_type": "code",
   "execution_count": null,
   "metadata": {},
   "outputs": [],
   "source": [
    "if 1:\n",
    "    raise ValueError(\"Change the 1 above to 0 to allow 'Run all cells' in the notebook\")"
   ]
  },
  {
   "cell_type": "code",
   "execution_count": null,
   "metadata": {
    "tags": []
   },
   "outputs": [],
   "source": [
    "# Now that we're happy with our indexing parameters, we can run the below cell to do this in bulk for many samples/datasets\n",
    "# by default this will do all samples in sample_list, all datasets with a prefix of dset_prefix\n",
    "# you can add samples and datasets to skip in skips_dict\n",
    "\n",
    "skips_dict = {\n",
    "    \"FeAu_0p5_tR_nscope\": [\"top_-50um\", \"top_-100um\"]\n",
    "}\n",
    "\n",
    "dset_prefix = \"top\"\n",
    "\n",
    "sample_list = [\"FeAu_0p5_tR_nscope\"]\n",
    "    \n",
    "samples_dict = utils.find_datasets_to_process(rawdata_path, skips_dict, dset_prefix, sample_list)\n",
    "    \n",
    "# manual override:\n",
    "# samples_dict = {\"FeAu_0p5_tR_nscope\": [\"top_100um\", \"top_150um\"]}\n",
    "    \n",
    "# now we have our samples_dict, we can process our data:\n",
    "\n",
    "for sample, datasets in samples_dict.items():\n",
    "    for dataset in datasets:\n",
    "        print(f\"Processing dataset {dataset} in sample {sample}\")\n",
    "        dset_path = os.path.join(processed_data_root_dir, sample, f\"{sample}_{dataset}\", f\"{sample}_{dataset}_dataset.h5\")\n",
    "        if not os.path.exists(dset_path):\n",
    "            print(f\"Missing DataSet file for {dataset} in sample {sample}, skipping\")\n",
    "            continue\n",
    "        \n",
    "        print(\"Importing DataSet object\")\n",
    "        \n",
    "        ds = ImageD11.sinograms.dataset.load(dset_path)\n",
    "        print(f\"I have a DataSet {ds.dset} in sample {ds.sample}\")\n",
    "\n",
    "        if os.path.exists(ds.grainsfile):\n",
    "            # check grains file for existance of minor phase, skip if it's there\n",
    "            with h5py.File(ds.grainsfile, \"r\") as hin:\n",
    "                if phase_str in hin.keys():\n",
    "                    print(f\"Already have grains for {dataset} in sample {sample}, skipping\")\n",
    "                    continue\n",
    "        \n",
    "        \n",
    "        ds.parfile = par_file\n",
    "        ds.phases = ds.get_phases_from_disk()\n",
    "        \n",
    "        cf_4d = ds.get_cf_4d()\n",
    "        ds.update_colfile_pars(cf_4d, phase_name=phase_str)\n",
    "\n",
    "        if not os.path.exists(ds.col4dfile):\n",
    "            # save the 4D peaks to file so we don't have to spatially correct them again\n",
    "            ImageD11.columnfile.colfile_to_hdf(cf_4d, ds.col4dfile)\n",
    "        \n",
    "        cf_strong = select_ring_peaks_by_intensity(cf_4d, frac=cf_strong_frac, dsmax=cf_strong_dsmax, dstol=cf_strong_dstol)\n",
    "\n",
    "        grains, indexer = utils.do_index(cf=cf_strong,\n",
    "                                         unitcell=ds.phases.unitcells[phase_str],\n",
    "                                        dstol=indexer_ds_tol,\n",
    "                                        forgen=rings_for_gen,\n",
    "                                        foridx=rings_for_scoring,\n",
    "                                        hkl_tols=hkl_tols_seq,\n",
    "                                        fracs=fracs,\n",
    "                                        cosine_tol=cosine_tol,\n",
    "                                        max_grains=max_grains\n",
    "        )\n",
    "            \n",
    "\n",
    "        ds.save_grains_to_disk(grains, phase_name=phase_str)\n",
    "        \n",
    "        ds.save()\n",
    "\n",
    "print(\"Done!\")"
   ]
  },
  {
   "cell_type": "code",
   "execution_count": null,
   "metadata": {},
   "outputs": [],
   "source": []
  }
 ],
 "metadata": {
  "kernelspec": {
   "display_name": "Python 3 (main)",
   "language": "python",
   "name": "python3"
  },
  "language_info": {
   "codemirror_mode": {
    "name": "ipython",
    "version": 3
   },
   "file_extension": ".py",
   "mimetype": "text/x-python",
   "name": "python",
   "nbconvert_exporter": "python",
   "pygments_lexer": "ipython3",
   "version": "3.11.6"
  }
 },
 "nbformat": 4,
 "nbformat_minor": 4
}
