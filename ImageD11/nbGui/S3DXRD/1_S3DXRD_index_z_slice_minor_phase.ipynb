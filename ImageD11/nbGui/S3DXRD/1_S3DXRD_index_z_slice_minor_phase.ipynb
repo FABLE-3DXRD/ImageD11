{
 "cells": [
  {
   "cell_type": "markdown",
   "metadata": {},
   "source": [
    "# Jupyter notebook based on ImageD11 to process scanning 3DXRD data\n",
    "# Written by Haixing Fang, Jon Wright and James Ball\n",
    "## Date: 19/02/2024"
   ]
  },
  {
   "cell_type": "code",
   "execution_count": null,
   "metadata": {
    "tags": []
   },
   "outputs": [],
   "source": [
    "# There is a bug with the current version of ImageD11 in the site-wide Jupyter env.\n",
    "# This has been fixed here: https://github.com/FABLE-3DXRD/ImageD11/commit/4af88b886b1775585e868f2339a0eb975401468f\n",
    "# Until a new release has been made and added to the env, we need to get the latest version of ImageD11 from GitHub\n",
    "# Put it in your home directory\n",
    "# USER: Change the path below to point to your local copy of ImageD11:\n",
    "\n",
    "import os\n",
    "\n",
    "username = os.environ.get(\"USER\")\n",
    "\n",
    "id11_code_path = f\"/home/esrf/{username}/Code/ImageD11\"\n",
    "\n",
    "import sys\n",
    "\n",
    "sys.path.insert(0, id11_code_path)"
   ]
  },
  {
   "cell_type": "code",
   "execution_count": null,
   "metadata": {
    "tags": []
   },
   "outputs": [],
   "source": [
    "# import functions we need\n",
    "\n",
    "import os, glob, pprint\n",
    "import numpy as np\n",
    "import matplotlib\n",
    "import h5py\n",
    "from tqdm.notebook import tqdm\n",
    "\n",
    "%matplotlib widget\n",
    "from matplotlib import pyplot as plt\n",
    "\n",
    "import utils\n",
    "\n",
    "import ImageD11.grain\n",
    "import ImageD11.unitcell\n",
    "import ImageD11.indexing\n",
    "import ImageD11.columnfile\n",
    "import ImageD11.refinegrains\n",
    "import ImageD11.sinograms.dataset\n",
    "import ImageD11.sinograms.properties\n",
    "import ImageD11.sinograms.lima_segmenter\n",
    "import ImageD11.sinograms.assemble_label\n",
    "\n",
    "from ImageD11.blobcorrector import eiger_spatial"
   ]
  },
  {
   "cell_type": "code",
   "execution_count": null,
   "metadata": {
    "tags": []
   },
   "outputs": [],
   "source": [
    "# OLD DATASETS\n",
    "\n",
    "# NOTE: For old datasets before the new directory layout structure, we don't distinguish between RAW_DATA and PROCESSED_DATA\n",
    "# In this case, use this cell to specify where your experimental folder is, and do not run the cell below\n",
    "# e.g /data/visitor/4752/id11/20210513\n",
    "\n",
    "### USER: specify your experimental directory\n",
    "\n",
    "rawdata_path = \"/home/esrf/james1997a/Data/ma4752/id11/20210618\"\n",
    "\n",
    "!ls -lrt {rawdata_path}\n",
    "\n",
    "### USER: specify where you want your processed data to go\n",
    "\n",
    "processed_data_root_dir = \"/home/esrf/james1997a/Data/ma4752/id11/20240118/James\""
   ]
  },
  {
   "cell_type": "code",
   "execution_count": null,
   "metadata": {
    "tags": []
   },
   "outputs": [],
   "source": [
    "# USER: pick a sample and a dataset you want to segment\n",
    "\n",
    "sample = \"MA4752_S4_2_XRD\"\n",
    "dataset = \"DTL1z90\""
   ]
  },
  {
   "cell_type": "code",
   "execution_count": null,
   "metadata": {
    "tags": []
   },
   "outputs": [],
   "source": [
    "# desination of H5 files\n",
    "\n",
    "dset_path = os.path.join(processed_data_root_dir, sample, f\"{sample}_{dataset}\", f\"{sample}_{dataset}_dataset.h5\")\n",
    "\n",
    "e2dx_path = \"/data/id11/nanoscope/Eiger/spatial_20210415_JW/e2dx.edf\"\n",
    "e2dy_path = \"/data/id11/nanoscope/Eiger/spatial_20210415_JW/e2dy.edf\""
   ]
  },
  {
   "cell_type": "code",
   "execution_count": null,
   "metadata": {
    "tags": []
   },
   "outputs": [],
   "source": [
    "# load the dataset from file\n",
    "\n",
    "ds = ImageD11.sinograms.dataset.load(dset_path)\n",
    "\n",
    "print(ds)\n",
    "print(ds.shape)"
   ]
  },
  {
   "cell_type": "code",
   "execution_count": null,
   "metadata": {
    "tags": []
   },
   "outputs": [],
   "source": [
    "par_path = 'nickel.par'"
   ]
  },
  {
   "cell_type": "code",
   "execution_count": null,
   "metadata": {
    "tags": []
   },
   "outputs": [],
   "source": [
    "# load 4d peaks from file\n",
    "\n",
    "cf_4d = ImageD11.columnfile.colfile_from_hdf(ds.col4dfile)\n",
    "\n",
    "cf_4d.parameters.loadparameters(par_path)\n",
    "cf_4d.updateGeometry()"
   ]
  },
  {
   "cell_type": "code",
   "execution_count": null,
   "metadata": {
    "tags": []
   },
   "outputs": [],
   "source": [
    "# plot the 4D peaks (fewer of them) as a cake (two-theta vs eta)\n",
    "# if the parameters in the par file are good, these should look like straight lines\n",
    "\n",
    "fig, ax = plt.subplots()\n",
    "\n",
    "ax.scatter(cf_4d.ds, cf_4d.eta, s=1)\n",
    "\n",
    "ax.set_xlabel(\"dstar\")\n",
    "ax.set_ylabel(\"eta\")\n",
    "\n",
    "plt.show()"
   ]
  },
  {
   "cell_type": "code",
   "execution_count": null,
   "metadata": {
    "tags": []
   },
   "outputs": [],
   "source": [
    "# isolate Nickel peaks, and remove them from the dataset\n",
    "ni_peaks_mask = utils.unitcell_peaks_mask(cf_4d, dstol=0.0075, dsmax=cf_4d.ds.max())\n",
    "\n",
    "carbides = cf_4d.copy()\n",
    "carbides.filter(~ni_peaks_mask)\n",
    "\n",
    "# Update geometry for carbides peaks\n",
    "\n",
    "par_path = 'carbide.par'\n",
    "carbides.parameters.loadparameters(par_path)\n",
    "carbides.updateGeometry()\n",
    "\n",
    "cf_strong = utils.selectpeaks(carbides, dstol=0.0075, dsmax=0.7, frac=0.8, doplot=0.01)\n",
    "print(cf_strong.nrows)"
   ]
  },
  {
   "cell_type": "code",
   "execution_count": null,
   "metadata": {
    "tags": []
   },
   "outputs": [],
   "source": [
    "# OPTIONAL: export CF to an flt so we can play with it with ImageD11_gui\n",
    "# uncomment the below line\n",
    "\n",
    "# cf_4d.writefile(f'{sample}_{dataset}_4d_peaks.flt')"
   ]
  },
  {
   "cell_type": "code",
   "execution_count": null,
   "metadata": {
    "tags": []
   },
   "outputs": [],
   "source": [
    "# now we can take a look at the intensities of the remaining peaks\n",
    "\n",
    "fig, ax = plt.subplots()\n",
    "\n",
    "ax.plot(cf_strong.ds, cf_strong.sum_intensity,',')\n",
    "ax.semilogy()\n",
    "\n",
    "ax.set_xlabel(\"Dstar\")\n",
    "ax.set_ylabel(\"Intensity\")\n",
    "\n",
    "plt.show()"
   ]
  },
  {
   "cell_type": "code",
   "execution_count": null,
   "metadata": {
    "tags": []
   },
   "outputs": [],
   "source": [
    "# now we can define a unit cell from our parameters\n",
    "\n",
    "Fe = ImageD11.unitcell.unitcell_from_parameters(cf_strong.parameters)\n",
    "Fe.makerings(cf_strong.ds.max())"
   ]
  },
  {
   "cell_type": "code",
   "execution_count": null,
   "metadata": {
    "tags": []
   },
   "outputs": [],
   "source": [
    "# now let's plot our peaks again, with the rings from the unitcell included, to check our lattice parameters are good\n",
    "\n",
    "fig, ax = plt.subplots()\n",
    "\n",
    "skip=1\n",
    "ax.plot( cf_strong.ds[::skip], cf_strong.eta[::skip],',',alpha=0.5)\n",
    "ax.plot( Fe.ringds, [0,]*len(Fe.ringds), '|', ms=90 )\n",
    "ax.set_xlabel('1 / d ($\\AA$)')\n",
    "ax.set_ylabel('$\\\\eta$ (deg)')\n",
    "\n",
    "plt.show()"
   ]
  },
  {
   "cell_type": "code",
   "execution_count": null,
   "metadata": {
    "tags": []
   },
   "outputs": [],
   "source": [
    "# specify our ImageD11 indexer with these peaks\n",
    "\n",
    "indexer = ImageD11.indexing.indexer_from_colfile(cf_strong)\n",
    "\n",
    "print(f\"Indexing {cf_strong.nrows} peaks\")"
   ]
  },
  {
   "cell_type": "code",
   "execution_count": null,
   "metadata": {
    "tags": []
   },
   "outputs": [],
   "source": [
    "# USER: set a tolerance in d-space (for assigning peaks to powder rings)\n",
    "\n",
    "indexer.ds_tol = 0.01\n",
    "\n",
    "# change the log level so we can see what the ring assigments look like\n",
    "\n",
    "ImageD11.indexing.loglevel = 1\n",
    "\n",
    "# assign peaks to powder rings\n",
    "\n",
    "indexer.assigntorings()\n",
    "\n",
    "# change log level back again\n",
    "\n",
    "ImageD11.indexing.loglevel = 3"
   ]
  },
  {
   "cell_type": "code",
   "execution_count": null,
   "metadata": {
    "tags": []
   },
   "outputs": [],
   "source": [
    "# let's plot the assigned peaks\n",
    "\n",
    "fig, ax = plt.subplots()\n",
    "\n",
    "# indexer.ra is the ring assignments\n",
    "\n",
    "ax.scatter(cf_strong.ds, cf_strong.eta, c=indexer.ra, cmap='tab20', s=1)\n",
    "ax.set_xlabel(\"d-star\")\n",
    "ax.set_ylabel(\"eta\")\n",
    "\n",
    "plt.show()"
   ]
  },
  {
   "cell_type": "code",
   "execution_count": null,
   "metadata": {
    "tags": []
   },
   "outputs": [],
   "source": [
    "# now we are indexing!\n",
    "\n",
    "max_multiplicity = 11\n",
    "\n",
    "min_counts_on_ring = 30\n",
    "\n",
    "n_peaks_expected = 0\n",
    "rings = []\n",
    "for i, dstar in enumerate(indexer.unitcell.ringds):\n",
    "    multiplicity = len(indexer.unitcell.ringhkls[indexer.unitcell.ringds[i]])\n",
    "    counts_on_this_ring = (indexer.ra == i).sum()\n",
    "    if counts_on_this_ring > min_counts_on_ring:\n",
    "        n_peaks_expected += multiplicity\n",
    "        if multiplicity < max_multiplicity:\n",
    "            rings.append((counts_on_this_ring, multiplicity, i))\n",
    "\n",
    "rings.sort()\n",
    "\n",
    "print(f\"{n_peaks_expected} peaks expected\")\n",
    "print(f\"Trying these rings (counts, multiplicity, ring number): {rings}\")\n",
    "\n",
    "# USER: specify the HKL tolerances you want to use for indexing\n",
    "hkl_tols_seq = [0.01, 0.02, 0.03]\n",
    "\n",
    "# USER: specify the fraction of the total expected peaks\n",
    "fracs = [0.9, 0.8, 0.7]\n",
    "\n",
    "# ImageD11.cImageD11.cimaged11_omp_set_num_threads(1)\n",
    "ImageD11.indexing.loglevel=3\n",
    "\n",
    "# indexer.uniqueness = 0.3\n",
    "indexer.cosine_tol = np.cos(np.radians(90.25))\n",
    "indexer.max_grains = 1000\n",
    "\n",
    "# iterate over HKL tolerances\n",
    "for frac in fracs:\n",
    "    for tol in hkl_tols_seq:\n",
    "        indexer.minpks = n_peaks_expected*frac\n",
    "        indexer.hkl_tol = tol\n",
    "        \n",
    "        # iterate over rings\n",
    "        for i in range(len(rings)):\n",
    "            for j in range(i, len(rings)):\n",
    "                indexer.ring_1 = rings[i][2]\n",
    "                indexer.ring_2 = rings[j][2]\n",
    "        \n",
    "                indexer.find()\n",
    "                indexer.scorethem()\n",
    "        \n",
    "        print(frac, tol, len(indexer.ubis))"
   ]
  },
  {
   "cell_type": "code",
   "execution_count": null,
   "metadata": {
    "tags": []
   },
   "outputs": [],
   "source": [
    "# create grain objects\n",
    "grains = [ImageD11.grain.grain(ubi, translation=np.array([0., 0., 0.])) for ubi in indexer.ubis]\n",
    "\n",
    "# set grain GIDs (useful if we ever delete a grain)\n",
    "for i, g in enumerate(grains):\n",
    "    g.gid = i\n",
    "    \n",
    "    g.a = np.cbrt(np.linalg.det(g.ubi))"
   ]
  },
  {
   "cell_type": "code",
   "execution_count": null,
   "metadata": {
    "tags": []
   },
   "outputs": [],
   "source": [
    "mean_unit_cell_lengths = [grain.a for grain in grains]\n",
    "\n",
    "fig, ax = plt.subplots()\n",
    "ax.plot(mean_unit_cell_lengths)\n",
    "ax.set_xlabel(\"Grain ID\")\n",
    "ax.set_ylabel(\"Unit cell length\")\n",
    "plt.show()\n",
    "\n",
    "a0 = np.median(mean_unit_cell_lengths)\n",
    "    \n",
    "print(a0)"
   ]
  },
  {
   "cell_type": "code",
   "execution_count": null,
   "metadata": {
    "tags": []
   },
   "outputs": [],
   "source": [
    "# assign peaks to grains\n",
    "\n",
    "tol=0.05\n",
    "\n",
    "# column to store the grain labels\n",
    "labels = np.zeros(cf_strong.nrows, 'i')\n",
    "# get all g-vectors from columnfile\n",
    "gv = np.transpose((cf_strong.gx,cf_strong.gy,cf_strong.gz)).astype(float)\n",
    "# column to store drlv2 (error in hkl)\n",
    "drlv2 =  np.ones(cf_strong.nrows, 'd')\n",
    "# iterate over all grains\n",
    "print(f\"Scoring and assigning {len(grains)} grains\")\n",
    "for g in tqdm(grains):\n",
    "    n = ImageD11.cImageD11.score_and_assign(g.ubi, gv, tol, drlv2, labels, g.gid)\n",
    "\n",
    "# add the labels column to the columnfile\n",
    "cf_strong.addcolumn(labels, 'grain_id')\n",
    "\n",
    "print(\"Storing peak data in grains\")\n",
    "# iterate through all the grains\n",
    "for g in tqdm(grains):\n",
    "    # store this grain's peak indices so we know which 4D peaks we used for indexing\n",
    "    g.peaks_4d = cf_strong.index[cf_strong.grain_id == g.gid]"
   ]
  },
  {
   "cell_type": "code",
   "execution_count": null,
   "metadata": {
    "tags": []
   },
   "outputs": [],
   "source": [
    "def plot_index_results(ind, colfile, title):\n",
    "    # Generate a histogram of |drlv| for a ubi matrix\n",
    "    indexer.histogram_drlv_fit()\n",
    "    indexer.fight_over_peaks()\n",
    "    \n",
    "    fig, axs = plt.subplots(3, 2, layout=\"constrained\", figsize=(9,12))\n",
    "    axs_flat = axs.ravel()\n",
    "    \n",
    "    # For each grain, plot the error in hkl vs the number of peaks with that error\n",
    "    \n",
    "    for grh in ind.histogram:\n",
    "        axs_flat[0].plot(ind.bins[1:-1], grh[:-1], \"-\")\n",
    "    \n",
    "    axs_flat[0].set(ylabel=\"number of peaks\",\n",
    "                    xlabel=\"error in hkl (e.g. hkl versus integer)\",\n",
    "                    title=title)\n",
    "    \n",
    "    # set a mask of all non-assigned g-vectors\n",
    "    \n",
    "    m = ind.ga == -1\n",
    "    \n",
    "    # plot the assigned g-vectors omega vs dty (sinograms)\n",
    "    \n",
    "    axs_flat[1].scatter(colfile.omega[~m],\n",
    "                        colfile.dty[~m],\n",
    "                        c=ind.ga[~m],\n",
    "                        s=2,\n",
    "                        cmap='tab20')\n",
    "    \n",
    "    axs_flat[1].set(title=f'Sinograms of {ind.ga.max()+1} grains',\n",
    "                    xlabel='Omega/deg',\n",
    "                    ylabel='dty/um')\n",
    "    \n",
    "    # Define weak peaks as all non-assigned peaks with intensity 1e-4 of max\n",
    "    cut = colfile.sum_intensity[m].max() * 1e-4\n",
    "    weak = colfile.sum_intensity[m] < cut\n",
    "    \n",
    "    # Plot unassigned peaks in omega vs dty\n",
    "    \n",
    "    axs_flat[2].scatter(colfile.omega[m][weak],  colfile.dty[m][weak],  s=2, label='weak')\n",
    "    axs_flat[2].scatter(colfile.omega[m][~weak], colfile.dty[m][~weak], s=2, label='not weak')\n",
    "    \n",
    "    axs_flat[2].set(title='Sinograms of unassigned peaks',\n",
    "                    xlabel='Omega/deg',\n",
    "                    ylabel='dty/um')\n",
    "    axs_flat[2].legend()\n",
    "    \n",
    "    # Plot d-star vs intensity for all assigned peaks\n",
    "    \n",
    "    axs_flat[3].scatter(colfile.ds[~m], colfile.sum_intensity[~m], s=2)\n",
    "    axs_flat[3].set(title='Intensity of all assigned peaks',\n",
    "                    xlabel='d-star',\n",
    "                    ylabel='Intensity',\n",
    "                    yscale='log')\n",
    "    \n",
    "    # Plot d-star vs intensity for all unassigned peaks\n",
    "    \n",
    "    axs_flat[4].scatter(colfile.ds[m][weak],  colfile.sum_intensity[m][weak],  s=2, label='weak')\n",
    "    axs_flat[4].scatter(colfile.ds[m][~weak], colfile.sum_intensity[m][~weak], s=2, label='not weak')\n",
    "    \n",
    "    axs_flat[4].set(title='Intensity of all unassigned peaks',\n",
    "                    xlabel='d-star',\n",
    "                    ylabel='Intensity',\n",
    "                    yscale='log')\n",
    "    axs_flat[4].legend()\n",
    "    \n",
    "    # Get the number of peaks per grain\n",
    "    \n",
    "    npks = [(ind.ga == i).sum() for i in range(len(ind.ubis))]\n",
    "    \n",
    "    # Plot histogram of number of peaks per grain\n",
    "    \n",
    "    axs_flat[5].hist(npks, bins=64)\n",
    "    axs_flat[5].set(title='Hist of peaks per grain',\n",
    "                    xlabel='Number of peaks',\n",
    "                    ylabel='Number of grains')\n",
    "    \n",
    "    for ax in axs_flat:\n",
    "        ax.set_box_aspect(0.7)\n",
    "    \n",
    "    plt.show()"
   ]
  },
  {
   "cell_type": "code",
   "execution_count": null,
   "metadata": {
    "tags": []
   },
   "outputs": [],
   "source": [
    "plot_index_results(indexer, cf_strong, 'First attempt')"
   ]
  },
  {
   "cell_type": "code",
   "execution_count": null,
   "metadata": {},
   "outputs": [],
   "source": [
    "cmp = {'compression':'gzip',\n",
    "       'compression_opts': 2,\n",
    "       'shuffle' : True }\n",
    "\n",
    "def save_array(grp, name, ary):\n",
    "    hds = grp.require_dataset(name, \n",
    "                              shape=ary.shape,\n",
    "                              dtype=ary.dtype,\n",
    "                              **cmp)\n",
    "    hds[:] = ary\n",
    "    return hds\n",
    "\n",
    "def save_grains(grains, ds):\n",
    "    ds.grainsfile_carbides = os.path.join(ds.analysispath, ds.dsname + '_grains_carbides.h5')\n",
    "    with h5py.File(ds.grainsfile_carbides, 'w') as hout:\n",
    "        grn = hout.create_group('grains')\n",
    "        for g in tqdm(grains):\n",
    "            gg = grn.create_group(str(g.gid))\n",
    "            save_array(gg, 'peaks_4d_indexing', g.peaks_4d).attrs['description'] = \"Strong 4D peaks that were assigned to this grain during indexing\"\n",
    "            gg.attrs.update({'ubi':g.ubi})"
   ]
  },
  {
   "cell_type": "code",
   "execution_count": null,
   "metadata": {
    "tags": []
   },
   "outputs": [],
   "source": [
    "# save grain data\n",
    "\n",
    "save_grains(grains, ds)"
   ]
  },
  {
   "cell_type": "code",
   "execution_count": null,
   "metadata": {},
   "outputs": [],
   "source": []
  }
 ],
 "metadata": {
  "kernelspec": {
   "display_name": "Python 3 (main)",
   "language": "python",
   "name": "python3"
  },
  "language_info": {
   "codemirror_mode": {
    "name": "ipython",
    "version": 3
   },
   "file_extension": ".py",
   "mimetype": "text/x-python",
   "name": "python",
   "nbconvert_exporter": "python",
   "pygments_lexer": "ipython3",
   "version": "3.11.6"
  }
 },
 "nbformat": 4,
 "nbformat_minor": 4
}
