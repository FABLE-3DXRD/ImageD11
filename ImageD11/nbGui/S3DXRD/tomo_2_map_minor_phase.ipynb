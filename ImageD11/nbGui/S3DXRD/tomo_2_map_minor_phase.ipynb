{
 "cells": [
  {
   "cell_type": "markdown",
   "metadata": {},
   "source": [
    "# Jupyter notebook based on ImageD11 to process scanning 3DXRD data\n",
    "# Written by Haixing Fang, Jon Wright and James Ball\n",
    "## Date: 12/10/2024"
   ]
  },
  {
   "cell_type": "markdown",
   "metadata": {},
   "source": [
    "This notebook will try to reconstruct grain shapes and positions from the grain orientations you found in the first notebook.  \n",
    "This notebook is optimised for weak and noisy minor phase data.  \n",
    "This notebook (and the tomo route in general) works best for low levels of deformation.  \n",
    "If it doesn't seem to work well, try the point-by-point route instead!"
   ]
  },
  {
   "cell_type": "code",
   "execution_count": null,
   "metadata": {
    "tags": []
   },
   "outputs": [],
   "source": [
    "exec(open('/data/id11/nanoscope/install_ImageD11_from_git.py').read())\n",
    "PYTHONPATH = setup_ImageD11_from_git( ) # ( os.path.join( os.environ['HOME'],'Code'), 'ImageD11_git' )"
   ]
  },
  {
   "cell_type": "code",
   "execution_count": null,
   "metadata": {
    "tags": []
   },
   "outputs": [],
   "source": [
    "# import functions we need\n",
    "\n",
    "import concurrent.futures\n",
    "\n",
    "%matplotlib ipympl\n",
    "\n",
    "import h5py\n",
    "from tqdm.notebook import tqdm\n",
    "import numpy as np\n",
    "import matplotlib.pyplot as plt\n",
    "from skimage.filters import threshold_otsu\n",
    "from skimage.morphology import convex_hull_image\n",
    "\n",
    "import ImageD11.columnfile\n",
    "from ImageD11.grain import grain\n",
    "from ImageD11.peakselect import select_ring_peaks_by_intensity, rings_mask\n",
    "from ImageD11.sinograms.sinogram import GrainSinogram, build_slice_arrays, write_slice_recon, write_h5, read_h5, get_2d_peaks_from_4d_peaks\n",
    "from ImageD11.sinograms.roi_iradon import run_iradon\n",
    "from ImageD11.sinograms.tensor_map import TensorMap\n",
    "import ImageD11.sinograms.dataset\n",
    "import ImageD11.nbGui.nb_utils as utils\n",
    "\n",
    "import ipywidgets as widgets\n",
    "from ipywidgets import interact"
   ]
  },
  {
   "cell_type": "code",
   "execution_count": null,
   "metadata": {
    "tags": []
   },
   "outputs": [],
   "source": [
    "# USER: Pass path to dataset file\n",
    "\n",
    "dset_file = 'si_cube_test/processed/Si_cube/Si_cube_S3DXRD_nt_moves_dty/Si_cube_S3DXRD_nt_moves_dty_dataset.h5'\n",
    "\n",
    "ds = ImageD11.sinograms.dataset.load(dset_file)\n",
    "   \n",
    "sample = ds.sample\n",
    "dataset = ds.dsname\n",
    "rawdata_path = ds.dataroot\n",
    "processed_data_root_dir = ds.analysisroot\n",
    "\n",
    "print(ds)\n",
    "print(ds.shape)"
   ]
  },
  {
   "cell_type": "code",
   "execution_count": null,
   "metadata": {
    "tags": []
   },
   "outputs": [],
   "source": [
    "# load phases from parameter file\n",
    "\n",
    "ds.phases = ds.get_phases_from_disk()\n",
    "ds.phases.unitcells"
   ]
  },
  {
   "cell_type": "code",
   "execution_count": null,
   "metadata": {
    "tags": []
   },
   "outputs": [],
   "source": [
    "# now let's select a phase to index from our parameters json\n",
    "major_phase_str = 'Fe'\n",
    "minor_phase_str = 'Au'\n",
    "\n",
    "major_phase_unitcell = ds.phases.unitcells[major_phase_str]\n",
    "minor_phase_unitcell = ds.phases.unitcells[minor_phase_str]\n",
    "\n",
    "print(major_phase_str, major_phase_unitcell.lattice_parameters, major_phase_unitcell.spacegroup)\n",
    "print(minor_phase_str, minor_phase_unitcell.lattice_parameters, minor_phase_unitcell.spacegroup)"
   ]
  },
  {
   "cell_type": "code",
   "execution_count": null,
   "metadata": {
    "tags": []
   },
   "outputs": [],
   "source": [
    "# If the sinograms are only half-sinograms (we scanned dty across half the sample rather than the full sample), set the below to true:\n",
    "is_half_scan = False"
   ]
  },
  {
   "cell_type": "code",
   "execution_count": null,
   "metadata": {
    "tags": []
   },
   "outputs": [],
   "source": [
    "if is_half_scan:\n",
    "    ds.correct_bins_for_half_scan()"
   ]
  },
  {
   "cell_type": "code",
   "execution_count": null,
   "metadata": {
    "tags": []
   },
   "outputs": [],
   "source": [
    "# Import 4D peaks\n",
    "\n",
    "cf_4d = ds.get_cf_4d_from_disk()\n",
    "ds.update_colfile_pars(cf_4d, phase_name=major_phase_str)\n",
    "\n",
    "print(f\"Read {cf_4d.nrows} 4D peaks\")"
   ]
  },
  {
   "cell_type": "code",
   "execution_count": null,
   "metadata": {
    "tags": []
   },
   "outputs": [],
   "source": [
    "# here we are filtering our peaks (cf_4d) to select only the strongest ones for indexing purposes only!\n",
    "# dsmax is being set to limit rings given to the indexer - 6-8 rings is normally good\n",
    "\n",
    "# USER: modify the \"frac\" parameter below and re-run the cell until the orange dot sits nicely on the \"elbow\" of the blue line\n",
    "# this indicates the fractional intensity cutoff we will select\n",
    "# if the blue line does not look elbow-shaped in the logscale plot, try changing the \"doplot\" parameter (the y scale of the logscale plot) until it does\n",
    "\n",
    "major_phase_cf_frac = 0.994\n",
    "major_phase_cf_dstol = 0.005\n",
    "\n",
    "cf_major_phase = select_ring_peaks_by_intensity(cf_4d, frac=major_phase_cf_frac, dstol=major_phase_cf_dstol, doplot=0.95)\n",
    "print(cf_4d.nrows)\n",
    "print(cf_major_phase.nrows)"
   ]
  },
  {
   "cell_type": "code",
   "execution_count": null,
   "metadata": {
    "tags": []
   },
   "outputs": [],
   "source": [
    "# Update geometry for minor phase peaks\n",
    "\n",
    "ds.update_colfile_pars(cf_4d, phase_name=minor_phase_str)"
   ]
  },
  {
   "cell_type": "code",
   "execution_count": null,
   "metadata": {
    "tags": []
   },
   "outputs": [],
   "source": [
    "minor_phase_cf_frac = 0.9975\n",
    "minor_phase_cf_dstol = 0.005\n",
    "\n",
    "cf_minor_phase = select_ring_peaks_by_intensity(cf_4d, frac=minor_phase_cf_frac, dstol=minor_phase_cf_dstol, doplot=0.95)\n",
    "print(cf_4d.nrows)\n",
    "print(cf_minor_phase.nrows)"
   ]
  },
  {
   "cell_type": "code",
   "execution_count": null,
   "metadata": {
    "tags": []
   },
   "outputs": [],
   "source": [
    "major_phase_unitcell.makerings(cf_major_phase.ds.max())\n",
    "minor_phase_unitcell.makerings(cf_minor_phase.ds.max())"
   ]
  },
  {
   "cell_type": "code",
   "execution_count": null,
   "metadata": {},
   "outputs": [],
   "source": [
    "# now we can take a look at the intensities of the remaining peaks\n",
    "\n",
    "fig, ax = plt.subplots(figsize=(16, 9), constrained_layout=True)\n",
    "\n",
    "ax.plot(cf_4d.ds, cf_4d.sum_intensity,',', label='cf_4d',c='blue')\n",
    "ax.plot(cf_major_phase.ds, cf_major_phase.sum_intensity,',', label='major phase',c='orange')\n",
    "ax.plot(cf_minor_phase.ds, cf_minor_phase.sum_intensity,',', label='minor phase',c='green')\n",
    "ax.plot(major_phase_unitcell.ringds, [5e4,]*len(major_phase_unitcell.ringds), '|', ms=90, c=\"red\")\n",
    "ax.plot(minor_phase_unitcell.ringds, [1e4,]*len(minor_phase_unitcell.ringds), '|', ms=90, c=\"brown\")\n",
    "ax.semilogy()\n",
    "\n",
    "ax.set_xlabel(\"Dstar\")\n",
    "ax.set_ylabel(\"Intensity\")\n",
    "ax.legend()\n",
    "\n",
    "plt.show()"
   ]
  },
  {
   "cell_type": "code",
   "execution_count": null,
   "metadata": {
    "tags": []
   },
   "outputs": [],
   "source": [
    "cf_strong = cf_minor_phase"
   ]
  },
  {
   "cell_type": "code",
   "execution_count": null,
   "metadata": {
    "tags": []
   },
   "outputs": [],
   "source": [
    "# import the grains from disk\n",
    "\n",
    "grains = ds.get_grains_from_disk(minor_phase_str)\n",
    "print(f\"{len(grains)} grains imported\")"
   ]
  },
  {
   "cell_type": "code",
   "execution_count": null,
   "metadata": {
    "tags": []
   },
   "outputs": [],
   "source": [
    "# load major phase grain reconstruction\n",
    "# for pad and recon shifts\n",
    "\n",
    "major_phase_grainsinos = read_h5(ds.grainsfile, ds, major_phase_str)\n",
    "whole_sample_mask = major_phase_grainsinos[0].recon_mask\n",
    "shift = major_phase_grainsinos[0].recon_shift\n",
    "pad = major_phase_grainsinos[0].recon_pad\n",
    "y0 = major_phase_grainsinos[0].recon_y0\n",
    "\n",
    "print(shift, y0, pad)"
   ]
  },
  {
   "cell_type": "code",
   "execution_count": null,
   "metadata": {
    "tags": []
   },
   "outputs": [],
   "source": [
    "# assign peaks to the grains\n",
    "\n",
    "peak_assign_tol = 0.25\n",
    "utils.assign_peaks_to_grains(grains, cf_strong, peak_assign_tol)\n",
    "\n",
    "for grain_label, g in enumerate(grains):\n",
    "    g.npks_4d = np.sum(cf_strong.grain_id == grain_label)"
   ]
  },
  {
   "cell_type": "code",
   "execution_count": null,
   "metadata": {
    "tags": []
   },
   "outputs": [],
   "source": [
    "# let's make a GrainSinogram object for each grain\n",
    "\n",
    "grainsinos = [GrainSinogram(g, ds) for g in grains]"
   ]
  },
  {
   "cell_type": "code",
   "execution_count": null,
   "metadata": {
    "tags": []
   },
   "outputs": [],
   "source": [
    "# Now let's determine the positions of each grain from the 4D peaks\n",
    "\n",
    "for grain_label, gs in enumerate(grainsinos):\n",
    "    gs.update_lab_position_from_peaks(cf_strong, grain_label)"
   ]
  },
  {
   "cell_type": "code",
   "execution_count": null,
   "metadata": {
    "tags": []
   },
   "outputs": [],
   "source": [
    "# We can also determine the RGB IPF colours of the grains which will be useful for plotting\n",
    "\n",
    "utils.get_rgbs_for_grains(grains)"
   ]
  },
  {
   "cell_type": "code",
   "execution_count": null,
   "metadata": {
    "tags": []
   },
   "outputs": [],
   "source": [
    "utils.plot_all_ipfs(grains)"
   ]
  },
  {
   "cell_type": "code",
   "execution_count": null,
   "metadata": {
    "tags": []
   },
   "outputs": [],
   "source": [
    "# Now we can plot our grain positions and RGB colours:\n",
    "\n",
    "# plt.style.use('dark_background')\n",
    "fig, ax = plt.subplots(2,2, figsize=(12,12))\n",
    "a = ax.ravel()\n",
    "x = [g.translation[1] for g in grains]\n",
    "y = [g.translation[0] for g in grains]\n",
    "s = [g.npks_4d/10 for g in grains]\n",
    "a[0].scatter(x, y, c=[g.rgb_z for g in grains], s=s)\n",
    "a[0].set(title='IPF color Z',  aspect='equal')\n",
    "a[1].scatter(x, y, c=[g.rgb_y for g in grains], s=s)\n",
    "a[1].set(title='IPF color Y', aspect='equal')\n",
    "a[2].scatter(x, y, c=[g.rgb_x for g in grains], s=s)\n",
    "a[2].set(title='IPF color X',  aspect='equal')\n",
    "a[3].scatter(x, y, c=s)\n",
    "a[3].set(title='Number of 4D peaks', aspect='equal')\n",
    "\n",
    "fig.supxlabel(\"Lab y (transverse)\")\n",
    "fig.supylabel(\"Lab x (beam)\")\n",
    "\n",
    "for a in ax.ravel():\n",
    "    a.invert_xaxis()\n",
    "\n",
    "plt.show()"
   ]
  },
  {
   "cell_type": "code",
   "execution_count": null,
   "metadata": {
    "tags": []
   },
   "outputs": [],
   "source": [
    "# let's build the sinograms for our grains\n",
    "# before we do this, we need to determine our 2D peaks that will be used for the sinogram\n",
    "# here we can get them from the 4D peaks:\n",
    "\n",
    "hkltol = 0.25\n",
    "\n",
    "gord, inds = get_2d_peaks_from_4d_peaks(ds.pk2d, cf_strong)\n",
    "\n",
    "for grain_label, gs in enumerate(tqdm(grainsinos)):\n",
    "    gs.prepare_peaks_from_4d(cf_strong, gord, inds, grain_label, hkltol)"
   ]
  },
  {
   "cell_type": "code",
   "execution_count": null,
   "metadata": {
    "tags": []
   },
   "outputs": [],
   "source": [
    "# now we can actually generate the sinograms\n",
    "\n",
    "for gs in tqdm(grainsinos):\n",
    "    gs.build_sinogram()"
   ]
  },
  {
   "cell_type": "code",
   "execution_count": null,
   "metadata": {},
   "outputs": [],
   "source": [
    "# optionally correct the halfmask:\n",
    "\n",
    "if is_half_scan:\n",
    "    for gs in grainsinos:\n",
    "        gs.correct_halfmask()"
   ]
  },
  {
   "cell_type": "code",
   "execution_count": null,
   "metadata": {
    "tags": []
   },
   "outputs": [],
   "source": [
    "# Show sinogram of single grain\n",
    "\n",
    "gs = grainsinos[0]\n",
    "\n",
    "fig, ax = plt.subplots()\n",
    "\n",
    "ax.imshow(gs.ssino, aspect='auto')\n",
    "ax.set_title(\"ssino\")\n",
    "\n",
    "plt.show()"
   ]
  },
  {
   "cell_type": "code",
   "execution_count": null,
   "metadata": {},
   "outputs": [],
   "source": [
    "# We can optionally correct each row of the sinogram by the ring current of that rotation\n",
    "# This helps remove artifacts in the reconstruction\n",
    "\n",
    "correct_sinos_with_ring_current = True\n",
    "if correct_sinos_with_ring_current:\n",
    "    \n",
    "    ds.get_ring_current_per_scan()\n",
    "    \n",
    "    for gs in grainsinos:\n",
    "        gs.correct_ring_current(is_half_scan=is_half_scan)"
   ]
  },
  {
   "cell_type": "code",
   "execution_count": null,
   "metadata": {
    "tags": []
   },
   "outputs": [],
   "source": [
    "# Show sinogram of single grain\n",
    "\n",
    "gs = grainsinos[0]\n",
    "\n",
    "fig, ax = plt.subplots()\n",
    "\n",
    "ax.imshow(gs.ssino, aspect='auto')\n",
    "ax.set_title(\"ssino\")\n",
    "\n",
    "plt.show()"
   ]
  },
  {
   "cell_type": "code",
   "execution_count": null,
   "metadata": {
    "tags": []
   },
   "outputs": [],
   "source": [
    "# let's try out an iradon reconstruction\n",
    "\n",
    "gs = grainsinos[0]\n",
    "\n",
    "# update the parameters used for the iradon reconstruction\n",
    "\n",
    "gs.update_recon_parameters(pad=pad, shift=shift, mask=whole_sample_mask)\n",
    "\n",
    "# perform the reconstruction\n",
    "\n",
    "gs.recon()\n",
    "\n",
    "if is_half_scan:\n",
    "    halfmask_radius = 25\n",
    "    gs.mask_central_zingers(\"iradon\", radius=halfmask_radius)\n",
    "\n",
    "# view the result\n",
    "\n",
    "fig, axs = plt.subplots(1,2, figsize=(10,5))\n",
    "axs[0].imshow(gs.ssino, aspect='auto')\n",
    "axs[0].set_title(\"ssino\")\n",
    "axs[1].imshow(gs.recons[\"iradon\"], vmin=0, origin=\"lower\")\n",
    "axs[1].set_title(\"ID11 iradon\")\n",
    "\n",
    "plt.show()"
   ]
  },
  {
   "cell_type": "code",
   "execution_count": null,
   "metadata": {
    "tags": []
   },
   "outputs": [],
   "source": [
    "# once you're happy with the reconstruction parameters used, set them for all the grains\n",
    "\n",
    "for gs in grainsinos:\n",
    "    gs.update_recon_parameters(pad=pad, shift=shift, mask=whole_sample_mask)"
   ]
  },
  {
   "cell_type": "code",
   "execution_count": null,
   "metadata": {
    "tags": []
   },
   "outputs": [],
   "source": [
    "# reconstruct all grains in parallel\n",
    "\n",
    "nthreads = len(os.sched_getaffinity(os.getpid()))\n",
    "\n",
    "with concurrent.futures.ThreadPoolExecutor(max_workers= max(1,nthreads-1)) as pool:\n",
    "    for i in tqdm(pool.map(GrainSinogram.recon, grainsinos), total=len(grainsinos)):\n",
    "        pass\n",
    "    \n",
    "if is_half_scan:\n",
    "    for gs in grainsinos:\n",
    "        gs.mask_central_zingers(\"iradon\", radius=halfmask_radius)"
   ]
  },
  {
   "cell_type": "code",
   "execution_count": null,
   "metadata": {
    "tags": []
   },
   "outputs": [],
   "source": [
    "fig, a = plt.subplots(1,2,figsize=(10,5))\n",
    "rec = a[0].imshow(grainsinos[0].recons[\"iradon\"], vmin=0, origin=\"lower\")\n",
    "sin = a[1].imshow(grainsinos[0].ssino, aspect='auto')\n",
    "\n",
    "# Function to update the displayed image based on the selected frame\n",
    "def update_frame(i):\n",
    "    rec.set_array(grainsinos[i].recons[\"iradon\"])\n",
    "    sin.set_array(grainsinos[i].ssino)\n",
    "    a[0].set(title=str(i))\n",
    "    fig.canvas.draw()\n",
    "\n",
    "# Create a slider widget to select the frame number\n",
    "frame_slider = widgets.IntSlider(\n",
    "    value=0,\n",
    "    min=0,\n",
    "    max=len(grains) - 1,\n",
    "    step=1,\n",
    "    description='Grain:'\n",
    ")\n",
    "\n",
    "interact(update_frame, i=frame_slider)\n",
    "\n",
    "plt.show()"
   ]
  },
  {
   "cell_type": "code",
   "execution_count": null,
   "metadata": {
    "tags": []
   },
   "outputs": [],
   "source": [
    "# # you can pick a grain and investigate the effects of changing y0 that gets passed to iradon\n",
    "# # it' best to pick the grain AFTER reconstructing all grains, so you can pick a grain of interest\n",
    "\n",
    "# g = grains[5]\n",
    "    \n",
    "# vals = np.linspace(-8.5, -7.5, 9)\n",
    "\n",
    "# grid_size = np.ceil(np.sqrt(len(vals))).astype(int)\n",
    "# nrows = (len(vals)+grid_size-1)//grid_size\n",
    "\n",
    "# fig, axs = plt.subplots(grid_size, nrows, sharex=True, sharey=True)\n",
    "\n",
    "# for inc, val in enumerate(tqdm(vals)):\n",
    "    \n",
    "#     crop = utils.run_iradon_id11(g.ssino, g.sinoangles, pad, y0=val, workers=1, apply_halfmask=is_half_scan, mask_central_zingers=is_half_scan)\n",
    "\n",
    "    \n",
    "#     axs.ravel()[inc].imshow(crop, origin=\"lower\", vmin=0)\n",
    "#     axs.ravel()[inc].set_title(val)\n",
    "    \n",
    "# plt.show()"
   ]
  },
  {
   "cell_type": "code",
   "execution_count": null,
   "metadata": {
    "tags": []
   },
   "outputs": [],
   "source": [
    "# let's assemble all the recons together into a TensorMap\n",
    "\n",
    "tensor_map = TensorMap.from_grainsinos(grainsinos, cutoff_level=0.4)"
   ]
  },
  {
   "cell_type": "code",
   "execution_count": null,
   "metadata": {
    "tags": []
   },
   "outputs": [],
   "source": [
    "# plot initial output\n",
    "\n",
    "tensor_map.plot(\"ipf_z\")\n",
    "tensor_map.plot(\"labels\")\n",
    "tensor_map.plot(\"intensity\")"
   ]
  },
  {
   "cell_type": "code",
   "execution_count": null,
   "metadata": {
    "tags": []
   },
   "outputs": [],
   "source": [
    "# There will likely be many streaks, indicating a few grains have dodgy reconstructions and are probably not to be trusted\n",
    "# You could optionally run ASTRA:\n",
    "\n",
    "\n",
    "# choose the number of iterations\n",
    "# experience shows 500 is good, and pretty quick on the GPU\n",
    "\n",
    "niter = 500\n",
    "\n",
    "for gs in grainsinos:\n",
    "    gs.update_recon_parameters(pad=pad, shift=shift, mask=whole_sample_mask, niter=niter, y0=y0)\n",
    "\n",
    "# save the GrainSinogram objects to disk\n",
    "write_h5(ds.grainsfile, grainsinos, overwrite_grains=True, group_name=minor_phase_str)\n",
    "\n",
    "# prepare ASTRA bash scripts to run it on the cluster\n",
    "\n",
    "bash_script_path = utils.prepare_astra_bash(ds, ds.grainsfile, PYTHONPATH, group_name=minor_phase_str)\n",
    "\n",
    "# submit the job\n",
    "\n",
    "utils.slurm_submit_and_wait(bash_script_path, 10)\n",
    "\n",
    "# re-import our reconstructed grains\n",
    "\n",
    "grainsinos = read_h5(ds.grainsfile, ds, group_name=minor_phase_str)\n",
    "# re-associate grainsino grain objects to existing grain objects\n",
    "\n",
    "for gs, g in zip(grainsinos, grains):\n",
    "    gs.grain = g\n",
    "    gs.ds = ds"
   ]
  },
  {
   "cell_type": "code",
   "execution_count": null,
   "metadata": {
    "tags": []
   },
   "outputs": [],
   "source": [
    "# Let's assemble all the recons into one map\n",
    "\n",
    "cutoff_level = 0.5\n",
    "\n",
    "tensor_map_astra = TensorMap.from_grainsinos(grainsinos, cutoff_level=cutoff_level, method=\"astra\")"
   ]
  },
  {
   "cell_type": "code",
   "execution_count": null,
   "metadata": {
    "tags": []
   },
   "outputs": [],
   "source": [
    "tensor_map_astra.plot(\"ipf_z\")\n",
    "tensor_map_astra.plot(\"labels\")\n",
    "tensor_map_astra.plot(\"intensity\")"
   ]
  },
  {
   "cell_type": "code",
   "execution_count": null,
   "metadata": {
    "tags": []
   },
   "outputs": [],
   "source": [
    "# To fix this, we can count how many pixels in the grain labels array each grain has\n",
    "# It can be helpful to run this filtration more than once\n",
    "\n",
    "labels, counts = np.unique(tensor_map_astra[\"labels\"], return_counts=True)\n",
    "\n",
    "fig, ax = plt.subplots()\n",
    "ax.plot(labels[labels > 0], counts[labels > 0])\n",
    "plt.show()"
   ]
  },
  {
   "cell_type": "code",
   "execution_count": null,
   "metadata": {
    "tags": []
   },
   "outputs": [],
   "source": [
    "# filter out grains with more than 10 pixels in the label map\n",
    "# this normally indicates a dodgy reconstruction for this grain\n",
    "# only really applies if the grains are very small!\n",
    "\n",
    "grain_too_many_px = 10\n",
    "\n",
    "bad_gids = [int(label) for (label, count) in zip(labels, counts) if count > grain_too_many_px and label > 0]"
   ]
  },
  {
   "cell_type": "code",
   "execution_count": null,
   "metadata": {
    "tags": []
   },
   "outputs": [],
   "source": [
    "# before we filter, determine our grain labels\n",
    "# this is so we know which labels to give our grains in the filtered grain map\n",
    "# such that it still agrees with the grain order\n",
    "\n",
    "print(f\"{len(grainsinos)} grains before filtration\")\n",
    "grainsinos_clean = [gs for (inc, gs) in enumerate(grainsinos) if inc not in bad_gids]\n",
    "grain_labels_clean = [inc for (inc, gs) in enumerate(grainsinos) if inc not in bad_gids]\n",
    "print(f\"{len(grainsinos_clean)} grains after filtration\")"
   ]
  },
  {
   "cell_type": "code",
   "execution_count": null,
   "metadata": {
    "tags": []
   },
   "outputs": [],
   "source": [
    "# set the gids for grainsinos_clean based on their original labels\n",
    "\n",
    "for gs, label in zip(grainsinos_clean, grain_labels_clean):\n",
    "    gs.grain.gid = label"
   ]
  },
  {
   "cell_type": "code",
   "execution_count": null,
   "metadata": {
    "tags": []
   },
   "outputs": [],
   "source": [
    "cutoff_level = 0.5\n",
    "\n",
    "tensor_map_astra = TensorMap.from_grainsinos(grainsinos_clean, cutoff_level=cutoff_level, method=\"astra\")"
   ]
  },
  {
   "cell_type": "code",
   "execution_count": null,
   "metadata": {
    "tags": []
   },
   "outputs": [],
   "source": [
    "tensor_map_astra.plot(\"ipf_z\")\n",
    "tensor_map_astra.plot(\"labels\")\n",
    "tensor_map_astra.plot(\"intensity\")"
   ]
  },
  {
   "cell_type": "code",
   "execution_count": null,
   "metadata": {
    "tags": []
   },
   "outputs": [],
   "source": [
    "# we can determine improved positions of our grains from the positions of their reconstructions\n",
    "\n",
    "for gs in tqdm(grainsinos):\n",
    "    gs.update_lab_position_from_recon()\n",
    "    \n",
    "# change the y0 back to what we imported at the beginning:\n",
    "\n",
    "for gs in grainsinos:\n",
    "    gs.update_recon_parameters(y0=y0)"
   ]
  },
  {
   "cell_type": "code",
   "execution_count": null,
   "metadata": {
    "tags": []
   },
   "outputs": [],
   "source": [
    "# Now we can plot our grain positions and RGB colours:\n",
    "\n",
    "# plt.style.use('dark_background')\n",
    "fig, ax = plt.subplots(2,2, figsize=(12,12))\n",
    "a = ax.ravel()\n",
    "x = [gs.grain.translation[1] for gs in grainsinos_clean]\n",
    "y = [gs.grain.translation[0] for gs in grainsinos_clean]\n",
    "s = [gs.grain.npks_4d/10 for gs in grainsinos_clean]\n",
    "a[0].scatter(x, y, c=[gs.grain.rgb_z for gs in grainsinos_clean], s=s)\n",
    "a[0].set(title='IPF color Z',  aspect='equal')\n",
    "a[1].scatter(x, y, c=[gs.grain.rgb_y for gs in grainsinos_clean], s=s)\n",
    "a[1].set(title='IPF color Y', aspect='equal')\n",
    "a[2].scatter(x, y, c=[gs.grain.rgb_x for gs in grainsinos_clean], s=s)\n",
    "a[2].set(title='IPF color X',  aspect='equal')\n",
    "a[3].scatter(x, y, c=s)\n",
    "a[3].set(title='Number of 4D peaks', aspect='equal')\n",
    "\n",
    "fig.supxlabel(\"Lab y (transverse)\")\n",
    "fig.supylabel(\"Lab x (beam)\")\n",
    "\n",
    "for a in ax.ravel():\n",
    "    a.invert_xaxis()\n",
    "\n",
    "plt.show()"
   ]
  },
  {
   "cell_type": "code",
   "execution_count": null,
   "metadata": {
    "tags": []
   },
   "outputs": [],
   "source": [
    "# write our results to disk\n",
    "\n",
    "write_h5(ds.grainsfile, grainsinos, overwrite_grains=True, group_name=minor_phase_str)"
   ]
  },
  {
   "cell_type": "code",
   "execution_count": null,
   "metadata": {
    "tags": []
   },
   "outputs": [],
   "source": [
    "# write the TensorMap to disk too\n",
    "\n",
    "tensor_map_astra.to_h5(ds.grainsfile, h5group='TensorMap_' + minor_phase_str)"
   ]
  },
  {
   "cell_type": "code",
   "execution_count": null,
   "metadata": {
    "tags": []
   },
   "outputs": [],
   "source": [
    "# we can also write an XDMF file so you can visualise the TensorMap with ParaView\n",
    "\n",
    "tensor_map_astra.to_paraview(ds.grainsfile, h5group='TensorMap_' + minor_phase_str)"
   ]
  },
  {
   "cell_type": "code",
   "execution_count": null,
   "metadata": {
    "tags": []
   },
   "outputs": [],
   "source": [
    "ds.save()"
   ]
  },
  {
   "cell_type": "code",
   "execution_count": null,
   "metadata": {},
   "outputs": [],
   "source": [
    "if 1:\n",
    "    raise ValueError(\"Change the 1 above to 0 to allow 'Run all cells' in the notebook\")"
   ]
  },
  {
   "cell_type": "code",
   "execution_count": null,
   "metadata": {},
   "outputs": [],
   "source": [
    "# Now that we're happy with our indexing parameters, we can run the below cell to do this in bulk for many samples/datasets\n",
    "# by default this will do all samples in sample_list, all datasets with a prefix of dset_prefix\n",
    "# you can add samples and datasets to skip in skips_dict\n",
    "\n",
    "skips_dict = {\n",
    "    \"FeAu_0p5_tR_nscope\": [\"top_-50um\", \"top_-100um\"]\n",
    "}\n",
    "\n",
    "dset_prefix = \"top\"\n",
    "\n",
    "sample_list = [\"FeAu_0p5_tR_nscope\"]\n",
    "    \n",
    "samples_dict = utils.find_datasets_to_process(rawdata_path, skips_dict, dset_prefix, sample_list)\n",
    "    \n",
    "# manual override:\n",
    "# samples_dict = {\"FeAu_0p5_tR_nscope\": [\"top_100um\", \"top_150um\"]}\n",
    "    \n",
    "# now we have our samples_dict, we can process our data:\n",
    "\n",
    "\n",
    "for sample, datasets in samples_dict.items():\n",
    "    for dataset in datasets:\n",
    "        print(f\"Processing dataset {dataset} in sample {sample}\")\n",
    "        dset_path = os.path.join(processed_data_root_dir, sample, f\"{sample}_{dataset}\", f\"{sample}_{dataset}_dataset.h5\")\n",
    "        if not os.path.exists(dset_path):\n",
    "            print(f\"Missing DataSet file for {dataset} in sample {sample}, skipping\")\n",
    "            continue\n",
    "        \n",
    "        print(\"Importing DataSet object\")\n",
    "        \n",
    "        ds = ImageD11.sinograms.dataset.load(dset_path)\n",
    "        \n",
    "        if not os.path.exists(ds.grainsfile):\n",
    "            print(f\"Missing grains file for {dataset} in sample {sample}, skipping\")\n",
    "            continue\n",
    "        \n",
    "        # check grains file for existance of output, skip if it's there\n",
    "        with h5py.File(ds.grainsfile, \"r\") as hin:\n",
    "            if 'TensorMap_' + minor_phase_str in hin.keys():\n",
    "                print(f\"Already reconstructed {dataset} in {sample}, skipping\")\n",
    "                continue\n",
    "        \n",
    "        ds.phases = ds.get_phases_from_disk()\n",
    "        \n",
    "        if is_half_scan:\n",
    "            ds.correct_bins_for_half_scan()\n",
    "        \n",
    "        print(\"Importing peaks\")\n",
    "        cf_4d = ds.get_cf_4d_from_disk()\n",
    "        ds.update_colfile_pars(cf_4d, phase_name=minor_phase_str)\n",
    "        \n",
    "        print(\"Filtering peaks\")\n",
    "        cf_strong = select_ring_peaks_by_intensity(cf_4d, frac=minor_phase_cf_frac, dstol=minor_phase_cf_dstol)\n",
    "        \n",
    "        print(\"Importing grains\")\n",
    "        grains = ds.get_grains_from_disk(minor_phase_str)\n",
    "\n",
    "        major_phase_grainsinos = read_h5(ds.grainsfile, ds, major_phase_str)\n",
    "        whole_sample_mask = major_phase_grainsinos[0].recon_mask\n",
    "        shift = major_phase_grainsinos[0].recon_shift\n",
    "        pad = major_phase_grainsinos[0].recon_pad\n",
    "        \n",
    "        utils.assign_peaks_to_grains(grains, cf_strong, tol=peak_assign_tol)\n",
    "        for grain_label, g in enumerate(grains):\n",
    "            g.npks_4d = np.sum(cf_strong.grain_id == grain_label)\n",
    "        \n",
    "        grainsinos = [GrainSinogram(g, ds) for g in grains]\n",
    "        \n",
    "        for grain_label, gs in enumerate(grainsinos):\n",
    "            gs.update_lab_position_from_peaks(cf_strong, grain_label)\n",
    "\n",
    "        utils.get_rgbs_for_grains(grains)\n",
    "        \n",
    "        print(\"Building sinograms\")\n",
    "        \n",
    "        gord, inds = get_2d_peaks_from_4d_peaks(ds.pk2d, cf_strong)\n",
    "        \n",
    "        for grain_label, gs in enumerate(tqdm(grainsinos)):\n",
    "            gs.prepare_peaks_from_4d(cf_strong, gord, inds, grain_label, hkltol)\n",
    "            gs.build_sinogram()\n",
    "            \n",
    "            if is_half_scan:\n",
    "                gs.correct_halfmask()\n",
    "        \n",
    "        if correct_sinos_with_ring_current:\n",
    "            ds.get_ring_current_per_scan()\n",
    "            for gs in grainsinos:\n",
    "                gs.correct_ring_current(is_half_scan=is_half_scan)\n",
    "        \n",
    "        for gs in grainsinos:\n",
    "            gs.update_recon_parameters(pad=pad, shift=shift, mask=whole_sample_mask)\n",
    "        \n",
    "        print(\"Running iradon reconstructions\")\n",
    "        with concurrent.futures.ThreadPoolExecutor(max_workers= max(1,nthreads-1)) as pool:\n",
    "            for i in tqdm(pool.map(GrainSinogram.recon, grainsinos), total=len(grainsinos)):\n",
    "                pass\n",
    "        \n",
    "        if is_half_scan:\n",
    "            for gs in grainsinos:\n",
    "                gs.mask_central_zingers(\"iradon\", radius=halfmask_radius)\n",
    "        \n",
    "        for gs in grainsinos:\n",
    "            gs.update_recon_parameters(pad=pad, shift=shift, mask=whole_sample_mask, niter=niter, y0=y0)\n",
    "        \n",
    "        print(\"Submitting ASTRA recon job\")\n",
    "        write_h5(ds.grainsfile, grainsinos, overwrite_grains=True, group_name=minor_phase_str)\n",
    "        bash_script_path = utils.prepare_astra_bash(ds, ds.grainsfile, PYTHONPATH, group_name=minor_phase_str)\n",
    "        utils.slurm_submit_and_wait(bash_script_path, 10)\n",
    "        \n",
    "        print(\"Importing reconstructed grains\")\n",
    "        grainsinos = read_h5(ds.grainsfile, ds, group_name=minor_phase_str)\n",
    "        for gs, g in zip(grainsinos, grains):\n",
    "            gs.grain = g\n",
    "            gs.ds = ds\n",
    "        \n",
    "        print(\"Filtering noisy recons\")\n",
    "        tensor_map_astra = TensorMap.from_grainsinos(grainsinos, cutoff_level=cutoff_level, method=\"astra\")\n",
    "        labels, counts = np.unique(tensor_map_astra[\"labels\"], return_counts=True)\n",
    "        bad_gids = [int(label) for (label, count) in zip(labels, counts) if count > grain_too_many_px and label > 0]\n",
    "\n",
    "        grainsinos_clean = [gs for (inc, gs) in enumerate(grainsinos) if inc not in bad_gids]\n",
    "        grain_labels_clean = [inc for (inc, gs) in enumerate(grainsinos) if inc not in bad_gids]\n",
    "        \n",
    "        for gs, label in zip(grainsinos_clean, grain_labels_clean):\n",
    "            gs.grain.gid = label\n",
    "\n",
    "        tensor_map_astra = TensorMap.from_grainsinos(grainsinos_clean, cutoff_level=cutoff_level, method=\"astra\")\n",
    "        \n",
    "        for gs in tqdm(grainsinos):\n",
    "            gs.update_lab_position_from_recon()\n",
    "            \n",
    "        for gs in grainsinos:\n",
    "            gs.update_recon_parameters(y0=y0)\n",
    "        \n",
    "        print(\"Exporting\")\n",
    "        write_h5(ds.grainsfile, grainsinos, overwrite_grains=True, group_name=minor_phase_str)\n",
    "        \n",
    "        tensor_map_astra.to_h5(ds.grainsfile, h5group='TensorMap_' + minor_phase_str)\n",
    "        tensor_map_astra.to_paraview(ds.grainsfile, h5group='TensorMap_' + minor_phase_str)\n",
    "\n",
    "        ds.save()\n",
    "\n",
    "print(\"Done!\")"
   ]
  },
  {
   "cell_type": "code",
   "execution_count": null,
   "metadata": {},
   "outputs": [],
   "source": []
  }
 ],
 "metadata": {
  "kernelspec": {
   "display_name": "Python 3 (main)",
   "language": "python",
   "name": "python3"
  },
  "language_info": {
   "codemirror_mode": {
    "name": "ipython",
    "version": 3
   },
   "file_extension": ".py",
   "mimetype": "text/x-python",
   "name": "python",
   "nbconvert_exporter": "python",
   "pygments_lexer": "ipython3",
   "version": "3.11.6"
  }
 },
 "nbformat": 4,
 "nbformat_minor": 4
}
