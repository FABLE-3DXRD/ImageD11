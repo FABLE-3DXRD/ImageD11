{
 "cells": [
  {
   "cell_type": "markdown",
   "id": "7a9839f6-a3f2-4b34-b0d5-9095be4eac08",
   "metadata": {
    "tags": []
   },
   "source": [
    "# Jupyter notebook based on ImageD11 to process scanning 3DXRD data\n",
    "# Written by Haixing Fang, Jon Wright and James Ball\n",
    "## Date: 26/02/2024"
   ]
  },
  {
   "cell_type": "code",
   "execution_count": null,
   "id": "92baa2cd-4e85-4998-979b-88ef0a674c48",
   "metadata": {
    "tags": []
   },
   "outputs": [],
   "source": [
    "exec(open('/data/id11/nanoscope/install_ImageD11_from_git.py').read())\n",
    "PYTHONPATH = setup_ImageD11_from_git( ) # ( os.path.join( os.environ['HOME'],'Code'), 'ImageD11_git' )"
   ]
  },
  {
   "cell_type": "code",
   "execution_count": null,
   "id": "74e066b0-ae13-46e9-81b0-a11ea524a469",
   "metadata": {
    "tags": []
   },
   "outputs": [],
   "source": [
    "# import functions we need\n",
    "\n",
    "import concurrent.futures\n",
    "import timeit\n",
    "import glob\n",
    "import pprint\n",
    "from shutil import rmtree\n",
    "import time\n",
    "from functools import partial\n",
    "\n",
    "import matplotlib\n",
    "%matplotlib ipympl\n",
    "\n",
    "import h5py\n",
    "from tqdm.notebook import tqdm\n",
    "import numpy as np\n",
    "import matplotlib.pyplot as plt\n",
    "\n",
    "import ImageD11.columnfile\n",
    "# from ImageD11.sinograms.dataset import DataSet\n",
    "from ImageD11.sinograms import properties, roi_iradon, dataset\n",
    "# from ImageD11.blobcorrector import eiger_spatial\n",
    "from ImageD11.grain import grain\n",
    "\n",
    "import ImageD11.nbGui.nb_utils as utils\n"
   ]
  },
  {
   "cell_type": "code",
   "execution_count": null,
   "id": "ec147b86-3ce5-44ed-bfaf-bc7b3fde371e",
   "metadata": {},
   "outputs": [],
   "source": [
    "# USER: Pass path to dataset file\n",
    "\n",
    "dset_file = 'si_cube_test/processed/Si_cube/Si_cube_S3DXRD_nt_moves_dty/Si_cube_S3DXRD_nt_moves_dty_dataset.h5'\n",
    "\n",
    "ds = ImageD11.sinograms.dataset.load(dset_file)\n",
    "   \n",
    "sample = ds.sample\n",
    "dataset = ds.dsname\n",
    "rawdata_path = ds.dataroot\n",
    "processed_data_root_dir = ds.analysisroot\n",
    "\n",
    "print(ds)\n",
    "print(ds.shape)"
   ]
  },
  {
   "cell_type": "code",
   "execution_count": null,
   "id": "a1ff363a-8106-45c4-b4de-f557f33c852a",
   "metadata": {
    "tags": []
   },
   "outputs": [],
   "source": [
    "samples_dict = {}\n",
    "\n",
    "skips_dict = {\n",
    "    \"FeAu_0p5_tR_nscope\": [\"top_100um\", \"top_-100um\"]\n",
    "}\n",
    "\n",
    "dset_prefix = \"top\"\n",
    "\n",
    "sample_list = [\"FeAu_0p5_tR_nscope\"]\n",
    "\n",
    "for sample in sample_list:\n",
    "    all_dset_folders_for_sample = os.listdir(os.path.join(rawdata_path, sample))\n",
    "    dsets_list = []\n",
    "    for folder in all_dset_folders_for_sample:\n",
    "        if dset_prefix in folder:\n",
    "            dset_name = folder.split(f\"{sample}_\")[1]\n",
    "            if dset_name not in skips_dict[sample]:\n",
    "                dsets_list.append(dset_name)\n",
    "\n",
    "    samples_dict[sample] = dsets_list\n",
    "    \n",
    "# manually override:\n",
    "\n",
    "samples_dict = {\"FeAu_0p5_tR_nscope\": [\"top_150um\", \"top_200um\", \"top_250um\"]}"
   ]
  },
  {
   "cell_type": "code",
   "execution_count": null,
   "id": "968d1fcd-46e7-43ad-8f09-5c5b3a639ae1",
   "metadata": {
    "tags": []
   },
   "outputs": [],
   "source": [
    "def read_grains(ds):\n",
    "    with h5py.File(ds.grainsfile, 'r') as hin:\n",
    "        grp = hin['slice_recon']\n",
    "        \n",
    "        raw_intensity_array = grp['intensity'][:]\n",
    "        grain_labels_array = grp['labels'][:]\n",
    "       \n",
    "        grains_group = 'grains'\n",
    "        \n",
    "        grains = []\n",
    "        for gid_string in tqdm(sorted(hin[grains_group].keys(), key=lambda x: int(x))):\n",
    "            gg = hin[grains_group][gid_string]\n",
    "            ubi = gg.attrs['ubi'][:]\n",
    "            g = ImageD11.grain.grain(ubi)\n",
    "            # general grain properties\n",
    "            g.gid = int(gid_string)\n",
    "            g.translation = gg['translation'][:]\n",
    "            g.cen = gg.attrs['cen']\n",
    "            g.y0 = gg.attrs['y0']\n",
    "            # sinogram stuff\n",
    "            g.ssino = gg['ssino'][:]\n",
    "            g.sinoangles = gg['sinoangles'][:]\n",
    "            # reconstructions\n",
    "            g.og_recon = gg['og_recon'][:]\n",
    "            g.recon = gg['recon'][:]\n",
    "            grains.append(g)\n",
    "    \n",
    "    return grains, raw_intensity_array, grain_labels_array"
   ]
  },
  {
   "cell_type": "code",
   "execution_count": null,
   "id": "48cc2f6e-8cf1-4ec5-b8a0-2cab2a4f44d9",
   "metadata": {
    "tags": []
   },
   "outputs": [],
   "source": [
    "z_translation_motor = \"pz\"\n",
    "\n",
    "ds_dict = []\n",
    "\n",
    "for sample, datasets in samples_dict.items():\n",
    "    for dataset in datasets:\n",
    "        print(f\"Processing dataset {dataset} in sample {sample}\")\n",
    "        dset_path = os.path.join(processed_data_root_dir, sample, f\"{sample}_{dataset}\", f\"{sample}_{dataset}_dataset.h5\")\n",
    "        if not os.path.exists(dset_path):\n",
    "            print(f\"Missing DataSet file for {dataset} in sample {sample}, skipping\")\n",
    "            continue\n",
    "        \n",
    "        print(\"Importing DataSet object\")\n",
    "        \n",
    "        ds = ImageD11.sinograms.dataset.load(dset_path)\n",
    "        \n",
    "        print(\"Importing grains\")\n",
    "        \n",
    "        ds.grains, ds.raw_intensity_array, ds.grain_labels_array = read_grains(ds)\n",
    "        \n",
    "        print(\"Importing z positions\")\n",
    "        \n",
    "        with h5py.File(ds.masterfile, 'r' ) as hin:\n",
    "            this_z_trans_value = hin[\"1.1/instrument/positioners\"][z_translation_motor][()]\n",
    "            ds.zpos = this_z_trans_value  # this is in microns for samtz"
   ]
  },
  {
   "cell_type": "code",
   "execution_count": null,
   "id": "16775ee0-1d44-4557-874d-8c06fe607e2c",
   "metadata": {},
   "outputs": [],
   "source": []
  }
 ],
 "metadata": {
  "kernelspec": {
   "display_name": "Python 3 (main)",
   "language": "python",
   "name": "python3"
  },
  "language_info": {
   "codemirror_mode": {
    "name": "ipython",
    "version": 3
   },
   "file_extension": ".py",
   "mimetype": "text/x-python",
   "name": "python",
   "nbconvert_exporter": "python",
   "pygments_lexer": "ipython3",
   "version": "3.11.6"
  }
 },
 "nbformat": 4,
 "nbformat_minor": 5
}
