{
 "cells": [
  {
   "cell_type": "markdown",
   "id": "bbc4bc96-cbc7-436a-a174-c99388869cbb",
   "metadata": {},
   "source": [
    "# Jupyter notebook based on ImageD11 to process scanning 3DXRD data\n",
    "# Written by Haixing Fang, Jon Wright and James Ball\n",
    "## Date: 21/02/2024"
   ]
  },
  {
   "cell_type": "code",
   "execution_count": null,
   "id": "94b89030-fdb2-47d2-bc26-3e5cfb0d6509",
   "metadata": {},
   "outputs": [],
   "source": [
    "# There is a bug with the current version of ImageD11 in the site-wide Jupyter env.\n",
    "# This has been fixed here: https://github.com/FABLE-3DXRD/ImageD11/commit/4af88b886b1775585e868f2339a0eb975401468f\n",
    "# Until a new release has been made and added to the env, we need to get the latest version of ImageD11 from GitHub\n",
    "# Put it in your home directory\n",
    "# USER: Change the path below to point to your local copy of ImageD11:\n",
    "\n",
    "import os\n",
    "\n",
    "username = os.environ.get(\"USER\")\n",
    "\n",
    "id11_code_path = f\"/home/esrf/{username}/Code/ImageD11\"\n",
    "\n",
    "import sys\n",
    "\n",
    "sys.path.insert(0, id11_code_path)"
   ]
  },
  {
   "cell_type": "code",
   "execution_count": null,
   "id": "8f4b91e0-7a83-462b-85cb-27f65721ff93",
   "metadata": {},
   "outputs": [],
   "source": [
    "# import functions we need\n",
    "\n",
    "import os\n",
    "import concurrent.futures\n",
    "import timeit\n",
    "\n",
    "import matplotlib\n",
    "%matplotlib ipympl\n",
    "\n",
    "import h5py\n",
    "from tqdm.notebook import tqdm\n",
    "import numpy as np\n",
    "import matplotlib.pyplot as plt\n",
    "\n",
    "from xfab.symmetry import Umis\n",
    "\n",
    "\n",
    "import ImageD11.columnfile\n",
    "from ImageD11.sinograms import properties, roi_iradon\n",
    "from ImageD11.blobcorrector import eiger_spatial\n",
    "from ImageD11.grain import grain\n",
    "from ImageD11 import cImageD11\n",
    "\n",
    "import ImageD11.nbGui.nb_utils as utils"
   ]
  },
  {
   "cell_type": "code",
   "execution_count": null,
   "id": "c3c559a5-0202-4f54-be32-20830f5fd6a1",
   "metadata": {},
   "outputs": [],
   "source": [
    "# NOTE: For old datasets before the new directory layout structure, we don't distinguish between RAW_DATA and PROCESSED_DATA\n",
    "# In this case, use this cell to specify where your experimental folder is, and do not run the cell below\n",
    "# e.g /data/visitor/4752/id11/20210513\n",
    "\n",
    "### USER: specify your experimental directory\n",
    "\n",
    "rawdata_path = \"/home/esrf/james1997a/Data/ihma439/id11/20231211/RAW_DATA\"\n",
    "\n",
    "!ls -lrt {rawdata_path}\n",
    "\n",
    "### USER: specify where you want your processed data to go\n",
    "\n",
    "processed_data_root_dir = \"/home/esrf/james1997a/Data/ihma439/id11/20231211/PROCESSED_DATA/James/20240221\""
   ]
  },
  {
   "cell_type": "code",
   "execution_count": null,
   "id": "1635a8ba-5cbb-4ce3-8cfc-13c19b38c574",
   "metadata": {},
   "outputs": [],
   "source": [
    "# USER: pick a sample and a dataset you want to segment\n",
    "\n",
    "sample = \"FeAu_0p5_tR_nscope\"\n",
    "dataset = \"top_100um\""
   ]
  },
  {
   "cell_type": "code",
   "execution_count": null,
   "id": "0ef8df24-9a41-479e-9f3c-b76fe4b27d5c",
   "metadata": {},
   "outputs": [],
   "source": [
    "# desination of H5 files\n",
    "\n",
    "dset_path = os.path.join(processed_data_root_dir, sample, f\"{sample}_{dataset}\", f\"{sample}_{dataset}_dataset.h5\")\n",
    "\n",
    "par_path = os.path.join(processed_data_root_dir, 'Fe_refined.par')\n",
    "\n",
    "e2dx_path = os.path.join(processed_data_root_dir, '../../CeO2/e2dx_E-08-0173_20231127.edf')\n",
    "e2dy_path = os.path.join(processed_data_root_dir, '../../CeO2/e2dy_E-08-0173_20231127.edf')"
   ]
  },
  {
   "cell_type": "code",
   "execution_count": null,
   "id": "20ff052b-cca8-4310-8b29-4c82e0e513c8",
   "metadata": {
    "tags": []
   },
   "outputs": [],
   "source": [
    "# Load the dataset (for motor positions, not sure why these are not in peaks)\n",
    "ds = ImageD11.sinograms.dataset.load(dset_path)"
   ]
  },
  {
   "cell_type": "code",
   "execution_count": null,
   "id": "dfb81175-ace9-4d13-8c05-bc7a0953d881",
   "metadata": {
    "tags": []
   },
   "outputs": [],
   "source": [
    "# Import 2D peaks\n",
    "\n",
    "cf_2d = ImageD11.columnfile.columnfile(ds.col2dfile)\n",
    "\n",
    "cf_2d.parameters.loadparameters(par_path)\n",
    "cf_2d.updateGeometry()\n",
    "\n",
    "print(f\"Read {cf_2d.nrows} 2D peaks\")\n",
    "\n",
    "index_column = np.arange(cf_2d.nrows)\n",
    "cf_2d.addcolumn(index_column, 'index')"
   ]
  },
  {
   "cell_type": "code",
   "execution_count": null,
   "id": "21a2c05d-db13-45fc-9ff5-d419479b3457",
   "metadata": {
    "tags": []
   },
   "outputs": [],
   "source": [
    "def read_grains(ds):\n",
    "    with h5py.File(ds.grainsfile, 'r') as hin:\n",
    "        grp = hin['slice_recon']\n",
    "        \n",
    "        raw_intensity_array = grp['intensity'][:]\n",
    "        grain_labels_array = grp['labels'][:]\n",
    "       \n",
    "        grains_group = 'grains'\n",
    "        \n",
    "        grains = []\n",
    "        for gid_string in tqdm(sorted(hin[grains_group].keys(), key=lambda x: int(x))):\n",
    "            gg = hin[grains_group][gid_string]\n",
    "            ubi = gg.attrs['ubi'][:]\n",
    "            g = ImageD11.grain.grain(ubi)\n",
    "            # general grain properties\n",
    "            g.gid = int(gid_string)\n",
    "            g.translation = gg['translation'][:]\n",
    "            g.cen = gg.attrs['cen']\n",
    "            g.y0 = gg.attrs['y0']\n",
    "            # sinogram stuff\n",
    "            g.ssino = gg['ssino'][:]\n",
    "            g.sinoangles = gg['sinoangles'][:]\n",
    "            # reconstructions\n",
    "            g.og_recon = gg['og_recon'][:]\n",
    "            g.recon = gg['recon'][:]\n",
    "            grains.append(g)\n",
    "    \n",
    "    return grains, raw_intensity_array, grain_labels_array"
   ]
  },
  {
   "cell_type": "code",
   "execution_count": null,
   "id": "ec5ff57a-0a7f-44cd-b437-eb4cc4e2ea25",
   "metadata": {
    "tags": []
   },
   "outputs": [],
   "source": [
    "grains, raw_intensity_array, grain_labels_array = read_grains(ds)"
   ]
  },
  {
   "cell_type": "code",
   "execution_count": null,
   "id": "f8feef60-367b-478a-9ce4-8a94e3cedd60",
   "metadata": {
    "tags": []
   },
   "outputs": [],
   "source": [
    "# filter 2D peaks by intensity\n",
    "\n",
    "cf_2d_strong = utils.selectpeaks(cf_2d, frac=0.95, dsmax=cf_2d.ds.max(), doplot=0.5)\n",
    "print(cf_2d.nrows)\n",
    "print(cf_2d_strong.nrows)"
   ]
  },
  {
   "cell_type": "code",
   "execution_count": null,
   "id": "a85cb2c4-50d1-4264-aef4-af903e4ce941",
   "metadata": {
    "tags": []
   },
   "outputs": [],
   "source": [
    "cf_2d_strong.addcolumn(np.cos(np.radians(cf_2d_strong.omega)), 'cosomega')\n",
    "cf_2d_strong.addcolumn(np.sin(np.radians(cf_2d_strong.omega)), 'sinomega')"
   ]
  },
  {
   "cell_type": "code",
   "execution_count": null,
   "id": "a4a9c316-66ed-4935-aa82-687668a41180",
   "metadata": {
    "tags": []
   },
   "outputs": [],
   "source": [
    "tol = 0.025\n",
    "\n",
    "utils.assign_peaks_to_grains(grains, cf_2d_strong, tol=tol)\n",
    "\n",
    "print(\"Storing peak data in grains\")\n",
    "# iterate through all the grains\n",
    "\n",
    "gvecs_2d_strong = np.transpose((cf_2d_strong.gx, cf_2d_strong.gy, cf_2d_strong.gz)).astype(float)\n",
    "\n",
    "# make lookup table for grain IDs so we can quickly get the grain given a GID (might not be contiguous or start at 0)\n",
    "grain_lut = {}\n",
    "for g in tqdm(grains):\n",
    "    grain_lut[g.gid] = g\n",
    "    g.mask_2d_strong = cf_2d_strong.grain_id == g.gid\n",
    "    \n",
    "    g.gve_2d_strong = gvecs_2d_strong[g.mask_2d_strong].T\n",
    "    \n",
    "    g.cosomega = cf_2d_strong.cosomega[g.mask_2d_strong]\n",
    "    g.sinomega = cf_2d_strong.sinomega[g.mask_2d_strong]\n",
    "    \n",
    "    g.dty = cf_2d_strong.dty[g.mask_2d_strong]\n"
   ]
  },
  {
   "cell_type": "code",
   "execution_count": null,
   "id": "f07f3a90-ede1-412d-b1d0-a36e1be9c617",
   "metadata": {
    "tags": []
   },
   "outputs": [],
   "source": [
    "for grain in grains:\n",
    "    grain.label_mask = grain_labels_array == grain.gid"
   ]
  },
  {
   "cell_type": "code",
   "execution_count": null,
   "id": "e855673a-a871-426e-ab58-543f16906684",
   "metadata": {
    "tags": []
   },
   "outputs": [],
   "source": [
    "# refine each grain's ubi using all contributory pixels\n",
    "# use the tolerance we used for assignment earlier\n",
    "\n",
    "for grain in tqdm(grains):\n",
    "\n",
    "    ubifit = grain.ubi.copy()\n",
    "    _ = cImageD11.score_and_refine(ubifit, np.transpose(grain.gve_2d_strong), tol)\n",
    "    \n",
    "    grain.set_ubi(ubifit)"
   ]
  },
  {
   "cell_type": "code",
   "execution_count": null,
   "id": "bee32ebb-12df-419e-856f-4112ba3b8fdd",
   "metadata": {
    "tags": []
   },
   "outputs": [],
   "source": [
    "# WORKING\n",
    "\n",
    "# for each grain\n",
    "# for each pixel in the mask\n",
    "# local refinement\n",
    "# global container\n",
    "\n",
    "n_ysteps_tol = 10\n",
    "\n",
    "per_pixel_ubis = {}\n",
    "\n",
    "nthreads = len(os.sched_getaffinity(os.getpid()))\n",
    "\n",
    "for ginc, grain in enumerate(tqdm(grains[:])):\n",
    "    def refine_ubis(pixel_position):\n",
    "        i, j = pixel_position\n",
    "        \n",
    "        # convert pixel position to real space micron position\n",
    "        \n",
    "        a = (j - grains[0].recon.shape[0]//2) * ds.ystep\n",
    "        b = (i - grains[0].recon.shape[0]//2) * ds.ystep\n",
    "        \n",
    "        dty_calc = a*grain.cosomega - b*grain.sinomega + grain.y0  # microns\n",
    "        \n",
    "        mask = np.abs(grain.dty - dty_calc) < n_ysteps_tol*ds.ystep\n",
    "        \n",
    "        gve = np.transpose(grain.gve_2d_strong[:, mask])\n",
    "        \n",
    "        ubifit = grain.ubi.copy()\n",
    "        _ = cImageD11.score_and_refine(ubifit, gve, tol)\n",
    "\n",
    "        return ubifit\n",
    "\n",
    "    pixel_positions = np.argwhere(grain.label_mask == True)\n",
    "    \n",
    "    with concurrent.futures.ThreadPoolExecutor(max_workers = max(1, nthreads-1)) as pool:\n",
    "        pixel_ubis = pool.map(refine_ubis, pixel_positions)\n",
    "\n",
    "    for pixel_position, ubi in zip(pixel_positions, pixel_ubis):\n",
    "        per_pixel_ubis[tuple(pixel_position)] = (ginc, ubi)"
   ]
  },
  {
   "cell_type": "code",
   "execution_count": null,
   "id": "5d55a7b0-47da-4be2-9618-7b8fd0055619",
   "metadata": {
    "tags": []
   },
   "outputs": [],
   "source": [
    "# a UBI per pixel\n",
    "\n",
    "ubi_map = np.empty((grains[0].recon.shape + (3,3)))\n",
    "ubi_map.fill(np.nan)\n",
    "for pxi in tqdm(range(grains[0].recon.shape[0])):\n",
    "    for pxj in range(grains[0].recon.shape[1]):\n",
    "        try:\n",
    "            graininc, this_ubi = per_pixel_ubis[pxi, pxj]\n",
    "            ubi_map[pxi, pxj, :, :] = this_ubi\n",
    "        except KeyError:\n",
    "            continue"
   ]
  },
  {
   "cell_type": "code",
   "execution_count": null,
   "id": "5b6a7866-7ce2-4c54-b9d1-89d094757f4e",
   "metadata": {
    "tags": []
   },
   "outputs": [],
   "source": [
    "pixel_grain_lut = {}\n",
    "for i in tqdm(range(grains[0].recon.shape[0])):\n",
    "    for j in range(grains[0].recon.shape[1]):\n",
    "        this_ubi = ubi_map[i, j]\n",
    "        if not np.isnan(this_ubi[0,0]):\n",
    "            this_grain = ImageD11.grain.grain(this_ubi)\n",
    "            pixel_grain_lut[i, j] = this_grain"
   ]
  },
  {
   "cell_type": "code",
   "execution_count": null,
   "id": "fc67cb11-ef15-4f5a-adb7-3f152e5cf5d8",
   "metadata": {
    "tags": []
   },
   "outputs": [],
   "source": [
    "eps_map = np.empty((grains[0].recon.shape + (3,3)))\n",
    "eps_map.fill(np.nan)\n",
    "for i in tqdm(range(grains[0].recon.shape[0])):\n",
    "    for j in range(grains[0].recon.shape[1]):\n",
    "        try:\n",
    "            this_grain = pixel_grain_lut[i, j]\n",
    "            this_ref_gid = grain_labels_array[i, j]\n",
    "            this_ref_grain = grain_lut[this_ref_gid]\n",
    "            this_eps = this_grain.eps_sample_matrix(dzero_cell=this_ref_grain.unitcell)\n",
    "            eps_map[i, j] = this_eps\n",
    "        except KeyError:\n",
    "            continue"
   ]
  },
  {
   "cell_type": "code",
   "execution_count": null,
   "id": "6da68a30-4650-4bea-8181-6ef75a1fdf5c",
   "metadata": {
    "tags": []
   },
   "outputs": [],
   "source": [
    "misorientation_map = np.empty((grains[0].recon.shape))\n",
    "misorientation_map.fill(np.nan)\n",
    "for i in tqdm(range(grains[0].recon.shape[0])):\n",
    "    for j in range(grains[0].recon.shape[1]):\n",
    "        try:\n",
    "            this_grain = pixel_grain_lut[i, j]\n",
    "            this_ref_gid = grain_labels_array[i, j]\n",
    "            this_ref_grain = grain_lut[this_ref_gid]\n",
    "            this_misorien = np.min(Umis(this_ref_grain.U, this_grain.U, 7), axis=0)[1]\n",
    "            misorientation_map[i, j] = this_misorien\n",
    "        except KeyError:\n",
    "            continue"
   ]
  },
  {
   "cell_type": "code",
   "execution_count": null,
   "id": "0bf1dddf-5025-4780-8dd4-8a3694d7f136",
   "metadata": {
    "tags": []
   },
   "outputs": [],
   "source": [
    "ipf_z_col_map = np.empty((grains[0].recon.shape + (3,)))\n",
    "ipf_z_col_map.fill(np.nan)\n",
    "for i in tqdm(range(grains[0].recon.shape[0])):\n",
    "    for j in range(grains[0].recon.shape[1]):\n",
    "        try:\n",
    "            this_grain = pixel_grain_lut[i, j]\n",
    "            this_ipf_z_col = utils.hkl_to_color_cubic(utils.crystal_direction_cubic(this_grain.ubi, (0, 0, 1)))\n",
    "            ipf_z_col_map[i, j] = this_ipf_z_col\n",
    "        except KeyError:\n",
    "            continue"
   ]
  },
  {
   "cell_type": "code",
   "execution_count": null,
   "id": "b93014e9-7ea8-4243-9299-27eaa83bb700",
   "metadata": {
    "tags": []
   },
   "outputs": [],
   "source": [
    "eps_s_11_map = eps_map[:, :, 0, 0]\n",
    "\n",
    "fig, ax = plt.subplots()\n",
    "im = ax.imshow(eps_s_11_map, cmap='RdBu_r', vmin=-1e-3, vmax=1e-3)\n",
    "plt.colorbar(im)\n",
    "ax.set_title(\"eps_11\")\n",
    "plt.show()"
   ]
  },
  {
   "cell_type": "code",
   "execution_count": null,
   "id": "d0ac6555-4e70-46fd-8f67-1dcaeb510406",
   "metadata": {
    "tags": []
   },
   "outputs": [],
   "source": [
    "eps_s_22_map = eps_map[:, :, 1, 1]\n",
    "\n",
    "fig, ax = plt.subplots()\n",
    "im = ax.imshow(eps_s_22_map, cmap='RdBu_r', vmin=-1e-3, vmax=1e-3)\n",
    "plt.colorbar(im)\n",
    "ax.set_title(\"eps_22\")\n",
    "plt.show()"
   ]
  },
  {
   "cell_type": "code",
   "execution_count": null,
   "id": "28d88a16-c89d-4800-9ef2-7a55dd572666",
   "metadata": {
    "tags": []
   },
   "outputs": [],
   "source": [
    "eps_s_33_map = eps_map[:, :, 2, 2]\n",
    "\n",
    "fig, ax = plt.subplots()\n",
    "im = ax.imshow(eps_s_33_map, cmap='RdBu_r', vmin=-1e-3, vmax=1e-3)\n",
    "plt.colorbar(im)\n",
    "ax.set_title(\"eps_33\")\n",
    "plt.show()\n",
    "\n",
    "# add quivers!!!"
   ]
  },
  {
   "cell_type": "code",
   "execution_count": null,
   "id": "1dd330b0-c575-498f-bbf4-b79a50b5ccf8",
   "metadata": {
    "tags": []
   },
   "outputs": [],
   "source": [
    "image_to_show = np.transpose((ipf_z_col_map[:, :, 0], ipf_z_col_map[:, :, 1], ipf_z_col_map[:, :, 2]), axes=(1, 2, 0))\n",
    "fig, ax = plt.subplots(constrained_layout=True)\n",
    "ax.imshow(image_to_show)  # originally 1,2,0\n",
    "ax.set_title(\"IPF-Z\")\n",
    "plt.show()"
   ]
  },
  {
   "cell_type": "code",
   "execution_count": null,
   "id": "6fe56c6b-fa74-409c-ab68-02fc041a5673",
   "metadata": {
    "tags": []
   },
   "outputs": [],
   "source": [
    "fig, ax = plt.subplots()\n",
    "im = ax.imshow(misorientation_map, vmax=0.15)\n",
    "plt.colorbar(im)\n",
    "ax.set_title(\"Misorientation to grain mean (degrees)\")\n",
    "plt.show()"
   ]
  },
  {
   "cell_type": "code",
   "execution_count": null,
   "id": "9bb83b62-8e14-46ca-8514-10ff0e5cafb1",
   "metadata": {
    "tags": []
   },
   "outputs": [],
   "source": [
    "ds.pbpubifile = os.path.join(ds.analysispath, ds.dsname + '_pbp_map.h5')"
   ]
  },
  {
   "cell_type": "code",
   "execution_count": null,
   "id": "dfb44b23-076a-4747-945c-0a85fcdc8097",
   "metadata": {
    "tags": []
   },
   "outputs": [],
   "source": [
    "# save recons and 2d properties to existing grain file\n",
    "\n",
    "cmp = {'compression':'gzip',\n",
    "       'compression_opts': 2,\n",
    "       'shuffle' : True }\n",
    "\n",
    "def save_array(grp, name, ary):\n",
    "    hds = grp.require_dataset(name, \n",
    "                              shape=ary.shape,\n",
    "                              dtype=ary.dtype,\n",
    "                              **cmp)\n",
    "    hds[:] = ary\n",
    "    return hds\n",
    "\n",
    "def save_ubi_map(ds):\n",
    "    with h5py.File(ds.pbpubifile, 'w') as hout:\n",
    "        grp = hout.create_group('arrays')\n",
    "        save_array(grp, 'ubi_map', ubi_map).attrs['description'] = 'Refined UBI values at each pixel'\n",
    "        save_array(grp, 'eps_map', eps_map).attrs['description'] = 'Strain matrices (sample ref) at each pixel'\n",
    "        save_array(grp, 'misorientation_map', misorientation_map).attrs['description'] = 'Misorientation to grain avg at each pixel'\n",
    "        save_array(grp, 'ipf_z_col_map', ipf_z_col_map).attrs['description'] = 'IPF Z color at each pixel'"
   ]
  },
  {
   "cell_type": "code",
   "execution_count": null,
   "id": "9d5a6c02-657e-4dc9-ba78-740ed242672b",
   "metadata": {
    "tags": []
   },
   "outputs": [],
   "source": [
    "save_ubi_map(ds)"
   ]
  },
  {
   "cell_type": "code",
   "execution_count": null,
   "id": "0c559091-97bd-4b2d-9dc6-d99eb1b6e038",
   "metadata": {},
   "outputs": [],
   "source": []
  }
 ],
 "metadata": {
  "kernelspec": {
   "display_name": "Python 3 (main)",
   "language": "python",
   "name": "python3"
  },
  "language_info": {
   "codemirror_mode": {
    "name": "ipython",
    "version": 3
   },
   "file_extension": ".py",
   "mimetype": "text/x-python",
   "name": "python",
   "nbconvert_exporter": "python",
   "pygments_lexer": "ipython3",
   "version": "3.11.6"
  }
 },
 "nbformat": 4,
 "nbformat_minor": 5
}
