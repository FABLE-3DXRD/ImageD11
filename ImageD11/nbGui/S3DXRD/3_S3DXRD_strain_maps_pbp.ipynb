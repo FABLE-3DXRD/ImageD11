{
 "cells": [
  {
   "cell_type": "markdown",
   "id": "bbc4bc96-cbc7-436a-a174-c99388869cbb",
   "metadata": {},
   "source": [
    "# Jupyter notebook based on ImageD11 to process scanning 3DXRD data\n",
    "# Written by Haixing Fang, Jon Wright and James Ball\n",
    "## Date: 28/03/2024"
   ]
  },
  {
   "cell_type": "code",
   "execution_count": null,
   "id": "94b89030-fdb2-47d2-bc26-3e5cfb0d6509",
   "metadata": {},
   "outputs": [],
   "source": [
    "# USER: Change the path below to point to your local copy of ImageD11:\n",
    "\n",
    "import os\n",
    "\n",
    "home_dir = !echo $HOME\n",
    "home_dir = str(home_dir[0])\n",
    "\n",
    "# USER: You can change this location if you want\n",
    "\n",
    "id11_code_path = os.path.join(home_dir, \"Code/ImageD11\")\n",
    "\n",
    "import sys\n",
    "\n",
    "sys.path.insert(0, id11_code_path)"
   ]
  },
  {
   "cell_type": "code",
   "execution_count": null,
   "id": "8f4b91e0-7a83-462b-85cb-27f65721ff93",
   "metadata": {},
   "outputs": [],
   "source": [
    "# import functions we need\n",
    "\n",
    "import os\n",
    "import concurrent.futures\n",
    "import timeit\n",
    "\n",
    "import matplotlib\n",
    "%matplotlib ipympl\n",
    "\n",
    "import h5py\n",
    "from tqdm.notebook import tqdm\n",
    "import numpy as np\n",
    "import matplotlib.pyplot as plt\n",
    "\n",
    "from xfab.symmetry import Umis\n",
    "\n",
    "import ImageD11.columnfile\n",
    "from ImageD11.peakselect import select_ring_peaks_by_intensity\n",
    "from ImageD11.sinograms import properties, roi_iradon\n",
    "from ImageD11.sinograms import geometry\n",
    "from ImageD11.sinograms.sinogram import GrainSinogram, build_slice_arrays, write_slice_recon, read_slice_recon, write_h5, read_h5\n",
    "from ImageD11.grain import grain\n",
    "from ImageD11 import cImageD11\n",
    "\n",
    "import ImageD11.nbGui.nb_utils as utils"
   ]
  },
  {
   "cell_type": "code",
   "execution_count": null,
   "id": "c3c559a5-0202-4f54-be32-20830f5fd6a1",
   "metadata": {},
   "outputs": [],
   "source": [
    "# NOTE: For old datasets before the new directory layout structure, we don't distinguish between RAW_DATA and PROCESSED_DATA\n",
    "\n",
    "### USER: specify your experimental directory\n",
    "\n",
    "rawdata_path = \"/data/visitor/ihma439/id11/20231211/RAW_DATA\"\n",
    "\n",
    "!ls -lrt {rawdata_path}\n",
    "\n",
    "### USER: specify where you want your processed data to go\n",
    "\n",
    "processed_data_root_dir = \"/data/visitor/ihma439/id11/20231211/PROCESSED_DATA/James/nb_testing\""
   ]
  },
  {
   "cell_type": "code",
   "execution_count": null,
   "id": "1635a8ba-5cbb-4ce3-8cfc-13c19b38c574",
   "metadata": {},
   "outputs": [],
   "source": [
    "# USER: pick a sample and a dataset you want to segment\n",
    "\n",
    "sample = \"FeAu_0p5_tR_nscope\"\n",
    "dataset = \"top_100um\""
   ]
  },
  {
   "cell_type": "code",
   "execution_count": null,
   "id": "0ef8df24-9a41-479e-9f3c-b76fe4b27d5c",
   "metadata": {},
   "outputs": [],
   "source": [
    "# desination of H5 files\n",
    "\n",
    "dset_path = os.path.join(processed_data_root_dir, sample, f\"{sample}_{dataset}\", f\"{sample}_{dataset}_dataset.h5\")"
   ]
  },
  {
   "cell_type": "code",
   "execution_count": null,
   "id": "20ff052b-cca8-4310-8b29-4c82e0e513c8",
   "metadata": {
    "tags": []
   },
   "outputs": [],
   "source": [
    "# Load the dataset\n",
    "ds = ImageD11.sinograms.dataset.load(dset_path)"
   ]
  },
  {
   "cell_type": "code",
   "execution_count": null,
   "id": "dfb81175-ace9-4d13-8c05-bc7a0953d881",
   "metadata": {
    "tags": []
   },
   "outputs": [],
   "source": [
    "# Import 2D peaks\n",
    "\n",
    "cf_2d = ds.get_cf_2d_from_disk()\n",
    "cf_2d.parameters.loadparameters(ds.parfile)\n",
    "cf_2d.updateGeometry()\n",
    "\n",
    "print(f\"Read {cf_2d.nrows} 2D peaks\")"
   ]
  },
  {
   "cell_type": "code",
   "execution_count": null,
   "id": "55bf5dc8-a25d-4b09-b1d8-e55b1c6d07b6",
   "metadata": {
    "tags": []
   },
   "outputs": [],
   "source": [
    "# import grainsinos\n",
    "\n",
    "grainsinos = read_h5(ds.grainsfile, ds)\n",
    "grains = [gs.grain for gs in grainsinos]"
   ]
  },
  {
   "cell_type": "code",
   "execution_count": null,
   "id": "ec5ff57a-0a7f-44cd-b437-eb4cc4e2ea25",
   "metadata": {
    "tags": []
   },
   "outputs": [],
   "source": [
    "# import slice reconstructions\n",
    "\n",
    "slice_arrays = read_slice_recon(ds.grainsfile)\n",
    "rgb_x_array, rgb_y_array, rgb_z_array, grain_labels_array, raw_intensity_array = slice_arrays"
   ]
  },
  {
   "cell_type": "code",
   "execution_count": null,
   "id": "f8feef60-367b-478a-9ce4-8a94e3cedd60",
   "metadata": {
    "tags": []
   },
   "outputs": [],
   "source": [
    "# filter 2D peaks by intensity\n",
    "\n",
    "cf_2d_strong_frac = 0.95\n",
    "\n",
    "cf_2d_strong = select_ring_peaks_by_intensity(cf_2d, frac=cf_2d_strong_frac, dsmax=cf_2d.ds.max(), doplot=0.5)\n",
    "print(cf_2d.nrows)\n",
    "print(cf_2d_strong.nrows)"
   ]
  },
  {
   "cell_type": "code",
   "execution_count": null,
   "id": "9b4fe817-5794-459b-9974-9d70624af3a8",
   "metadata": {
    "tags": []
   },
   "outputs": [],
   "source": [
    "y0 = grainsinos[0].recon_y0\n",
    "recon_shape = grainsinos[0].recons[\"mlem\"].shape"
   ]
  },
  {
   "cell_type": "code",
   "execution_count": null,
   "id": "a85cb2c4-50d1-4264-aef4-af903e4ce941",
   "metadata": {
    "tags": []
   },
   "outputs": [],
   "source": [
    "dtyi = geometry.dty_to_dtyi(cf_2d_strong.dty, ystep=ds.ystep)\n",
    "\n",
    "cf_2d_strong.addcolumn(dtyi, \"dtyi\")"
   ]
  },
  {
   "cell_type": "code",
   "execution_count": null,
   "id": "a4a9c316-66ed-4935-aa82-687668a41180",
   "metadata": {
    "tags": []
   },
   "outputs": [],
   "source": [
    "peak_assign_tol = 0.025\n",
    "\n",
    "utils.assign_peaks_to_grains(grains, cf_2d_strong, tol=peak_assign_tol)\n",
    "\n",
    "print(\"Storing peak data in grains\")\n",
    "# iterate through all the grains\n",
    "\n",
    "gvecs_2d_strong = np.transpose((cf_2d_strong.gx, cf_2d_strong.gy, cf_2d_strong.gz)).astype(float)\n",
    "\n",
    "# make lookup table for grain IDs so we can quickly get the grain given a GID (might not be contiguous or start at 0)\n",
    "grain_lut = {}\n",
    "for inc, g in enumerate(tqdm(grains)):\n",
    "    grain_lut[inc] = g\n",
    "    g.mask_2d_strong = cf_2d_strong.grain_id == inc\n",
    "    \n",
    "    g.gve_2d_strong = gvecs_2d_strong[g.mask_2d_strong].T\n",
    "    \n",
    "    g.omega = cf_2d_strong.omega[g.mask_2d_strong]\n",
    "    g.dty = cf_2d_strong.dty[g.mask_2d_strong]\n",
    "    g.dtyi = cf_2d_strong.dtyi[g.mask_2d_strong]\n",
    "    g.label_mask = grain_labels_array == inc"
   ]
  },
  {
   "cell_type": "code",
   "execution_count": null,
   "id": "e855673a-a871-426e-ab58-543f16906684",
   "metadata": {
    "tags": []
   },
   "outputs": [],
   "source": [
    "# refine each grain's ubi using all contributory pixels\n",
    "# use the tolerance we used for assignment earlier\n",
    "\n",
    "for grain in tqdm(grains):\n",
    "\n",
    "    ubifit = grain.ubi.copy()\n",
    "    _ = cImageD11.score_and_refine(ubifit, np.transpose(grain.gve_2d_strong), peak_assign_tol)\n",
    "    \n",
    "    grain.set_ubi(ubifit)"
   ]
  },
  {
   "cell_type": "code",
   "execution_count": null,
   "id": "bee32ebb-12df-419e-856f-4112ba3b8fdd",
   "metadata": {
    "tags": []
   },
   "outputs": [],
   "source": [
    "# WORKING\n",
    "\n",
    "# for each grain\n",
    "# for each pixel in the mask\n",
    "# local refinement\n",
    "# global container\n",
    "\n",
    "n_ysteps_tol = 10\n",
    "\n",
    "per_pixel_ubis = {}\n",
    "\n",
    "nthreads = len(os.sched_getaffinity(os.getpid()))\n",
    "\n",
    "for ginc, grain in enumerate(tqdm(grains[:])):\n",
    "    def refine_ubis(pixel_position):\n",
    "        ri, rj = pixel_position\n",
    "        \n",
    "        # get a mask of the 2D peaks for this grain at this pixel only\n",
    "        mask = geometry.dtyimask_from_recon(ri, rj, grain.omega, grain.dtyi, recon_shape=recon_shape, ystep=ds.ystep, y0=y0)\n",
    "        \n",
    "        gve = np.transpose(grain.gve_2d_strong[:, mask])\n",
    "        \n",
    "        ubifit = grain.ubi.copy()\n",
    "        _ = cImageD11.score_and_refine(ubifit, gve, peak_assign_tol)\n",
    "\n",
    "        return ubifit\n",
    "\n",
    "    pixel_positions = np.argwhere(grain.label_mask == True)\n",
    "    \n",
    "    with concurrent.futures.ThreadPoolExecutor(max_workers = max(1, nthreads-1)) as pool:\n",
    "        pixel_ubis = pool.map(refine_ubis, pixel_positions)\n",
    "\n",
    "    for pixel_position, ubi in zip(pixel_positions, pixel_ubis):\n",
    "        per_pixel_ubis[tuple(pixel_position)] = (ginc, ubi)"
   ]
  },
  {
   "cell_type": "code",
   "execution_count": null,
   "id": "5d55a7b0-47da-4be2-9618-7b8fd0055619",
   "metadata": {
    "tags": []
   },
   "outputs": [],
   "source": [
    "# determine a UBI per pixel\n",
    "\n",
    "ubi_map = np.empty((recon_shape + (3,3)))\n",
    "ubi_map.fill(np.nan)\n",
    "for pxi in tqdm(range(recon_shape[0])):\n",
    "    for pxj in range(recon_shape[1]):\n",
    "        try:\n",
    "            graininc, this_ubi = per_pixel_ubis[pxi, pxj]\n",
    "            ubi_map[pxi, pxj, :, :] = this_ubi\n",
    "        except KeyError:\n",
    "            continue"
   ]
  },
  {
   "cell_type": "code",
   "execution_count": null,
   "id": "5b6a7866-7ce2-4c54-b9d1-89d094757f4e",
   "metadata": {
    "tags": []
   },
   "outputs": [],
   "source": [
    "cf_pars = cf_2d_strong.parameters.get_parameters()\n",
    "spacegroup = 229  # spacegroup for BCC iron\n",
    "cf_pars[\"cell_lattice_[P,A,B,C,I,F,R]\"] = spacegroup\n",
    "\n",
    "ref_ucell = ImageD11.unitcell.unitcell_from_parameters(cf_pars)\n",
    "\n",
    "pixel_grain_lut = {}\n",
    "for i in tqdm(range(recon_shape[0])):\n",
    "    for j in range(recon_shape[1]):\n",
    "        this_ubi = ubi_map[i, j]\n",
    "        if not np.isnan(this_ubi[0,0]):\n",
    "            this_grain = ImageD11.grain.grain(this_ubi)\n",
    "            this_grain.ref_unitcell = ref_ucell\n",
    "            pixel_grain_lut[i, j] = this_grain"
   ]
  },
  {
   "cell_type": "code",
   "execution_count": null,
   "id": "fc67cb11-ef15-4f5a-adb7-3f152e5cf5d8",
   "metadata": {
    "tags": []
   },
   "outputs": [],
   "source": [
    "eps_map = np.empty((recon_shape + (3,3)))\n",
    "eps_map.fill(np.nan)\n",
    "for i in tqdm(range(recon_shape[0])):\n",
    "    for j in range(recon_shape[1]):\n",
    "        try:\n",
    "            this_grain = pixel_grain_lut[i, j]\n",
    "            this_ref_gid = grain_labels_array[i, j]\n",
    "            this_ref_grain = grain_lut[this_ref_gid]\n",
    "            this_eps = this_grain.eps_sample_matrix(dzero_cell=this_ref_grain.unitcell)\n",
    "            eps_map[i, j] = this_eps\n",
    "        except KeyError:\n",
    "            continue"
   ]
  },
  {
   "cell_type": "code",
   "execution_count": null,
   "id": "6da68a30-4650-4bea-8181-6ef75a1fdf5c",
   "metadata": {
    "tags": []
   },
   "outputs": [],
   "source": [
    "misorientation_map = np.empty((recon_shape))\n",
    "misorientation_map.fill(np.nan)\n",
    "for i in tqdm(range(recon_shape[0])):\n",
    "    for j in range(recon_shape[1]):\n",
    "        try:\n",
    "            this_grain = pixel_grain_lut[i, j]\n",
    "            this_ref_gid = grain_labels_array[i, j]\n",
    "            this_ref_grain = grain_lut[this_ref_gid]\n",
    "            this_misorien = np.min(Umis(this_ref_grain.U, this_grain.U, 7), axis=0)[1]\n",
    "            misorientation_map[i, j] = this_misorien\n",
    "        except KeyError:\n",
    "            continue"
   ]
  },
  {
   "cell_type": "code",
   "execution_count": null,
   "id": "e9e540b1-6d07-4c9b-8da4-41f158fbe348",
   "metadata": {
    "tags": []
   },
   "outputs": [],
   "source": [
    "# build an array of UB matrices that doesn't contain NANs\n",
    "\n",
    "indices_no_nan = []\n",
    "\n",
    "ubis_flat = ubi_map.reshape(recon_shape[0] * recon_shape[1], 3, 3)\n",
    "\n",
    "ubs_flat = []\n",
    "\n",
    "for index, ubi in enumerate(ubis_flat):\n",
    "    # ensure the entire UBI is not NAN:\n",
    "    if not np.isnan(ubi).any():\n",
    "        ub = np.linalg.inv(ubi)\n",
    "        ubs_flat.append(ub)\n",
    "        indices_no_nan.append(index)\n",
    "\n",
    "ubs_flat = np.array(ubs_flat)\n",
    "indices_no_nan = np.array(indices_no_nan)\n",
    "\n",
    "assert not np.isnan(ubs_flat).any()"
   ]
  },
  {
   "cell_type": "code",
   "execution_count": null,
   "id": "3483ce99-e8cf-46d0-a37d-cd08bb96e28d",
   "metadata": {
    "tags": []
   },
   "outputs": [],
   "source": [
    "# determine IPF colours\n",
    "# get an orix orientation for all the grains\n",
    "\n",
    "orix_orien = ref_ucell.get_orix_orien(ubs_flat)\n",
    "\n",
    "ipf_x_flat = ref_ucell.get_ipf_colour_from_orix_orien(orix_orien, axis=np.array([1., 0., 0.]))\n",
    "ipf_y_flat = ref_ucell.get_ipf_colour_from_orix_orien(orix_orien, axis=np.array([0., 1., 0.]))\n",
    "ipf_z_flat = ref_ucell.get_ipf_colour_from_orix_orien(orix_orien, axis=np.array([0., 0., 1.]))"
   ]
  },
  {
   "cell_type": "code",
   "execution_count": null,
   "id": "80a8773b-dce5-4a40-8b31-0ba479878800",
   "metadata": {
    "tags": []
   },
   "outputs": [],
   "source": [
    "# repopulate IPF colours\n",
    "\n",
    "ipf_x_map_flat = np.zeros((recon_shape[0] * recon_shape[1], 3))\n",
    "ipf_y_map_flat = np.zeros((recon_shape[0] * recon_shape[1], 3))\n",
    "ipf_z_map_flat = np.zeros((recon_shape[0] * recon_shape[1], 3))\n",
    "\n",
    "pointer = 0\n",
    "\n",
    "for index in range(ipf_x_map_flat.shape[0]):\n",
    "    if index in indices_no_nan:\n",
    "        # UBI was not NAN\n",
    "        ipf_x_map_flat[index] = ipf_x_flat[pointer]\n",
    "        ipf_y_map_flat[index] = ipf_y_flat[pointer]\n",
    "        ipf_z_map_flat[index] = ipf_z_flat[pointer]\n",
    "        pointer += 1\n",
    "\n",
    "ipf_x_col_map = ipf_x_map_flat.reshape(recon_shape + (3,))\n",
    "ipf_y_col_map = ipf_y_map_flat.reshape(recon_shape + (3,))\n",
    "ipf_z_col_map = ipf_z_map_flat.reshape(recon_shape + (3,))"
   ]
  },
  {
   "cell_type": "code",
   "execution_count": null,
   "id": "b93014e9-7ea8-4243-9299-27eaa83bb700",
   "metadata": {
    "tags": []
   },
   "outputs": [],
   "source": [
    "eps_s_11_map = eps_map[:, :, 0, 0]\n",
    "\n",
    "fig, ax = plt.subplots()\n",
    "im = ax.imshow(eps_s_11_map, cmap='RdBu_r', vmin=-1e-3, vmax=1e-3, origin=\"lower\")\n",
    "plt.colorbar(im)\n",
    "ax.set_title(\"eps_11\")\n",
    "plt.show()"
   ]
  },
  {
   "cell_type": "code",
   "execution_count": null,
   "id": "d0ac6555-4e70-46fd-8f67-1dcaeb510406",
   "metadata": {
    "tags": []
   },
   "outputs": [],
   "source": [
    "eps_s_22_map = eps_map[:, :, 1, 1]\n",
    "\n",
    "fig, ax = plt.subplots()\n",
    "im = ax.imshow(eps_s_22_map, cmap='RdBu_r', vmin=-1e-3, vmax=1e-3, origin=\"lower\")\n",
    "plt.colorbar(im)\n",
    "ax.set_title(\"eps_22\")\n",
    "plt.show()"
   ]
  },
  {
   "cell_type": "code",
   "execution_count": null,
   "id": "28d88a16-c89d-4800-9ef2-7a55dd572666",
   "metadata": {
    "tags": []
   },
   "outputs": [],
   "source": [
    "eps_s_33_map = eps_map[:, :, 2, 2]\n",
    "\n",
    "fig, ax = plt.subplots()\n",
    "im = ax.imshow(eps_s_33_map, cmap='RdBu_r', vmin=-1e-3, vmax=1e-3, origin=\"lower\")\n",
    "plt.colorbar(im)\n",
    "ax.set_title(\"eps_33\")\n",
    "plt.show()\n",
    "\n",
    "# add quivers!!!"
   ]
  },
  {
   "cell_type": "code",
   "execution_count": null,
   "id": "1ba6f3aa-19bc-4487-af86-988762358eeb",
   "metadata": {
    "tags": []
   },
   "outputs": [],
   "source": [
    "image_to_show = np.transpose((ipf_x_col_map[:, :, 0], ipf_x_col_map[:, :, 1], ipf_x_col_map[:, :, 2]), axes=(1, 2, 0))\n",
    "fig, ax = plt.subplots(constrained_layout=True)\n",
    "ax.imshow(image_to_show, origin=\"lower\")  # originally 1,2,0\n",
    "ax.set_title(\"IPF-X\")\n",
    "plt.show()"
   ]
  },
  {
   "cell_type": "code",
   "execution_count": null,
   "id": "1dd330b0-c575-498f-bbf4-b79a50b5ccf8",
   "metadata": {
    "tags": []
   },
   "outputs": [],
   "source": [
    "image_to_show = np.transpose((ipf_z_col_map[:, :, 0], ipf_z_col_map[:, :, 1], ipf_z_col_map[:, :, 2]), axes=(1, 2, 0))\n",
    "fig, ax = plt.subplots(constrained_layout=True)\n",
    "ax.imshow(image_to_show, origin=\"lower\")  # originally 1,2,0\n",
    "ax.set_title(\"IPF-Z\")\n",
    "plt.show()"
   ]
  },
  {
   "cell_type": "code",
   "execution_count": null,
   "id": "6fe56c6b-fa74-409c-ab68-02fc041a5673",
   "metadata": {
    "tags": []
   },
   "outputs": [],
   "source": [
    "fig, ax = plt.subplots()\n",
    "im = ax.imshow(misorientation_map, vmax=0.15, origin=\"lower\")\n",
    "plt.colorbar(im)\n",
    "ax.set_title(\"Misorientation to grain mean (degrees)\")\n",
    "plt.show()"
   ]
  },
  {
   "cell_type": "code",
   "execution_count": null,
   "id": "9bb83b62-8e14-46ca-8514-10ff0e5cafb1",
   "metadata": {
    "tags": []
   },
   "outputs": [],
   "source": [
    "ds.pbpubifile = os.path.join(ds.analysispath, ds.dsname + '_pbp_map.h5')"
   ]
  },
  {
   "cell_type": "code",
   "execution_count": null,
   "id": "9d5a6c02-657e-4dc9-ba78-740ed242672b",
   "metadata": {
    "tags": []
   },
   "outputs": [],
   "source": [
    "utils.save_ubi_map(ds, ubi_map, eps_map, misorientation_map, ipf_x_col_map, ipf_y_col_map, ipf_z_col_map)"
   ]
  },
  {
   "cell_type": "code",
   "execution_count": null,
   "id": "88fe8728-92a1-4acf-be4a-bac8b33beb2e",
   "metadata": {
    "tags": []
   },
   "outputs": [],
   "source": [
    "ds.save()"
   ]
  },
  {
   "cell_type": "code",
   "execution_count": null,
   "id": "0c559091-97bd-4b2d-9dc6-d99eb1b6e038",
   "metadata": {},
   "outputs": [],
   "source": [
    "if 1:\n",
    "    raise ValueError(\"Change the 1 above to 0 to allow 'Run all cells' in the notebook\")"
   ]
  },
  {
   "cell_type": "code",
   "execution_count": null,
   "id": "51473acc-dfa2-4a1e-8380-dd5c5c953e54",
   "metadata": {},
   "outputs": [],
   "source": [
    "# Now that we're happy with our indexing parameters, we can run the below cell to do this in bulk for many samples/datasets\n",
    "# by default this will do all samples in sample_list, all datasets with a prefix of dset_prefix\n",
    "# you can add samples and datasets to skip in skips_dict\n",
    "\n",
    "skips_dict = {\n",
    "    \"FeAu_0p5_tR_nscope\": [\"top_-50um\", \"top_-100um\"]\n",
    "}\n",
    "\n",
    "dset_prefix = \"top\"\n",
    "\n",
    "sample_list = [\"FeAu_0p5_tR_nscope\"]\n",
    "    \n",
    "samples_dict = utils.find_datasets_to_process(rawdata_path, skips_dict, dset_prefix, sample_list)\n",
    "    \n",
    "# manual override:\n",
    "samples_dict = {\"FeAu_0p5_tR_nscope\": [\"top_100um\", \"top_200um\"]}\n",
    "    \n",
    "# now we have our samples_dict, we can process our data:\n",
    "\n",
    "nthreads = len(os.sched_getaffinity(os.getpid()))\n",
    "\n",
    "for sample, datasets in samples_dict.items():\n",
    "    for dataset in datasets:\n",
    "        print(f\"Processing dataset {dataset} in sample {sample}\")\n",
    "        dset_path = os.path.join(processed_data_root_dir, sample, f\"{sample}_{dataset}\", f\"{sample}_{dataset}_dataset.h5\")\n",
    "        if not os.path.exists(dset_path):\n",
    "            print(f\"Missing DataSet file for {dataset} in sample {sample}, skipping\")\n",
    "            continue\n",
    "        \n",
    "        print(\"Importing DataSet object\")\n",
    "        \n",
    "        ds = ImageD11.sinograms.dataset.load(dset_path)\n",
    "        print(f\"I have a DataSet {ds.dset} in sample {ds.sample}\")\n",
    "        \n",
    "        if not os.path.exists(ds.grainsfile):\n",
    "            print(f\"Missing grains file for {dataset} in sample {sample}, skipping\")\n",
    "            continue\n",
    "            \n",
    "        ds.pbpubifile = os.path.join(ds.analysispath, ds.dsname + '_pbp_map.h5')\n",
    "            \n",
    "        if os.path.exists(ds.pbpubifile):\n",
    "            print(f\"PBP file already exists for {dataset} in sample {sample}, skipping\")\n",
    "            continue\n",
    "\n",
    "        cf_2d = ds.get_cf_2d_from_disk()\n",
    "        cf_2d.parameters.loadparameters(ds.parfile)\n",
    "        cf_2d.updateGeometry()\n",
    "        \n",
    "        grainsinos = read_h5(ds.grainsfile, ds)\n",
    "        grains = [gs.grain for gs in grainsinos]\n",
    "        \n",
    "        slice_arrays = read_slice_recon(ds.grainsfile)\n",
    "        rgb_x_array, rgb_y_array, rgb_z_array, grain_labels_array, raw_intensity_array = slice_arrays\n",
    "        \n",
    "        cf_2d_strong = select_ring_peaks_by_intensity(cf_2d, frac=cf_2d_strong_frac, dsmax=cf_2d.ds.max())\n",
    "        y0 = grainsinos[0].recon_y0\n",
    "        recon_shape = grainsinos[0].recons[\"mlem\"].shape\n",
    "\n",
    "        dtyi = geometry.dty_to_dtyi(cf_2d_strong.dty, ystep=ds.ystep)\n",
    "        cf_2d_strong.addcolumn(dtyi, \"dtyi\")\n",
    "        \n",
    "        utils.assign_peaks_to_grains(grains, cf_2d_strong, tol=peak_assign_tol)\n",
    "\n",
    "        print(\"Storing peak data in grains\")\n",
    "        # iterate through all the grains\n",
    "\n",
    "        gvecs_2d_strong = np.transpose((cf_2d_strong.gx, cf_2d_strong.gy, cf_2d_strong.gz)).astype(float)\n",
    "\n",
    "        # make lookup table for grain IDs so we can quickly get the grain given a GID (might not be contiguous or start at 0)\n",
    "        grain_lut = {}\n",
    "        for inc, g in enumerate(tqdm(grains)):\n",
    "            grain_lut[inc] = g\n",
    "            g.mask_2d_strong = cf_2d_strong.grain_id == inc\n",
    "\n",
    "            g.gve_2d_strong = gvecs_2d_strong[g.mask_2d_strong].T\n",
    "\n",
    "            g.omega = cf_2d_strong.omega[g.mask_2d_strong]\n",
    "            g.dty = cf_2d_strong.dty[g.mask_2d_strong]\n",
    "            g.dtyi = cf_2d_strong.dtyi[g.mask_2d_strong]\n",
    "            g.label_mask = grain_labels_array == inc\n",
    "            \n",
    "            ubifit = g.ubi.copy()\n",
    "            _ = cImageD11.score_and_refine(ubifit, np.transpose(g.gve_2d_strong), peak_assign_tol)\n",
    "            g.set_ubi(ubifit)\n",
    "        \n",
    "        per_pixel_ubis = {}\n",
    "        \n",
    "        for ginc, grain in enumerate(tqdm(grains[:])):\n",
    "            def refine_ubis(pixel_position):\n",
    "                ri, rj = pixel_position\n",
    "        \n",
    "                mask = geometry.dtyimask_from_recon(ri, rj, grain.omega, grain.dtyi, recon_shape=recon_shape, ystep=ds.ystep, y0=y0)\n",
    "\n",
    "                gve = np.transpose(grain.gve_2d_strong[:, mask])\n",
    "\n",
    "                ubifit = grain.ubi.copy()\n",
    "                _ = cImageD11.score_and_refine(ubifit, gve, peak_assign_tol)\n",
    "\n",
    "                return ubifit\n",
    "\n",
    "            pixel_positions = np.argwhere(grain.label_mask == True)\n",
    "\n",
    "            with concurrent.futures.ThreadPoolExecutor(max_workers = max(1, nthreads-1)) as pool:\n",
    "                pixel_ubis = pool.map(refine_ubis, pixel_positions)\n",
    "\n",
    "            for pixel_position, ubi in zip(pixel_positions, pixel_ubis):\n",
    "                per_pixel_ubis[tuple(pixel_position)] = (ginc, ubi)\n",
    "\n",
    "        ubi_map = np.empty((recon_shape + (3,3)))\n",
    "        ubi_map.fill(np.nan)\n",
    "        for pxi in tqdm(range(recon_shape[0])):\n",
    "            for pxj in range(recon_shape[1]):\n",
    "                try:\n",
    "                    graininc, this_ubi = per_pixel_ubis[pxi, pxj]\n",
    "                    ubi_map[pxi, pxj, :, :] = this_ubi\n",
    "                except KeyError:\n",
    "                    continue\n",
    "                    \n",
    "        pixel_grain_lut = {}\n",
    "        for i in tqdm(range(recon_shape[0])):\n",
    "            for j in range(recon_shape[1]):\n",
    "                this_ubi = ubi_map[i, j]\n",
    "                if not np.isnan(this_ubi[0,0]):\n",
    "                    this_grain = ImageD11.grain.grain(this_ubi)\n",
    "                    this_grain.ref_unitcell = ref_ucell\n",
    "                    pixel_grain_lut[i, j] = this_grain\n",
    "                    \n",
    "        eps_map = np.empty((recon_shape + (3,3)))\n",
    "        eps_map.fill(np.nan)\n",
    "        for i in tqdm(range(recon_shape[0])):\n",
    "            for j in range(recon_shape[1]):\n",
    "                try:\n",
    "                    this_grain = pixel_grain_lut[i, j]\n",
    "                    this_ref_gid = grain_labels_array[i, j]\n",
    "                    this_ref_grain = grain_lut[this_ref_gid]\n",
    "                    this_eps = this_grain.eps_sample_matrix(dzero_cell=this_ref_grain.unitcell)\n",
    "                    eps_map[i, j] = this_eps\n",
    "                except KeyError:\n",
    "                    continue\n",
    "\n",
    "        misorientation_map = np.empty((recon_shape))\n",
    "        misorientation_map.fill(np.nan)\n",
    "        for i in tqdm(range(recon_shape[0])):\n",
    "            for j in range(recon_shape[1]):\n",
    "                try:\n",
    "                    this_grain = pixel_grain_lut[i, j]\n",
    "                    this_ref_gid = grain_labels_array[i, j]\n",
    "                    this_ref_grain = grain_lut[this_ref_gid]\n",
    "                    this_misorien = np.min(Umis(this_ref_grain.U, this_grain.U, 7), axis=0)[1]\n",
    "                    misorientation_map[i, j] = this_misorien\n",
    "                except KeyError:\n",
    "                    continue\n",
    "        \n",
    "        indices_no_nan = []\n",
    "        ubis_flat = ubi_map.reshape(recon_shape[0] * recon_shape[1], 3, 3)\n",
    "        ubs_flat = []\n",
    "        for index, ubi in enumerate(ubis_flat):\n",
    "            if not np.isnan(ubi).any():\n",
    "                ub = np.linalg.inv(ubi)\n",
    "                ubs_flat.append(ub)\n",
    "                indices_no_nan.append(index)\n",
    "        ubs_flat = np.array(ubs_flat)\n",
    "        indices_no_nan = np.array(indices_no_nan)\n",
    "        orix_orien = ref_ucell.get_orix_orien(ubs_flat)\n",
    "        ipf_x_flat = ref_ucell.get_ipf_colour_from_orix_orien(orix_orien, axis=np.array([1., 0., 0.]))\n",
    "        ipf_y_flat = ref_ucell.get_ipf_colour_from_orix_orien(orix_orien, axis=np.array([0., 1., 0.]))\n",
    "        ipf_z_flat = ref_ucell.get_ipf_colour_from_orix_orien(orix_orien, axis=np.array([0., 0., 1.]))\n",
    "        ipf_x_map_flat = np.zeros((recon_shape[0] * recon_shape[1], 3))\n",
    "        ipf_y_map_flat = np.zeros((recon_shape[0] * recon_shape[1], 3))\n",
    "        ipf_z_map_flat = np.zeros((recon_shape[0] * recon_shape[1], 3))\n",
    "        pointer = 0\n",
    "        for index in range(ipf_x_map_flat.shape[0]):\n",
    "            if index in indices_no_nan:\n",
    "                # UBI was not NAN\n",
    "                ipf_x_map_flat[index] = ipf_x_flat[pointer]\n",
    "                ipf_y_map_flat[index] = ipf_y_flat[pointer]\n",
    "                ipf_z_map_flat[index] = ipf_z_flat[pointer]\n",
    "                pointer += 1\n",
    "        ipf_x_col_map = ipf_x_map_flat.reshape(recon_shape + (3,))\n",
    "        ipf_y_col_map = ipf_y_map_flat.reshape(recon_shape + (3,))\n",
    "        ipf_z_col_map = ipf_z_map_flat.reshape(recon_shape + (3,))\n",
    "        \n",
    "        utils.save_ubi_map(ds, ubi_map, eps_map, misorientation_map, ipf_x_col_map, ipf_y_col_map, ipf_z_col_map)\n",
    "        ds.save()\n",
    "\n",
    "print(\"Done!\")"
   ]
  },
  {
   "cell_type": "code",
   "execution_count": null,
   "id": "4c73580e-108c-4d95-8437-a6ce7f890326",
   "metadata": {},
   "outputs": [],
   "source": []
  }
 ],
 "metadata": {
  "kernelspec": {
   "display_name": "Python 3 (main)",
   "language": "python",
   "name": "python3"
  },
  "language_info": {
   "codemirror_mode": {
    "name": "ipython",
    "version": 3
   },
   "file_extension": ".py",
   "mimetype": "text/x-python",
   "name": "python",
   "nbconvert_exporter": "python",
   "pygments_lexer": "ipython3",
   "version": "3.11.6"
  }
 },
 "nbformat": 4,
 "nbformat_minor": 5
}
