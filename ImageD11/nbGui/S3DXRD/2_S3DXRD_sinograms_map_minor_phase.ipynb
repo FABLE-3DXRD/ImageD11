{
 "cells": [
  {
   "cell_type": "markdown",
   "metadata": {},
   "source": [
    "# Jupyter notebook based on ImageD11 to process scanning 3DXRD data\n",
    "# Written by Haixing Fang, Jon Wright and James Ball\n",
    "## Date: 26/02/2024"
   ]
  },
  {
   "cell_type": "code",
   "execution_count": null,
   "metadata": {
    "tags": []
   },
   "outputs": [],
   "source": [
    "# USER: Change the path below to point to your local copy of ImageD11:\n",
    "\n",
    "import os\n",
    "\n",
    "home_dir = !echo $HOME\n",
    "home_dir = str(home_dir[0])\n",
    "\n",
    "# USER: You can change this location if you want\n",
    "\n",
    "id11_code_path = os.path.join(home_dir, \"Code/ImageD11\")\n",
    "\n",
    "import sys\n",
    "\n",
    "sys.path.insert(0, id11_code_path)"
   ]
  },
  {
   "cell_type": "code",
   "execution_count": null,
   "metadata": {
    "tags": []
   },
   "outputs": [],
   "source": [
    "# import functions we need\n",
    "\n",
    "import os\n",
    "import concurrent.futures\n",
    "import timeit\n",
    "\n",
    "import matplotlib\n",
    "%matplotlib widget\n",
    "\n",
    "from skimage.feature import blob_log\n",
    "\n",
    "import h5py\n",
    "from tqdm.notebook import tqdm\n",
    "import numba\n",
    "import pprint\n",
    "import numpy as np\n",
    "import skimage.transform\n",
    "import ipywidgets as ipyw\n",
    "import matplotlib.pyplot as plt\n",
    "\n",
    "from functools import partial\n",
    "\n",
    "import ImageD11.nbGui.nb_utils as utils\n",
    "\n",
    "import ImageD11.refinegrains\n",
    "import ImageD11.columnfile\n",
    "import ImageD11.sinograms.properties\n",
    "import ImageD11.sinograms.roi_iradon\n",
    "from ImageD11.blobcorrector import eiger_spatial\n",
    "from ImageD11.grain import grain"
   ]
  },
  {
   "cell_type": "code",
   "execution_count": null,
   "metadata": {
    "tags": []
   },
   "outputs": [],
   "source": [
    "# NOTE: For old datasets before the new directory layout structure, we don't distinguish between RAW_DATA and PROCESSED_DATA\n",
    "\n",
    "### USER: specify your experimental directory\n",
    "\n",
    "rawdata_path = \"/data/visitor/ihma439/id11/20231211/RAW_DATA\"\n",
    "\n",
    "!ls -lrt {rawdata_path}\n",
    "\n",
    "### USER: specify where you want your processed data to go\n",
    "\n",
    "processed_data_root_dir = \"/data/visitor/ihma439/id11/20231211/PROCESSED_DATA/James/nb_testing\""
   ]
  },
  {
   "cell_type": "code",
   "execution_count": null,
   "metadata": {
    "tags": []
   },
   "outputs": [],
   "source": [
    "# USER: pick a sample and a dataset you want to segment\n",
    "\n",
    "sample = \"FeAu_0p5_tR_nscope\"\n",
    "dataset = \"top_250um\""
   ]
  },
  {
   "cell_type": "code",
   "execution_count": null,
   "metadata": {
    "tags": []
   },
   "outputs": [],
   "source": [
    "# desination of H5 files\n",
    "\n",
    "dset_path = os.path.join(processed_data_root_dir, sample, f\"{sample}_{dataset}\", f\"{sample}_{dataset}_dataset.h5\")"
   ]
  },
  {
   "cell_type": "code",
   "execution_count": null,
   "metadata": {
    "tags": []
   },
   "outputs": [],
   "source": [
    "# Load the dataset (for motor positions, not sure why these are not in peaks)\n",
    "ds = ImageD11.sinograms.dataset.load(dset_path)"
   ]
  },
  {
   "cell_type": "code",
   "execution_count": null,
   "metadata": {},
   "outputs": [],
   "source": [
    "# determine ring currents for sinogram row-by-row intensity correction\n",
    "\n",
    "utils.get_ring_current_per_scan(ds)"
   ]
  },
  {
   "cell_type": "code",
   "execution_count": null,
   "metadata": {
    "tags": []
   },
   "outputs": [],
   "source": [
    "# Import 4D peaks\n",
    "\n",
    "cf_4d = ImageD11.columnfile.columnfile(ds.col4dfile)\n",
    "\n",
    "major_phase_par_file = ds.parfile\n",
    "\n",
    "cf_4d.parameters.loadparameters(ds.parfile)\n",
    "cf_4d.updateGeometry()\n",
    "\n",
    "print(f\"Read {cf_4d.nrows} 4D peaks\")"
   ]
  },
  {
   "cell_type": "code",
   "execution_count": null,
   "metadata": {
    "tags": []
   },
   "outputs": [],
   "source": [
    "phase_name = \"Au\"\n",
    "\n",
    "grains = utils.read_s3dxrd_grains_minor_phase_for_recon(ds, phase_name=phase_name)\n",
    "\n",
    "for grain in grains:\n",
    "    # print(grain.gid)\n",
    "    grain.a = np.cbrt(np.linalg.det(grain.ubi))\n",
    "    \n",
    "print(f\"{len(grains)} grains imported\")"
   ]
  },
  {
   "cell_type": "code",
   "execution_count": null,
   "metadata": {
    "tags": []
   },
   "outputs": [],
   "source": [
    "# isolate main phase peaks, and remove them from the dataset\n",
    "\n",
    "major_phase_cf_dstol = 0.0075\n",
    "major_phase_peaks_mask = utils.unitcell_peaks_mask(cf_4d, dstol=major_phase_cf_dstol, dsmax=cf_4d.ds.max())\n",
    "\n",
    "minor_phase_peaks = cf_4d.copy()\n",
    "minor_phase_peaks.filter(~major_phase_peaks_mask)\n",
    "\n",
    "# Update geometry for minor phase peaks\n",
    "\n",
    "minor_phase_par_file = os.path.join(processed_data_root_dir, '../../../SCRIPTS/James/S3DXRD/Au.par')\n",
    "\n",
    "ds.parfile = minor_phase_par_file\n",
    "\n",
    "minor_phase_peaks.parameters.loadparameters(ds.parfile)\n",
    "minor_phase_peaks.updateGeometry()\n",
    "\n",
    "cf_strong_frac = 0.95\n",
    "cf_strong_dstol = 0.005\n",
    "\n",
    "cf_strong = utils.selectpeaks(minor_phase_peaks, dstol=cf_strong_dstol, dsmax=minor_phase_peaks.ds.max(), frac=cf_strong_frac, doplot=0.01)\n",
    "print(cf_strong.nrows)"
   ]
  },
  {
   "cell_type": "code",
   "execution_count": null,
   "metadata": {
    "tags": []
   },
   "outputs": [],
   "source": [
    "# If the sinograms are only half-sinograms (we scanned dty across half the sample rather than the full sample), set the below to true:\n",
    "is_half_scan = False"
   ]
  },
  {
   "cell_type": "code",
   "execution_count": null,
   "metadata": {
    "tags": []
   },
   "outputs": [],
   "source": [
    "if is_half_scan:\n",
    "    utils.correct_half_scan(ds)"
   ]
  },
  {
   "cell_type": "code",
   "execution_count": null,
   "metadata": {
    "tags": []
   },
   "outputs": [],
   "source": [
    "# load major phase grain reconstruction\n",
    "# for pad and y0\n",
    "\n",
    "major_phase_grains, _, _, _, _, _ = utils.read_s3dxrd_grains_after_recon(ds)\n",
    "whole_sample_mask = major_phase_grains[0].sample_mask\n",
    "y0 = major_phase_grains[0].y0\n",
    "\n",
    "pad = ((major_phase_grains[0].recon.shape[0] - major_phase_grains[0].ssino.shape[0]))\n",
    "pad"
   ]
  },
  {
   "cell_type": "code",
   "execution_count": null,
   "metadata": {
    "tags": []
   },
   "outputs": [],
   "source": [
    "peak_assign_tol = 0.25\n",
    "\n",
    "utils.assign_peaks_to_grains(grains, cf_strong, tol=peak_assign_tol)\n",
    "\n",
    "print(\"Storing peak data in grains\")\n",
    "# iterate through all the grains\n",
    "for g in tqdm(grains):\n",
    "    # store this grain's peak indices so we know which 4D peaks we used for sinograms\n",
    "    g.mask_4d = cf_strong.grain_id == g.gid\n",
    "    g.peaks_4d = cf_strong.index[g.mask_4d]"
   ]
  },
  {
   "cell_type": "code",
   "execution_count": null,
   "metadata": {
    "tags": []
   },
   "outputs": [],
   "source": [
    "fig, ax = plt.subplots()\n",
    "m = cf_strong.grain_id >= 0\n",
    "ax.scatter(cf_strong.omega[m], cf_strong.dty[m], c=cf_strong.grain_id[m])\n",
    "plt.show()"
   ]
  },
  {
   "cell_type": "code",
   "execution_count": null,
   "metadata": {
    "tags": []
   },
   "outputs": [],
   "source": [
    "mean_unit_cell_lengths = [grain.a for grain in grains]\n",
    "\n",
    "fig, ax = plt.subplots()\n",
    "ax.plot(mean_unit_cell_lengths)\n",
    "ax.set_xlabel(\"Grain ID\")\n",
    "ax.set_ylabel(\"Unit cell length\")\n",
    "plt.show()\n",
    "\n",
    "a0 = np.median(mean_unit_cell_lengths)\n",
    "    \n",
    "print(a0)"
   ]
  },
  {
   "cell_type": "code",
   "execution_count": null,
   "metadata": {
    "tags": []
   },
   "outputs": [],
   "source": [
    "utils.plot_grain_sinograms(grains, cf_strong, 25)"
   ]
  },
  {
   "cell_type": "code",
   "execution_count": null,
   "metadata": {
    "tags": []
   },
   "outputs": [],
   "source": [
    "# Get grain translations from sinograms:\n",
    "for grain in tqdm(grains):\n",
    "    utils.fit_grain_position_from_sino(grain, cf_strong)\n",
    "    grain.translation = np.array([grain.dx, grain.dy, 0])\n",
    "\n",
    "# Get grain IPF colours:\n",
    "\n",
    "utils.get_rgbs_for_grains(grains)"
   ]
  },
  {
   "cell_type": "code",
   "execution_count": null,
   "metadata": {
    "tags": []
   },
   "outputs": [],
   "source": [
    "# plt.style.use('dark_background')\n",
    "fig, ax = plt.subplots(2,2, figsize=(12,12))\n",
    "a = ax.ravel()\n",
    "x = [g.dy for g in grains]\n",
    "y = [g.dx for g in grains]\n",
    "s = [g.mask_4d.sum()/10 for g in grains]\n",
    "a[0].scatter(x, y, c=[g.rgb_z for g in grains], s=s)\n",
    "a[0].set(title='IPF color Z',  aspect='equal')\n",
    "a[1].scatter(x, y, c=[g.rgb_y for g in grains], s=s)\n",
    "a[1].set(title='IPF color Y', aspect='equal')\n",
    "a[2].scatter(x, y, c=[g.rgb_x for g in grains], s=s)\n",
    "a[2].set(title='IPF color X',  aspect='equal')\n",
    "a[3].scatter(x, y, c=s)\n",
    "a[3].set(title='Number of 4D peaks', aspect='equal')\n",
    "\n",
    "fig.supxlabel(\"Lab y (transverse)\")\n",
    "fig.supylabel(\"Lab x (beam)\")\n",
    "\n",
    "for a in ax.ravel():\n",
    "    a.invert_xaxis()\n",
    "\n",
    "\n",
    "plt.show()"
   ]
  },
  {
   "cell_type": "code",
   "execution_count": null,
   "metadata": {
    "tags": []
   },
   "outputs": [],
   "source": [
    "# get corresponding 2D peaks from 4D peaks so we can build the sinograms with them\n",
    "\n",
    "gord, inds, p2d = utils.get_2d_peaks_from_4d_peaks(ds, cf_strong)\n",
    "\n",
    "# now our 2D peak assignments are known, let's populate our grain objects with our 2D peaks\n",
    "\n",
    "for grain in tqdm(grains):\n",
    "    i = grain.gid\n",
    "    grain.peaks_2d = gord[inds[i+1] : inds[i+2]]\n",
    "    # grain.mask_2d = np.isin(cf_2d.index, grain.peaks_2d)"
   ]
  },
  {
   "cell_type": "code",
   "execution_count": null,
   "metadata": {
    "tags": []
   },
   "outputs": [],
   "source": [
    "# Determine sinograms of all grains\n",
    "\n",
    "nthreads = len(os.sched_getaffinity(os.getpid()))\n",
    "\n",
    "print(\"Making sinograms\")\n",
    "do_sinos_partial = partial(utils.do_sinos, p2d=p2d, ds=ds)\n",
    "\n",
    "with concurrent.futures.ThreadPoolExecutor(max_workers= max(1,nthreads-1)) as pool:\n",
    "    for i in tqdm(pool.map(do_sinos_partial, grains), total=len(grains)):\n",
    "        pass"
   ]
  },
  {
   "cell_type": "code",
   "execution_count": null,
   "metadata": {},
   "outputs": [],
   "source": [
    "# we can optionally correct the grain sinograms by scaling each row by the ring current:\n",
    "\n",
    "correct_sinos_with_ring_current = True\n",
    "\n",
    "if correct_sinos_with_ring_current:\n",
    "    for grain in tqdm(grains):\n",
    "        utils.correct_sinogram_rows_with_ring_current(grain, ds)"
   ]
  },
  {
   "cell_type": "code",
   "execution_count": null,
   "metadata": {
    "tags": []
   },
   "outputs": [],
   "source": [
    "# Show sinogram of single grain\n",
    "\n",
    "g = grains[0]\n",
    "\n",
    "fig, ax = plt.subplots()\n",
    "\n",
    "ax.imshow((g.ssino/g.ssino.mean(axis=0)), norm=matplotlib.colors.LogNorm(), interpolation='nearest', origin=\"lower\")\n",
    "\n",
    "plt.show()"
   ]
  },
  {
   "cell_type": "code",
   "execution_count": null,
   "metadata": {
    "tags": []
   },
   "outputs": [],
   "source": [
    "# you can pick a grain and investigate the effects of changing y0 that gets passed to iradon\n",
    "# it' best to pick the grain AFTER reconstructing all grains, so you can pick a grain of interest\n",
    "\n",
    "g = grains[5]\n",
    "    \n",
    "vals = np.linspace(-8.5, -7.5, 9)\n",
    "\n",
    "grid_size = np.ceil(np.sqrt(len(vals))).astype(int)\n",
    "nrows = (len(vals)+grid_size-1)//grid_size\n",
    "\n",
    "fig, axs = plt.subplots(grid_size, nrows, sharex=True, sharey=True)\n",
    "\n",
    "for inc, val in enumerate(tqdm(vals)):\n",
    "    \n",
    "    crop = utils.run_iradon_id11(g.ssino, g.sinoangles, pad, y0=val, workers=1, apply_halfmask=is_half_scan, mask_central_zingers=is_half_scan)\n",
    "\n",
    "    \n",
    "    axs.ravel()[inc].imshow(crop, origin=\"lower\", vmin=0)\n",
    "    axs.ravel()[inc].set_title(val)\n",
    "    \n",
    "plt.show()"
   ]
  },
  {
   "cell_type": "code",
   "execution_count": null,
   "metadata": {
    "tags": []
   },
   "outputs": [],
   "source": [
    "# Now compute reconstructions for all grains\n",
    "\n",
    "nthreads = len(os.sched_getaffinity(os.getpid()))\n",
    "\n",
    "run_this_iradon = partial(utils.iradon_grain, pad=pad, y0=y0, sample_mask=whole_sample_mask, workers=1, apply_halfmask=is_half_scan, mask_central_zingers=is_half_scan)\n",
    "\n",
    "with concurrent.futures.ThreadPoolExecutor( max_workers= max(1,nthreads-1) ) as pool:\n",
    "    for i in tqdm(pool.map(run_this_iradon, grains), total=len(grains)):\n",
    "        pass"
   ]
  },
  {
   "cell_type": "code",
   "execution_count": null,
   "metadata": {
    "tags": []
   },
   "outputs": [],
   "source": [
    "import ipywidgets as widgets\n",
    "from ipywidgets import interact\n",
    "%matplotlib ipympl\n",
    "\n",
    "fig, a = plt.subplots(1,2,figsize=(10,5))\n",
    "rec = a[0].imshow(grains[8].recon, vmin=0, origin=\"lower\")\n",
    "sin = a[1].imshow(grains[8].ssino, aspect='auto')\n",
    "\n",
    "# Function to update the displayed image based on the selected frame\n",
    "def update_frame(i):\n",
    "    rec.set_array(grains[i].recon)\n",
    "    sin.set_array(grains[i].ssino)\n",
    "    a[0].set(title=str(grains[i].gid))\n",
    "    fig.canvas.draw()\n",
    "\n",
    "# Create a slider widget to select the frame number\n",
    "frame_slider = widgets.IntSlider(\n",
    "    value=0,\n",
    "    min=0,\n",
    "    max=len(grains) - 1,\n",
    "    step=1,\n",
    "    description='Grain:'\n",
    ")\n",
    "\n",
    "interact(update_frame, i=frame_slider)\n",
    "\n",
    "plt.show()"
   ]
  },
  {
   "cell_type": "code",
   "execution_count": null,
   "metadata": {
    "tags": []
   },
   "outputs": [],
   "source": [
    "# Fit grain positions from reconstructions\n",
    "\n",
    "fit_pos_partial = partial(utils.fit_grain_position_from_recon, ds=ds, y0=y0)\n",
    "\n",
    "with concurrent.futures.ThreadPoolExecutor(max_workers= max(1, nthreads-1)) as pool:\n",
    "    for i in tqdm(pool.map(fit_pos_partial, grains), total=len(grains)):\n",
    "        pass"
   ]
  },
  {
   "cell_type": "code",
   "execution_count": null,
   "metadata": {
    "tags": []
   },
   "outputs": [],
   "source": [
    "# remove bad recon grains from future analysis\n",
    "print(f\"{len(grains)} grains before filtration\")\n",
    "grains = [grain for grain in grains if not grain.bad_recon]\n",
    "print(f\"{len(grains)} grains after filtration\")"
   ]
  },
  {
   "cell_type": "code",
   "execution_count": null,
   "metadata": {
    "tags": []
   },
   "outputs": [],
   "source": [
    "for g in grains:\n",
    "    g.translation = np.array([g.x_blob, g.y_blob, 0])"
   ]
  },
  {
   "cell_type": "code",
   "execution_count": null,
   "metadata": {
    "tags": []
   },
   "outputs": [],
   "source": [
    "# plt.style.use('dark_background')\n",
    "fig, ax = plt.subplots(2,2, figsize=(12,12))\n",
    "a = ax.ravel()\n",
    "x = [g.translation[1] for g in grains]\n",
    "y = [g.translation[0] for g in grains]\n",
    "s = [g.mask_4d.sum()/10 for g in grains]\n",
    "a[0].scatter(x, y, c=[g.rgb_z for g in grains], s=s)\n",
    "a[0].set(title='IPF color Z',  aspect='equal')\n",
    "a[1].scatter(x, y, c=[g.rgb_y for g in grains], s=s)\n",
    "a[1].set(title='IPF color Y', aspect='equal')\n",
    "a[2].scatter(x, y, c=[g.rgb_x for g in grains], s=s)\n",
    "a[2].set(title='IPF color X',  aspect='equal')\n",
    "a[3].scatter(x, y, c=s)\n",
    "a[3].set(title='Number of 4D peaks', aspect='equal')\n",
    "\n",
    "fig.supxlabel(\"Lab y (transverse)\")\n",
    "fig.supylabel(\"Lab x (beam)\")\n",
    "\n",
    "for a in ax.ravel():\n",
    "    a.invert_xaxis()\n",
    "\n",
    "\n",
    "plt.show()"
   ]
  },
  {
   "cell_type": "code",
   "execution_count": null,
   "metadata": {
    "tags": []
   },
   "outputs": [],
   "source": [
    "utils.plot_ipfs(grains)"
   ]
  },
  {
   "cell_type": "code",
   "execution_count": null,
   "metadata": {
    "tags": []
   },
   "outputs": [],
   "source": [
    "cutoff_level = 0.9\n",
    "\n",
    "rgb_x_array, rgb_y_array, rgb_z_array, grain_labels_array, raw_intensity_array = utils.build_slice_arrays(grains, cutoff_level=cutoff_level)"
   ]
  },
  {
   "cell_type": "code",
   "execution_count": null,
   "metadata": {
    "tags": []
   },
   "outputs": [],
   "source": [
    "# plot initial output\n",
    "\n",
    "fig, ax = plt.subplots(constrained_layout=True)\n",
    "ax.imshow(rgb_z_array, origin=\"lower\")  # originally 1,2,0\n",
    "plt.show()"
   ]
  },
  {
   "cell_type": "code",
   "execution_count": null,
   "metadata": {
    "tags": []
   },
   "outputs": [],
   "source": [
    "fig, ax = plt.subplots(constrained_layout=True)\n",
    "ax.imshow(grain_labels_array, origin=\"lower\")  # originally 1,2,0\n",
    "ax.set_title(\"Grain label map\")\n",
    "plt.show()"
   ]
  },
  {
   "cell_type": "code",
   "execution_count": null,
   "metadata": {},
   "outputs": [],
   "source": [
    "fig, ax = plt.subplots(constrained_layout=True)\n",
    "ax.imshow(raw_intensity_array, origin=\"lower\")  # originally 1,2,0\n",
    "ax.set_title(\"Raw intensity array\")\n",
    "plt.show()"
   ]
  },
  {
   "cell_type": "code",
   "execution_count": null,
   "metadata": {
    "tags": []
   },
   "outputs": [],
   "source": [
    "# There will likely be many streaks, indicating a few grains have dodgy reconstructions and are probably not to be trusted\n",
    "# To fix this, we can count how many pixels in the grain labels array each grain has\n",
    "# It can be helpful to run this filtration more than once\n",
    "\n",
    "labels, counts = np.unique(grain_labels_array, return_counts=True)\n",
    "\n",
    "fig, ax = plt.subplots()\n",
    "ax.plot(labels[labels > 0], counts[labels > 0])\n",
    "plt.show()"
   ]
  },
  {
   "cell_type": "code",
   "execution_count": null,
   "metadata": {
    "tags": []
   },
   "outputs": [],
   "source": [
    "# filter out grains with more than 22 pixels in the label map\n",
    "# this normally indicates a dodgy reconstruction for this grain\n",
    "# only really applies if the grains are very small!\n",
    "\n",
    "grain_too_many_px = 20\n",
    "\n",
    "bad_gids = [int(label) for (label, count) in zip(labels, counts) if count > grain_too_many_px and label > 0]"
   ]
  },
  {
   "cell_type": "code",
   "execution_count": null,
   "metadata": {
    "tags": []
   },
   "outputs": [],
   "source": [
    "print(f\"{len(grains)} grains before filtration\")\n",
    "grains = [grain for grain in grains if grain.gid not in bad_gids]\n",
    "print(f\"{len(grains)} grains after filtration\")"
   ]
  },
  {
   "cell_type": "code",
   "execution_count": null,
   "metadata": {},
   "outputs": [],
   "source": [
    "cutoff_level = 0.7\n",
    "\n",
    "rgb_x_array, rgb_y_array, rgb_z_array, grain_labels_array, raw_intensity_array = utils.build_slice_arrays(grains, cutoff_level=cutoff_level)"
   ]
  },
  {
   "cell_type": "code",
   "execution_count": null,
   "metadata": {},
   "outputs": [],
   "source": [
    "# plot initial output\n",
    "\n",
    "fig, ax = plt.subplots(constrained_layout=True)\n",
    "ax.imshow(rgb_z_array, origin=\"lower\")  # originally 1,2,0\n",
    "plt.show()"
   ]
  },
  {
   "cell_type": "code",
   "execution_count": null,
   "metadata": {},
   "outputs": [],
   "source": [
    "fig, ax = plt.subplots(constrained_layout=True)\n",
    "ax.imshow(grain_labels_array, origin=\"lower\")  # originally 1,2,0\n",
    "ax.set_title(\"Grain label map\")\n",
    "plt.show()"
   ]
  },
  {
   "cell_type": "code",
   "execution_count": null,
   "metadata": {},
   "outputs": [],
   "source": [
    "fig, ax = plt.subplots(constrained_layout=True)\n",
    "ax.imshow(raw_intensity_array, origin=\"lower\")  # originally 1,2,0\n",
    "ax.set_title(\"Raw intensity array\")\n",
    "plt.show()"
   ]
  },
  {
   "cell_type": "code",
   "execution_count": null,
   "metadata": {},
   "outputs": [],
   "source": [
    "# write grains to disk"
   ]
  },
  {
   "cell_type": "code",
   "execution_count": null,
   "metadata": {
    "tags": []
   },
   "outputs": [],
   "source": [
    "utils.save_s3dxrd_grains_minor_phase_after_recon(grains, ds, raw_intensity_array, grain_labels_array, rgb_x_array, rgb_y_array, rgb_z_array, phase_name=phase_name)"
   ]
  },
  {
   "cell_type": "code",
   "execution_count": null,
   "metadata": {
    "tags": []
   },
   "outputs": [],
   "source": [
    "ds.parfile = major_phase_par_file\n",
    "ds.save()"
   ]
  },
  {
   "cell_type": "code",
   "execution_count": null,
   "metadata": {},
   "outputs": [],
   "source": [
    "if 1:\n",
    "    raise ValueError(\"Change the 1 above to 0 to allow 'Run all cells' in the notebook\")"
   ]
  },
  {
   "cell_type": "code",
   "execution_count": null,
   "metadata": {},
   "outputs": [],
   "source": [
    "# Now that we're happy with our indexing parameters, we can run the below cell to do this in bulk for many samples/datasets\n",
    "# by default this will do all samples in sample_list, all datasets with a prefix of dset_prefix\n",
    "# you can add samples and datasets to skip in skips_dict\n",
    "\n",
    "skips_dict = {\n",
    "    \"FeAu_0p5_tR_nscope\": [\"top_-50um\", \"top_-100um\"]\n",
    "}\n",
    "\n",
    "dset_prefix = \"top\"\n",
    "\n",
    "sample_list = [\"FeAu_0p5_tR_nscope\"]\n",
    "    \n",
    "samples_dict = utils.find_datasets_to_process(rawdata_path, skips_dict, dset_prefix, sample_list)\n",
    "    \n",
    "# manual override:\n",
    "# samples_dict = {\"FeAu_0p5_tR_nscope\": [\"top_100um\", \"top_200um\"]}\n",
    "    \n",
    "# now we have our samples_dict, we can process our data:\n",
    "\n",
    "\n",
    "for sample, datasets in samples_dict.items():\n",
    "    for dataset in datasets:\n",
    "        print(f\"Processing dataset {dataset} in sample {sample}\")\n",
    "        dset_path = os.path.join(processed_data_root_dir, sample, f\"{sample}_{dataset}\", f\"{sample}_{dataset}_dataset.h5\")\n",
    "        if not os.path.exists(dset_path):\n",
    "            print(f\"Missing DataSet file for {dataset} in sample {sample}, skipping\")\n",
    "            continue\n",
    "        \n",
    "        print(\"Importing DataSet object\")\n",
    "        \n",
    "        ds = ImageD11.sinograms.dataset.load(dset_path)\n",
    "        print(f\"I have a DataSet {ds.dset} in sample {ds.sample}\")\n",
    "        \n",
    "        ds.grainsfile_minor_phase = os.path.join(ds.analysispath, ds.dsname + f'_grains_{phase_name}.h5')\n",
    "        \n",
    "        if not os.path.exists(ds.grainsfile_minor_phase):\n",
    "            print(f\"Missing grains file for {dataset} in sample {sample}, skipping\")\n",
    "            continue\n",
    "            \n",
    "        # check grains file for existance of slice_recon, skip if it's there\n",
    "        with h5py.File(ds.grainsfile_minor_phase, \"r\") as hin:\n",
    "            if \"slice_recon\" in hin.keys():\n",
    "                print(f\"Already reconstructed {dataset} in {sample}, skipping\")\n",
    "                continue\n",
    "        \n",
    "        # determine ring currents for sinogram row-by-row intensity correction\n",
    "        utils.get_ring_current_per_scan(ds)\n",
    "            \n",
    "        cf_4d = ImageD11.columnfile.columnfile(ds.col4dfile)\n",
    "        cf_4d.parameters.loadparameters(ds.parfile)\n",
    "        cf_4d.updateGeometry()\n",
    "        \n",
    "        major_phase_par_file = ds.parfile\n",
    "        \n",
    "        grains = utils.read_s3dxrd_grains_minor_phase_for_recon(ds)\n",
    "        \n",
    "        major_phase_peaks_mask = utils.unitcell_peaks_mask(cf_4d, dstol=major_phase_cf_dstol, dsmax=cf_4d.ds.max())\n",
    "\n",
    "        minor_phase_peaks = cf_4d.copy()\n",
    "        minor_phase_peaks.filter(~major_phase_peaks_mask)\n",
    "\n",
    "        # Update geometry for minor phase peaks\n",
    "        \n",
    "        ds.parfile = minor_phase_par_file\n",
    "        \n",
    "        minor_phase_peaks.parameters.loadparameters(ds.parfile)\n",
    "        minor_phase_peaks.updateGeometry()\n",
    "        \n",
    "        cf_strong = utils.selectpeaks(minor_phase_peaks, frac=cf_strong_frac, dsmax=cf_4d.ds.max(), dstol=cf_strong_dstol)\n",
    "        \n",
    "        if is_half_scan:\n",
    "            utils.correct_half_scan(ds)\n",
    "        \n",
    "        major_phase_grains, _, _, _, _, _ = utils.read_s3dxrd_grains_after_recon(ds)\n",
    "        whole_sample_mask = major_phase_grains[0].sample_mask\n",
    "        y0 = major_phase_grains[0].y0\n",
    "        pad = ((major_phase_grains[0].recon.shape[0] - major_phase_grains[0].ssino.shape[0]))\n",
    "            \n",
    "        utils.assign_peaks_to_grains(grains, cf_strong, tol=peak_assign_tol)\n",
    "        \n",
    "        for grain in tqdm(grains):\n",
    "            grain.mask_4d = cf_strong.grain_id == grain.gid\n",
    "            grain.peaks_4d = cf_strong.index[cf_strong.grain_id == grain.gid]\n",
    "            utils.fit_grain_position_from_sino(grain, cf_strong)\n",
    "            grain.translation = np.array([grain.dx, grain.dy, 0])\n",
    "\n",
    "        utils.get_rgbs_for_grains(grains)\n",
    "        \n",
    "        print(\"Peak 2D organise\")\n",
    "        gord, inds, p2d = utils.get_2d_peaks_from_4d_peaks(ds, cf_strong)\n",
    "        \n",
    "        for grain in tqdm(grains):\n",
    "            i = grain.gid\n",
    "            grain.peaks_2d = gord[inds[i+1] : inds[i+2]]\n",
    "        \n",
    "        print(\"Making sinograms\")\n",
    "        do_sinos_partial = partial(utils.do_sinos, p2d=p2d, ds=ds)\n",
    "\n",
    "        with concurrent.futures.ThreadPoolExecutor(max_workers= max(1,nthreads-1)) as pool:\n",
    "            for i in tqdm(pool.map(do_sinos_partial, grains), total=len(grains)):\n",
    "                pass\n",
    "        \n",
    "        if correct_sinos_with_ring_current:\n",
    "            for grain in tqdm(grains):\n",
    "                utils.correct_sinogram_rows_with_ring_current(grain, ds)\n",
    "        \n",
    "        print(\"Running iradon\")\n",
    "        \n",
    "        run_this_iradon = partial(utils.iradon_grain, pad=pad, y0=y0, sample_mask=whole_sample_mask, workers=1, apply_halfmask=is_half_scan, mask_central_zingers=is_half_scan)\n",
    "\n",
    "        with concurrent.futures.ThreadPoolExecutor( max_workers= max(1,nthreads-1) ) as pool:\n",
    "            for i in tqdm(pool.map(run_this_iradon, grains), total=len(grains)):\n",
    "                pass\n",
    "            \n",
    "        fit_pos_partial = partial(utils.fit_grain_position_from_recon, ds=ds, y0=y0)\n",
    "\n",
    "        with concurrent.futures.ThreadPoolExecutor(max_workers= max(1, nthreads-1)) as pool:\n",
    "            for i in tqdm(pool.map(fit_pos_partial, grains), total=len(grains)):\n",
    "                pass\n",
    "        \n",
    "        grains = [grain for grain in grains if not grain.bad_recon]\n",
    "        \n",
    "        for g in grains:\n",
    "            g.translation = np.array([g.x_blob, g.y_blob, 0])\n",
    "        \n",
    "        # run filtration twice (works better to filter out dodgy grains)\n",
    "        rgb_x_array, rgb_y_array, rgb_z_array, grain_labels_array, raw_intensity_array = utils.build_slice_arrays(grains, cutoff_level)\n",
    "        \n",
    "        labels, counts = np.unique(grain_labels_array, return_counts=True)\n",
    "        bad_gids = [int(label) for (label, count) in zip(labels, counts) if count > grain_too_many_px and label > 0]\n",
    "        \n",
    "        grains = [grain for grain in grains if grain.gid not in bad_gids]\n",
    "        \n",
    "        rgb_x_array, rgb_y_array, rgb_z_array, grain_labels_array, raw_intensity_array = utils.build_slice_arrays(grains, cutoff_level)\n",
    "        \n",
    "        labels, counts = np.unique(grain_labels_array, return_counts=True)\n",
    "        bad_gids = [int(label) for (label, count) in zip(labels, counts) if count > grain_too_many_px and label > 0]\n",
    "        \n",
    "        grains = [grain for grain in grains if grain.gid not in bad_gids]\n",
    "        \n",
    "        rgb_x_array, rgb_y_array, rgb_z_array, grain_labels_array, raw_intensity_array = utils.build_slice_arrays(grains, cutoff_level)\n",
    "        \n",
    "        utils.save_s3dxrd_grains_minor_phase_after_recon(grains, ds, raw_intensity_array, grain_labels_array, rgb_x_array, rgb_y_array, rgb_z_array, phase_name=phase_name)\n",
    "        \n",
    "        ds.parfile = major_phase_par_file\n",
    "        ds.save()\n",
    "\n",
    "print(\"Done!\")"
   ]
  },
  {
   "cell_type": "code",
   "execution_count": null,
   "metadata": {},
   "outputs": [],
   "source": []
  }
 ],
 "metadata": {
  "kernelspec": {
   "display_name": "Python 3 (main)",
   "language": "python",
   "name": "python3"
  },
  "language_info": {
   "codemirror_mode": {
    "name": "ipython",
    "version": 3
   },
   "file_extension": ".py",
   "mimetype": "text/x-python",
   "name": "python",
   "nbconvert_exporter": "python",
   "pygments_lexer": "ipython3",
   "version": "3.11.6"
  }
 },
 "nbformat": 4,
 "nbformat_minor": 4
}
