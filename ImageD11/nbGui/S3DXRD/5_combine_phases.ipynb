{
 "cells": [
  {
   "cell_type": "markdown",
   "id": "bbc4bc96-cbc7-436a-a174-c99388869cbb",
   "metadata": {},
   "source": [
    "# Jupyter notebook based on ImageD11 to process scanning 3DXRD data\n",
    "# Written by Haixing Fang, Jon Wright and James Ball\n",
    "## Date: 28/03/2024"
   ]
  },
  {
   "cell_type": "code",
   "execution_count": null,
   "id": "94b89030-fdb2-47d2-bc26-3e5cfb0d6509",
   "metadata": {},
   "outputs": [],
   "source": [
    "exec(open('/data/id11/nanoscope/install_ImageD11_from_git.py').read())\n",
    "PYTHONPATH = setup_ImageD11_from_git( ) # ( os.path.join( os.environ['HOME'],'Code'), 'ImageD11_git' )"
   ]
  },
  {
   "cell_type": "code",
   "execution_count": null,
   "id": "8f4b91e0-7a83-462b-85cb-27f65721ff93",
   "metadata": {},
   "outputs": [],
   "source": [
    "# import functions we need\n",
    "\n",
    "import os\n",
    "import concurrent.futures\n",
    "import timeit\n",
    "\n",
    "import matplotlib\n",
    "%matplotlib widget\n",
    "\n",
    "import h5py\n",
    "from tqdm.notebook import tqdm\n",
    "import numpy as np\n",
    "import matplotlib.pyplot as plt\n",
    "\n",
    "from ImageD11.sinograms.sinogram import GrainSinogram, build_slice_arrays, write_slice_recon, read_slice_recon, write_h5, read_h5\n",
    "import ImageD11.columnfile\n",
    "from ImageD11.sinograms import properties, roi_iradon\n",
    "from ImageD11.sinograms.tensor_map import TensorMap\n",
    "from ImageD11.blobcorrector import eiger_spatial\n",
    "from ImageD11.grain import grain\n",
    "from ImageD11 import cImageD11\n",
    "from xfab.parameters import read_par_file\n",
    "\n",
    "from ImageD11.nbGui import nb_utils as utils"
   ]
  },
  {
   "cell_type": "code",
   "execution_count": null,
   "id": "c3c559a5-0202-4f54-be32-20830f5fd6a1",
   "metadata": {},
   "outputs": [],
   "source": [
    "# USER: Pass path to dataset file\n",
    "\n",
    "dset_file = 'si_cube_test/processed/Si_cube/Si_cube_S3DXRD_nt_moves_dty/Si_cube_S3DXRD_nt_moves_dty_dataset.h5'\n",
    "\n",
    "ds = ImageD11.sinograms.dataset.load(dset_file)\n",
    "   \n",
    "sample = ds.sample\n",
    "dataset = ds.dsname\n",
    "processed_data_root_dir = ds.analysisroot\n",
    "\n",
    "print(ds)\n",
    "print(ds.shape)"
   ]
  },
  {
   "cell_type": "code",
   "execution_count": null,
   "id": "741bb37b-8fd2-40a0-b3e8-e9ce2451fc76",
   "metadata": {
    "tags": []
   },
   "outputs": [],
   "source": [
    "# load phases from parameter file\n",
    "\n",
    "phases = ds.get_phases_from_disk()\n",
    "ds.phases = phases\n",
    "ds.phases.unitcells"
   ]
  },
  {
   "cell_type": "code",
   "execution_count": null,
   "id": "6e51945b-3baa-4a2b-99bc-b97972a99081",
   "metadata": {
    "tags": []
   },
   "outputs": [],
   "source": [
    "# now let's select a phase to index from our parameters json\n",
    "major_phase_str = 'Fe'\n",
    "minor_phase_str = 'Au'\n",
    "\n",
    "major_phase_unitcell = ds.phases.unitcells[major_phase_str]\n",
    "minor_phase_unitcell = ds.phases.unitcells[minor_phase_str]\n",
    "\n",
    "print(major_phase_str, major_phase_unitcell.lattice_parameters, major_phase_unitcell.spacegroup)\n",
    "print(minor_phase_str, minor_phase_unitcell.lattice_parameters, minor_phase_unitcell.spacegroup)"
   ]
  },
  {
   "cell_type": "code",
   "execution_count": null,
   "id": "ce95ef6a-6267-4403-a2e4-0bcbb59350b9",
   "metadata": {
    "tags": []
   },
   "outputs": [],
   "source": [
    "tensor_map_major = TensorMap.from_h5(ds.grainsfile, h5group='TensorMap_' + major_phase_str)\n",
    "tensor_map_minor = TensorMap.from_h5(ds.grainsfile, h5group='TensorMap_' + minor_phase_str)"
   ]
  },
  {
   "cell_type": "code",
   "execution_count": null,
   "id": "3e547336-885e-490f-96ab-8ab6626c04e3",
   "metadata": {
    "tags": []
   },
   "outputs": [],
   "source": [
    "tensor_map_major.plot('labels')\n",
    "tensor_map_minor.plot('labels')"
   ]
  },
  {
   "cell_type": "code",
   "execution_count": null,
   "id": "705c9219-2c22-4db6-9c64-150fc286cb1d",
   "metadata": {
    "tags": []
   },
   "outputs": [],
   "source": [
    "tensor_map_combined = TensorMap.from_combine_phases([tensor_map_major, tensor_map_minor])"
   ]
  },
  {
   "cell_type": "code",
   "execution_count": null,
   "id": "9a5baf01-2f49-4c44-bf6c-7b39a165b29c",
   "metadata": {
    "tags": []
   },
   "outputs": [],
   "source": [
    "tensor_map_combined.plot('phase_ids')\n",
    "tensor_map_combined.plot('labels')\n",
    "tensor_map_combined.plot('ipf_z')"
   ]
  },
  {
   "cell_type": "code",
   "execution_count": null,
   "id": "68bccb3c-9338-4202-a5c1-6292183836dd",
   "metadata": {
    "tags": []
   },
   "outputs": [],
   "source": [
    "tensor_map_combined.to_h5(os.path.join(ds.analysispath, 'combined_map.h5'))\n",
    "tensor_map_combined.to_paraview(os.path.join(ds.analysispath, 'combined_map.h5'))"
   ]
  },
  {
   "cell_type": "code",
   "execution_count": null,
   "id": "319bf9ac-16ca-4492-9bd4-e5eb1979fd86",
   "metadata": {},
   "outputs": [],
   "source": []
  }
 ],
 "metadata": {
  "kernelspec": {
   "display_name": "Python 3 (main)",
   "language": "python",
   "name": "python3"
  },
  "language_info": {
   "codemirror_mode": {
    "name": "ipython",
    "version": 3
   },
   "file_extension": ".py",
   "mimetype": "text/x-python",
   "name": "python",
   "nbconvert_exporter": "python",
   "pygments_lexer": "ipython3",
   "version": "3.11.6"
  }
 },
 "nbformat": 4,
 "nbformat_minor": 5
}
