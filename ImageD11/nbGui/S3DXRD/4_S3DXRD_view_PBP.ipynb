{
 "cells": [
  {
   "cell_type": "code",
   "execution_count": null,
   "metadata": {
    "tags": []
   },
   "outputs": [],
   "source": [
    "exec(open('/data/id11/nanoscope/install_ImageD11_from_git.py').read())\n",
    "PYTHONPATH = setup_ImageD11_from_git( ) # ( os.path.join( os.environ['HOME'],'Code'), 'ImageD11_git' )"
   ]
  },
  {
   "cell_type": "code",
   "execution_count": null,
   "metadata": {
    "tags": []
   },
   "outputs": [],
   "source": [
    "from matplotlib import pyplot as plt\n",
    "import numpy as np\n",
    "\n",
    "import scipy.ndimage as ndi\n",
    "\n",
    "from ImageD11.nbGui import nb_utils as utils\n",
    "import ImageD11.sinograms.dataset\n",
    "\n",
    "from ImageD11.grain import grain\n",
    "from ImageD11 import unitcell\n",
    "%matplotlib ipympl"
   ]
  },
  {
   "cell_type": "code",
   "execution_count": null,
   "metadata": {
    "tags": []
   },
   "outputs": [],
   "source": [
    "# USER: Pass path to dataset file\n",
    "\n",
    "dset_file = 'si_cube_test/processed/Si_cube/Si_cube_S3DXRD_nt_moves_dty/Si_cube_S3DXRD_nt_moves_dty_dataset.h5'\n",
    "\n",
    "ds = ImageD11.sinograms.dataset.load(dset_file)\n",
    "\n",
    "sample = ds.sample\n",
    "dataset = ds.dsname\n",
    "processed_data_root_dir = ds.analysisroot\n",
    "\n",
    "print(ds)\n",
    "print(ds.shape)"
   ]
  },
  {
   "cell_type": "code",
   "execution_count": null,
   "metadata": {
    "tags": []
   },
   "outputs": [],
   "source": [
    "# define your reference unit cell for RGB colour plotting\n",
    "\n",
    "cf_2d = ds.get_cf_2d_from_disk()\n",
    "cf_2d.parameters.loadparameters(ds.parfile)\n",
    "\n",
    "cf_pars = cf_2d.parameters.get_parameters()\n",
    "spacegroup = 227  # spacegroup for Si\n",
    "cf_pars[\"cell_lattice_[P,A,B,C,I,F,R]\"] = spacegroup\n",
    "\n",
    "ref_ucell = ImageD11.unitcell.unitcell_from_parameters(cf_pars)"
   ]
  },
  {
   "cell_type": "code",
   "execution_count": null,
   "metadata": {
    "tags": []
   },
   "outputs": [],
   "source": [
    "# pbp_array = np.loadtxt('/home/esrf/james1997a/Code/ImageD11/ImageD11/nbGui/S3DXRD/grainsout_all.pbp')\n",
    "\n",
    "pbp_array = np.loadtxt(ds.pbpfile)\n",
    "ubi = {}\n",
    "i,j,n,u,ubi[0,0],ubi[0,1],ubi[0,2],ubi[1,0],ubi[1,1],ubi[1,2],ubi[2,0],ubi[2,1],ubi[2,2] = pbp_array.T\n",
    "i = i.astype(int) \n",
    "i -= i.min()   # position in array / space\n",
    "j = j.astype(int) \n",
    "j -= j.min()\n",
    "n = n.astype(int)         # total peaks indexing with hkl==int with 0.03\n",
    "u = u.astype(int)         # unique (h,k,l) labels on indexed peaks"
   ]
  },
  {
   "cell_type": "code",
   "execution_count": null,
   "metadata": {
    "tags": []
   },
   "outputs": [],
   "source": [
    "NY = int(i.max()-i.min())+1\n",
    "i.min(),i.max(),NY"
   ]
  },
  {
   "cell_type": "code",
   "execution_count": null,
   "metadata": {
    "tags": []
   },
   "outputs": [],
   "source": [
    "fig, ax = plt.subplots()\n",
    "ax.hist(u, bins=128)\n",
    "ax.set_xlabel('Unique spots per pixel')\n",
    "ax.set_ylabel('Count')\n",
    "plt.show()"
   ]
  },
  {
   "cell_type": "code",
   "execution_count": null,
   "metadata": {
    "tags": []
   },
   "outputs": [],
   "source": [
    "minpeaks = 20\n",
    "\n",
    "uni = np.ones((NY,NY))\n",
    "uni.fill(minpeaks) # peak cutorr\n",
    "npk = np.zeros((NY,NY))\n",
    "ubifit = np.zeros((NY,NY,3,3), float)\n",
    "ubifit.fill(np.nan)\n",
    "ubilist = []\n",
    "for k in range(len(i)):\n",
    "    if u[k] > uni[i[k],j[k]]:\n",
    "        uni[i[k],j[k]] = u[k]\n",
    "        npk[i[k],j[k]] = n[k]\n",
    "        for ii in range(3):\n",
    "            for jj in range(3):\n",
    "                ubifit[i[k],j[k],ii,jj] = ubi[ii,jj][k]\n",
    "        ubilist.append(ubifit[i[k],j[k]].copy())"
   ]
  },
  {
   "cell_type": "code",
   "execution_count": null,
   "metadata": {
    "tags": []
   },
   "outputs": [],
   "source": [
    "def plot_inverse_pole_figure(UBs, ref_ucell, axis=np.array([0., 0, 1])):\n",
    "    # get a meta orientation for all the grains\n",
    "    meta_orien = ref_ucell.get_orix_orien(UBs)\n",
    "\n",
    "    try:\n",
    "        from orix.vector.vector3d import Vector3d\n",
    "    except ImportError:\n",
    "        raise ImportError(\"Missing diffpy and/or orix, can't compute orix phase!\")\n",
    "\n",
    "    ipf_direction = Vector3d(axis)\n",
    "\n",
    "    # get the RGB colours\n",
    "    rgb = ref_ucell.get_ipf_colour_from_orix_orien(meta_orien, axis=ipf_direction)\n",
    "\n",
    "    # scatter the meta orientation using the colours\n",
    "    meta_orien.scatter(\"ipf\", c=rgb, direction=ipf_direction, s=1)\n",
    "\n",
    "    \n",
    "def plot_all_ipfs(UBs, ref_ucell):\n",
    "    plot_inverse_pole_figure(UBs, ref_ucell, axis=np.array([1., 0, 0]))\n",
    "    plot_inverse_pole_figure(UBs, ref_ucell, axis=np.array([0., 1, 0]))\n",
    "    plot_inverse_pole_figure(UBs, ref_ucell, axis=np.array([0., 0, 1]))"
   ]
  },
  {
   "cell_type": "code",
   "execution_count": null,
   "metadata": {
    "tags": []
   },
   "outputs": [],
   "source": [
    "ublist = [np.linalg.inv(ubi) for ubi in ubilist]\n",
    "ubarray = np.array(ublist)\n",
    "\n",
    "plot_all_ipfs(ubarray, ref_ucell)"
   ]
  },
  {
   "cell_type": "code",
   "execution_count": null,
   "metadata": {
    "tags": []
   },
   "outputs": [],
   "source": [
    "def normalise( r ):\n",
    "    negatives = r [r < 0 ]\n",
    "    noise = np.std(negatives)\n",
    "    s = ndi.uniform_filter( r, 5 )\n",
    "    positives =  s > noise\n",
    "    height = r[positives].mean()\n",
    "    return np.where(s>noise, r/r.max(), 0)"
   ]
  },
  {
   "cell_type": "code",
   "execution_count": null,
   "metadata": {
    "tags": []
   },
   "outputs": [],
   "source": [
    "r = npk.copy()\n",
    "ubisel = ubifit.copy()"
   ]
  },
  {
   "cell_type": "code",
   "execution_count": null,
   "metadata": {
    "tags": []
   },
   "outputs": [],
   "source": [
    "# container to store rgb values, shape (axis, i, j, RGB)\n",
    "rgb = np.zeros( (3, ubisel.shape[0], ubisel.shape[1], 3 ))\n",
    "\n",
    "# iterate over the axes\n",
    "\n",
    "for k,axis in enumerate( ((1,0,0),(0,1,0),(0,0,1))):\n",
    "    UB_ij = []\n",
    "\n",
    "    for i in range(ubisel.shape[0]):\n",
    "        for j in range(ubisel.shape[1]):\n",
    "\n",
    "                if np.isnan( ubisel[i,j,0,0] ):\n",
    "                    rgb[k,i,j] = np.nan\n",
    "                else:\n",
    "                    this_ubi = ubisel[i,j]\n",
    "                    this_ub = np.linalg.inv(this_ubi)\n",
    "\n",
    "                    UB_ij.append((this_ub, i, j))\n",
    "    \n",
    "    # get_ipf_colour is slow but vectorised, so we can call it once for all UB matrices with this IPF axis\n",
    "    UBs_flat = np.array([UB for (UB, i, j) in UB_ij])\n",
    "    cols_flat = ref_ucell.get_ipf_colour(UBs_flat, axis)\n",
    "    \n",
    "    # populate rgb array\n",
    "    for (UB, i, j), col in zip(UB_ij, cols_flat):\n",
    "        rgb[k, i, j] = col"
   ]
  },
  {
   "cell_type": "code",
   "execution_count": null,
   "metadata": {
    "tags": []
   },
   "outputs": [],
   "source": [
    "fig, a = plt.subplots(2,2,sharex=True,sharey=True, figsize=(10,10), constrained_layout=True)\n",
    "a[0][0].imshow(rgb[0], origin=\"lower\")\n",
    "a[0][0].set_title(\"IPF X\")\n",
    "a[0][1].imshow(rgb[1], origin=\"lower\")\n",
    "a[0][1].set_title(\"IPF Y\")\n",
    "a[1][0].imshow(rgb[2], origin=\"lower\")\n",
    "a[1][0].set_title(\"IPF Z\")\n",
    "m = r > 0.02\n",
    "a[1][1].imshow(np.where(m, r, np.nan), origin=\"lower\")\n",
    "a[1][1].set_title(\"Number of peaks\")\n",
    "# for ax in a.ravel():\n",
    "#     ax.set(yticks=[], xticks=[])\n",
    "#     ax.invert_yaxis()\n",
    "\n",
    "plt.show()"
   ]
  },
  {
   "cell_type": "code",
   "execution_count": null,
   "metadata": {},
   "outputs": [],
   "source": []
  }
 ],
 "metadata": {
  "kernelspec": {
   "display_name": "Python 3 (main)",
   "language": "python",
   "name": "python3"
  },
  "language_info": {
   "codemirror_mode": {
    "name": "ipython",
    "version": 3
   },
   "file_extension": ".py",
   "mimetype": "text/x-python",
   "name": "python",
   "nbconvert_exporter": "python",
   "pygments_lexer": "ipython3",
   "version": "3.11.6"
  }
 },
 "nbformat": 4,
 "nbformat_minor": 4
}
