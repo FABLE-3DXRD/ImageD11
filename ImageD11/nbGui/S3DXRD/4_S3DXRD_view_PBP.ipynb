{
 "cells": [
  {
   "cell_type": "code",
   "execution_count": null,
   "metadata": {
    "tags": []
   },
   "outputs": [],
   "source": [
    "# USER: Change the path below to point to your local copy of ImageD11:\n",
    "\n",
    "import os\n",
    "\n",
    "home_dir = !echo $HOME\n",
    "home_dir = str(home_dir[0])\n",
    "\n",
    "# USER: You can change this location if you want\n",
    "\n",
    "id11_code_path = os.path.join(home_dir, \"Code/ImageD11\")\n",
    "\n",
    "import sys\n",
    "\n",
    "sys.path.insert(0, id11_code_path)"
   ]
  },
  {
   "cell_type": "code",
   "execution_count": null,
   "metadata": {
    "tags": []
   },
   "outputs": [],
   "source": [
    "from matplotlib import pyplot as plt\n",
    "import numpy as np\n",
    "\n",
    "import scipy.ndimage as ndi\n",
    "\n",
    "from ImageD11.nbGui import nb_utils as utils\n",
    "import ImageD11.sinograms.dataset\n",
    "\n",
    "from ImageD11.grain import grain\n",
    "%matplotlib ipympl"
   ]
  },
  {
   "cell_type": "code",
   "execution_count": null,
   "metadata": {
    "tags": []
   },
   "outputs": [],
   "source": [
    "# NOTE: For old datasets before the new directory layout structure, we don't distinguish between RAW_DATA and PROCESSED_DATA\n",
    "\n",
    "### USER: specify your experimental directory\n",
    "\n",
    "rawdata_path = \"/home/esrf/james1997a/Data/ihma439/id11/20231211/RAW_DATA\"\n",
    "\n",
    "!ls -lrt {rawdata_path}\n",
    "\n",
    "### USER: specify where you want your processed data to go\n",
    "\n",
    "processed_data_root_dir = \"/home/esrf/james1997a/Data/ihma439/id11/20231211/PROCESSED_DATA/James/20240226\""
   ]
  },
  {
   "cell_type": "code",
   "execution_count": null,
   "metadata": {
    "tags": []
   },
   "outputs": [],
   "source": [
    "# USER: pick a sample and a dataset you want to segment\n",
    "\n",
    "sample = \"FeAu_0p5_tR_nscope\"\n",
    "dataset = \"top_250um\""
   ]
  },
  {
   "cell_type": "code",
   "execution_count": null,
   "metadata": {
    "tags": []
   },
   "outputs": [],
   "source": [
    "# desination of H5 files\n",
    "\n",
    "dset_path = os.path.join(processed_data_root_dir, sample, f\"{sample}_{dataset}\", f\"{sample}_{dataset}_dataset.h5\")\n",
    "\n",
    "# USER: specify the path to the parameter file\n",
    "\n",
    "par_path = os.path.join(processed_data_root_dir, 'Fe_refined.par')\n",
    "\n",
    "e2dx_path = os.path.join(processed_data_root_dir, '../../CeO2/e2dx_E-08-0173_20231127.edf')\n",
    "e2dy_path = os.path.join(processed_data_root_dir, '../../CeO2/e2dy_E-08-0173_20231127.edf')"
   ]
  },
  {
   "cell_type": "code",
   "execution_count": null,
   "metadata": {
    "tags": []
   },
   "outputs": [],
   "source": [
    "# Load the dataset\n",
    "dset = ImageD11.sinograms.dataset.load(dset_path)"
   ]
  },
  {
   "cell_type": "code",
   "execution_count": null,
   "metadata": {
    "tags": []
   },
   "outputs": [],
   "source": [
    "dset.pbpfile = os.path.join(dset.analysispath, dset.dsname + '_pbp_index.pbp')"
   ]
  },
  {
   "cell_type": "code",
   "execution_count": null,
   "metadata": {
    "tags": []
   },
   "outputs": [],
   "source": [
    "# pbp_array = np.loadtxt('/home/esrf/james1997a/Code/ImageD11/ImageD11/nbGui/S3DXRD/grainsout_all.pbp')\n",
    "\n",
    "pbp_array = np.loadtxt(dset.pbpfile)\n",
    "ubi = {}\n",
    "i,j,n,u,ubi[0,0],ubi[0,1],ubi[0,2],ubi[1,0],ubi[1,1],ubi[1,2],ubi[2,0],ubi[2,1],ubi[2,2] = pbp_array.T\n",
    "i = i.astype(int) \n",
    "i -= i.min()   # position in array / space\n",
    "j = j.astype(int) \n",
    "j -= j.min()\n",
    "n = n.astype(int)         # total peaks indexing with hkl==int with 0.03\n",
    "u = u.astype(int)         # unique (h,k,l) labels on indexed peaks"
   ]
  },
  {
   "cell_type": "code",
   "execution_count": null,
   "metadata": {
    "tags": []
   },
   "outputs": [],
   "source": [
    "NY = int(i.max()-i.min())+1\n",
    "i.min(),i.max(),NY"
   ]
  },
  {
   "cell_type": "code",
   "execution_count": null,
   "metadata": {
    "tags": []
   },
   "outputs": [],
   "source": [
    "fig, ax = plt.subplots()\n",
    "ax.hist(u, bins=128)\n",
    "ax.set_xlabel('Unique spots per pixel')\n",
    "ax.set_ylabel('Count')\n",
    "plt.show()"
   ]
  },
  {
   "cell_type": "code",
   "execution_count": null,
   "metadata": {
    "tags": []
   },
   "outputs": [],
   "source": [
    "minpeaks = 50\n",
    "\n",
    "uni = np.ones((NY,NY))\n",
    "uni.fill(minpeaks) # peak cutorr\n",
    "npk = np.zeros((NY,NY))\n",
    "ubifit = np.zeros((NY,NY,3,3), float)\n",
    "ubifit.fill(np.nan)\n",
    "ubilist = []\n",
    "for k in range(len(i)):\n",
    "    if u[k] > uni[i[k],j[k]]:\n",
    "        uni[i[k],j[k]] = u[k]\n",
    "        npk[i[k],j[k]] = n[k]\n",
    "        for ii in range(3):\n",
    "            for jj in range(3):\n",
    "                ubifit[i[k],j[k],ii,jj] = ubi[ii,jj][k]\n",
    "        ubilist.append(ubifit[i[k],j[k]].copy())"
   ]
  },
  {
   "cell_type": "code",
   "execution_count": null,
   "metadata": {
    "tags": []
   },
   "outputs": [],
   "source": [
    "f,a = plt.subplots( 1,3, figsize=(15,5) )\n",
    "ty, tx = utils.triangle().T\n",
    "for i,title in enumerate( 'xyz' ):\n",
    "    ax = np.zeros(3)\n",
    "    ax[i] = 1.\n",
    "    hkl = [utils.crystal_direction_cubic( ubi, ax ) for ubi in ubilist]\n",
    "    xy = np.array( [utils.hkl_to_pf_cubic(h) for h in hkl ] )\n",
    "    rgb = np.array( [utils.hkl_to_color_cubic(h) for h in hkl ])\n",
    "    \n",
    "    a[i].scatter( xy[:,1], xy[:,0], c = rgb, s=1 )   # Note the \"x\" axis of the plot is the 'k' direction and 'y' is h (smaller)\n",
    "    a[i].set(title=title, aspect='equal', facecolor='silver', xticks=[], yticks=[])\n",
    "    a[i].plot( tx, ty, 'k-', lw = 1 )\n",
    "\n",
    "plt.show()"
   ]
  },
  {
   "cell_type": "code",
   "execution_count": null,
   "metadata": {
    "tags": []
   },
   "outputs": [],
   "source": [
    "def normalise( r ):\n",
    "    negatives = r [r < 0 ]\n",
    "    noise = np.std(negatives)\n",
    "    s = ndi.uniform_filter( r, 5 )\n",
    "    positives =  s > noise\n",
    "    height = r[positives].mean()\n",
    "    return np.where(s>noise, r/r.max(), 0)"
   ]
  },
  {
   "cell_type": "code",
   "execution_count": null,
   "metadata": {
    "tags": []
   },
   "outputs": [],
   "source": [
    "r = npk.copy()\n",
    "ubisel = ubifit.copy()"
   ]
  },
  {
   "cell_type": "code",
   "execution_count": null,
   "metadata": {
    "tags": []
   },
   "outputs": [],
   "source": [
    "rgb = np.zeros( (3, ubisel.shape[0], ubisel.shape[1], 3 ))\n",
    "for i in range(ubisel.shape[0]):\n",
    "    for j in range(ubisel.shape[1]):\n",
    "        for k,axis in enumerate( ((1,0,0),(0,1,0),(0,0,1)) ):\n",
    "            if np.isnan( ubisel[i,j,0,0] ):\n",
    "                rgb[k,i,j] = np.nan\n",
    "            else:\n",
    "                rgb[k,i,j] =  utils.hkl_to_color_cubic( utils.crystal_direction_cubic( ubisel[i,j], axis ) )"
   ]
  },
  {
   "cell_type": "code",
   "execution_count": null,
   "metadata": {
    "tags": []
   },
   "outputs": [],
   "source": [
    "fig, a = plt.subplots(2,2,sharex=True,sharey=True, figsize=(10,10), constrained_layout=True)\n",
    "a[0][0].imshow(rgb[0].transpose(1, 0, 2), origin=\"lower\")\n",
    "a[0][0].set_title(\"IPF X\")\n",
    "a[0][1].imshow(rgb[1].transpose(1, 0, 2), origin=\"lower\")\n",
    "a[0][1].set_title(\"IPF Y\")\n",
    "a[1][0].imshow(rgb[2].transpose(1, 0, 2), origin=\"lower\")\n",
    "a[1][0].set_title(\"IPF Z\")\n",
    "m = r > 0.02\n",
    "a[1][1].imshow(np.where(m, r, np.nan).T, origin=\"lower\")\n",
    "a[1][1].set_title(\"Number of peaks\")\n",
    "for ax in a.ravel():\n",
    "    ax.set(yticks=[], xticks=[])\n",
    "    ax.invert_xaxis()\n",
    "    ax.invert_yaxis()\n",
    "\n",
    "fig.supxlabel(\"< Lab Y direction\")\n",
    "fig.supylabel(\"Lab X direction >\")\n",
    "plt.show()"
   ]
  },
  {
   "cell_type": "code",
   "execution_count": null,
   "metadata": {},
   "outputs": [],
   "source": []
  },
  {
   "cell_type": "code",
   "execution_count": null,
   "metadata": {},
   "outputs": [],
   "source": []
  }
 ],
 "metadata": {
  "kernelspec": {
   "display_name": "Python 3 (main)",
   "language": "python",
   "name": "python3"
  },
  "language_info": {
   "codemirror_mode": {
    "name": "ipython",
    "version": 3
   },
   "file_extension": ".py",
   "mimetype": "text/x-python",
   "name": "python",
   "nbconvert_exporter": "python",
   "pygments_lexer": "ipython3",
   "version": "3.11.6"
  }
 },
 "nbformat": 4,
 "nbformat_minor": 4
}
