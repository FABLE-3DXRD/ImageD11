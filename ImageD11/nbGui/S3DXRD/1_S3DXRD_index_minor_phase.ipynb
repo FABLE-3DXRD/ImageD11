{
 "cells": [
  {
   "cell_type": "markdown",
   "metadata": {},
   "source": [
    "# Jupyter notebook based on ImageD11 to process scanning 3DXRD data\n",
    "# Written by Haixing Fang, Jon Wright and James Ball\n",
    "## Date: 26/02/2024"
   ]
  },
  {
   "cell_type": "code",
   "execution_count": null,
   "metadata": {
    "tags": []
   },
   "outputs": [],
   "source": [
    "# USER: Change the path below to point to your local copy of ImageD11:\n",
    "\n",
    "import os\n",
    "\n",
    "home_dir = !echo $HOME\n",
    "home_dir = str(home_dir[0])\n",
    "\n",
    "# USER: You can change this location if you want\n",
    "\n",
    "id11_code_path = os.path.join(home_dir, \"Code/ImageD11\")\n",
    "\n",
    "import sys\n",
    "\n",
    "sys.path.insert(0, id11_code_path)"
   ]
  },
  {
   "cell_type": "code",
   "execution_count": null,
   "metadata": {
    "tags": []
   },
   "outputs": [],
   "source": [
    "# import functions we need\n",
    "\n",
    "import os, glob, pprint\n",
    "import numpy as np\n",
    "import matplotlib\n",
    "import h5py\n",
    "from tqdm.notebook import tqdm\n",
    "\n",
    "%matplotlib widget\n",
    "from matplotlib import pyplot as plt\n",
    "\n",
    "import ImageD11.nbGui.nb_utils as utils\n",
    "\n",
    "import ImageD11.grain\n",
    "import ImageD11.unitcell\n",
    "import ImageD11.indexing\n",
    "import ImageD11.columnfile\n",
    "import ImageD11.refinegrains\n",
    "import ImageD11.sinograms.dataset\n",
    "import ImageD11.sinograms.properties\n",
    "import ImageD11.sinograms.lima_segmenter\n",
    "import ImageD11.sinograms.assemble_label\n",
    "\n",
    "from ImageD11.blobcorrector import eiger_spatial"
   ]
  },
  {
   "cell_type": "code",
   "execution_count": null,
   "metadata": {
    "tags": []
   },
   "outputs": [],
   "source": [
    "# NOTE: For old datasets before the new directory layout structure, we don't distinguish between RAW_DATA and PROCESSED_DATA\n",
    "\n",
    "### USER: specify your experimental directory\n",
    "\n",
    "rawdata_path = \"/data/visitor/ihma439/id11/20231211/RAW_DATA\"\n",
    "\n",
    "!ls -lrt {rawdata_path}\n",
    "\n",
    "### USER: specify where you want your processed data to go\n",
    "\n",
    "processed_data_root_dir = \"/data/visitor/ihma439/id11/20231211/PROCESSED_DATA/James/nb_testing\""
   ]
  },
  {
   "cell_type": "code",
   "execution_count": null,
   "metadata": {
    "tags": []
   },
   "outputs": [],
   "source": [
    "# USER: pick a sample and a dataset you want to segment\n",
    "\n",
    "sample = \"FeAu_0p5_tR_nscope\"\n",
    "dataset = \"top_250um\""
   ]
  },
  {
   "cell_type": "code",
   "execution_count": null,
   "metadata": {
    "tags": []
   },
   "outputs": [],
   "source": [
    "# desination of H5 files\n",
    "\n",
    "dset_path = os.path.join(processed_data_root_dir, sample, f\"{sample}_{dataset}\", f\"{sample}_{dataset}_dataset.h5\")"
   ]
  },
  {
   "cell_type": "code",
   "execution_count": null,
   "metadata": {
    "tags": []
   },
   "outputs": [],
   "source": [
    "# load the dataset from file\n",
    "\n",
    "ds = ImageD11.sinograms.dataset.load(dset_path)\n",
    "\n",
    "print(ds)\n",
    "print(ds.shape)"
   ]
  },
  {
   "cell_type": "code",
   "execution_count": null,
   "metadata": {
    "tags": []
   },
   "outputs": [],
   "source": [
    "# load 4d peaks from file\n",
    "\n",
    "cf_4d = ImageD11.columnfile.colfile_from_hdf(ds.col4dfile)\n",
    "\n",
    "major_phase_par_file = ds.parfile\n",
    "\n",
    "cf_4d.parameters.loadparameters(ds.parfile)\n",
    "cf_4d.updateGeometry()"
   ]
  },
  {
   "cell_type": "code",
   "execution_count": null,
   "metadata": {
    "tags": []
   },
   "outputs": [],
   "source": [
    "# plot the 4D peaks (fewer of them) as a cake (two-theta vs eta)\n",
    "# if the parameters in the par file are good, these should look like straight lines\n",
    "\n",
    "fig, ax = plt.subplots()\n",
    "\n",
    "ax.scatter(cf_4d.ds, cf_4d.eta, s=1)\n",
    "\n",
    "ax.set_xlabel(\"dstar\")\n",
    "ax.set_ylabel(\"eta\")\n",
    "\n",
    "plt.show()"
   ]
  },
  {
   "cell_type": "code",
   "execution_count": null,
   "metadata": {
    "tags": []
   },
   "outputs": [],
   "source": [
    "# isolate main phase peaks, and remove them from the dataset\n",
    "\n",
    "major_phase_cf_dstol = 0.0075\n",
    "\n",
    "major_phase_peaks_mask = utils.unitcell_peaks_mask(cf_4d, dstol=major_phase_cf_dstol, dsmax=cf_4d.ds.max())\n",
    "\n",
    "minor_phase_peaks = cf_4d.copy()\n",
    "minor_phase_peaks.filter(~major_phase_peaks_mask)"
   ]
  },
  {
   "cell_type": "code",
   "execution_count": null,
   "metadata": {
    "tags": []
   },
   "outputs": [],
   "source": [
    "# plot the remaining peaks as a cake (d-star vs eta)\n",
    "\n",
    "fig, ax = plt.subplots()\n",
    "\n",
    "ax.scatter(minor_phase_peaks.ds, minor_phase_peaks.eta, s=1)\n",
    "\n",
    "ax.set_xlabel(\"dstar\")\n",
    "ax.set_ylabel(\"eta\")\n",
    "\n",
    "plt.show()"
   ]
  },
  {
   "cell_type": "code",
   "execution_count": null,
   "metadata": {
    "tags": []
   },
   "outputs": [],
   "source": [
    "# Update geometry for minor phase peaks\n",
    "\n",
    "minor_phase_par_file = os.path.join(processed_data_root_dir, '../../../SCRIPTS/James/S3DXRD/Au.par')\n",
    "\n",
    "ds.parfile = minor_phase_par_file\n",
    "\n",
    "minor_phase_peaks.parameters.loadparameters(ds.parfile)\n",
    "minor_phase_peaks.updateGeometry()\n",
    "\n",
    "cf_strong_frac = 0.92\n",
    "cf_strong_dsmax = 0.9\n",
    "cf_strong_dstol = 0.005\n",
    "\n",
    "cf_strong = utils.selectpeaks(minor_phase_peaks, dstol=cf_strong_dstol, dsmax=cf_strong_dsmax, frac=cf_strong_frac, doplot=0.5)\n",
    "print(cf_strong.nrows)"
   ]
  },
  {
   "cell_type": "code",
   "execution_count": null,
   "metadata": {
    "tags": []
   },
   "outputs": [],
   "source": [
    "# OPTIONAL: export CF to an flt so we can play with it with ImageD11_gui\n",
    "# uncomment the below line\n",
    "\n",
    "# cf_4d.writefile(f'{sample}_{dataset}_4d_peaks.flt')"
   ]
  },
  {
   "cell_type": "code",
   "execution_count": null,
   "metadata": {
    "tags": []
   },
   "outputs": [],
   "source": [
    "# now we can take a look at the intensities of the remaining peaks\n",
    "\n",
    "fig, ax = plt.subplots()\n",
    "\n",
    "ax.plot(cf_strong.ds, cf_strong.sum_intensity,',')\n",
    "ax.semilogy()\n",
    "\n",
    "ax.set_xlabel(\"dstar\")\n",
    "ax.set_ylabel(\"Intensity\")\n",
    "\n",
    "plt.show()"
   ]
  },
  {
   "cell_type": "code",
   "execution_count": null,
   "metadata": {
    "tags": []
   },
   "outputs": [],
   "source": [
    "# now we can define unit cells from our parameters\n",
    "\n",
    "minor_phase_unitcell = ImageD11.unitcell.unitcell_from_parameters(cf_strong.parameters)\n",
    "minor_phase_unitcell.makerings(cf_strong.ds.max())\n",
    "\n",
    "major_phase_unitcell = ImageD11.unitcell.unitcell_from_parameters(cf_4d.parameters)\n",
    "major_phase_unitcell.makerings(cf_strong.ds.max())"
   ]
  },
  {
   "cell_type": "code",
   "execution_count": null,
   "metadata": {
    "tags": []
   },
   "outputs": [],
   "source": [
    "# now let's plot our peaks again, with the rings from the unitcell included, to check our lattice parameters are good\n",
    "\n",
    "fig, ax = plt.subplots()\n",
    "\n",
    "skip=1\n",
    "ax.scatter( cf_strong.ds[::skip], cf_strong.eta[::skip],s=0.5)\n",
    "ax.plot( minor_phase_unitcell.ringds, [0,]*len(minor_phase_unitcell.ringds), '|', ms=90, c=\"red\", label=\"Minor phase\")\n",
    "ax.plot( major_phase_unitcell.ringds, [0,]*len(major_phase_unitcell.ringds), '|', ms=90, c=\"green\", label=\"Major phase\")\n",
    "ax.set_xlabel('1 / d ($\\AA$)')\n",
    "ax.set_ylabel('$\\\\eta$ (deg)')\n",
    "\n",
    "lgnd = ax.legend(loc=\"upper right\", scatterpoints=1, fontsize=10)\n",
    "for handle in lgnd.legend_handles:\n",
    "    handle.set(markersize=6.0)\n",
    "\n",
    "plt.show()"
   ]
  },
  {
   "cell_type": "code",
   "execution_count": null,
   "metadata": {
    "tags": []
   },
   "outputs": [],
   "source": [
    "# specify our ImageD11 indexer with these peaks\n",
    "\n",
    "indexer = ImageD11.indexing.indexer_from_colfile(cf_strong)\n",
    "\n",
    "print(f\"Indexing {cf_strong.nrows} peaks\")"
   ]
  },
  {
   "cell_type": "code",
   "execution_count": null,
   "metadata": {
    "tags": []
   },
   "outputs": [],
   "source": [
    "# USER: set a tolerance in d-space (for assigning peaks to powder rings)\n",
    "\n",
    "indexer_ds_tol = 0.005\n",
    "indexer.ds_tol = indexer_ds_tol\n",
    "\n",
    "# change the log level so we can see what the ring assigments look like\n",
    "\n",
    "ImageD11.indexing.loglevel = 1\n",
    "\n",
    "# assign peaks to powder rings\n",
    "\n",
    "indexer.assigntorings()\n",
    "\n",
    "# change log level back again\n",
    "\n",
    "ImageD11.indexing.loglevel = 3"
   ]
  },
  {
   "cell_type": "code",
   "execution_count": null,
   "metadata": {
    "tags": []
   },
   "outputs": [],
   "source": [
    "# let's plot the assigned peaks\n",
    "\n",
    "fig, ax = plt.subplots()\n",
    "\n",
    "# indexer.ra is the ring assignments\n",
    "\n",
    "ax.scatter(cf_strong.ds, cf_strong.eta, c=indexer.ra, cmap='tab20', s=1)\n",
    "ax.set_xlabel(\"d-star\")\n",
    "ax.set_ylabel(\"eta\")\n",
    "\n",
    "plt.show()"
   ]
  },
  {
   "cell_type": "code",
   "execution_count": null,
   "metadata": {
    "tags": []
   },
   "outputs": [],
   "source": [
    "# now we are indexing!\n",
    "# we have to choose which rings we want to generate orientations on\n",
    "# generally we want two or three low-multiplicity rings that are isolated from other phases\n",
    "# take a look at the ring assignment output from a few cells above, and choose two or three\n",
    "rings_for_gen = [0, 4]\n",
    "\n",
    "# now we want to decide which rings to score our found orientations against\n",
    "# generally we can just exclude dodgy rings (close to other phases, only a few peaks in etc)\n",
    "rings_for_scoring = [0, 3, 4]\n",
    "\n",
    "# the sequence of hkl tolerances the indexer will iterate through\n",
    "hkl_tols_seq = [0.01, 0.02, 0.03, 0.04, 0.05]\n",
    "# the sequence of minpks fractions the indexer will iterate through\n",
    "fracs = [0.9]\n",
    "# the tolerance in g-vector angle\n",
    "cosine_tol = np.cos(np.radians(90 - 0.25))\n",
    "# the max number of UBIs we can find per pair of rings\n",
    "max_grains = 1000\n",
    "\n",
    "grains, indexer = utils.do_index(cf=cf_strong,\n",
    "                                dstol=indexer_ds_tol,\n",
    "                                forgen=rings_for_gen,\n",
    "                                foridx=rings_for_scoring,\n",
    "                                hkl_tols=hkl_tols_seq,\n",
    "                                fracs=fracs,\n",
    "                                cosine_tol=cosine_tol,\n",
    "                                max_grains=max_grains\n",
    ")"
   ]
  },
  {
   "cell_type": "code",
   "execution_count": null,
   "metadata": {
    "tags": []
   },
   "outputs": [],
   "source": [
    "# set grain GIDs (useful if we ever delete a grain)\n",
    "for i, g in enumerate(grains):\n",
    "    g.gid = i\n",
    "    \n",
    "    g.a = np.cbrt(np.linalg.det(g.ubi))"
   ]
  },
  {
   "cell_type": "code",
   "execution_count": null,
   "metadata": {
    "tags": []
   },
   "outputs": [],
   "source": [
    "mean_unit_cell_lengths = [grain.a for grain in grains]\n",
    "\n",
    "fig, ax = plt.subplots()\n",
    "ax.plot(mean_unit_cell_lengths)\n",
    "ax.set_xlabel(\"Grain ID\")\n",
    "ax.set_ylabel(\"Unit cell length\")\n",
    "plt.show()\n",
    "\n",
    "a0 = np.median(mean_unit_cell_lengths)\n",
    "    \n",
    "print(a0)"
   ]
  },
  {
   "cell_type": "code",
   "execution_count": null,
   "metadata": {
    "tags": []
   },
   "outputs": [],
   "source": [
    "# assign peaks to grains\n",
    "\n",
    "peak_assign_tol = 0.05\n",
    "\n",
    "utils.assign_peaks_to_grains(grains, cf_strong, tol=peak_assign_tol)\n",
    "\n",
    "print(\"Storing peak data in grains\")\n",
    "# iterate through all the grains\n",
    "for g in tqdm(grains):\n",
    "    # store this grain's peak indices so we know which 4D peaks we used for indexing\n",
    "    g.mask_4d = cf_strong.grain_id == g.gid\n",
    "    g.peaks_4d = cf_strong.index[cf_strong.grain_id == g.gid]"
   ]
  },
  {
   "cell_type": "code",
   "execution_count": null,
   "metadata": {},
   "outputs": [],
   "source": [
    "utils.plot_index_results(indexer, cf_strong, 'First attempt')"
   ]
  },
  {
   "cell_type": "code",
   "execution_count": null,
   "metadata": {},
   "outputs": [],
   "source": [
    "utils.plot_grain_sinograms(grains, cf_strong, 25)"
   ]
  },
  {
   "cell_type": "code",
   "execution_count": null,
   "metadata": {
    "tags": []
   },
   "outputs": [],
   "source": [
    "# save grain data\n",
    "\n",
    "phase_name = 'Au'\n",
    "\n",
    "utils.save_s3dxrd_grains_minor_phase_after_indexing(grains, ds, phase_name)"
   ]
  },
  {
   "cell_type": "code",
   "execution_count": null,
   "metadata": {
    "tags": []
   },
   "outputs": [],
   "source": [
    "ds.parfile = major_phase_par_file\n",
    "ds.save()"
   ]
  },
  {
   "cell_type": "code",
   "execution_count": null,
   "metadata": {},
   "outputs": [],
   "source": [
    "if 1:\n",
    "    raise ValueError(\"Change the 1 above to 0 to allow 'Run all cells' in the notebook\")"
   ]
  },
  {
   "cell_type": "code",
   "execution_count": null,
   "metadata": {},
   "outputs": [],
   "source": [
    "# Now that we're happy with our indexing parameters, we can run the below cell to do this in bulk for many samples/datasets\n",
    "# by default this will do all samples in sample_list, all datasets with a prefix of dset_prefix\n",
    "# you can add samples and datasets to skip in skips_dict\n",
    "\n",
    "skips_dict = {\n",
    "    \"FeAu_0p5_tR_nscope\": [\"top_-50um\", \"top_-100um\"]\n",
    "}\n",
    "\n",
    "dset_prefix = \"top\"\n",
    "\n",
    "sample_list = [\"FeAu_0p5_tR_nscope\"]\n",
    "    \n",
    "samples_dict = utils.find_datasets_to_process(rawdata_path, skips_dict, dset_prefix, sample_list)\n",
    "    \n",
    "# manual override:\n",
    "# samples_dict = {\"FeAu_0p5_tR_nscope\": [\"top_100um\", \"top_200um\"]}\n",
    "    \n",
    "# now we have our samples_dict, we can process our data:\n",
    "\n",
    "for sample, datasets in samples_dict.items():\n",
    "    for dataset in datasets:\n",
    "        print(f\"Processing dataset {dataset} in sample {sample}\")\n",
    "        dset_path = os.path.join(processed_data_root_dir, sample, f\"{sample}_{dataset}\", f\"{sample}_{dataset}_dataset.h5\")\n",
    "        if not os.path.exists(dset_path):\n",
    "            print(f\"Missing DataSet file for {dataset} in sample {sample}, skipping\")\n",
    "            continue\n",
    "        \n",
    "        print(\"Importing DataSet object\")\n",
    "        \n",
    "        ds = ImageD11.sinograms.dataset.load(dset_path)\n",
    "        print(f\"I have a DataSet {ds.dset} in sample {ds.sample}\")\n",
    "        \n",
    "        ds.grainsfile_minor_phase = os.path.join(ds.analysispath, ds.dsname + f'_grains_{phase_name}.h5')\n",
    "        \n",
    "        if os.path.exists(ds.grainsfile_minor_phase):\n",
    "            print(f\"Already have grains for {dataset} in sample {sample}, skipping\")\n",
    "            continue\n",
    "        \n",
    "        cf_4d = ImageD11.columnfile.colfile_from_hdf(ds.col4dfile)\n",
    "        \n",
    "        major_phase_par_file = ds.parfile\n",
    "        \n",
    "        cf_4d.parameters.loadparameters(ds.parfile)\n",
    "        cf_4d.updateGeometry()\n",
    "\n",
    "        major_phase_peaks_mask = utils.unitcell_peaks_mask(cf_4d, dstol=major_phase_cf_dstol, dsmax=cf_4d.ds.max())\n",
    "\n",
    "        minor_phase_peaks = cf_4d.copy()\n",
    "        minor_phase_peaks.filter(~major_phase_peaks_mask)\n",
    "        \n",
    "        ds.parfile = minor_phase_par_file\n",
    "        minor_phase_peaks.parameters.loadparameters(ds.parfile)\n",
    "        minor_phase_peaks.updateGeometry()\n",
    "\n",
    "        cf_strong = utils.selectpeaks(minor_phase_peaks, dstol=cf_strong_dstol, dsmax=cf_strong_dsmax, frac=cf_strong_frac)\n",
    "\n",
    "        grains, indexer = utils.do_index(cf=cf_strong,\n",
    "                                dstol=indexer_ds_tol,\n",
    "                                forgen=rings_for_gen,\n",
    "                                foridx=rings_for_scoring,\n",
    "                                hkl_tols=hkl_tols_seq,\n",
    "                                fracs=fracs,\n",
    "                                cosine_tol=cosine_tol,\n",
    "                                max_grains=max_grains\n",
    "        )\n",
    "        \n",
    "        for i, g in enumerate(grains):\n",
    "            g.gid = i\n",
    "            \n",
    "        utils.assign_peaks_to_grains(grains, cf_strong, tol=peak_assign_tol)\n",
    "\n",
    "        print(\"Storing peak data in grains\")\n",
    "        for g in tqdm(grains):\n",
    "            g.mask_4d = cf_strong.grain_id == g.gid\n",
    "            g.peaks_4d = cf_strong.index[g.mask_4d]\n",
    "            \n",
    "        utils.save_s3dxrd_grains_minor_phase_after_indexing(grains, ds, phase_name)\n",
    "        \n",
    "        ds.parfile = major_phase_par_file\n",
    "        ds.save()\n",
    "\n",
    "print(\"Done!\")"
   ]
  },
  {
   "cell_type": "code",
   "execution_count": null,
   "metadata": {},
   "outputs": [],
   "source": []
  }
 ],
 "metadata": {
  "kernelspec": {
   "display_name": "Python 3 (main)",
   "language": "python",
   "name": "python3"
  },
  "language_info": {
   "codemirror_mode": {
    "name": "ipython",
    "version": 3
   },
   "file_extension": ".py",
   "mimetype": "text/x-python",
   "name": "python",
   "nbconvert_exporter": "python",
   "pygments_lexer": "ipython3",
   "version": "3.11.6"
  }
 },
 "nbformat": 4,
 "nbformat_minor": 4
}
