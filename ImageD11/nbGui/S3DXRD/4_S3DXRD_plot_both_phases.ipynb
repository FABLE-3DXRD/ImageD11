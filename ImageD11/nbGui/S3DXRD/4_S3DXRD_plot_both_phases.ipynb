{
 "cells": [
  {
   "cell_type": "markdown",
   "id": "bbc4bc96-cbc7-436a-a174-c99388869cbb",
   "metadata": {},
   "source": [
    "# Jupyter notebook based on ImageD11 to process scanning 3DXRD data\n",
    "# Written by Haixing Fang, Jon Wright and James Ball\n",
    "## Date: 28/03/2024"
   ]
  },
  {
   "cell_type": "code",
   "execution_count": null,
   "id": "94b89030-fdb2-47d2-bc26-3e5cfb0d6509",
   "metadata": {},
   "outputs": [],
   "source": [
    "exec(open('/data/id11/nanoscope/install_ImageD11_from_git.py').read())\n",
    "PYTHONPATH = setup_ImageD11_from_git( ) # ( os.path.join( os.environ['HOME'],'Code'), 'ImageD11_git' )"
   ]
  },
  {
   "cell_type": "code",
   "execution_count": null,
   "id": "8f4b91e0-7a83-462b-85cb-27f65721ff93",
   "metadata": {},
   "outputs": [],
   "source": [
    "# import functions we need\n",
    "\n",
    "import os\n",
    "import concurrent.futures\n",
    "import timeit\n",
    "\n",
    "import matplotlib\n",
    "%matplotlib widget\n",
    "\n",
    "import h5py\n",
    "from tqdm.notebook import tqdm\n",
    "import numpy as np\n",
    "import matplotlib.pyplot as plt\n",
    "\n",
    "from ImageD11.sinograms.sinogram import GrainSinogram, build_slice_arrays, write_slice_recon, read_slice_recon, write_h5, read_h5\n",
    "import ImageD11.columnfile\n",
    "from ImageD11.sinograms import properties, roi_iradon\n",
    "from ImageD11.blobcorrector import eiger_spatial\n",
    "from ImageD11.grain import grain\n",
    "from ImageD11 import cImageD11\n",
    "\n",
    "from ImageD11.nbGui import nb_utils as utils"
   ]
  },
  {
   "cell_type": "code",
   "execution_count": null,
   "id": "c3c559a5-0202-4f54-be32-20830f5fd6a1",
   "metadata": {},
   "outputs": [],
   "source": [
    "# USER: Pass path to dataset file\n",
    "\n",
    "dset_file = 'si_cube_test/processed/Si_cube/Si_cube_S3DXRD_nt_moves_dty/Si_cube_S3DXRD_nt_moves_dty_dataset.h5'\n",
    "\n",
    "ds = ImageD11.sinograms.dataset.load(dset_file)\n",
    "   \n",
    "sample = ds.sample\n",
    "dataset = ds.dsname\n",
    "processed_data_root_dir = ds.analysisroot\n",
    "\n",
    "print(ds)\n",
    "print(ds.shape)"
   ]
  },
  {
   "cell_type": "code",
   "execution_count": null,
   "id": "ec5ff57a-0a7f-44cd-b437-eb4cc4e2ea25",
   "metadata": {
    "tags": []
   },
   "outputs": [],
   "source": [
    "minor_phase_name = \"Au\"\n",
    "\n",
    "minor_phase_grains_path = os.path.splitext(ds.grainsfile)[0] + f'_{minor_phase_name}.h5'\n",
    "\n",
    "grainsinos_Au = read_h5(minor_phase_grains_path, ds)\n",
    "grains_Au = [gs.grain for gs in grainsinos_Au]\n",
    "\n",
    "grainsinos_Fe = read_h5(ds.grainsfile, ds)\n",
    "grains_Fe = [gs.grain for gs in grainsinos_Fe]\n",
    "\n",
    "slice_arrays_Fe = read_slice_recon(ds.grainsfile)\n",
    "rgb_x_array_Fe, rgb_y_array_Fe, rgb_z_array_Fe, grain_labels_array_Fe, raw_intensity_array_Fe = slice_arrays_Fe\n",
    "\n",
    "slice_arrays_Au = read_slice_recon(minor_phase_grains_path)\n",
    "rgb_x_array_Au, rgb_y_array_Au, rgb_z_array_Au, grain_labels_array_Au, raw_intensity_array_Au = slice_arrays_Au"
   ]
  },
  {
   "cell_type": "code",
   "execution_count": null,
   "id": "e289329f-0c9c-4c2f-8dc2-0e4dd0643519",
   "metadata": {
    "tags": []
   },
   "outputs": [],
   "source": [
    "rgb_Fe = rgb_z_array_Fe.copy()\n",
    "rgb_Au = rgb_z_array_Au.copy()"
   ]
  },
  {
   "cell_type": "code",
   "execution_count": null,
   "id": "0c559091-97bd-4b2d-9dc6-d99eb1b6e038",
   "metadata": {},
   "outputs": [],
   "source": [
    "fig, axs = plt.subplots(1, 2, constrained_layout=True, sharex=True, sharey=True)\n",
    "axs[0].imshow(rgb_Fe, origin=\"lower\")\n",
    "axs[1].imshow(rgb_Au, origin=\"lower\")\n",
    "plt.show()"
   ]
  },
  {
   "cell_type": "code",
   "execution_count": null,
   "id": "b30cc703-9c1a-4bf2-b1c2-0f35cc4639bb",
   "metadata": {
    "tags": []
   },
   "outputs": [],
   "source": [
    "rgb_Au_alpha = np.append(rgb_Au, np.zeros((rgb_Au.shape[0], rgb_Au.shape[1], 1)), axis=2)"
   ]
  },
  {
   "cell_type": "code",
   "execution_count": null,
   "id": "d9339a35-ba31-4fa6-a9d7-b6476bcd71f3",
   "metadata": {
    "tags": []
   },
   "outputs": [],
   "source": [
    "rgb_Au_alpha[rgb_Au_alpha[:, :, 0] != 0, 3] = 1"
   ]
  },
  {
   "cell_type": "code",
   "execution_count": null,
   "id": "8d32bf91-2f9d-49aa-a465-b9ea2bc553be",
   "metadata": {
    "tags": []
   },
   "outputs": [],
   "source": [
    "(raw_intensity_array_Au != 0).astype(float)"
   ]
  },
  {
   "cell_type": "code",
   "execution_count": null,
   "id": "a1df3e31-7e64-41f6-a13a-8836db221e7e",
   "metadata": {
    "tags": []
   },
   "outputs": [],
   "source": [
    "fig, axs = plt.subplots(1, 2, constrained_layout=True, sharex=True, sharey=True, figsize=(16, 9))\n",
    "axs[0].imshow(raw_intensity_array_Fe, cmap=\"viridis\", origin=\"lower\")\n",
    "axs[0].imshow(rgb_Au_alpha, origin=\"lower\")\n",
    "axs[1].imshow(raw_intensity_array_Fe, cmap=\"viridis\", origin=\"lower\")\n",
    "axs[0].set_title(\"Fe intensity map with Aus overlaid\")\n",
    "axs[1].set_title(\"Fe intensity map\")\n",
    "plt.show()"
   ]
  },
  {
   "cell_type": "code",
   "execution_count": null,
   "id": "e531a918-4478-45cb-9e85-bc24668dba9c",
   "metadata": {
    "tags": []
   },
   "outputs": [],
   "source": [
    "fig, ax = plt.subplots(constrained_layout=True, sharex=True, sharey=True)\n",
    "ax.imshow(rgb_Fe, origin=\"lower\")\n",
    "ax.imshow(raw_intensity_array_Au, alpha=(raw_intensity_array_Au != 0).astype(float), cmap=\"grey\", origin=\"lower\")\n",
    "ax.set_title(\"Fe IPF Z colours with white Au\")\n",
    "plt.show()"
   ]
  },
  {
   "cell_type": "code",
   "execution_count": null,
   "id": "45816ead-aabe-4151-b4dc-e143d1325d05",
   "metadata": {
    "tags": []
   },
   "outputs": [],
   "source": [
    "# orientation relationship stuff\n",
    "\n",
    "# pick a Au grain\n",
    "\n",
    "Au_grain = grainsinos_Au[25]\n",
    "\n",
    "# find out where it is in the sample\n",
    "\n",
    "fig, ax = plt.subplots(constrained_layout=True, sharex=True, sharey=True)\n",
    "ax.imshow(rgb_Fe, origin=\"lower\")\n",
    "ax.imshow(Au_grain.recons[\"iradon\"], alpha=(Au_grain.recons[\"iradon\"] > 0.05).astype(float), origin=\"lower\")\n",
    "ax.set_title(\"Ni IPF Z colours with single Au\")\n",
    "\n",
    "# from ImageD11.sinograms.geometry import real_space_to_recon_space\n",
    "\n",
    "from ImageD11.sinograms.geometry import sample_to_recon\n",
    "\n",
    "i, j = sample_to_recon(x=Au_grain.grain.translation[0], y=Au_grain.grain.translation[1], recon_shape=Au_grain.recons[\"iradon\"].shape, ystep=ds.ystep)\n",
    "\n",
    "print(i, j)\n",
    "\n",
    "vr = 50\n",
    "\n",
    "ax.set_xlim(j-vr, j+vr)\n",
    "ax.set_ylim(i+vr, i-vr)\n",
    "plt.show()"
   ]
  },
  {
   "cell_type": "code",
   "execution_count": null,
   "id": "9b2b8e3f-04bc-4bb1-81de-ae3d9109db66",
   "metadata": {
    "tags": []
   },
   "outputs": [],
   "source": [
    "# find Ni grain surrounding Au grain\n",
    "\n",
    "Fe_grain_gid = grain_labels_array_Fe[np.round(i).astype(int), np.round(j).astype(int)].astype(int)\n",
    "\n",
    "print(Fe_grain_gid)"
   ]
  },
  {
   "cell_type": "code",
   "execution_count": null,
   "id": "d1cb8e2a-95c1-4561-8eda-fb1109ca378c",
   "metadata": {
    "tags": []
   },
   "outputs": [],
   "source": [
    "# confirm Ni grain selection\n",
    "\n",
    "# rgb_Fe_masked = rgb_\n",
    "\n",
    "fig, ax = plt.subplots(constrained_layout=True, sharex=True, sharey=True)\n",
    "ax.imshow(grain_labels_array_Fe == Fe_grain_gid, cmap=\"grey\", origin=\"lower\")\n",
    "ax.imshow(Au_grain.recons[\"iradon\"], alpha=(Au_grain.recons[\"iradon\"] > 0.05).astype(float), origin=\"lower\")\n",
    "ax.set_title(\"Fe IPF Z colours with single Au\")\n",
    "\n",
    "vr = 50\n",
    "\n",
    "ax.set_xlim(j-vr, j+vr)\n",
    "ax.set_ylim(i+vr, i-vr)\n",
    "plt.show()"
   ]
  },
  {
   "cell_type": "code",
   "execution_count": null,
   "id": "355e11ea-8066-43f0-88de-3b62e281ab47",
   "metadata": {
    "tags": []
   },
   "outputs": [],
   "source": [
    "# we now have a Au grain and the Fe grain that it's inside\n",
    "\n",
    "# look for orientation relationships\n",
    "\n",
    "Fe_grain = grainsinos_Fe[Fe_grain_gid]\n",
    "\n",
    "print(Fe_grain.grain.U)\n",
    "print(Au_grain.grain.U)"
   ]
  },
  {
   "cell_type": "code",
   "execution_count": null,
   "id": "7f5cc20b-fdcd-4b66-9f84-22f1ad4e7148",
   "metadata": {},
   "outputs": [],
   "source": [
    "# https://doi.org/10.1016/S1005-0302(12)60169-8\n",
    "# we are looking for MC Aus\n",
    "# 4 different types of OR present\n",
    "# A {001} Au // {001} matrix , <100> Au // <100> matrix\n",
    "# B [001] Au // [310] matrix , (020) Au // (1-31) matrix\n",
    "# C [110] Au // [310] matrix , (-11-1) Au // (002) matrix\n",
    "# D [001] Au // [001] matrix , (-260) Au // (020) matrix\n",
    "\n",
    "# let's check A"
   ]
  },
  {
   "cell_type": "code",
   "execution_count": null,
   "id": "f3faf7ec-63ea-4fa1-bf23-409e3b3e071d",
   "metadata": {
    "tags": []
   },
   "outputs": [],
   "source": [
    "from xfab.parameters import read_par_file\n",
    "\n",
    "par_file_Fe = os.path.join(processed_data_root_dir, 'Fe_refined.par')\n",
    "par_file_Au = os.path.join(processed_data_root_dir, 'Au_refined.par')\n",
    "\n",
    "pars_Fe = read_par_file(par_file_Fe)\n",
    "pars_Au = read_par_file(par_file_Au)"
   ]
  },
  {
   "cell_type": "code",
   "execution_count": null,
   "id": "51ef1565-5cae-4385-9c9a-b291652e1531",
   "metadata": {
    "tags": []
   },
   "outputs": [],
   "source": [
    "ucell_Fe = [pars_Fe.get(\"cell__a\"), pars_Fe.get(\"cell__b\"), pars_Fe.get(\"cell__c\"), pars_Fe.get(\"cell_alpha\"), pars_Fe.get(\"cell_beta\"), pars_Fe.get(\"cell_gamma\")]\n",
    "ucell_Au = [pars_Au.get(\"cell__a\"), pars_Au.get(\"cell__b\"), pars_Au.get(\"cell__c\"), pars_Au.get(\"cell_alpha\"), pars_Au.get(\"cell_beta\"), pars_Au.get(\"cell_gamma\")]"
   ]
  },
  {
   "cell_type": "code",
   "execution_count": null,
   "id": "fa86d845-761e-4864-9ac2-aad8d93dbcd2",
   "metadata": {
    "tags": []
   },
   "outputs": [],
   "source": [
    "ucell_Au"
   ]
  },
  {
   "cell_type": "code",
   "execution_count": null,
   "id": "0df1597a-a444-487c-9fd7-41012f106853",
   "metadata": {
    "tags": []
   },
   "outputs": [],
   "source": [
    "\n",
    "from diffpy.structure import Lattice, Structure\n",
    "from orix.crystal_map import Phase\n",
    "from orix.quaternion import Orientation, Rotation, symmetry\n",
    "from orix.vector import Miller, Vector3d\n",
    "\n",
    "struc_Fe = Structure(lattice=Lattice(*ucell_Fe))\n",
    "struc_Au = Structure(lattice=Lattice(*ucell_Au))\n",
    "\n",
    "cubic_Fe = Phase(point_group=\"m-3m\", structure=struc_Fe)\n",
    "cubic_Au = Phase(point_group=\"m-3m\", structure=struc_Au)\n",
    "\n",
    "# crystal frame:\n",
    "\n",
    "matrix_plane = Miller(hkl=[2, 2, 0], phase=cubic_Fe)\n",
    "Au_plane = Miller(hkl=[0, 0, 2], phase=cubic_Au)\n",
    "\n",
    "matrix_dir = Miller(uvw=[1, 0, 0], phase=cubic_Fe)\n",
    "Au_dir = Miller(hkl=[1, 0, 0], phase=cubic_Au)\n",
    "\n",
    "# orientations in Orix are sample-to-crystal, so we have to invert\n",
    "o_Fe = Orientation.from_matrix(Fe_grain.grain.U.T)\n",
    "o_Au = Orientation.from_matrix(Au_grain.grain.U.T)\n",
    "\n",
    "matrix_plane_lab = ~o_Fe * matrix_plane.symmetrise(unique=True)\n",
    "Au_plane_lab = ~o_Au * Au_plane.symmetrise(unique=True)\n",
    "\n",
    "matrix_dir_lab = ~o_Fe * matrix_dir.symmetrise(unique=True)\n",
    "Au_dir_lab = ~o_Au * Au_dir.symmetrise(unique=True)"
   ]
  },
  {
   "cell_type": "code",
   "execution_count": null,
   "id": "b23c41f1-6b9e-4695-bf66-0a71affe997b",
   "metadata": {
    "tags": []
   },
   "outputs": [],
   "source": [
    "fig, axs = plt.subplots(1, 2, constrained_layout=True, sharex=True, sharey=True)\n",
    "\n",
    "axs[0].imshow(grain_labels_array_Fe == Fe_grain_gid, cmap=\"grey\", origin=\"lower\")\n",
    "axs[0].imshow(Au_grain.recons[\"astra\"], alpha=(Au_grain.recons[\"astra\"] > 0.05).astype(float), origin=\"lower\")\n",
    "axs[0].set_title(\"Directions\")\n",
    "\n",
    "axs[1].imshow(grain_labels_array_Fe == Fe_grain_gid, cmap=\"grey\", origin=\"lower\")\n",
    "axs[1].imshow(Au_grain.recons[\"astra\"], alpha=(Au_grain.recons[\"astra\"] > 0.05).astype(float), origin=\"lower\")\n",
    "axs[1].set_title(\"Planes\")\n",
    "\n",
    "vr = 100\n",
    "\n",
    "axs[0].set_xlim(Au_grain.grain.translation[0]-vr, Au_grain.grain.translation[0]+vr)\n",
    "axs[0].set_ylim(Au_grain.grain.translation[1]+vr, Au_grain.grain.translation[1]-vr)\n",
    "\n",
    "ars = 5\n",
    "txs = (50*5)*1/ars\n",
    "\n",
    "for inc in range(len(Au_dir.symmetrise(unique=True).coordinates)):\n",
    "    arrow_centre = Au_grain.grain.translation[0:2]\n",
    "    axs[0].quiver(arrow_centre[0], arrow_centre[1], Au_dir_lab.coordinates[inc, 0], Au_dir_lab.coordinates[inc, 1], color=\"r\", scale=ars)\n",
    "    axs[0].annotate(np.array_str(Au_dir.symmetrise(unique=True).coordinates[inc], precision=None, suppress_small=True), arrow_centre + Au_dir_lab.coordinates[inc, 0:2]*[1, -1]*txs, ha=\"center\", va=\"center\", c=\"red\")\n",
    "\n",
    "ars = 5\n",
    "txs = (50*5)*1/ars\n",
    "\n",
    "for inc in range(len(matrix_dir.symmetrise(unique=True).coordinates)):\n",
    "    arrow_centre = Au_grain.grain.translation[0:2] + [-20, -20]\n",
    "    axs[0].quiver(arrow_centre[0], arrow_centre[1], matrix_dir_lab.coordinates[inc, 0], matrix_dir_lab.coordinates[inc, 1], color=\"b\", scale=ars)\n",
    "    axs[0].annotate(np.array_str(matrix_dir.symmetrise(unique=True).coordinates[inc], precision=None, suppress_small=True),  arrow_centre + matrix_dir_lab.coordinates[inc, 0:2]*[1, -1]*txs, ha=\"center\", va=\"center\", c=\"blue\")\n",
    "    \n",
    "    \n",
    "    \n",
    "ars = 10\n",
    "txs = (50*5)*1/ars\n",
    "\n",
    "for inc in range(len(Au_dir.symmetrise(unique=True).coordinates)):\n",
    "    arrow_centre = Au_grain.grain.translation[0:2]\n",
    "    axs[1].quiver(arrow_centre[0], arrow_centre[1], Au_plane_lab.coordinates[inc, 0], Au_plane_lab.coordinates[inc, 1], color=\"r\", scale=ars)\n",
    "    axs[1].annotate(np.array_str(Au_plane.symmetrise(unique=True).coordinates[inc], precision=None, suppress_small=True), arrow_centre + Au_plane_lab.coordinates[inc, 0:2]*[1, -1]*txs, ha=\"center\", va=\"center\", c=\"red\")\n",
    "\n",
    "ars = 10\n",
    "txs = (50*5)*1/ars\n",
    "\n",
    "for inc in range(len(matrix_dir.symmetrise(unique=True).coordinates)):\n",
    "    arrow_centre = Au_grain.grain.translation[0:2] + [-20, -20]\n",
    "    axs[1].quiver(arrow_centre[0], arrow_centre[1], matrix_plane_lab.coordinates[inc, 0], matrix_plane_lab.coordinates[inc, 1], color=\"b\", scale=ars)\n",
    "    axs[1].annotate(np.array_str(matrix_plane.symmetrise(unique=True).coordinates[inc], precision=None, suppress_small=True),  arrow_centre + matrix_plane_lab.coordinates[inc, 0:2]*[1, -1]*txs, ha=\"center\", va=\"center\", c=\"blue\")\n",
    "\n",
    "\n",
    "plt.show()"
   ]
  },
  {
   "cell_type": "code",
   "execution_count": null,
   "id": "36049644-d04e-4477-9bb3-1efd1519b350",
   "metadata": {
    "tags": []
   },
   "outputs": [],
   "source": [
    "from scipy.spatial.transform import Rotation as R\n",
    "import ImageD11.sym_u\n",
    "cubic = ImageD11.sym_u.cubic()\n",
    "for op in cubic.group:\n",
    "    v = R.from_matrix((Fe_grain.grain.U.T @ op.T) @ Au_grain.grain.U).as_rotvec( degrees=True)\n",
    "    ang = np.linalg.norm(v)\n",
    "    print(ang, v/ang)"
   ]
  },
  {
   "cell_type": "code",
   "execution_count": null,
   "id": "987b1b1d-ba35-4f84-a8ca-18abc56b0bd1",
   "metadata": {
    "tags": []
   },
   "outputs": [],
   "source": [
    "# matrix is 1\n",
    "# Au is 2\n",
    "\n",
    "# define an orientation matrix for each of the ORs\n",
    "from orix.quaternion import Misorientation, Orientation\n",
    "\n",
    "# A {001} Au // {001} matrix , <100> Au // <100> matrix\n",
    "\n",
    "matrix_dirs = Miller(hkl=[0, 0, 2], phase=cubic_Fe)\n",
    "Au_dirs = Miller(hkl=[2, 2, 0], phase=cubic_Au)\n",
    "\n",
    "misorien_A = Misorientation.from_align_vectors(Au_dirs, matrix_dirs)"
   ]
  },
  {
   "cell_type": "code",
   "execution_count": null,
   "id": "12d1bfc5-a1db-4cc4-8a54-237ce7de87c9",
   "metadata": {
    "tags": []
   },
   "outputs": [],
   "source": [
    "\n",
    "\n",
    "# print(misorien_B)\n",
    "\n",
    "min_misoriens = []\n",
    "\n",
    "for Au_grain in grains_Au[:]:\n",
    "    Au_grain_pos_nearest_px = Au_grain.translation.copy()\n",
    "    Au_grain_pos_nearest_px = np.round(Au_grain_pos_nearest_px).astype(int)\n",
    "    Fe_grain_gid = grain_labels_array_Fe[Au_grain_pos_nearest_px[1], Au_grain_pos_nearest_px[0]].astype(int)\n",
    "    try:\n",
    "        Fe_grain = [grain for grain in grains_Fe if grain.gid == Fe_grain_gid][0]\n",
    "        o_Fe = Orientation.from_matrix(Fe_grain.U.T, symmetry=cubic_Fe.point_group)\n",
    "        o_Au = Orientation.from_matrix(Au_grain.U.T, symmetry=cubic_Au.point_group)\n",
    "        \n",
    "        misorien_actual = Misorientation(o_Fe * (~o_Au), symmetry=(o_Au.symmetry, o_Fe.symmetry))\n",
    "        misorien_actual = misorien_actual.map_into_symmetry_reduced_zone()\n",
    "        \n",
    "        misorien_ref = misorien_A\n",
    "        misorien_ref = misorien_ref.map_into_symmetry_reduced_zone()\n",
    "        \n",
    "        misorien_diff = Misorientation(misorien_ref * (~misorien_actual), symmetry=misorien_actual.symmetry)\n",
    "        \n",
    "        misorien_diff = misorien_diff.map_into_symmetry_reduced_zone()\n",
    "        \n",
    "        min_misorien = np.rad2deg(misorien_diff.angle)\n",
    "        \n",
    "        print(Fe_grain.gid, Au_grain.gid, min_misorien)\n",
    "        \n",
    "        min_misoriens.append(min_misorien)\n",
    "    except IndexError:\n",
    "        continue"
   ]
  },
  {
   "cell_type": "code",
   "execution_count": null,
   "id": "95a14487-809f-4714-953d-4d218d62fbee",
   "metadata": {
    "tags": []
   },
   "outputs": [],
   "source": [
    "np.rad2deg(misorien_actual.angle)"
   ]
  },
  {
   "cell_type": "code",
   "execution_count": null,
   "id": "6eb1e67b-cc93-4b01-a3eb-7dbe18e42208",
   "metadata": {
    "tags": []
   },
   "outputs": [],
   "source": [
    "misorien_actual.axis"
   ]
  },
  {
   "cell_type": "code",
   "execution_count": null,
   "id": "e43b838a-1977-4196-9c4b-485e46bbcc1f",
   "metadata": {
    "tags": []
   },
   "outputs": [],
   "source": [
    "o_Au.to_euler(\"mtex\")"
   ]
  },
  {
   "cell_type": "code",
   "execution_count": null,
   "id": "93102d3f-6f1e-40c1-b7fe-4ab48a514b62",
   "metadata": {
    "tags": []
   },
   "outputs": [],
   "source": [
    "np.savetxt(os.path.join(processed_data_root_dir, 'Fe_grain_matrix.txt'), o_Fe.to_matrix()[0])"
   ]
  },
  {
   "cell_type": "code",
   "execution_count": null,
   "id": "81eba9dd-4807-4335-afe7-fb4a5e1f1b9d",
   "metadata": {
    "tags": []
   },
   "outputs": [],
   "source": [
    "np.savetxt(os.path.join(processed_data_root_dir, 'Au_grain_matrix.txt'), o_Au.to_matrix()[0])"
   ]
  },
  {
   "cell_type": "code",
   "execution_count": null,
   "id": "fe6c906b-ad2c-4711-bd6b-a9f9dbe2c3fb",
   "metadata": {
    "tags": []
   },
   "outputs": [],
   "source": [
    "np.savetxt(os.path.join(processed_data_root_dir, 'OR_matrix.txt'), misorien_A.to_matrix()[0])"
   ]
  },
  {
   "cell_type": "code",
   "execution_count": null,
   "id": "3c747456-eaac-4c91-b46c-50b8207fd13a",
   "metadata": {},
   "outputs": [],
   "source": [
    "fig, ax = plt.subplots()\n",
    "\n",
    "ax.hist(np.array(min_misoriens), bins=50)\n",
    "# ax.set_xlim(0,10)\n",
    "\n",
    "plt.show()"
   ]
  },
  {
   "cell_type": "code",
   "execution_count": null,
   "id": "a6c55fd6-f828-4deb-a17c-3c4d89bc3ee8",
   "metadata": {
    "tags": []
   },
   "outputs": [],
   "source": [
    "min_misoriens"
   ]
  },
  {
   "cell_type": "code",
   "execution_count": null,
   "id": "c57ba658-173f-4b99-ae72-111f6f72dbdf",
   "metadata": {},
   "outputs": [],
   "source": []
  }
 ],
 "metadata": {
  "kernelspec": {
   "display_name": "Python 3 (main)",
   "language": "python",
   "name": "python3"
  },
  "language_info": {
   "codemirror_mode": {
    "name": "ipython",
    "version": 3
   },
   "file_extension": ".py",
   "mimetype": "text/x-python",
   "name": "python",
   "nbconvert_exporter": "python",
   "pygments_lexer": "ipython3",
   "version": "3.11.6"
  }
 },
 "nbformat": 4,
 "nbformat_minor": 5
}
