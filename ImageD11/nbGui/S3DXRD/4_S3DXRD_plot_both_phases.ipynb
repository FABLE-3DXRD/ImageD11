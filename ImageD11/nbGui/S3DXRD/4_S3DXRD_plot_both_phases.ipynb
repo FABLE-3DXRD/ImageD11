{
 "cells": [
  {
   "cell_type": "markdown",
   "id": "bbc4bc96-cbc7-436a-a174-c99388869cbb",
   "metadata": {},
   "source": [
    "# Jupyter notebook based on ImageD11 to process scanning 3DXRD data\n",
    "# Written by Haixing Fang, Jon Wright and James Ball\n",
    "## Date: 20/02/2024"
   ]
  },
  {
   "cell_type": "code",
   "execution_count": null,
   "id": "94b89030-fdb2-47d2-bc26-3e5cfb0d6509",
   "metadata": {},
   "outputs": [],
   "source": [
    "# There is a bug with the current version of ImageD11 in the site-wide Jupyter env.\n",
    "# This has been fixed here: https://github.com/FABLE-3DXRD/ImageD11/commit/4af88b886b1775585e868f2339a0eb975401468f\n",
    "# Until a new release has been made and added to the env, we need to get the latest version of ImageD11 from GitHub\n",
    "# Put it in your home directory\n",
    "# USER: Change the path below to point to your local copy of ImageD11:\n",
    "\n",
    "import os\n",
    "\n",
    "username = os.environ.get(\"USER\")\n",
    "\n",
    "id11_code_path = f\"/home/esrf/{username}/Code/ImageD11\"\n",
    "\n",
    "import sys\n",
    "\n",
    "sys.path.insert(0, id11_code_path)"
   ]
  },
  {
   "cell_type": "code",
   "execution_count": null,
   "id": "8f4b91e0-7a83-462b-85cb-27f65721ff93",
   "metadata": {},
   "outputs": [],
   "source": [
    "# import functions we need\n",
    "\n",
    "import os\n",
    "import concurrent.futures\n",
    "import timeit\n",
    "\n",
    "import matplotlib\n",
    "%matplotlib widget\n",
    "\n",
    "import h5py\n",
    "from tqdm.notebook import tqdm\n",
    "import numpy as np\n",
    "import matplotlib.pyplot as plt\n",
    "\n",
    "\n",
    "import ImageD11.columnfile\n",
    "from ImageD11.sinograms import properties, roi_iradon\n",
    "from ImageD11.blobcorrector import eiger_spatial\n",
    "from ImageD11.grain import grain\n",
    "from ImageD11 import cImageD11\n",
    "\n",
    "import utils"
   ]
  },
  {
   "cell_type": "code",
   "execution_count": null,
   "id": "c3c559a5-0202-4f54-be32-20830f5fd6a1",
   "metadata": {},
   "outputs": [],
   "source": [
    "# OLD DATASETS\n",
    "\n",
    "# NOTE: For old datasets before the new directory layout structure, we don't distinguish between RAW_DATA and PROCESSED_DATA\n",
    "# In this case, use this cell to specify where your experimental folder is, and do not run the cell below\n",
    "# e.g /data/visitor/4752/id11/20210513\n",
    "\n",
    "### USER: specify your experimental directory\n",
    "\n",
    "rawdata_path = \"/home/esrf/james1997a/Data/ma4752/id11/20210618\"\n",
    "\n",
    "!ls -lrt {rawdata_path}\n",
    "\n",
    "### USER: specify where you want your processed data to go\n",
    "\n",
    "processed_data_root_dir = \"/home/esrf/james1997a/Data/ma4752/id11/20240118/James\""
   ]
  },
  {
   "cell_type": "code",
   "execution_count": null,
   "id": "1635a8ba-5cbb-4ce3-8cfc-13c19b38c574",
   "metadata": {},
   "outputs": [],
   "source": [
    "# USER: pick a sample and a dataset you want to segment\n",
    "\n",
    "sample = \"MA4752_S4_2_XRD\"\n",
    "dataset = \"DTL1z90\""
   ]
  },
  {
   "cell_type": "code",
   "execution_count": null,
   "id": "0ef8df24-9a41-479e-9f3c-b76fe4b27d5c",
   "metadata": {},
   "outputs": [],
   "source": [
    "# desination of H5 files\n",
    "\n",
    "dset_path = os.path.join(processed_data_root_dir, sample, f\"{sample}_{dataset}\", f\"{sample}_{dataset}_dataset.h5\")\n",
    "\n",
    "par_path = 'nickel.par'\n",
    "\n",
    "e2dx_path = \"/data/id11/nanoscope/Eiger/spatial_20210415_JW/e2dx.edf\"\n",
    "e2dy_path = \"/data/id11/nanoscope/Eiger/spatial_20210415_JW/e2dy.edf\""
   ]
  },
  {
   "cell_type": "code",
   "execution_count": null,
   "id": "20ff052b-cca8-4310-8b29-4c82e0e513c8",
   "metadata": {
    "tags": []
   },
   "outputs": [],
   "source": [
    "# Load the dataset (for motor positions, not sure why these are not in peaks)\n",
    "ds = ImageD11.sinograms.dataset.load(dset_path)"
   ]
  },
  {
   "cell_type": "code",
   "execution_count": null,
   "id": "21a2c05d-db13-45fc-9ff5-d419479b3457",
   "metadata": {
    "tags": []
   },
   "outputs": [],
   "source": [
    "def read_grains(ds):\n",
    "    with h5py.File(ds.grainsfile, 'r') as hin:\n",
    "        grp = hin['slice_recon']\n",
    "        \n",
    "        raw_intensity_array = grp['intensity'][:]\n",
    "        grain_labels_array = grp['labels'][:]\n",
    "       \n",
    "        grains_group = 'grains'\n",
    "        \n",
    "        grains = []\n",
    "        for gid_string in tqdm(sorted(hin[grains_group].keys(), key=lambda x: int(x))):\n",
    "            gg = hin[grains_group][gid_string]\n",
    "            ubi = gg.attrs['ubi'][:]\n",
    "            g = ImageD11.grain.grain(ubi)\n",
    "            # general grain properties\n",
    "            g.gid = int(gid_string)\n",
    "            g.translation = gg['translation'][:]\n",
    "            g.cen = gg.attrs['cen']\n",
    "            # sinogram stuff\n",
    "            g.ssino = gg['ssino'][:]\n",
    "            g.sinoangles = gg['sinoangles'][:]\n",
    "            # reconstructions\n",
    "            g.og_recon = gg['og_recon'][:]\n",
    "            g.recon = gg['recon'][:]\n",
    "            grains.append(g)\n",
    "    \n",
    "    return grains, raw_intensity_array, grain_labels_array\n",
    "\n",
    "\n",
    "def read_carbide_grains(ds):\n",
    "    ds.grainsfile_carbides = os.path.join(ds.analysispath, ds.dsname + '_grains_carbides.h5')\n",
    "    with h5py.File(ds.grainsfile_carbides, 'r') as hin:\n",
    "        grp = hin['slice_recon']\n",
    "        \n",
    "        raw_intensity_array = grp['intensity'][:]\n",
    "        grain_labels_array = grp['labels'][:]\n",
    "       \n",
    "        grains_group = 'grains'\n",
    "        \n",
    "        grains = []\n",
    "        for gid_string in tqdm(sorted(hin[grains_group].keys(), key=lambda x: int(x))):\n",
    "            gg = hin[grains_group][gid_string]\n",
    "            ubi = gg.attrs['ubi'][:]\n",
    "            g = ImageD11.grain.grain(ubi)\n",
    "            # general grain properties\n",
    "            g.gid = int(gid_string)\n",
    "            g.translation = gg['translation'][:]\n",
    "            g.cen = gg.attrs['cen']\n",
    "            # sinogram stuff\n",
    "            g.ssino = gg['ssino'][:]\n",
    "            g.sinoangles = gg['sinoangles'][:]\n",
    "            # reconstructions\n",
    "            g.og_recon = gg['og_recon'][:]\n",
    "            g.recon = gg['recon'][:]\n",
    "            grains.append(g)\n",
    "    \n",
    "    return grains, raw_intensity_array, grain_labels_array"
   ]
  },
  {
   "cell_type": "code",
   "execution_count": null,
   "id": "ec5ff57a-0a7f-44cd-b437-eb4cc4e2ea25",
   "metadata": {
    "tags": []
   },
   "outputs": [],
   "source": [
    "grains_Ni, raw_intensity_array_Ni, grain_labels_array_Ni = read_grains(ds)\n",
    "grains_C, raw_intensity_array_C, grain_labels_array_C = read_carbide_grains(ds)"
   ]
  },
  {
   "cell_type": "code",
   "execution_count": null,
   "id": "d2aa7d96-f2b6-4a88-863b-89352193c6cb",
   "metadata": {
    "tags": []
   },
   "outputs": [],
   "source": [
    "for grain in tqdm(grains_Ni):\n",
    "    grain.rgb_z = utils.grain_to_rgb(grain, ax=(0,0,1),)# symmetry = Symmetry.cubic)\n",
    "    grain.rgb_y = utils.grain_to_rgb(grain, ax=(0,1,0),)# symmetry = Symmetry.cubic)\n",
    "    grain.rgb_x = utils.grain_to_rgb(grain, ax=(1,0,0),)# symmetry = Symmetry.cubic)\n",
    "    \n",
    "for grain in tqdm(grains_C):\n",
    "    grain.rgb_z = utils.grain_to_rgb(grain, ax=(0,0,1),)# symmetry = Symmetry.cubic)\n",
    "    grain.rgb_y = utils.grain_to_rgb(grain, ax=(0,1,0),)# symmetry = Symmetry.cubic)\n",
    "    grain.rgb_x = utils.grain_to_rgb(grain, ax=(1,0,0),)# symmetry = Symmetry.cubic)"
   ]
  },
  {
   "cell_type": "code",
   "execution_count": null,
   "id": "f9cafd61-177a-4baa-8c42-667871bee9e2",
   "metadata": {
    "tags": []
   },
   "outputs": [],
   "source": [
    "red_Ni = np.zeros_like(grains_Ni[0].recon)\n",
    "grn_Ni = np.zeros_like(grains_Ni[0].recon)\n",
    "blu_Ni = np.zeros_like(grains_Ni[0].recon)\n",
    "\n",
    "for g in tqdm(grains_Ni):\n",
    "    red_Ni[grain_labels_array_Ni == g.gid] = g.rgb_z[0]\n",
    "    grn_Ni[grain_labels_array_Ni == g.gid] = g.rgb_z[1]\n",
    "    blu_Ni[grain_labels_array_Ni == g.gid] = g.rgb_z[2]\n",
    "    \n",
    "rgb_Ni = np.transpose((red_Ni, grn_Ni, blu_Ni), axes=(1, 2, 0))\n",
    "\n",
    "red_C = np.zeros_like(grains_C[0].recon)\n",
    "grn_C = np.zeros_like(grains_C[0].recon)\n",
    "blu_C = np.zeros_like(grains_C[0].recon)\n",
    "\n",
    "for g in tqdm(grains_C):\n",
    "    red_C[grain_labels_array_C == g.gid] = g.rgb_z[0]\n",
    "    grn_C[grain_labels_array_C == g.gid] = g.rgb_z[1]\n",
    "    blu_C[grain_labels_array_C == g.gid] = g.rgb_z[2]\n",
    "    \n",
    "rgb_C = np.transpose((red_C, grn_C, blu_C), axes=(1, 2, 0))"
   ]
  },
  {
   "cell_type": "code",
   "execution_count": null,
   "id": "0c559091-97bd-4b2d-9dc6-d99eb1b6e038",
   "metadata": {},
   "outputs": [],
   "source": [
    "fig, axs = plt.subplots(1, 2, constrained_layout=True, sharex=True, sharey=True)\n",
    "axs[0].imshow(rgb_Ni)\n",
    "axs[1].imshow(rgb_C)\n",
    "plt.show()"
   ]
  },
  {
   "cell_type": "code",
   "execution_count": null,
   "id": "b30cc703-9c1a-4bf2-b1c2-0f35cc4639bb",
   "metadata": {
    "tags": []
   },
   "outputs": [],
   "source": [
    "rgb_C_alpha = np.append(rgb_C, np.zeros((rgb_C.shape[0], rgb_C.shape[1], 1)), axis=2)"
   ]
  },
  {
   "cell_type": "code",
   "execution_count": null,
   "id": "d9339a35-ba31-4fa6-a9d7-b6476bcd71f3",
   "metadata": {
    "tags": []
   },
   "outputs": [],
   "source": [
    "rgb_C_alpha[rgb_C_alpha[:, :, 0] != 0, 3] = 1"
   ]
  },
  {
   "cell_type": "code",
   "execution_count": null,
   "id": "8d32bf91-2f9d-49aa-a465-b9ea2bc553be",
   "metadata": {
    "tags": []
   },
   "outputs": [],
   "source": [
    "(raw_intensity_array_C != 0).astype(float)"
   ]
  },
  {
   "cell_type": "code",
   "execution_count": null,
   "id": "a1df3e31-7e64-41f6-a13a-8836db221e7e",
   "metadata": {
    "tags": []
   },
   "outputs": [],
   "source": [
    "fig, axs = plt.subplots(1, 2, constrained_layout=True, sharex=True, sharey=True)\n",
    "axs[0].imshow(raw_intensity_array_Ni, cmap=\"viridis\")\n",
    "axs[0].imshow(rgb_C_alpha)\n",
    "axs[1].imshow(raw_intensity_array_Ni, cmap=\"viridis\")\n",
    "axs[0].set_title(\"Ni intensity map with carbides overlaid\")\n",
    "axs[1].set_title(\"Ni intensity map\")\n",
    "plt.show()"
   ]
  },
  {
   "cell_type": "code",
   "execution_count": null,
   "id": "e531a918-4478-45cb-9e85-bc24668dba9c",
   "metadata": {
    "tags": []
   },
   "outputs": [],
   "source": [
    "fig, ax = plt.subplots(constrained_layout=True, sharex=True, sharey=True)\n",
    "ax.imshow(rgb_Ni)\n",
    "ax.imshow(raw_intensity_array_C, alpha=(raw_intensity_array_C != 0).astype(float), cmap=\"grey\")\n",
    "ax.set_title(\"Ni IPF Z colours with white carbides\")\n",
    "plt.show()"
   ]
  },
  {
   "cell_type": "code",
   "execution_count": null,
   "id": "45816ead-aabe-4151-b4dc-e143d1325d05",
   "metadata": {
    "tags": []
   },
   "outputs": [],
   "source": [
    "# orientation relationship stuff\n",
    "\n",
    "# pick a carbide grain\n",
    "\n",
    "carbide_grain = grains_C[500]\n",
    "\n",
    "# find out where it is in the sample\n",
    "\n",
    "fig, ax = plt.subplots(constrained_layout=True, sharex=True, sharey=True)\n",
    "ax.imshow(rgb_Ni)\n",
    "ax.imshow(carbide_grain.recon, alpha=(carbide_grain.recon > 0.05).astype(float))\n",
    "ax.set_title(\"Ni IPF Z colours with single carbide\")\n",
    "\n",
    "vr = 50\n",
    "\n",
    "ax.set_xlim(carbide_grain.translation[0]-vr, carbide_grain.translation[0]+vr)\n",
    "ax.set_ylim(carbide_grain.translation[1]+vr, carbide_grain.translation[1]-vr)\n",
    "plt.show()"
   ]
  },
  {
   "cell_type": "code",
   "execution_count": null,
   "id": "9b2b8e3f-04bc-4bb1-81de-ae3d9109db66",
   "metadata": {
    "tags": []
   },
   "outputs": [],
   "source": [
    "# find Ni grain surrounding carbide grain\n",
    "\n",
    "carbide_grain_pos_nearest_px = carbide_grain.translation.copy()\n",
    "carbide_grain_pos_nearest_px = np.round(carbide_grain_pos_nearest_px).astype(int)\n",
    "\n",
    "print(carbide_grain_pos_nearest_px)\n",
    "\n",
    "Ni_grain_gid = grain_labels_array_Ni[carbide_grain_pos_nearest_px[1], carbide_grain_pos_nearest_px[0]].astype(int)\n",
    "\n",
    "print(Ni_grain_gid)"
   ]
  },
  {
   "cell_type": "code",
   "execution_count": null,
   "id": "d1cb8e2a-95c1-4561-8eda-fb1109ca378c",
   "metadata": {
    "tags": []
   },
   "outputs": [],
   "source": [
    "# confirm Ni grain selection\n",
    "\n",
    "# rgb_Ni_masked = rgb_\n",
    "\n",
    "fig, ax = plt.subplots(constrained_layout=True, sharex=True, sharey=True)\n",
    "ax.imshow(grain_labels_array_Ni == Ni_grain_gid, cmap=\"grey\")\n",
    "ax.imshow(carbide_grain.recon, alpha=(carbide_grain.recon > 0.05).astype(float))\n",
    "ax.set_title(\"Ni IPF Z colours with single carbide\")\n",
    "\n",
    "vr = 50\n",
    "\n",
    "ax.set_xlim(carbide_grain.translation[0]-vr, carbide_grain.translation[0]+vr)\n",
    "ax.set_ylim(carbide_grain.translation[1]+vr, carbide_grain.translation[1]-vr)\n",
    "plt.show()"
   ]
  },
  {
   "cell_type": "code",
   "execution_count": null,
   "id": "355e11ea-8066-43f0-88de-3b62e281ab47",
   "metadata": {
    "tags": []
   },
   "outputs": [],
   "source": [
    "# we now have a carbide grain and the nickel grain that it's inside\n",
    "\n",
    "# look for orientation relationships\n",
    "\n",
    "nickel_grain = [grain for grain in grains_Ni if grain.gid == Ni_grain_gid][0]\n",
    "\n",
    "print(nickel_grain.U)\n",
    "print(carbide_grain.U)"
   ]
  },
  {
   "cell_type": "code",
   "execution_count": null,
   "id": "7f5cc20b-fdcd-4b66-9f84-22f1ad4e7148",
   "metadata": {},
   "outputs": [],
   "source": [
    "# https://doi.org/10.1016/S1005-0302(12)60169-8\n",
    "# we are looking for MC carbides\n",
    "# 4 different types of OR present\n",
    "# A {001} carbide // {001} matrix , <100> carbide // <100> matrix\n",
    "# B [001] carbide // [310] matrix , (020) carbide // (1-31) matrix\n",
    "# C [110] carbide // [310] matrix , (-11-1) carbide // (002) matrix\n",
    "# D [001] carbide // [001] matrix , (-260) carbide // (020) matrix\n",
    "\n",
    "# let's check A"
   ]
  },
  {
   "cell_type": "code",
   "execution_count": null,
   "id": "f3faf7ec-63ea-4fa1-bf23-409e3b3e071d",
   "metadata": {
    "tags": []
   },
   "outputs": [],
   "source": [
    "from xfab.parameters import read_par_file\n",
    "\n",
    "par_file_ni = './nickel.par'\n",
    "par_file_c = './carbide.par'\n",
    "\n",
    "pars_ni = read_par_file(par_file_ni)\n",
    "pars_c = read_par_file(par_file_c)"
   ]
  },
  {
   "cell_type": "code",
   "execution_count": null,
   "id": "51ef1565-5cae-4385-9c9a-b291652e1531",
   "metadata": {
    "tags": []
   },
   "outputs": [],
   "source": [
    "ucell_ni = [pars_ni.get(\"cell__a\"), pars_ni.get(\"cell__b\"), pars_ni.get(\"cell__c\"), pars_ni.get(\"cell_alpha\"), pars_ni.get(\"cell_beta\"), pars_ni.get(\"cell_gamma\")]\n",
    "ucell_c = [pars_c.get(\"cell__a\"), pars_c.get(\"cell__b\"), pars_c.get(\"cell__c\"), pars_c.get(\"cell_alpha\"), pars_c.get(\"cell_beta\"), pars_c.get(\"cell_gamma\")]"
   ]
  },
  {
   "cell_type": "code",
   "execution_count": null,
   "id": "fa86d845-761e-4864-9ac2-aad8d93dbcd2",
   "metadata": {
    "tags": []
   },
   "outputs": [],
   "source": [
    "ucell_c"
   ]
  },
  {
   "cell_type": "code",
   "execution_count": null,
   "id": "0df1597a-a444-487c-9fd7-41012f106853",
   "metadata": {
    "tags": []
   },
   "outputs": [],
   "source": [
    "\n",
    "from diffpy.structure import Lattice, Structure\n",
    "from orix.crystal_map import Phase\n",
    "from orix.quaternion import Orientation, Rotation, symmetry\n",
    "from orix.vector import Miller, Vector3d\n",
    "\n",
    "struc_Ni = Structure(lattice=Lattice(*ucell_ni))\n",
    "struc_C = Structure(lattice=Lattice(*ucell_c))\n",
    "\n",
    "cubic_Ni = Phase(point_group=\"m-3m\", structure=struc_Ni)\n",
    "cubic_C = Phase(point_group=\"m-3m\", structure=struc_C)\n",
    "\n",
    "# crystal frame:\n",
    "\n",
    "matrix_plane = Miller(hkl=[0, 0, 1], phase=cubic_Ni)\n",
    "carbide_plane = Miller(hkl=[0, 0, 1], phase=cubic_C)\n",
    "\n",
    "matrix_dir = Miller(uvw=[1, 0, 0], phase=cubic_Ni)\n",
    "carbide_dir = Miller(hkl=[1, 0, 0], phase=cubic_C)\n",
    "\n",
    "# orientations in Orix are sample-to-crystal, so we have to invert\n",
    "o_Ni = Orientation.from_matrix(nickel_grain.U.T)\n",
    "o_C = Orientation.from_matrix(carbide_grain.U.T)\n",
    "\n",
    "matrix_plane_lab = ~o_Ni * matrix_plane.symmetrise(unique=True)\n",
    "carbide_plane_lab = ~o_C * carbide_plane.symmetrise(unique=True)\n",
    "\n",
    "matrix_dir_lab = ~o_Ni * matrix_dir.symmetrise(unique=True)\n",
    "carbide_dir_lab = ~o_C * carbide_dir.symmetrise(unique=True)"
   ]
  },
  {
   "cell_type": "code",
   "execution_count": null,
   "id": "b23c41f1-6b9e-4695-bf66-0a71affe997b",
   "metadata": {
    "tags": []
   },
   "outputs": [],
   "source": [
    "fig, axs = plt.subplots(1, 2, constrained_layout=True, sharex=True, sharey=True)\n",
    "\n",
    "axs[0].imshow(grain_labels_array_Ni == Ni_grain_gid, cmap=\"grey\")\n",
    "axs[0].imshow(carbide_grain.recon, alpha=(carbide_grain.recon > 0.05).astype(float))\n",
    "axs[0].set_title(\"Directions\")\n",
    "\n",
    "axs[1].imshow(grain_labels_array_Ni == Ni_grain_gid, cmap=\"grey\")\n",
    "axs[1].imshow(carbide_grain.recon, alpha=(carbide_grain.recon > 0.05).astype(float))\n",
    "axs[1].set_title(\"Planes\")\n",
    "\n",
    "vr = 100\n",
    "\n",
    "axs[0].set_xlim(carbide_grain.translation[0]-vr, carbide_grain.translation[0]+vr)\n",
    "axs[0].set_ylim(carbide_grain.translation[1]+vr, carbide_grain.translation[1]-vr)\n",
    "\n",
    "ars = 5\n",
    "txs = (50*5)*1/ars\n",
    "\n",
    "for inc in range(len(carbide_dir.symmetrise(unique=True).coordinates)):\n",
    "    arrow_centre = carbide_grain.translation[0:2]\n",
    "    axs[0].quiver(arrow_centre[0], arrow_centre[1], carbide_dir_lab.coordinates[inc, 0], carbide_dir_lab.coordinates[inc, 1], color=\"r\", scale=ars)\n",
    "    axs[0].annotate(np.array_str(carbide_dir.symmetrise(unique=True).coordinates[inc], precision=None, suppress_small=True), arrow_centre + carbide_dir_lab.coordinates[inc, 0:2]*[1, -1]*txs, ha=\"center\", va=\"center\", c=\"red\")\n",
    "\n",
    "ars = 5\n",
    "txs = (50*5)*1/ars\n",
    "\n",
    "for inc in range(len(matrix_dir.symmetrise(unique=True).coordinates)):\n",
    "    arrow_centre = carbide_grain.translation[0:2] + [-20, -20]\n",
    "    axs[0].quiver(arrow_centre[0], arrow_centre[1], matrix_dir_lab.coordinates[inc, 0], matrix_dir_lab.coordinates[inc, 1], color=\"b\", scale=ars)\n",
    "    axs[0].annotate(np.array_str(matrix_dir.symmetrise(unique=True).coordinates[inc], precision=None, suppress_small=True),  arrow_centre + matrix_dir_lab.coordinates[inc, 0:2]*[1, -1]*txs, ha=\"center\", va=\"center\", c=\"blue\")\n",
    "    \n",
    "    \n",
    "    \n",
    "ars = 5\n",
    "txs = (50*5)*1/ars\n",
    "\n",
    "for inc in range(len(carbide_dir.symmetrise(unique=True).coordinates)):\n",
    "    arrow_centre = carbide_grain.translation[0:2]\n",
    "    axs[1].quiver(arrow_centre[0], arrow_centre[1], carbide_plane_lab.coordinates[inc, 0], carbide_plane_lab.coordinates[inc, 1], color=\"r\", scale=ars)\n",
    "    axs[1].annotate(np.array_str(carbide_dir.symmetrise(unique=True).coordinates[inc], precision=None, suppress_small=True), arrow_centre + carbide_plane_lab.coordinates[inc, 0:2]*[1, -1]*txs, ha=\"center\", va=\"center\", c=\"red\")\n",
    "\n",
    "ars = 5\n",
    "txs = (50*5)*1/ars\n",
    "\n",
    "for inc in range(len(matrix_dir.symmetrise(unique=True).coordinates)):\n",
    "    arrow_centre = carbide_grain.translation[0:2] + [-20, -20]\n",
    "    axs[1].quiver(arrow_centre[0], arrow_centre[1], matrix_plane_lab.coordinates[inc, 0], matrix_plane_lab.coordinates[inc, 1], color=\"b\", scale=ars)\n",
    "    axs[1].annotate(np.array_str(matrix_dir.symmetrise(unique=True).coordinates[inc], precision=None, suppress_small=True),  arrow_centre + matrix_plane_lab.coordinates[inc, 0:2]*[1, -1]*txs, ha=\"center\", va=\"center\", c=\"blue\")\n",
    "\n",
    "\n",
    "plt.show()"
   ]
  },
  {
   "cell_type": "code",
   "execution_count": null,
   "id": "987b1b1d-ba35-4f84-a8ca-18abc56b0bd1",
   "metadata": {
    "tags": []
   },
   "outputs": [],
   "source": [
    "# matrix is 1\n",
    "# carbide is 2\n",
    "\n",
    "# define an orientation matrix for each of the ORs\n",
    "from orix.quaternion import Misorientation, Orientation\n",
    "\n",
    "# A {001} carbide // {001} matrix , <100> carbide // <100> matrix\n",
    "\n",
    "matrix_dirs = Miller(hkl=[[0, 0, 1], [0, 0, 1]], phase=cubic_Ni)\n",
    "carbide_dirs = Miller(hkl=[[1, 0, 0], [1, 0, 0]], phase=cubic_C)\n",
    "\n",
    "misorien_A = Misorientation.from_align_vectors(carbide_dirs, matrix_dirs)\n",
    "\n",
    "# B [001] carbide // [310] matrix , (020) carbide // (1-31) matrix\n",
    "\n",
    "matrix_dirs = Miller(hkl=[[3, 1, 0], [1, -3, 1]], phase=cubic_Ni)\n",
    "carbide_dirs = Miller(hkl=[[0, 0, 1], [0, 2, 0]], phase=cubic_C)\n",
    "\n",
    "misorien_B = Misorientation.from_align_vectors(carbide_dirs, matrix_dirs)\n",
    "\n",
    "# C [110] carbide // [310] matrix , (-11-1) carbide // (002) matrix\n",
    "\n",
    "matrix_dirs = Miller(hkl=[[3, 1, 0], [0, 0, 2]], phase=cubic_Ni)\n",
    "carbide_dirs = Miller(hkl=[[1, 1, 0], [-1, 1, -1]], phase=cubic_C)\n",
    "\n",
    "misorien_C = Misorientation.from_align_vectors(carbide_dirs, matrix_dirs)\n",
    "\n",
    "# D [001] carbide // [001] matrix , (-260) carbide // (020) matrix\n",
    "\n",
    "matrix_dirs = Miller(hkl=[[0, 0, 1], [0, 2, 0]], phase=cubic_Ni)\n",
    "carbide_dirs = Miller(hkl=[[0, 0, 1], [-2, 6, 0]], phase=cubic_C)\n",
    "\n",
    "misorien_D = Misorientation.from_align_vectors(carbide_dirs, matrix_dirs)"
   ]
  },
  {
   "cell_type": "code",
   "execution_count": null,
   "id": "12d1bfc5-a1db-4cc4-8a54-237ce7de87c9",
   "metadata": {
    "tags": []
   },
   "outputs": [],
   "source": [
    "# print(misorien_B)\n",
    "\n",
    "for carbide_grain in grains_C[500:501]:\n",
    "    carbide_grain_pos_nearest_px = carbide_grain.translation.copy()\n",
    "    carbide_grain_pos_nearest_px = np.round(carbide_grain_pos_nearest_px).astype(int)\n",
    "    Ni_grain_gid = grain_labels_array_Ni[carbide_grain_pos_nearest_px[1], carbide_grain_pos_nearest_px[0]].astype(int)\n",
    "    try:\n",
    "        nickel_grain = [grain for grain in grains_Ni if grain.gid == Ni_grain_gid][0]\n",
    "        o_Ni = Orientation.from_matrix(nickel_grain.U.T, symmetry=cubic_Ni.point_group)\n",
    "        o_C = Orientation.from_matrix(carbide_grain.U.T, symmetry=cubic_C.point_group)\n",
    "        \n",
    "        misorien_actual = Misorientation(o_C * (~o_Ni), symmetry=(o_C.symmetry, o_Ni.symmetry))\n",
    "        misorien_actual = misorien_actual.map_into_symmetry_reduced_zone()\n",
    "        \n",
    "        misorien_ref = misorien_C\n",
    "        misorien_ref = misorien_ref.map_into_symmetry_reduced_zone()\n",
    "        \n",
    "        misorien_diff = Misorientation(misorien_actual * (~misorien_ref), symmetry=misorien_actual.symmetry)\n",
    "        \n",
    "        misorien_diff = misorien_diff.map_into_symmetry_reduced_zone()\n",
    "        \n",
    "        min_misorien = np.rad2deg(misorien_diff.angle)\n",
    "        \n",
    "        print(nickel_grain.gid, carbide_grain.gid, min_misorien)\n",
    "    except IndexError:\n",
    "        continue"
   ]
  },
  {
   "cell_type": "code",
   "execution_count": null,
   "id": "e82f0c6a-a688-4e7b-9a41-638e172dbab3",
   "metadata": {
    "tags": []
   },
   "outputs": [],
   "source": [
    "misorien_C.to_matrix()"
   ]
  },
  {
   "cell_type": "code",
   "execution_count": null,
   "id": "3c747456-eaac-4c91-b46c-50b8207fd13a",
   "metadata": {},
   "outputs": [],
   "source": []
  }
 ],
 "metadata": {
  "kernelspec": {
   "display_name": "Python 3 (main)",
   "language": "python",
   "name": "python3"
  },
  "language_info": {
   "codemirror_mode": {
    "name": "ipython",
    "version": 3
   },
   "file_extension": ".py",
   "mimetype": "text/x-python",
   "name": "python",
   "nbconvert_exporter": "python",
   "pygments_lexer": "ipython3",
   "version": "3.11.6"
  }
 },
 "nbformat": 4,
 "nbformat_minor": 5
}
