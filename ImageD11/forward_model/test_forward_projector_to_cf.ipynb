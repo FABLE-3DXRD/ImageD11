{
 "cells": [
  {
   "cell_type": "markdown",
   "id": "14f04ebd-cfdf-4d5f-90b2-d6976e1f729b",
   "metadata": {},
   "source": [
    "# Test forward_projector.py\n",
    "## Test to generate peaks forward computed from an experimentally reconstructed grain map and convert peaks to cf\n",
    "## Haixing Fang\n",
    "## Jan 2025"
   ]
  },
  {
   "cell_type": "code",
   "execution_count": null,
   "id": "bff7f14c-1716-4902-87f6-2bccbb9198e6",
   "metadata": {
    "tags": []
   },
   "outputs": [],
   "source": [
    "import os\n",
    "\n",
    "os.environ['OMP_NUM_THREADS'] = '1'\n",
    "os.environ['OPENBLAS_NUM_THREADS'] = '1'\n",
    "os.environ['MKL_NUM_THREADS'] = '1'\n",
    "\n",
    "exec(open('/data/id11/nanoscope/install_ImageD11_from_git.py').read())\n",
    "PYTHONPATH = setup_ImageD11_from_git( ) # ( os.path.join( os.environ['HOME'],'Code'), 'ImageD11_git' )"
   ]
  },
  {
   "cell_type": "code",
   "execution_count": null,
   "id": "32f07e6f-62fd-45a1-8635-3d343dcf5abd",
   "metadata": {
    "tags": []
   },
   "outputs": [],
   "source": [
    "# import functions we need\n",
    "\n",
    "import concurrent.futures\n",
    "\n",
    "# %matplotlib ipympl\n",
    "\n",
    "import h5py\n",
    "import numpy as np\n",
    "import matplotlib.pyplot as plt\n",
    "from matplotlib.colors import LogNorm"
   ]
  },
  {
   "cell_type": "code",
   "execution_count": null,
   "id": "5e6c878a-f658-49a7-83f5-b9f72306cc68",
   "metadata": {
    "tags": []
   },
   "outputs": [],
   "source": [
    "import ImageD11.parameters\n",
    "import ImageD11.unitcell\n",
    "import time\n",
    "from joblib import Parallel, delayed"
   ]
  },
  {
   "cell_type": "code",
   "execution_count": null,
   "id": "3e619ec2-4f43-49f7-8fa2-2c6f63deb5e1",
   "metadata": {
    "tags": []
   },
   "outputs": [],
   "source": [
    "from ImageD11.forward_model import forward_projector\n",
    "from ImageD11.forward_model import io\n",
    "from ImageD11.forward_model import forward_model\n",
    "from ImageD11.forward_model import pars_conversion\n",
    "from ImageD11.forward_model import grainmaps"
   ]
  },
  {
   "cell_type": "code",
   "execution_count": null,
   "id": "f2c167e6-1a31-4507-803b-3955160e3b32",
   "metadata": {
    "tags": []
   },
   "outputs": [],
   "source": [
    "import logging\n",
    "from tqdm import tqdm\n",
    "import numba"
   ]
  },
  {
   "cell_type": "code",
   "execution_count": null,
   "id": "247c1b20-37ba-4a55-a0ad-159954c3659a",
   "metadata": {
    "tags": []
   },
   "outputs": [],
   "source": [
    "# sample_filename can be xx_grains.h5, pbp_tensormap_refined.h5, in which the regional voxels would be merged to generate 'labels'\n",
    "# DS.h5 stores the grain map after merging regions and identifying grain IDs\n",
    "# sample_filename = 'A2050_DN_W340_nscope_full_slice_grains.h5'\n",
    "# sample_filename = 'pbp_tensormap_refined.h5'\n",
    "sample_filename = 'DS.h5'\n",
    "pars_filename = '/data/visitor/ma6288/id11/20241119/PROCESSED_DATA/nscope_pars/pars.json'\n",
    "phase_name = 'Al'"
   ]
  },
  {
   "cell_type": "code",
   "execution_count": null,
   "id": "34b9572d-a9b8-4045-8898-743f1bb9e627",
   "metadata": {
    "tags": []
   },
   "outputs": [],
   "source": [
    "opts = {\n",
    "        \"energy\": 43.56,                 # [keV]\n",
    "        \"beam_size\": [1e-3, 1e-3],       # [mm]\n",
    "        \"beam_profile\": \"gaussian\",      # [-]\n",
    "        \"flux\": 5e14,                    # [photons/s]\n",
    "        \"Lss\": 0.0,                      # [mm]\n",
    "        \"min_misori\": 3.0,               # [deg]\n",
    "        \"crystal_system\": 'cubic',\n",
    "        \"remove_small_grains\": True,\n",
    "        \"min_vol\": 3,                    # [voxel]\n",
    "        \"rou\": 2.7,                      # [g/cm^3]\n",
    "        \"mass_abs\": 0.56685,             # [cm^2/g]\n",
    "        \"y0_offset\": 0.0,                # [um]\n",
    "        \"exp_time\": 0.002,               # [s]\n",
    "        \"rot_start\": -89.975,            # [deg]\n",
    "        \"rot_end\": 90.9668,              # [deg]\n",
    "        \"rot_step\": 0.05,                # [deg]\n",
    "        \"sparse_omega\": True,\n",
    "        \"halfy\": 182.0,                  # [um]\n",
    "        \"dty_step\": 1.0,                 # [um]\n",
    "        \"ds_max\": 1.2,                   # [1/angstrom]\n",
    "        \"plot_peaks\": False,\n",
    "        \"plot_flag\": False,\n",
    "        \"detector\": \"eiger\",\n",
    "        \"int_factors\": (0.1065, 0.7807, 0.1065),\n",
    "        \"slurm_folder\": \"slurm_fwd_proj_Al\"}"
   ]
  },
  {
   "cell_type": "code",
   "execution_count": null,
   "id": "1f61b035-021b-487b-9fa3-895f9d9a7e9e",
   "metadata": {
    "tags": []
   },
   "outputs": [],
   "source": [
    "fp = forward_projector.forward_projector(sample_filename, pars_filename, phase_name, detector_mask = None, to_sparse = False, **opts)"
   ]
  },
  {
   "cell_type": "markdown",
   "id": "9eebd1ac-27ce-409b-9cc0-1b8c106f8eab",
   "metadata": {},
   "source": [
    "# Run all dty calculations on cluster"
   ]
  },
  {
   "cell_type": "code",
   "execution_count": null,
   "id": "3c62a0a1-3c70-440a-b670-a6449f8656d3",
   "metadata": {
    "tags": []
   },
   "outputs": [],
   "source": [
    "# No need to produce sparse files\n",
    "fp.to_sparse"
   ]
  },
  {
   "cell_type": "code",
   "execution_count": null,
   "id": "98f25127-2332-47de-aeb7-957a386661a0",
   "metadata": {
    "tags": []
   },
   "outputs": [],
   "source": [
    "# send jobs to the cluster\n",
    "fp.args['use_cluster']"
   ]
  },
  {
   "cell_type": "code",
   "execution_count": null,
   "id": "1640b539-fd06-4957-80e6-4bc4a23c3489",
   "metadata": {
    "tags": []
   },
   "outputs": [],
   "source": [
    "# run jobs for all dty positions, if the output peaks file is already existed, it would skip\n",
    "t0 = time.time()\n",
    "fp.run_all()\n",
    "t1 = time.time()\n",
    "print('It takes {} s'.format(t1 - t0))"
   ]
  },
  {
   "cell_type": "code",
   "execution_count": null,
   "id": "88de0c28-4b16-4a95-bb79-5fd0fecbcb98",
   "metadata": {
    "tags": []
   },
   "outputs": [],
   "source": [
    "# the peaks are stored in two types:\n",
    "# 1) cf_2d, cf_3d, cf_4d like cf object in ImageD11\n",
    "# 2) peaks_2d, peaks_3d, peaks_4d in numpy array with a shape of N*25\n",
    "fp.read_cf()"
   ]
  },
  {
   "cell_type": "code",
   "execution_count": null,
   "id": "6408f1a4-3b7a-43d0-a7b3-3022fab260ae",
   "metadata": {
    "tags": []
   },
   "outputs": [],
   "source": [
    "# merge 2D peaks to 4D peaks\n",
    "fp.get_cf_4d()"
   ]
  },
  {
   "cell_type": "code",
   "execution_count": null,
   "id": "4c38a311-5801-4b4c-bdaf-7d09be1aa5cb",
   "metadata": {
    "tags": []
   },
   "outputs": [],
   "source": [
    "fp.write_cf()"
   ]
  },
  {
   "cell_type": "code",
   "execution_count": null,
   "id": "0b70ec9d-ac32-4321-98ad-9138461613b9",
   "metadata": {
    "tags": []
   },
   "outputs": [],
   "source": [
    "forward_projector.plot_fwd_peaks(fp.peaks_3d)"
   ]
  },
  {
   "cell_type": "code",
   "execution_count": null,
   "id": "d668b42b-4179-4ec4-88b4-3734298cbc04",
   "metadata": {
    "tags": []
   },
   "outputs": [],
   "source": [
    "forward_projector.plot_fwd_peaks(fp.peaks_4d)"
   ]
  },
  {
   "cell_type": "code",
   "execution_count": null,
   "id": "6fbe0cc7-6a28-4c4e-83b1-00312e066a35",
   "metadata": {
    "tags": []
   },
   "outputs": [],
   "source": [
    "# plot sino for 2D peaks\n",
    "fp.plot_cf(cf_type = '2d', m = None)"
   ]
  },
  {
   "cell_type": "code",
   "execution_count": null,
   "id": "538d72de-05e5-4408-9779-8df7ee228be3",
   "metadata": {
    "tags": []
   },
   "outputs": [],
   "source": [
    "forward_model.cf_plot_sino(fp.cf_3d)"
   ]
  },
  {
   "cell_type": "code",
   "execution_count": null,
   "id": "76d111aa-af89-4037-8fd1-be220a8ab9d0",
   "metadata": {
    "tags": []
   },
   "outputs": [],
   "source": [
    "forward_model.cf_plot_sino(fp.cf_4d)"
   ]
  },
  {
   "cell_type": "markdown",
   "id": "d8aae4be-a309-45aa-96b9-8b055de7e3e2",
   "metadata": {},
   "source": [
    "# Plot 2D peaks from a specific grainID or a specific range of ds"
   ]
  },
  {
   "cell_type": "code",
   "execution_count": null,
   "id": "e5554105-e116-4409-b711-745f4477ef0b",
   "metadata": {
    "tags": []
   },
   "outputs": [],
   "source": [
    "# specific grainID\n",
    "fp.plot_cf(cf_type = '2d', m = fp.cf_2d.grainID == 3)"
   ]
  },
  {
   "cell_type": "code",
   "execution_count": null,
   "id": "9a379fec-1cf1-44ef-a6ee-05ad0319ee63",
   "metadata": {
    "tags": []
   },
   "outputs": [],
   "source": [
    "# specific grainID\n",
    "fp.plot_cf(cf_type = '2d', m = fp.cf_2d.grainID == 7)"
   ]
  },
  {
   "cell_type": "code",
   "execution_count": null,
   "id": "c7b9df7b-2f19-4e5b-b445-ff456c19b74d",
   "metadata": {
    "tags": []
   },
   "outputs": [],
   "source": [
    "# specific ds range\n",
    "fp.plot_cf(cf_type = '2d', m = (fp.cf_2d.ds > 0.4) & (fp.cf_2d.ds < 0.5))"
   ]
  },
  {
   "cell_type": "markdown",
   "id": "ddafc004-7dee-48eb-a069-357e6ff9d514",
   "metadata": {},
   "source": [
    "# Compare with experimental peaks"
   ]
  },
  {
   "cell_type": "code",
   "execution_count": null,
   "id": "74c643ab-64c5-44b1-8b4c-e383ab4651cd",
   "metadata": {
    "tags": []
   },
   "outputs": [],
   "source": [
    "dset_file = '/data/visitor/ma6288/id11/20241119/PROCESSED_DATA/A2050_DN_W340_nscope_5pct_strained/A2050_DN_W340_nscope_5pct_strained_full_slice_tomo/A2050_DN_W340_nscope_5pct_strained_full_slice_dataset.h5'\n",
    "\n",
    "ds = ImageD11.sinograms.dataset.load(dset_file)"
   ]
  },
  {
   "cell_type": "code",
   "execution_count": null,
   "id": "139a6a39-efa8-4497-a962-c5ad389899d5",
   "metadata": {
    "tags": []
   },
   "outputs": [],
   "source": [
    "# Import 4D peaks\n",
    "\n",
    "cf_4d = ds.get_cf_4d_from_disk()\n",
    "\n",
    "ds.update_colfile_pars(cf_4d, phase_name='Al')\n",
    "\n",
    "print(f\"Read {cf_4d.nrows} 4D peaks\")"
   ]
  },
  {
   "cell_type": "code",
   "execution_count": null,
   "id": "465f70bc-4a85-4152-8777-737089afc60f",
   "metadata": {
    "tags": []
   },
   "outputs": [],
   "source": [
    "cf_2d = ds.get_cf_2d()\n",
    "ds.update_colfile_pars( cf_2d )"
   ]
  },
  {
   "cell_type": "code",
   "execution_count": null,
   "id": "ed51a3ae-123b-4caa-a6b8-b0475a68ec87",
   "metadata": {
    "tags": []
   },
   "outputs": [],
   "source": [
    "plt.figure()\n",
    "plt.hist2d( cf_2d.ds, cf_2d.eta, weights= np.log(cf_2d.sum_intensity), bins = (2000, 360), norm='log')\n",
    "# plt.plot( dssa, np.zeros_like(dssa), '|', ms = 20, lw=1);\n",
    "plt.show()"
   ]
  },
  {
   "cell_type": "code",
   "execution_count": null,
   "id": "6daa8d2f-9eb3-4c0c-94f3-05cc247dda85",
   "metadata": {
    "tags": []
   },
   "outputs": [],
   "source": [
    "# make a copy of fp.cf_2d\n",
    "cf_2d_fwd = fp.cf_2d.copy()"
   ]
  },
  {
   "cell_type": "code",
   "execution_count": null,
   "id": "20245ce2-8f0c-47c8-bf55-180a8e8d4b2c",
   "metadata": {
    "tags": []
   },
   "outputs": [],
   "source": [
    "pars = ImageD11.parameters.read_par_file(ds.parfile)"
   ]
  },
  {
   "cell_type": "code",
   "execution_count": null,
   "id": "704fba35-e632-4a7d-8b0e-39999bd26070",
   "metadata": {
    "tags": []
   },
   "outputs": [],
   "source": [
    "Al = ImageD11.unitcell.unitcell_from_parameters(pars)"
   ]
  },
  {
   "cell_type": "code",
   "execution_count": null,
   "id": "cff1f3c5-b279-4bcb-880d-8f5eb04fd120",
   "metadata": {
    "tags": []
   },
   "outputs": [],
   "source": [
    "Al.makerings(1.5)"
   ]
  },
  {
   "cell_type": "code",
   "execution_count": null,
   "id": "192072d3-4901-45cb-933a-a1a67b23b021",
   "metadata": {
    "tags": []
   },
   "outputs": [],
   "source": [
    "Al.ringds"
   ]
  },
  {
   "cell_type": "code",
   "execution_count": null,
   "id": "8fbfc140-5758-4fdf-a660-1614f1612b16",
   "metadata": {
    "tags": []
   },
   "outputs": [],
   "source": [
    "f, a = plt.subplots(1,2,figsize=(14,6), sharex=True, sharey=True)\n",
    "\n",
    "ds_range = [Al.ringds[1]-0.05, Al.ringds[1]+0.05]\n",
    "# simu\n",
    "m200 = (cf_2d_fwd.ds < ds_range[1])&(cf_2d_fwd.ds > ds_range[0])\n",
    "h0 = a[0].hist2d( cf_2d_fwd.omega[m200], cf_2d_fwd.dty[m200], weights= np.log(cf_2d_fwd.sum_intensity[m200]),\n",
    "           bins = (fp.omega_angles.shape[0], fp.dtys.shape[0]), norm='log')\n",
    "# plt.colorbar(label=\"Log Intensity\")\n",
    "a[0].set_xlabel(\"Omega ($^{o}$)\")\n",
    "a[0].set_ylabel(\"dty ($\\mu$m)\")\n",
    "a[0].set_title('(a) Simu, {002}')\n",
    "\n",
    "cbar0 = f.colorbar(h0[3], ax=a[0])\n",
    "# cbar0.set_label(\"Log Intensity\")\n",
    "\n",
    "# exp\n",
    "m200 = (cf_2d.ds < ds_range[1])&(cf_2d.ds > ds_range[0])\n",
    "h1 = a[1].hist2d( cf_2d.omega[m200], cf_2d.dty[ m200], weights=cf_2d.sum_intensity[m200], bins=(ds.obinedges, ds.ybinedges), norm='log')\n",
    "a[1].set_xlabel(\"Omega ($^{o}$)\")\n",
    "a[1].set_ylabel(\"dty ($\\mu$m)\")\n",
    "a[1].set_title('(b) Exp, {002}')\n",
    "\n",
    "cbar1 = f.colorbar(h1[3], ax=a[1])\n",
    "# cbar1.set_label(\"Log Intensity\")\n",
    "\n",
    "plt.tight_layout()\n",
    "plt.show()"
   ]
  },
  {
   "cell_type": "code",
   "execution_count": null,
   "id": "e61c19f4-44c6-4bc6-8f3a-4dbb116d513f",
   "metadata": {
    "tags": []
   },
   "outputs": [],
   "source": [
    "f, a = plt.subplots(1,2,figsize=(14,6), sharex=True, sharey=True)\n",
    "\n",
    "ds_range = [Al.ringds[3]-0.05, Al.ringds[3]+0.05]\n",
    "\n",
    "# simu\n",
    "m311 = (cf_2d_fwd.ds < ds_range[1])&(cf_2d_fwd.ds > ds_range[0])\n",
    "h0 = a[0].hist2d( cf_2d_fwd.omega[m311], cf_2d_fwd.dty[m311], weights= np.log(cf_2d_fwd.sum_intensity[m311]),\n",
    "           bins = (fp.omega_angles.shape[0], fp.dtys.shape[0]), norm='log')\n",
    "cbar0 = f.colorbar(h0[3], ax=a[0])\n",
    "a[0].set_xlabel(\"Omega ($^{o}$)\")\n",
    "a[0].set_ylabel(\"dty ($\\mu$m)\")\n",
    "a[0].set_title('(a) Simu, {113}')\n",
    "\n",
    "\n",
    "# exp\n",
    "m311 = (cf_2d.ds < ds_range[1])&(cf_2d.ds > ds_range[0])\n",
    "h1 = a[1].hist2d( cf_2d.omega[m311], cf_2d.dty[ m311], weights=cf_2d.sum_intensity[m311], bins=(ds.obinedges, ds.ybinedges), norm='log')\n",
    "cbar1 = f.colorbar(h1[3], ax=a[1])\n",
    "a[1].set_xlabel(\"Omega ($^{o}$)\")\n",
    "a[1].set_ylabel(\"dty ($\\mu$m)\")\n",
    "a[1].set_title('(b) Exp, {113}')\n",
    "plt.tight_layout()\n",
    "plt.show()"
   ]
  },
  {
   "cell_type": "code",
   "execution_count": null,
   "id": "eeeeb8c9-8992-4f1b-821d-323d1e21d899",
   "metadata": {
    "tags": []
   },
   "outputs": [],
   "source": [
    "ds_range = [Al.ringds[3]-0.05, Al.ringds[3]+0.05]\n",
    "m311 = (cf_2d.ds < ds_range[1])&(cf_2d.ds > ds_range[0])\n",
    "# color as dstar\n",
    "sI = np.histogram2d( cf_2d.omega[m311], cf_2d.dty[ m311], weights=cf_2d.sum_intensity[m311], \n",
    "                bins = (ds.obinedges, ds.ybinedges))\n",
    "sId = np.histogram2d( cf_2d.omega[m311], cf_2d.dty[ m311], weights=cf_2d.sum_intensity[m311] * cf_2d.ds[m311],\n",
    "                bins = (ds.obinedges, ds.ybinedges))\n",
    "ds311 = (sId[0] / sI[0]).T\n",
    "x0 = Al.ringds[3]\n",
    "strain = (ds311 - x0)/x0\n",
    "\n",
    "plt.figure()\n",
    "plt.pcolormesh( ds.obinedges, ds.ybinedges, strain , cmap = 'RdBu', vmin=-3e-3, vmax=3e-3);\n",
    "plt.colorbar()\n",
    "plt.show()"
   ]
  },
  {
   "cell_type": "code",
   "execution_count": null,
   "id": "c2bef5b9-b092-4c5c-a7b4-b90ef9506d71",
   "metadata": {},
   "outputs": [],
   "source": [
    "# plot 4D peaks, simu and exp\n",
    "forward_model.cf_plot_sino([fp.cf_4d, cf_4d])"
   ]
  },
  {
   "cell_type": "code",
   "execution_count": null,
   "id": "7be0041f-7f5b-4a9b-899f-bfb1a0fc5540",
   "metadata": {},
   "outputs": [],
   "source": [
    "cf_4d_strong = forward_model.cf_remove_weak_peaks(cf_4d, thres_int=1e4)"
   ]
  },
  {
   "cell_type": "code",
   "execution_count": null,
   "id": "b6963aed-091b-4d40-839f-03e767a1b32a",
   "metadata": {
    "tags": []
   },
   "outputs": [],
   "source": [
    "# plot 4D peaks, simu and exp\n",
    "forward_model.cf_plot_sino([fp.cf_4d, cf_4d_strong])"
   ]
  },
  {
   "cell_type": "markdown",
   "id": "5cc80d78-e676-459f-b369-9994a43b9444",
   "metadata": {},
   "source": [
    "# Look at the peaks 2D and 4D"
   ]
  },
  {
   "cell_type": "code",
   "execution_count": null,
   "id": "c697c377-10f2-480f-b11d-e65a1002dd21",
   "metadata": {
    "tags": []
   },
   "outputs": [],
   "source": [
    "# fp\n",
    "m200 = (fp.cf_2d.ds < Al.ringds[1]+0.05)&(fp.cf_2d.ds > Al.ringds[1]-0.05)\n",
    "plt.figure()\n",
    "plt.hist2d( fp.cf_2d.omega[m200], fp.cf_2d.dty[ m200], weights=fp.cf_2d.sum_intensity[m200], bins=(ds.obinedges, ds.ybinedges), norm='log');\n",
    "\n",
    "m200s = (fp.cf_4d.ds < Al.ringds[1]+0.05)&(fp.cf_4d.ds > Al.ringds[1]-0.05)\n",
    "plt.plot( fp.cf_4d.omega[m200s],\n",
    "         fp.cf_4d.dty[m200s],\n",
    "         '+m', ms=5)"
   ]
  },
  {
   "cell_type": "code",
   "execution_count": null,
   "id": "570d54c7-96ad-4585-b27e-1c57d4ab9e54",
   "metadata": {
    "tags": []
   },
   "outputs": [],
   "source": [
    "# exp\n",
    "m200 = (cf_2d.ds < Al.ringds[1]+0.05)&(cf_2d.ds > Al.ringds[1]-0.05)\n",
    "plt.figure()\n",
    "plt.hist2d( cf_2d.omega[m200], cf_2d.dty[ m200], weights=cf_2d.sum_intensity[m200], bins=(ds.obinedges, ds.ybinedges), norm='log');\n",
    "\n",
    "m200s = (cf_4d_strong.ds < Al.ringds[1]+0.05)&(cf_4d_strong.ds > Al.ringds[1]-0.05)\n",
    "plt.plot( cf_4d_strong.omega[m200s],\n",
    "         cf_4d_strong.dty[m200s],\n",
    "         '+m', ms=15)"
   ]
  },
  {
   "cell_type": "code",
   "execution_count": null,
   "id": "1a7f7758-b753-47d0-8471-2f881971ad4e",
   "metadata": {
    "tags": []
   },
   "outputs": [],
   "source": [
    "# fp\n",
    "etabinedges = np.arange(0, 360, 0.25)\n",
    "\n",
    "m200 = (fp.cf_2d.ds < Al.ringds[1]+0.05)&(fp.cf_2d.ds > Al.ringds[1]-0.05)\n",
    "plt.figure()\n",
    "plt.hist2d( fp.cf_2d.omega[m200], fp.cf_2d.eta[ m200], weights=fp.cf_2d.sum_intensity[m200], bins=(ds.obinedges, etabinedges), norm='log');\n",
    "m200s = (fp.cf_4d.ds < Al.ringds[1]+0.05)&(fp.cf_4d.ds > Al.ringds[1]-0.05)\n",
    "\n",
    "plt.plot( fp.cf_4d.omega[m200s],\n",
    "         fp.cf_4d.eta[m200s],\n",
    "         '+m', ms=1)"
   ]
  },
  {
   "cell_type": "code",
   "execution_count": null,
   "id": "37dad23e-e311-4133-a649-dad7d100818f",
   "metadata": {
    "tags": []
   },
   "outputs": [],
   "source": [
    "# exp\n",
    "etabinedges = np.arange(-180, 180, 0.25)\n",
    "\n",
    "m200 = (cf_2d.ds < Al.ringds[1]+0.05)&(cf_2d.ds > Al.ringds[1]-0.05)\n",
    "plt.figure()\n",
    "plt.hist2d( cf_2d.omega[m200], cf_2d.eta[ m200], weights=cf_2d.sum_intensity[m200], bins=(ds.obinedges, etabinedges), norm='log');\n",
    "\n",
    "m200s = (cf_4d_strong.ds < Al.ringds[1]+0.05)&(cf_4d_strong.ds > Al.ringds[1]-0.05)\n",
    "plt.plot( cf_4d_strong.omega[m200s],\n",
    "         cf_4d_strong.eta[m200s],\n",
    "         '+m', ms=1)"
   ]
  },
  {
   "cell_type": "markdown",
   "id": "33ffdc01-f7ad-4363-955b-0cde4b23b0bd",
   "metadata": {},
   "source": [
    "# Testing the reconstruction from the peaks"
   ]
  },
  {
   "cell_type": "code",
   "execution_count": null,
   "id": "65a54ecf-9e7b-46d8-9dc3-03c9c29672a2",
   "metadata": {
    "tags": []
   },
   "outputs": [],
   "source": [
    "import fast_histogram\n",
    "import matplotlib.colors as mcolors"
   ]
  },
  {
   "cell_type": "code",
   "execution_count": null,
   "id": "e92f0e53-edb6-4d29-a964-9cc2cc241ecc",
   "metadata": {
    "tags": []
   },
   "outputs": [],
   "source": [
    "def recon_from_cf_sino(cf, ds, method = 'iradon', offset = 0, plot_flag = True):\n",
    "    bins = len(ds.obincens), len(ds.ybincens)\n",
    "    rng = (\n",
    "        (ds.obinedges[0], ds.obinedges[-1]),\n",
    "        (ds.ybinedges[0], ds.ybinedges[-1]),\n",
    "    )\n",
    "    print(bins, rng)\n",
    "    sino = fast_histogram.histogram2d(cf.omega.ravel(), cf.dty.ravel(), weights=np.log(cf.sum_intensity.ravel()), bins=bins, range=rng)\n",
    "    \n",
    "    if method == 'iradon':\n",
    "        rec = ImageD11.sinograms.roi_iradon.run_iradon( sino.T, ds.obincens,\n",
    "                                       pad=30, shift = offset,\n",
    "                                       workers=12,\n",
    "                                       apply_halfmask=False,\n",
    "                                       mask_central_zingers=False,\n",
    "                                       central_mask_radius=25,\n",
    "                                       filter_name='hamming',\n",
    "                                      )\n",
    "    else:\n",
    "        rec = ImageD11.sinograms.roi_iradon.run_mlem( sino.T, ds.obincens,\n",
    "                                       mask=None, pad=30, shift = offset,\n",
    "                                       workers=12,\n",
    "                                       niter=20,\n",
    "                                       apply_halfmask=False,\n",
    "                                       mask_central_zingers=False,\n",
    "                                       central_mask_radius=25\n",
    "                                      )\n",
    "    if plot_flag:\n",
    "        plt.figure()\n",
    "        # plt.imshow(rec, norm = mcolors.LogNorm(vmin=1e-3, vmax=0.4))\n",
    "        plt.imshow(rec, origin=\"lower\", aspect=\"equal\")\n",
    "        plt.show()\n",
    "    return rec"
   ]
  },
  {
   "cell_type": "code",
   "execution_count": null,
   "id": "2e307652-16ee-4d76-b382-85f6659698e6",
   "metadata": {
    "tags": []
   },
   "outputs": [],
   "source": [
    "rec_exp = recon_from_cf_sino(cf_4d_strong, ds, method = 'iradon', offset = 0, plot_flag = True)"
   ]
  },
  {
   "cell_type": "code",
   "execution_count": null,
   "id": "c6ef0a0f-9c44-49d3-b4b3-b2d0f185197b",
   "metadata": {
    "tags": []
   },
   "outputs": [],
   "source": [
    "rec_simu = recon_from_cf_sino(fp.cf_4d, ds, method = 'iradon', offset = 0, plot_flag = True)"
   ]
  },
  {
   "cell_type": "code",
   "execution_count": null,
   "id": "a27edd39-1c62-4a20-af88-5afe42aa4253",
   "metadata": {},
   "outputs": [],
   "source": []
  }
 ],
 "metadata": {
  "kernelspec": {
   "display_name": "Python 3 (main)",
   "language": "python",
   "name": "python3"
  },
  "language_info": {
   "codemirror_mode": {
    "name": "ipython",
    "version": 3
   },
   "file_extension": ".py",
   "mimetype": "text/x-python",
   "name": "python",
   "nbconvert_exporter": "python",
   "pygments_lexer": "ipython3",
   "version": "3.11.6"
  }
 },
 "nbformat": 4,
 "nbformat_minor": 5
}
