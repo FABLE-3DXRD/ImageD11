{
 "cells": [
  {
   "cell_type": "markdown",
   "id": "e2c9f82e-6d9b-42a5-8eb6-dc0150436527",
   "metadata": {},
   "source": [
    "# Test forward_projector.py\n",
    "## Test the principle of forward_projector: to find intersected voxels with point-focused beam and the computation of fwd_peaks and making projections\n",
    "## Haixing Fang\n",
    "## Jan 2025"
   ]
  },
  {
   "cell_type": "code",
   "execution_count": null,
   "id": "65590db3-8b87-4380-a139-8ff8b886df2f",
   "metadata": {
    "tags": []
   },
   "outputs": [],
   "source": [
    "import os\n",
    "\n",
    "os.environ['OMP_NUM_THREADS'] = '1'\n",
    "os.environ['OPENBLAS_NUM_THREADS'] = '1'\n",
    "os.environ['MKL_NUM_THREADS'] = '1'\n",
    "\n",
    "exec(open('/data/id11/nanoscope/install_ImageD11_from_git.py').read())\n",
    "PYTHONPATH = setup_ImageD11_from_git( ) # ( os.path.join( os.environ['HOME'],'Code'), 'ImageD11_git' )"
   ]
  },
  {
   "cell_type": "code",
   "execution_count": null,
   "id": "54f1da48-bbf4-4484-b278-b2a0906b8c42",
   "metadata": {
    "tags": []
   },
   "outputs": [],
   "source": [
    "# import functions we need\n",
    "\n",
    "import shutil\n",
    "import concurrent.futures\n",
    "\n",
    "# %matplotlib ipympl\n",
    "\n",
    "import h5py\n",
    "import numpy as np\n",
    "import matplotlib.pyplot as plt\n",
    "from matplotlib.colors import LogNorm"
   ]
  },
  {
   "cell_type": "code",
   "execution_count": null,
   "id": "49be9eaf-ae36-47b6-b464-e0c3e6ed6756",
   "metadata": {
    "tags": []
   },
   "outputs": [],
   "source": [
    "import ImageD11.parameters\n",
    "import ImageD11.unitcell\n",
    "import time\n",
    "from joblib import Parallel, delayed"
   ]
  },
  {
   "cell_type": "code",
   "execution_count": null,
   "id": "f3333f34-4272-4197-ada9-f7dce91b5f33",
   "metadata": {
    "tags": []
   },
   "outputs": [],
   "source": [
    "from ImageD11.forward_model import forward_projector\n",
    "from ImageD11.forward_model import io\n",
    "from ImageD11.forward_model import forward_model\n",
    "from ImageD11.forward_model import pars_conversion\n",
    "from ImageD11.forward_model import grainmaps"
   ]
  },
  {
   "cell_type": "code",
   "execution_count": null,
   "id": "784176f7-6960-4ff0-a5d6-8c33c3173832",
   "metadata": {
    "tags": []
   },
   "outputs": [],
   "source": [
    "import logging\n",
    "import tqdm"
   ]
  },
  {
   "cell_type": "code",
   "execution_count": null,
   "id": "871d90f9-639f-46eb-8c20-003873e87e1e",
   "metadata": {
    "tags": []
   },
   "outputs": [],
   "source": [
    "beam = forward_projector.beam(energy = 43.56, FWHM = [1e-3, 1e-3])"
   ]
  },
  {
   "cell_type": "code",
   "execution_count": null,
   "id": "05586666-0b1e-4565-b2d7-759e6eb47463",
   "metadata": {
    "tags": []
   },
   "outputs": [],
   "source": [
    "beam.set_beam_shape(plot_flag=True)"
   ]
  },
  {
   "cell_type": "code",
   "execution_count": null,
   "id": "013cd14c-bd1c-4073-8c24-d1611b296747",
   "metadata": {
    "tags": []
   },
   "outputs": [],
   "source": [
    "# sample_filename = '../../A2050_DN_W340_nscope/A2050_DN_W340_nscope_full_slice/A2050_DN_W340_nscope_full_slice_grains.h5'\n",
    "# sample_filename = 'pbp_tensormap_refined.h5'\n",
    "sample_filename = '/data/visitor/ma6288/id11/20241119/PROCESSED_DATA/A2050_DN_W340_nscope_5pct_strained/A2050_DN_W340_nscope_5pct_strained_full_slice/DS.h5'\n",
    "pars_filename = '/data/visitor/ma6288/id11/20241119/PROCESSED_DATA/nscope_pars/pars.json'"
   ]
  },
  {
   "cell_type": "code",
   "execution_count": null,
   "id": "68105e95-f764-4ceb-bea2-7ac475680327",
   "metadata": {
    "tags": []
   },
   "outputs": [],
   "source": [
    "output_folder = 'output_test'\n",
    "# Check if the folder exists, then delete it\n",
    "if os.path.exists(output_folder) and os.path.isdir(output_folder):\n",
    "    shutil.rmtree(output_folder)\n",
    "    print(f\"Deleted folder: {output_folder}\")\n",
    "os.mkdir(output_folder)\n",
    "print(f\"{output_folder} has been created now.\")"
   ]
  },
  {
   "cell_type": "code",
   "execution_count": null,
   "id": "715f9574-d7e7-4736-a791-890c379cc230",
   "metadata": {
    "tags": []
   },
   "outputs": [],
   "source": [
    "sample = forward_projector.sample(filename=sample_filename)\n",
    "sample.set_rou()\n",
    "sample.set_mass_abs()"
   ]
  },
  {
   "cell_type": "code",
   "execution_count": null,
   "id": "06058a35-2211-456d-9ff2-c1ec8f78a277",
   "metadata": {
    "tags": []
   },
   "outputs": [],
   "source": [
    "plt.figure()\n",
    "plt.imshow(sample.DS['labels'][0,:,:])"
   ]
  },
  {
   "cell_type": "code",
   "execution_count": null,
   "id": "f7f13464-3f3d-45ed-a7dd-dd5b1a32f473",
   "metadata": {
    "tags": []
   },
   "outputs": [],
   "source": [
    "pars = ImageD11.parameters.read_par_file(pars_filename)"
   ]
  },
  {
   "cell_type": "code",
   "execution_count": null,
   "id": "9f0751bb-99ac-4193-a32e-5ff70de1ac14",
   "metadata": {
    "tags": []
   },
   "outputs": [],
   "source": [
    "ucell = ImageD11.unitcell.unitcell([4.04761405231186, 4.04761405231186, 4.04761405231186, 90.0, 90.0, 90.0], 225)"
   ]
  },
  {
   "cell_type": "markdown",
   "id": "526b57e0-7bf6-448e-b4bc-65b4b2181caf",
   "metadata": {},
   "source": [
    "# Check intersected voxels"
   ]
  },
  {
   "cell_type": "code",
   "execution_count": null,
   "id": "c9f235c9-9aba-4f2b-9bc7-f9797bf7f497",
   "metadata": {
    "tags": []
   },
   "outputs": [],
   "source": [
    "dty = 100.0\n",
    "y0_offset = 0.0\n",
    "voxel_size = sample.DS['voxel_size']\n",
    "ray_size = np.mean(beam.FWHM) * 1000\n",
    "omega = 45.0\n",
    "\n",
    "mask = (sample.DS['labels'] > -1) & (~np.isnan(sample.DS['U'][:, :, :, 0, 0]))\n",
    "mask = np.moveaxis(mask, 0, 2)"
   ]
  },
  {
   "cell_type": "code",
   "execution_count": null,
   "id": "6647670d-b8f8-463e-a75d-d9329a373ce1",
   "metadata": {
    "tags": []
   },
   "outputs": [],
   "source": [
    "intersected_sampos, intersected_labpos, intersected_voxels = forward_projector.intersected_sample_pos(mask, dty=dty, y0_offset=y0_offset, voxel_size=voxel_size,\n",
    "                                                                 omega=omega, ray_size=ray_size, weight = beam.weight, weight_pos = beam.weight_pos,\n",
    "                                                                 plot_flag=True,detector='eiger')\n",
    "print(intersected_voxels.shape)"
   ]
  },
  {
   "cell_type": "code",
   "execution_count": null,
   "id": "25ecdca1-4954-4d9d-97c2-b03c7d98e473",
   "metadata": {
    "tags": []
   },
   "outputs": [],
   "source": [
    "plt.figure()\n",
    "plt.hist(intersected_voxels[:,3])"
   ]
  },
  {
   "cell_type": "code",
   "execution_count": null,
   "id": "2143fc7c-b157-40cc-a1ee-59749bde3017",
   "metadata": {
    "tags": []
   },
   "outputs": [],
   "source": [
    "f, a = plt.subplots(1, 2, figsize=(12, 6))\n",
    "a[0].scatter(intersected_sampos[:,0], intersected_sampos[:,1], s = 3)\n",
    "a[0].set_title(\"intersected_sampos\")\n",
    "\n",
    "a[1].scatter(intersected_labpos[:,0], intersected_labpos[:,1], s = 3)\n",
    "a[1].set_title(\"intersected_labpos\")\n",
    "plt.show()"
   ]
  },
  {
   "cell_type": "code",
   "execution_count": null,
   "id": "515c6263-98e0-4c05-9465-2b6726b0db16",
   "metadata": {
    "tags": []
   },
   "outputs": [],
   "source": [
    "# compute intersected voxels at different omega angles\n",
    "dty = 120\n",
    "omegas = [0, 30, 60, 90, 120, 150]\n",
    "intersected_voxels_all = []\n",
    "for omega in omegas:\n",
    "    intersected_sampos, intersected_labpos, intersected_voxels = forward_projector.intersected_sample_pos(mask, dty=dty, y0_offset=y0_offset, voxel_size=voxel_size,\n",
    "                                                                 omega=omega, ray_size=ray_size, weight = [1.0, 0.8, 0.5, 0.13], weight_pos = [0.5, 1.0, 1.5, 2.3], plot_flag=False,detector='eiger')\n",
    "    intersected_voxels_all.append(intersected_voxels)"
   ]
  },
  {
   "cell_type": "code",
   "execution_count": null,
   "id": "29b67218-5e08-48b0-b48b-b651ac18eae1",
   "metadata": {
    "tags": []
   },
   "outputs": [],
   "source": [
    "# plot intersected voxels at different omega angles\n",
    "fig = plt.figure(figsize=(10, 8))\n",
    "ax = fig.add_subplot(111, projection=\"3d\")\n",
    "\n",
    "grid_size = mask.shape\n",
    "voxel_indices = np.argwhere(mask > 0)\n",
    "indices = np.array(voxel_indices)\n",
    "ax.scatter(indices[:, 0], indices[:, 1], indices[:, 2], c=\"blue\", s=1, alpha=0.03, label=\"Masked Voxels\")\n",
    "\n",
    "colors = plt.cm.tab20(np.linspace(0, 1, len(intersected_voxels_all)))  # Use a colormap for variety\n",
    "\n",
    "for i, (intersected, omega) in enumerate(zip(intersected_voxels_all, omegas)):\n",
    "    ax.scatter(\n",
    "        intersected[:, 0],\n",
    "        intersected[:, 1],\n",
    "        intersected[:, 2],\n",
    "        c=colors[i],  # Assign a unique color to each intersected group\n",
    "        s=8,\n",
    "        alpha=0.9,\n",
    "        label=\"Intersected voxels @\" + str(omega) + \" deg\",\n",
    "    )\n",
    "    \n",
    "# ax.plot(ray_path[:, 0], ray_path[:, 1], ray_path[:, 2], \"r-\", label=\"Ray Path\", linewidth=2)\n",
    "ax.set_xlim(0, grid_size[0])\n",
    "ax.set_ylim(0, grid_size[1])\n",
    "ax.set_zlim(0, grid_size[2])\n",
    "ax.set_xlabel(\"X\")\n",
    "ax.set_ylabel(\"Y\")\n",
    "ax.set_zlabel(\"Z\")\n",
    "ax.set_title(\"3D Ray-Voxel Intersection with Ray Size {:.2f} and dty = {:.2f}\".format(ray_size, dty))\n",
    "ax.legend()\n",
    "plt.show()"
   ]
  },
  {
   "cell_type": "markdown",
   "id": "40198a83-1fa9-4256-8070-648fa79262ed",
   "metadata": {},
   "source": [
    "# Compute forward peaks for one dty position"
   ]
  },
  {
   "cell_type": "code",
   "execution_count": null,
   "id": "b8deadd0-997e-4bf9-8064-63783b53d570",
   "metadata": {
    "tags": []
   },
   "outputs": [],
   "source": [
    "ds_max = 1.2\n",
    "mask = None\n",
    "\n",
    "rot_start = -89.975\n",
    "rot_end = 90.9668\n",
    "rot_step = 0.5\n",
    "omega_angles = np.arange(rot_start, rot_end+rot_step/2, rot_step)\n",
    "print(\"{} rotation angles in one dty position\".format(omega_angles.shape[0]))\n",
    "\n",
    "dty = 0.0\n",
    "fwd_peaks_test = forward_projector.forward_peaks_voxels(beam, sample, omega_angles, ucell, pars, dty = dty, mask = None, ds_max = 1.2, plot_peaks=True, verbose = 1)\n",
    "print(fwd_peaks_test.shape)"
   ]
  },
  {
   "cell_type": "code",
   "execution_count": null,
   "id": "52155f6c-577f-4bd5-9456-d4b2869c74be",
   "metadata": {
    "tags": []
   },
   "outputs": [],
   "source": [
    "io.write_fwd_peaks(fwd_peaks_test, output_folder = output_folder, fname_prefix='fpks_test')"
   ]
  },
  {
   "cell_type": "code",
   "execution_count": null,
   "id": "eb8988a3-4027-4892-aa05-5917252121ca",
   "metadata": {
    "tags": []
   },
   "outputs": [],
   "source": [
    "intensity_map = forward_projector.make_intensity_map(fwd_peaks_test[:, 5], fwd_peaks_test[:, 6], fwd_peaks_test[:, 23],\n",
    "                                     x_range=[-0.18, 0.18], y_range=[-0.18, 0.18], pixel_size=1e-3)\n",
    "print(intensity_map.shape)"
   ]
  },
  {
   "cell_type": "code",
   "execution_count": null,
   "id": "b75998a9-251f-4430-bd28-ce6eeb26c59b",
   "metadata": {
    "tags": []
   },
   "outputs": [],
   "source": [
    "intensity_map = forward_projector.make_intensity_map(fwd_peaks_test[:, 18], fwd_peaks_test[:, 19], fwd_peaks_test[:, 23],\n",
    "                                     x_range = [0, 2162], y_range = [0, 2068], pixel_size=1,)\n",
    "print(intensity_map.shape)"
   ]
  },
  {
   "cell_type": "code",
   "execution_count": null,
   "id": "63208f56-a603-4d2b-aafb-5c426b92c133",
   "metadata": {
    "tags": []
   },
   "outputs": [],
   "source": [
    "projs, projs_sum = forward_projector.make_projections_with_psf(\n",
    "    fwd_peaks_test,\n",
    "    omega_angles,\n",
    "    image_size=(2162, 2068),\n",
    "    detector='eiger',\n",
    "    int_factors=(0.1065, 0.7807, 0.1065),\n",
    "    sum_flag=True\n",
    ")"
   ]
  },
  {
   "cell_type": "code",
   "execution_count": null,
   "id": "64a16a79-1a3c-4918-936e-4d9294ffee8a",
   "metadata": {
    "tags": []
   },
   "outputs": [],
   "source": [
    "f, a = plt.subplots(1,2, sharex=True, sharey=True, figsize=(16, 8))\n",
    "\n",
    "a[0].imshow(intensity_map, origin=\"lower\", norm=LogNorm(vmin=10, vmax=1e4), interpolation=\"nearest\")\n",
    "a[0].set_title('(a) Sum of intensities without psf')\n",
    "\n",
    "a[1].imshow(projs_sum, origin=\"lower\", norm=LogNorm(vmin=10, vmax=1e4), interpolation=\"nearest\")\n",
    "a[1].set_title('(b) Sum of projections with psf')\n",
    "\n",
    "a[1].set_xlim([200, 600])\n",
    "a[1].set_ylim([200, 600])"
   ]
  },
  {
   "cell_type": "code",
   "execution_count": null,
   "id": "14166022-0519-4cf1-80ef-decbe374d8ea",
   "metadata": {
    "tags": []
   },
   "outputs": [],
   "source": [
    "dty = 120.0\n",
    "fwd_peaks_test = forward_projector.forward_peaks_voxels(beam, sample, omega_angles, ucell, pars, dty = dty, mask = None, ds_max = 1.2, plot_peaks=True, verbose = 1)\n",
    "print(fwd_peaks_test.shape)"
   ]
  },
  {
   "cell_type": "code",
   "execution_count": null,
   "id": "951a92fe-cd4c-4a47-9a7d-85ccfe7b8d9f",
   "metadata": {
    "tags": []
   },
   "outputs": [],
   "source": [
    "intensity_map = forward_projector.make_intensity_map(fwd_peaks_test[:, 5], fwd_peaks_test[:, 6], fwd_peaks_test[:, 23],\n",
    "                                     x_range=[-0.18, 0.18], y_range=[-0.18, 0.18], pixel_size=1e-3)\n",
    "print(intensity_map.shape)"
   ]
  },
  {
   "cell_type": "code",
   "execution_count": null,
   "id": "e4a98501-44b7-4577-99f3-0156c2a50b95",
   "metadata": {
    "tags": []
   },
   "outputs": [],
   "source": [
    "io.write_fwd_peaks(fwd_peaks_test, output_folder = output_folder, fname_prefix='fpks_test')"
   ]
  },
  {
   "cell_type": "code",
   "execution_count": null,
   "id": "34e4fb7a-045f-42cb-896c-c893557fc76e",
   "metadata": {
    "tags": []
   },
   "outputs": [],
   "source": [
    "fwd_peaks = io.read_fwd_peaks(os.path.join(output_folder, 'fpks_test_dty_120p0.h5'))"
   ]
  },
  {
   "cell_type": "code",
   "execution_count": null,
   "id": "9dfd3673-e25d-4e33-b158-d460835225a2",
   "metadata": {
    "tags": []
   },
   "outputs": [],
   "source": [
    "f, ax = plt.subplots(1, 2, figsize=(15, 9))\n",
    "\n",
    "sc = ax[0].scatter(fwd_peaks[:, 18], fwd_peaks[:, 19], c=fwd_peaks[:, 23], cmap='viridis', s=8)\n",
    "ax[0].set_aspect('equal', 'box')\n",
    "cb = f.colorbar(sc, ax=ax[0])\n",
    "# cb.set_label('Intensity', fontsize = 20)\n",
    "cb.ax.tick_params(labelsize=14)\n",
    "ax[0].set_xlabel('fc', fontsize = 20)\n",
    "ax[0].set_ylabel('sc', fontsize = 20)\n",
    "ax[0].set_title('(a) Forward peaks on detector', fontsize = 20)\n",
    "ax[0].tick_params(width=1.5, length=6, labelsize=14)\n",
    "ax[0].invert_yaxis()\n",
    "\n",
    "sc = ax[1].scatter(fwd_peaks[:, 5], fwd_peaks[:, 6], c=fwd_peaks[:, 23], cmap='viridis', s=8)\n",
    "ax[1].set_aspect('equal', 'box')\n",
    "cb = f.colorbar(sc, ax=ax[1])\n",
    "cb.set_label('Intensity', fontsize = 20)\n",
    "cb.ax.tick_params(labelsize=14)\n",
    "ax[1].set_xlabel('X (mm)', fontsize = 20)\n",
    "ax[1].set_ylabel('Y (mm)', fontsize = 20)\n",
    "ax[1].set_title('(b) Forward peaks from the sample', fontsize = 20)\n",
    "ax[1].tick_params(width=1.5, length=6, labelsize=14) \n",
    "\n",
    "f.tight_layout()\n",
    "plt.show()"
   ]
  },
  {
   "cell_type": "markdown",
   "id": "73e7dbd3-6c50-46f4-a1f2-758cabcc6be3",
   "metadata": {},
   "source": [
    "# Do testings with different omega steps"
   ]
  },
  {
   "cell_type": "code",
   "execution_count": null,
   "id": "1e677670-9055-4a9b-a12b-d3c0d05283c8",
   "metadata": {
    "tags": []
   },
   "outputs": [],
   "source": [
    "ds_max = 1.2\n",
    "mask = None\n",
    "\n",
    "rot_start = -89.975\n",
    "rot_end = 90.9668\n",
    "rot_step = 0.25\n",
    "omega_angles = np.arange(rot_start, rot_end+rot_step/2, rot_step)\n",
    "print(\"{} rotation angles in one dty position\".format(omega_angles.shape[0]))\n",
    "\n",
    "dty = 0.0\n",
    "fwd_peaks = forward_projector.forward_peaks_voxels(beam, sample, omega_angles, ucell, pars, dty = dty, mask = None, ds_max = 1.2, plot_peaks=True, verbose = 1)\n",
    "print(fwd_peaks.shape)"
   ]
  },
  {
   "cell_type": "code",
   "execution_count": null,
   "id": "6c8bc866-95e0-456d-989d-b92dced3a282",
   "metadata": {
    "tags": []
   },
   "outputs": [],
   "source": [
    "intensity_map = forward_projector.make_intensity_map(fwd_peaks[:, 5], fwd_peaks[:, 6], fwd_peaks[:, 23],\n",
    "                                     x_range=[-0.18, 0.18], y_range=[-0.18, 0.18], pixel_size=1e-3)\n",
    "print(intensity_map.shape)"
   ]
  },
  {
   "cell_type": "code",
   "execution_count": null,
   "id": "01b5646b-b698-408d-b268-245347812f5d",
   "metadata": {
    "tags": []
   },
   "outputs": [],
   "source": [
    "ds_max = 1.2\n",
    "mask = None\n",
    "\n",
    "rot_start = -89.975\n",
    "rot_end = 90.9668\n",
    "rot_step = 0.05\n",
    "omega_angles = np.arange(rot_start, rot_end+rot_step/2, rot_step)\n",
    "print(\"{} rotation angles in one dty position\".format(omega_angles.shape[0]))\n",
    "\n",
    "dty = 0.0\n",
    "fwd_peaks = forward_projector.forward_peaks_voxels(beam, sample, omega_angles, ucell, pars, dty = dty, mask = None, ds_max = 1.2, plot_peaks=True, verbose = 1)\n",
    "print(fwd_peaks.shape)"
   ]
  },
  {
   "cell_type": "code",
   "execution_count": null,
   "id": "8f0f4400-b3bb-446a-a548-8f8a844364f5",
   "metadata": {
    "tags": []
   },
   "outputs": [],
   "source": [
    "io.write_fwd_peaks(fwd_peaks, output_folder = output_folder, fname_prefix='fpks')"
   ]
  },
  {
   "cell_type": "markdown",
   "id": "495a8165-392a-457f-b1ca-22518f2e82b5",
   "metadata": {},
   "source": [
    "# Testing a bigger beam size"
   ]
  },
  {
   "cell_type": "code",
   "execution_count": null,
   "id": "290bb20c-aebd-43ae-bdb4-88c2c0a10699",
   "metadata": {
    "tags": []
   },
   "outputs": [],
   "source": [
    "beam.FWHM = [0.002, 0.002]"
   ]
  },
  {
   "cell_type": "code",
   "execution_count": null,
   "id": "d0425e38-27e6-4621-9b09-16a698268d68",
   "metadata": {
    "tags": []
   },
   "outputs": [],
   "source": [
    "ds_max = 1.2\n",
    "mask = None\n",
    "\n",
    "rot_start = -89.975\n",
    "rot_end = 90.9668\n",
    "rot_step = 0.5\n",
    "omega_angles = np.arange(rot_start, rot_end+rot_step/2, rot_step)\n",
    "print(\"{} rotation angles in one dty position\".format(omega_angles.shape[0]))\n",
    "\n",
    "dty = 0.0\n",
    "fwd_peaks_bigger_beam = forward_projector.forward_peaks_voxels(beam, sample, omega_angles, ucell, pars, dty = dty, mask = None, ds_max = 1.2, plot_peaks=True, verbose = 1)\n",
    "print(fwd_peaks_bigger_beam.shape)"
   ]
  },
  {
   "cell_type": "code",
   "execution_count": null,
   "id": "126319d9-dc2e-425d-9ccb-12b225a0b8cd",
   "metadata": {
    "tags": []
   },
   "outputs": [],
   "source": [
    "fwd_peaks_bigger_beam.shape"
   ]
  },
  {
   "cell_type": "code",
   "execution_count": null,
   "id": "83723c93-70b2-43c6-a582-1c8deb83a289",
   "metadata": {},
   "outputs": [],
   "source": [
    "io.write_fwd_peaks(fwd_peaks_bigger_beam, output_folder = output_folder, fname_prefix='fpks_2um_beam')"
   ]
  },
  {
   "cell_type": "code",
   "execution_count": null,
   "id": "de67bf01-a68c-4de1-be68-ac6fc5e602d5",
   "metadata": {
    "tags": []
   },
   "outputs": [],
   "source": [
    "beam.FWHM = [0.003, 0.003]"
   ]
  },
  {
   "cell_type": "code",
   "execution_count": null,
   "id": "dd492f5d-411d-4d59-a376-a1bb7009d5f9",
   "metadata": {
    "tags": []
   },
   "outputs": [],
   "source": [
    "ds_max = 1.2\n",
    "mask = None\n",
    "\n",
    "rot_start = -89.975\n",
    "rot_end = 90.9668\n",
    "rot_step = 0.5\n",
    "omega_angles = np.arange(rot_start, rot_end+rot_step/2, rot_step)\n",
    "print(\"{} rotation angles in one dty position\".format(omega_angles.shape[0]))\n",
    "\n",
    "dty = 0.0\n",
    "fwd_peaks_bigger_beam = forward_projector.forward_peaks_voxels(beam, sample, omega_angles, ucell, pars, dty = dty, mask = None, ds_max = 1.2, plot_peaks=True, verbose = 1)\n",
    "print(fwd_peaks_bigger_beam.shape)"
   ]
  },
  {
   "cell_type": "code",
   "execution_count": null,
   "id": "3e331253-a8a5-4326-b425-d7392d042f8d",
   "metadata": {
    "tags": []
   },
   "outputs": [],
   "source": [
    "beam.FWHM = [0.05, 0.05]"
   ]
  },
  {
   "cell_type": "code",
   "execution_count": null,
   "id": "0373ce35-81f5-4756-9fc6-5544d77c9677",
   "metadata": {
    "tags": []
   },
   "outputs": [],
   "source": [
    "ds_max = 1.2\n",
    "mask = None\n",
    "\n",
    "rot_start = -89.975\n",
    "rot_end = 90.9668\n",
    "rot_step = 0.5\n",
    "omega_angles = np.arange(rot_start, rot_end+rot_step/2, rot_step)\n",
    "print(\"{} rotation angles in one dty position\".format(omega_angles.shape[0]))\n",
    "\n",
    "dty = 0.0\n",
    "fwd_peaks_bigger_beam = forward_projector.forward_peaks_voxels(beam, sample, omega_angles, ucell, pars, dty = dty, mask = None, ds_max = 1.2, plot_peaks=True, verbose = 1)\n",
    "print(fwd_peaks_bigger_beam.shape)"
   ]
  },
  {
   "cell_type": "code",
   "execution_count": null,
   "id": "63466bfc-b5e8-408f-a9db-b73137259d6f",
   "metadata": {
    "tags": []
   },
   "outputs": [],
   "source": [
    "fwd_peaks_bigger_beam.shape"
   ]
  },
  {
   "cell_type": "code",
   "execution_count": null,
   "id": "2355d32c-ded4-4493-b192-dc739b600cea",
   "metadata": {
    "tags": []
   },
   "outputs": [],
   "source": [
    "io.write_fwd_peaks(fwd_peaks_bigger_beam, output_folder = output_folder, fname_prefix='fpks_50um_beam')"
   ]
  },
  {
   "cell_type": "code",
   "execution_count": null,
   "id": "3a569f05-3aae-4768-8d61-b8a8888e3c10",
   "metadata": {
    "tags": []
   },
   "outputs": [],
   "source": [
    "beam.FWHM = [2, 2]"
   ]
  },
  {
   "cell_type": "code",
   "execution_count": null,
   "id": "4c87efe4-222f-405e-967e-ab8b503a742e",
   "metadata": {
    "tags": []
   },
   "outputs": [],
   "source": [
    "ds_max = 1.2\n",
    "mask = None\n",
    "\n",
    "rot_start = -89.975\n",
    "rot_end = 90.9668\n",
    "rot_step = 0.5\n",
    "omega_angles = np.arange(rot_start, rot_end+rot_step/2, rot_step)\n",
    "print(\"{} rotation angles in one dty position\".format(omega_angles.shape[0]))\n",
    "\n",
    "dty = 0.0\n",
    "fwd_peaks_bigger_beam = forward_projector.forward_peaks_voxels(beam, sample, omega_angles, ucell, pars, dty = dty, mask = None, ds_max = 1.2, plot_peaks=True, verbose = 1)\n",
    "print(fwd_peaks_bigger_beam.shape)"
   ]
  },
  {
   "cell_type": "code",
   "execution_count": null,
   "id": "e5d9cb41-bb33-4174-b8f0-8b84703fbef3",
   "metadata": {
    "tags": []
   },
   "outputs": [],
   "source": [
    "io.write_fwd_peaks(fwd_peaks_bigger_beam, output_folder = output_folder, fname_prefix='fpks_2000um_beam')"
   ]
  },
  {
   "cell_type": "markdown",
   "id": "18e48dc1-2e12-45eb-b75f-0cf0796052c9",
   "metadata": {},
   "source": [
    "# Create projections"
   ]
  },
  {
   "cell_type": "code",
   "execution_count": null,
   "id": "17d025e7-527e-4513-9276-89434b4036e2",
   "metadata": {
    "tags": []
   },
   "outputs": [],
   "source": [
    "rot_angle = -11.5282\n",
    "t0 = time.time()\n",
    "im1 = forward_projector.make_one_projection_with_psf(fwd_peaks, rot_angle, rot_step = 0.05, image_size=(2162, 2068), detector = 'frelon', int_factors = (0.1065, 0.7807, 0.1065))\n",
    "print('It takes {}'.format(time.time() - t0))"
   ]
  },
  {
   "cell_type": "code",
   "execution_count": null,
   "id": "858b50cd-ee36-4182-a931-a810eaf46fb5",
   "metadata": {
    "tags": []
   },
   "outputs": [],
   "source": [
    "t0 = time.time()\n",
    "im2 = forward_projector.make_one_projection_with_psf(fwd_peaks, rot_angle, rot_step = 0.05, image_size=(2162, 2068), detector = 'eiger', int_factors = (0.1065, 0.7807, 0.1065))\n",
    "print('It takes {}'.format(time.time() - t0))"
   ]
  },
  {
   "cell_type": "code",
   "execution_count": null,
   "id": "8a3b90ae-1728-48d9-b683-c139f8aae236",
   "metadata": {
    "tags": []
   },
   "outputs": [],
   "source": [
    "f, a = plt.subplots(1, 2, figsize=(12, 6), sharex=True, sharey=True)\n",
    "a[0].imshow(im1>0)\n",
    "a[0].set_title('frelon')\n",
    "a[1].imshow(im2>0)\n",
    "a[1].set_title('eiger')\n",
    "plt.show()"
   ]
  },
  {
   "cell_type": "code",
   "execution_count": null,
   "id": "e7226a80-3b35-4f13-a31e-e08545d9e45e",
   "metadata": {
    "tags": []
   },
   "outputs": [],
   "source": [
    "t0 = time.time()\n",
    "projs, _ = forward_projector.make_projections_with_psf(fwd_peaks, omega_angles, image_size=(2162, 2068),\n",
    "                                                       detector = 'eiger', int_factors=(0.1065, 0.7807, 0.1065),\n",
    "                                                      sum_flag=False)\n",
    "print('It takes {}'.format(time.time() - t0))"
   ]
  },
  {
   "cell_type": "markdown",
   "id": "b481b640-88cf-46c5-8ad8-ae3de2c35a99",
   "metadata": {},
   "source": [
    "# Make a forward_projector class and run calculations"
   ]
  },
  {
   "cell_type": "code",
   "execution_count": null,
   "id": "eda0bdfd-9ef7-4e79-b9a0-33859f0c9bd6",
   "metadata": {
    "tags": []
   },
   "outputs": [],
   "source": [
    "phase_name = 'Al'\n",
    "opts = {\n",
    "        \"energy\": 43.56,                 # [keV]\n",
    "        \"beam_size\": [1e-3, 1e-3],       # [mm]\n",
    "        \"beam_profile\": \"gaussian\",      # [-]\n",
    "        \"flux\": 5e14,                    # [photons/s]\n",
    "        \"Lss\": 0.0,                      # [mm]\n",
    "        \"min_misori\": 3.0,               # [deg]\n",
    "        \"crystal_system\": 'cubic',\n",
    "        \"remove_small_grains\": True,\n",
    "        \"min_vol\": 3,                    # [voxel]\n",
    "        \"rou\": 2.7,                      # [g/cm^3]\n",
    "        \"mass_abs\": 0.56685,             # [cm^2/g]\n",
    "        \"y0_offset\": 0.0,                # [um]\n",
    "        \"exp_time\": 0.002,               # [s]\n",
    "        \"rot_start\": -89.975,            # [deg]\n",
    "        \"rot_end\": 90.9668,              # [deg]\n",
    "        \"rot_step\": 0.05,                # [deg]\n",
    "        \"sparse_omega\": True,\n",
    "        \"halfy\": 182.0,                  # [um]\n",
    "        \"dty_step\": 1.0,                 # [um]\n",
    "        \"ds_max\": 1.2,                   # [1/angstrom]\n",
    "        \"plot_peaks\": False,\n",
    "        \"plot_flag\": False,\n",
    "        \"detector\": \"eiger\",\n",
    "        \"int_factors\": (0.1065, 0.7807, 0.1065),\n",
    "        \"slurm_folder\": \"slurm_fwd_proj_Al\"}"
   ]
  },
  {
   "cell_type": "code",
   "execution_count": null,
   "id": "797075ac-906b-463c-9ebe-172f9dfbb562",
   "metadata": {
    "tags": []
   },
   "outputs": [],
   "source": [
    "fp = forward_projector.forward_projector(sample_filename, pars_filename, phase_name, output_folder=output_folder, detector_mask = None, to_sparse = False, **opts)"
   ]
  },
  {
   "cell_type": "code",
   "execution_count": null,
   "id": "c4d36185-7c78-457f-99a3-3806ee9e21b6",
   "metadata": {
    "tags": []
   },
   "outputs": [],
   "source": [
    "t0 = time.time()\n",
    "fp.run_single_dty(dty = 0.0)\n",
    "t1 = time.time()\n",
    "print('It takes {}'.format(t1 - t0))"
   ]
  },
  {
   "cell_type": "code",
   "execution_count": null,
   "id": "feb0a2ac-1ba7-4136-a478-ab9c451b3f4f",
   "metadata": {
    "tags": []
   },
   "outputs": [],
   "source": [
    "fp.read_fwd_peaks_from_file = False"
   ]
  },
  {
   "cell_type": "code",
   "execution_count": null,
   "id": "27f8840a-1b23-40e1-afa9-fe5262ed8fb4",
   "metadata": {
    "tags": []
   },
   "outputs": [],
   "source": [
    "# allows overwrite by setting fp.read_fwd_peaks_from_file = False\n",
    "t0 = time.time()\n",
    "fp.run_single_dty(dty = 0.0)\n",
    "t1 = time.time()\n",
    "print('It takes {}'.format(t1 - t0))"
   ]
  },
  {
   "cell_type": "code",
   "execution_count": null,
   "id": "0b1b6f26-0c11-4cb2-b5b5-405861ee7f41",
   "metadata": {
    "tags": []
   },
   "outputs": [],
   "source": [
    "# run again, should be faster wit numba compiled\n",
    "t0 = time.time()\n",
    "fp.run_single_dty(dty = -120.0)\n",
    "t1 = time.time()\n",
    "print('It takes {}'.format(t1 - t0))"
   ]
  },
  {
   "cell_type": "code",
   "execution_count": null,
   "id": "dbdb4d08-275d-45c4-8bb6-762afd50f161",
   "metadata": {
    "tags": []
   },
   "outputs": [],
   "source": [
    "dty_select = -120\n",
    "if dty_select == 0:\n",
    "    fwd_peaks = io.read_fwd_peaks(f'{output_folder}/fpks_dty_0p0.h5')\n",
    "    fwd_peaks_3d = io.read_fwd_peaks(f'{output_folder}/fpks_3d_dty_0p0.h5')\n",
    "else:\n",
    "    fwd_peaks = io.read_fwd_peaks(f'{output_folder}/fpks_dty_-120p0.h5')\n",
    "    fwd_peaks_3d = io.read_fwd_peaks(f'{output_folder}/fpks_3d_dty_-120p0.h5')\n",
    "print(fwd_peaks.shape)\n",
    "print(fwd_peaks_3d.shape)"
   ]
  },
  {
   "cell_type": "code",
   "execution_count": null,
   "id": "4cd2b3fe-63c1-458b-abf7-6bf804db3a55",
   "metadata": {
    "tags": []
   },
   "outputs": [],
   "source": [
    "forward_projector.plot_fwd_peaks(fwd_peaks)"
   ]
  },
  {
   "cell_type": "code",
   "execution_count": null,
   "id": "cd83e00d-2d69-4ec7-b7a4-f25992d07a37",
   "metadata": {
    "tags": []
   },
   "outputs": [],
   "source": [
    "intensity_map = forward_projector.make_intensity_map(fwd_peaks[:, 5], fwd_peaks[:, 6], fwd_peaks[:, 23],\n",
    "                                     x_range=[-0.18, 0.18], y_range=[-0.18, 0.18], pixel_size=1e-3)\n",
    "print(intensity_map.shape)"
   ]
  },
  {
   "cell_type": "code",
   "execution_count": null,
   "id": "052a6517-5ddf-4f45-95ac-dea31d6c0f45",
   "metadata": {
    "tags": []
   },
   "outputs": [],
   "source": [
    "intensity_map = forward_projector.make_intensity_map(fwd_peaks[:, 18], fwd_peaks[:, 19], fwd_peaks[:, 23],\n",
    "                                     x_range = [0, 2162], y_range = [0, 2068], pixel_size=1,)\n",
    "print(intensity_map.shape)"
   ]
  },
  {
   "cell_type": "code",
   "execution_count": null,
   "id": "d6159118-91ec-44a4-ada4-02eca286aec1",
   "metadata": {
    "tags": []
   },
   "outputs": [],
   "source": [
    "omega_angles = np.arange(opts[\"rot_start\"], opts[\"rot_end\"] + opts[\"rot_step\"]/2, np.max([opts[\"rot_step\"], 0.5]))\n",
    "print(omega_angles.shape)"
   ]
  },
  {
   "cell_type": "code",
   "execution_count": null,
   "id": "9bc10f8d-9caf-4bda-afa6-5a579f09b588",
   "metadata": {
    "tags": []
   },
   "outputs": [],
   "source": [
    "projs, projs_sum = forward_projector.make_projections_with_psf(\n",
    "    fwd_peaks,\n",
    "    omega_angles,\n",
    "    image_size=(2162, 2068),\n",
    "    detector='eiger',\n",
    "    int_factors=(0.1065, 0.7807, 0.1065),\n",
    "    sum_flag = True\n",
    ")"
   ]
  },
  {
   "cell_type": "code",
   "execution_count": null,
   "id": "0f44842c-f1c1-485a-a764-1c2551ed0178",
   "metadata": {
    "tags": []
   },
   "outputs": [],
   "source": [
    "f, a = plt.subplots(1,2, sharex=True, sharey=True, figsize=(16, 8))\n",
    "\n",
    "a[0].imshow(intensity_map, origin=\"lower\", norm=LogNorm(vmin=10, vmax=1e4), interpolation=\"nearest\")\n",
    "a[0].set_title('(a) Sum of intensities without psf')\n",
    "\n",
    "a[1].imshow(projs_sum, origin=\"lower\", norm=LogNorm(vmin=10, vmax=1e4), interpolation=\"nearest\")\n",
    "a[1].set_title('(b) Sum of projections with psf')\n",
    "\n",
    "a[1].set_xlim([200, 600])\n",
    "a[1].set_ylim([200, 600])"
   ]
  },
  {
   "cell_type": "markdown",
   "id": "07c00866-dc85-46ba-846e-6acf28977d33",
   "metadata": {},
   "source": [
    "# Compare with the experimental projections"
   ]
  },
  {
   "cell_type": "code",
   "execution_count": null,
   "id": "05851bd6-4141-4018-bd97-c80136313b84",
   "metadata": {},
   "outputs": [],
   "source": [
    "# experimental raw data\n",
    "raw_h5 = '/data/visitor/ma6288/id11/20241119/RAW_DATA/A2050_DN_W340_nscope_5pct_strained/A2050_DN_W340_nscope_5pct_strained_full_slice/A2050_DN_W340_nscope_5pct_strained_full_slice.h5'"
   ]
  },
  {
   "cell_type": "code",
   "execution_count": null,
   "id": "9a7ddc5d-a714-4a48-9355-55f4e3a25125",
   "metadata": {
    "tags": []
   },
   "outputs": [],
   "source": [
    "# from -11.7282 to -11.4282 deg\n",
    "# StartIndex=1565\n",
    "# EndIndex=1571\n",
    "\n",
    "# from -2.47853 to 2.5213 deg\n",
    "StartIndex=1750\n",
    "EndIndex=1850"
   ]
  },
  {
   "cell_type": "code",
   "execution_count": null,
   "id": "edb2de0b-2065-4217-bdcb-7f0f930f4de5",
   "metadata": {
    "tags": []
   },
   "outputs": [],
   "source": [
    "scan = f'{dty_select + 182 + 1}.1'\n",
    "print(scan)"
   ]
  },
  {
   "cell_type": "code",
   "execution_count": null,
   "id": "0a318796-6ce5-44b6-a9d2-ebd568292780",
   "metadata": {
    "tags": []
   },
   "outputs": [],
   "source": [
    "# 183.1, dty = 0\n",
    "# 63.1, dty = -120\n",
    "projs_exp = io.read_images_from_h5(raw_h5, scan = scan, StartIndex=StartIndex, EndIndex=EndIndex)\n",
    "print(projs_exp.shape)\n",
    "projs_exp_sum = np.sum(projs_exp, axis = 0)"
   ]
  },
  {
   "cell_type": "code",
   "execution_count": null,
   "id": "ced6a481-cb0a-424a-b020-4a0d4e87d11f",
   "metadata": {
    "tags": []
   },
   "outputs": [],
   "source": [
    "omega_angles = np.arange(opts[\"rot_start\"], opts[\"rot_end\"] + opts[\"rot_step\"]/2, opts[\"rot_step\"])\n",
    "print(omega_angles.shape)"
   ]
  },
  {
   "cell_type": "code",
   "execution_count": null,
   "id": "42392976-cbb4-4c74-9e9b-ffa40ece9b60",
   "metadata": {
    "tags": []
   },
   "outputs": [],
   "source": [
    "projs_simu, projs_simu_sum = forward_projector.make_projections_with_psf(\n",
    "    fwd_peaks,\n",
    "    omega_angles[StartIndex:EndIndex],\n",
    "    image_size=(2162, 2068),\n",
    "    detector='eiger',\n",
    "    int_factors=(0.1065, 0.7807, 0.1065),\n",
    "    sum_flag=True\n",
    ")\n",
    "print(projs_simu.shape)"
   ]
  },
  {
   "cell_type": "code",
   "execution_count": null,
   "id": "85df9a87-1672-4b09-8b65-14bd405653e4",
   "metadata": {
    "tags": []
   },
   "outputs": [],
   "source": [
    "f, a = plt.subplots(1,2, sharex=True, sharey=True, figsize=(12, 6))\n",
    "\n",
    "a[0].imshow(projs_exp_sum, origin=\"lower\", norm=LogNorm(vmin=1, vmax=1000), interpolation=\"nearest\")\n",
    "a[0].set_title('(a) Exp')\n",
    "\n",
    "a[1].imshow(projs_simu_sum, origin=\"lower\", norm=LogNorm(vmin=1, vmax=1e4), interpolation=\"nearest\")\n",
    "a[1].set_title('(b) Simu')\n",
    "\n",
    "if dty_select == 0:\n",
    "    a[1].set_xlim([200, 350])\n",
    "    a[1].set_ylim([1150, 1400])\n",
    "else:\n",
    "    a[1].set_xlim([200, 400])\n",
    "    a[1].set_ylim([1300, 1500])\n",
    "f.tight_layout()"
   ]
  },
  {
   "cell_type": "markdown",
   "id": "be9533bd-d5f9-4906-864d-2696ccc7875b",
   "metadata": {},
   "source": [
    "# Convert fwd_peaks to sparse file"
   ]
  },
  {
   "cell_type": "code",
   "execution_count": null,
   "id": "7627f127-5304-41eb-80cf-1817e8346032",
   "metadata": {
    "tags": []
   },
   "outputs": [],
   "source": [
    "opts_seg = forward_projector.get_opts_seg()"
   ]
  },
  {
   "cell_type": "code",
   "execution_count": null,
   "id": "b43644ed-7652-4d0e-ad83-988061c48a4f",
   "metadata": {
    "tags": []
   },
   "outputs": [],
   "source": [
    "opts_seg"
   ]
  },
  {
   "cell_type": "code",
   "execution_count": null,
   "id": "1c92e318-f0f8-4884-aaef-6946ba240c73",
   "metadata": {
    "tags": []
   },
   "outputs": [],
   "source": [
    "t0 = time.time()\n",
    "projs, _ = forward_projector.make_projections_with_psf(\n",
    "    fwd_peaks,\n",
    "    omega_angles,\n",
    "    image_size=(2162, 2068),\n",
    "    detector='eiger',\n",
    "    int_factors=(0.1065, 0.7807, 0.1065),\n",
    "    sum_flag = False\n",
    ")\n",
    "t1 = time.time()\n",
    "print('It takes {}'.format(t1 - t0))"
   ]
  },
  {
   "cell_type": "code",
   "execution_count": null,
   "id": "70a6f7b5-8a1f-4880-9a01-72af021b46d4",
   "metadata": {
    "tags": []
   },
   "outputs": [],
   "source": [
    "dty = fwd_peaks[0, 8]\n",
    "destname = os.path.join(output_folder, 'fsparse_dty_' + str(round(dty, 2)).replace('.', 'p') + '.h5')\n",
    "print(destname)"
   ]
  },
  {
   "cell_type": "code",
   "execution_count": null,
   "id": "f330f1d5-c6fc-409f-9dc3-f77c7cda8afd",
   "metadata": {
    "tags": []
   },
   "outputs": [],
   "source": [
    "print(fwd_peaks.shape, omega_angles.shape, projs.shape)"
   ]
  },
  {
   "cell_type": "code",
   "execution_count": null,
   "id": "711c4995-b5c4-495e-9b7f-5679f20277e9",
   "metadata": {
    "tags": []
   },
   "outputs": [],
   "source": [
    "t0 = time.time()\n",
    "forward_projector.make_projs_and_sparse_file(fwd_peaks, destname, omega_angles, opts_seg, detector='eiger',\n",
    "                                             image_size=(2162, 2068), int_factors=(0.1065, 0.7807, 0.1065))\n",
    "t1 = time.time()\n",
    "print('It takes {}'.format(t1 - t0))"
   ]
  },
  {
   "cell_type": "code",
   "execution_count": null,
   "id": "d4714464-5736-4fc9-b7ad-b1477ae5ae25",
   "metadata": {
    "tags": []
   },
   "outputs": [],
   "source": [
    "# filename for segmented sparse\n",
    "destname = os.path.join(output_folder, 'fsparse_dty_' + str(round(dty, 2)).replace('.', 'p') + '_seg.h5')"
   ]
  },
  {
   "cell_type": "code",
   "execution_count": null,
   "id": "9ce54907-4ec6-405f-afbf-b24c3f6d75dc",
   "metadata": {
    "tags": []
   },
   "outputs": [],
   "source": [
    "t0 = time.time()\n",
    "forward_projector.segment_frms(projs, destname, detector='eiger', opts_seg = opts_seg)\n",
    "t1 = time.time()\n",
    "print('It takes {}'.format(t1 - t0))"
   ]
  },
  {
   "cell_type": "markdown",
   "id": "58028951-be04-4bb4-a173-81778cd28913",
   "metadata": {},
   "source": [
    "# Assemble and label the peaks from the sparse file\n",
    "# Note: this is only to illustrate the peak assembling, it is however recommended not to do so because of the speed"
   ]
  },
  {
   "cell_type": "code",
   "execution_count": null,
   "id": "607f0937-7cfb-4adf-ac36-825be4372dce",
   "metadata": {
    "tags": []
   },
   "outputs": [],
   "source": [
    "forward_projector.assemble_sparsefiles(fp.output_folder, fp.dtys,\n",
    "                                       outname_sparse=f'{output_folder}/fwd_sparse.h5',image_size=(2162, 2068))"
   ]
  },
  {
   "cell_type": "code",
   "execution_count": null,
   "id": "fa7feddf-feb1-4684-a8c9-7ce7c86e33a1",
   "metadata": {},
   "outputs": [],
   "source": []
  }
 ],
 "metadata": {
  "kernelspec": {
   "display_name": "Python 3 (main)",
   "language": "python",
   "name": "python3"
  },
  "language_info": {
   "codemirror_mode": {
    "name": "ipython",
    "version": 3
   },
   "file_extension": ".py",
   "mimetype": "text/x-python",
   "name": "python",
   "nbconvert_exporter": "python",
   "pygments_lexer": "ipython3",
   "version": "3.11.6"
  }
 },
 "nbformat": 4,
 "nbformat_minor": 5
}
