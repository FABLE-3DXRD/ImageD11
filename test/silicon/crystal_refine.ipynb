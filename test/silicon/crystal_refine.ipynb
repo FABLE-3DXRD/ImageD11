{
 "cells": [
  {
   "cell_type": "markdown",
   "id": "56b984a1-1c20-4f5c-885a-9a50e6cb7fc9",
   "metadata": {},
   "source": [
    "Refine a single crystal structure"
   ]
  },
  {
   "cell_type": "code",
   "execution_count": null,
   "id": "5b295a61-22a2-46b3-8bb1-50c67bb6d6da",
   "metadata": {
    "tags": []
   },
   "outputs": [],
   "source": [
    "exec(open('/data/id11/nanoscope/install_ImageD11_from_git.py').read())\n",
    "PYTHONPATH = setup_ImageD11_from_git( os.path.join( os.environ['HOME'],'git'), 'ImageD11_clean' )"
   ]
  },
  {
   "cell_type": "code",
   "execution_count": null,
   "id": "efa20945-1cb5-42c7-bc47-4353a72ec31b",
   "metadata": {},
   "outputs": [],
   "source": [
    "# Set up the code to run latest version from this path\n",
    "import os, sys, numpy as np, pylab as pl\n",
    "import fabio\n",
    "import ImageD11.sinograms.dataset\n",
    "import ImageD11.refinegrains\n",
    "import ImageD11.sinograms.properties\n",
    "import ImageD11.indexing\n",
    "import ImageD11.sym_u\n",
    "import ImageD11.peakselect"
   ]
  },
  {
   "cell_type": "code",
   "execution_count": null,
   "id": "a201b685-f2a9-4d54-a290-1a863873d7bc",
   "metadata": {
    "tags": []
   },
   "outputs": [],
   "source": [
    "if not os.path.exists('processed'):\n",
    "    import ImageD11.fetch_data\n",
    "    ImageD11.fetch_data.si_cube_s3dxrd_dataset('.', allow_download=True)"
   ]
  },
  {
   "cell_type": "code",
   "execution_count": null,
   "id": "8955fca9-ca7e-4272-8029-3b62a468b8ab",
   "metadata": {
    "tags": []
   },
   "outputs": [],
   "source": [
    "# Load a test dataset\n",
    "\n",
    "dsname = os.path.join('processed','Si_cube','Si_cube_S3DXRD_nt_moves_dty',\n",
    "                      'Si_cube_S3DXRD_nt_moves_dty_dataset.h5')\n",
    "dset = ImageD11.sinograms.dataset.load( dsname )\n",
    "dset.maskfile = \"/data/id11/nanoscope/Eiger/eiger_mask_E-08-0173_20240122.edf\""
   ]
  },
  {
   "cell_type": "code",
   "execution_count": null,
   "id": "21072cc2-8edc-44da-9647-23c66941ac09",
   "metadata": {
    "tags": []
   },
   "outputs": [],
   "source": [
    "if not os.path.exists(dset.pksfile):\n",
    "    ImageD11.sinograms.properties.main( dsname )"
   ]
  },
  {
   "cell_type": "code",
   "execution_count": null,
   "id": "5bd97a58-3bc7-4176-99e2-de8bc5da271e",
   "metadata": {
    "tags": []
   },
   "outputs": [],
   "source": [
    "# Get the fpico6 monitor\n",
    "dset.pk2d['monitor'] = dset.get_monitor_pk2d( dset.pk2d, name='fpico6')\n",
    "cf = dset.get_cf_2d()\n",
    "dset.update_colfile_pars( cf )\n",
    "\" \".join(cf.titles)"
   ]
  },
  {
   "cell_type": "code",
   "execution_count": null,
   "id": "046ed806-0d9a-4b4a-83dc-ffa1bfb2d81e",
   "metadata": {
    "tags": []
   },
   "outputs": [],
   "source": [
    "cf.addcolumn(  ImageD11.refinegrains.lf( cf.tth, cf.eta ), \"lf\" )\n",
    "cf.addcolumn(  ImageD11.refinegrains.polarization( cf.tth, cf.eta ), \"polarization\" )"
   ]
  },
  {
   "cell_type": "code",
   "execution_count": null,
   "id": "9b5cad69-cc29-430b-9a35-605e17a033da",
   "metadata": {
    "tags": []
   },
   "outputs": [],
   "source": [
    "cf_4d = dset.get_cf_4d()"
   ]
  },
  {
   "cell_type": "code",
   "execution_count": null,
   "id": "0192b6fa-7e43-452f-9518-1635e16c1f63",
   "metadata": {
    "tags": []
   },
   "outputs": [],
   "source": [
    "cf_4d.filter(cf_4d.npk2d>1)\n",
    "phase_name = 'Si'\n",
    "dset.update_colfile_pars(cf_4d, 'Si')"
   ]
  },
  {
   "cell_type": "code",
   "execution_count": null,
   "id": "27a6e9a1-5fd5-4800-8523-05644d6cd7f1",
   "metadata": {
    "tags": []
   },
   "outputs": [],
   "source": [
    "idx = ImageD11.indexing.index(cf_4d, npk_tol = [(cf_4d.nrows//2, 0.05),], maxpairs=10)"
   ]
  },
  {
   "cell_type": "code",
   "execution_count": null,
   "id": "8e99e8e8-a06f-4f95-8de1-ab20ea1773ab",
   "metadata": {
    "tags": []
   },
   "outputs": [],
   "source": [
    "assert len(idx.ubis) == 1, 'expecting one grain to be found'\n",
    "g = ImageD11.grain.grain( ImageD11.sym_u.find_uniq_u( idx.ubis[0] , ImageD11.sym_u.cubic()) ) "
   ]
  },
  {
   "cell_type": "code",
   "execution_count": null,
   "id": "b08892a4-e5aa-43e3-8be5-063626cf6b33",
   "metadata": {
    "tags": []
   },
   "outputs": [],
   "source": [
    "g.UB, g.ubi, g.unitcell"
   ]
  },
  {
   "cell_type": "code",
   "execution_count": null,
   "id": "f10fc496-a086-4e86-b847-ccc7cca0bf62",
   "metadata": {
    "tags": []
   },
   "outputs": [],
   "source": [
    "%%time\n",
    "# Index *all* of the peaks in the file. \n",
    "# H,K,L as real numbers\n",
    "hkl_real = g.ubi.dot( (cf.gx, cf.gy, cf.gz ) )\n",
    "hkl_int = np.round( hkl_real ).astype(int)\n",
    "gcalc = g.ub.dot( hkl_int )\n",
    "gobs = (cf.gx, cf.gy, cf.gz)\n",
    "gerr2 = ((gcalc - gobs)**2).sum(axis=0)\n",
    "s = ( np.sign( cf.yl ).astype(int) + 1 ) // 2\n",
    "\n",
    "# Save the h,k,l,sign(y) and gerr2\n",
    "for i, hkl in enumerate('hkl'):\n",
    "    cf.addcolumn( hkl_int[i], hkl )\n",
    "cf.addcolumn( s, 'signY')\n",
    "cf.addcolumn( gerr2, 'gerr2' )"
   ]
  },
  {
   "cell_type": "code",
   "execution_count": null,
   "id": "3724c9b5-2601-40b2-8ad1-c1bbc7d257e6",
   "metadata": {
    "tags": []
   },
   "outputs": [],
   "source": [
    "# plot the results from the indexing to peaks\n",
    "f,ax = pl.subplots(2,3,figsize=(12,8), constrained_layout=True)\n",
    "for i in range(3):\n",
    "    for ys in 0,1:\n",
    "        m = s == ys\n",
    "        j = (i+1)%3\n",
    "        ax[ys, i].plot( hkl_real[i,m], hkl_real[j,m], \".\", ms = 1, alpha=0.5 )\n",
    "        ax[ys, i].set( xlabel='hkl'[i], ylabel='hkl'[j], title=ys )\n",
    "        ax[ys, i].grid()"
   ]
  },
  {
   "cell_type": "code",
   "execution_count": null,
   "id": "f88b8580-5bc5-4b10-88b4-c072fbd38579",
   "metadata": {
    "tags": []
   },
   "outputs": [],
   "source": [
    "gerr2_cut = 2e-4"
   ]
  },
  {
   "cell_type": "code",
   "execution_count": null,
   "id": "112a560d-5e71-4756-bf6e-bb1d68cc4b30",
   "metadata": {
    "tags": []
   },
   "outputs": [],
   "source": [
    "f, ax = pl.subplots(1,1,figsize=(8,6), sharey=True,constrained_layout=True)\n",
    "f.colorbar( ax.hist2d( gerr2, pow(cf.sum_intensity,1/3), bins=(np.logspace(-8,0,64),64), norm='log')[-1], ax=ax)\n",
    "ax.plot( [ gerr2_cut, gerr2_cut ], ax.get_ylim(), \"k-\" )\n",
    "ax.set( xlabel = 'G-vector error', xscale='log', ylabel='intensity^(1/3)' );"
   ]
  },
  {
   "cell_type": "code",
   "execution_count": null,
   "id": "97b3e554-7f27-4dad-92f5-707d9f56d271",
   "metadata": {
    "tags": []
   },
   "outputs": [],
   "source": [
    "# Remove the obviously wrong peaks\n",
    "print('All peaks',cf.nrows)\n",
    "cf.filter( cf.gerr2 < gerr2_cut )\n",
    "print('remove outliers',cf.nrows)"
   ]
  },
  {
   "cell_type": "code",
   "execution_count": null,
   "id": "b9d89bb4-1c3a-41bc-b278-22dad8801c19",
   "metadata": {
    "tags": []
   },
   "outputs": [],
   "source": [
    "%%time\n",
    "# sort the columnfile:\n",
    "cf.reorder( np.lexsort( ( cf.gerr2, cf.dty, cf.l, cf.k, cf.h, cf.signY ) ) )"
   ]
  },
  {
   "cell_type": "code",
   "execution_count": null,
   "id": "ef2102fc-cc44-428b-ad35-b8b574ccb72d",
   "metadata": {
    "tags": []
   },
   "outputs": [],
   "source": [
    "o=cf.nrows//2\n",
    "ts = [t for t in cf.titles]\n",
    "#ts.sort()\n",
    "print(\" \".join([\"%10s\"%(t[:10]) for t in ts]))\n",
    "for i in range(o,o+10):\n",
    "    print(\" \".join([\"%10.6g\"%(cf[t][i]) for t in ts]))"
   ]
  },
  {
   "cell_type": "code",
   "execution_count": null,
   "id": "1841f20b-d615-40ba-807e-3939785fb277",
   "metadata": {
    "tags": []
   },
   "outputs": [],
   "source": [
    "# normalised intensity\n",
    "# cf.addcolumn( cf.sum_intensity * cf.lf * cf.fpico6.mean() / cf.fpico6 , 'normalised_intensity')\n",
    "avgmon = np.average(cf.monitor)\n",
    "cf.addcolumn( cf.sum_intensity * cf.lf * avgmon / ( cf.monitor * cf.polarization)  , 'normalised_intensity')"
   ]
  },
  {
   "cell_type": "code",
   "execution_count": null,
   "id": "6e89d4d6-c8bc-473c-87db-9ef169ece57d",
   "metadata": {
    "tags": []
   },
   "outputs": [],
   "source": [
    "def merge_peaks_hkl( cf ):\n",
    "    \"\"\"\n",
    "    cf should have been sorted by h,k,l,signY already\n",
    "    we are summing up blocks\n",
    "    \"\"\"\n",
    "    cf.addcolumn(np.zeros(cf.nrows, dtype=int), 'merge_id')\n",
    "    # First add a label saying which peak is which\n",
    "    i = 0     # loop over table\n",
    "    pkid = 0  # which merged peak is this\n",
    "    while i < cf.nrows:   # until the end of the table\n",
    "        start = i     # beginning of block\n",
    "        key = cf.h[i], cf.k[i], cf.l[i], cf.signY[i]\n",
    "        while i < cf.nrows and (cf.h[i], cf.k[i], cf.l[i], cf.signY[i]) == key:\n",
    "            i += 1 # look for the next\n",
    "        end = i\n",
    "        cf.merge_id[start:end] = pkid\n",
    "        pkid += 1\n",
    "    # Now make a reduced columnfile\n",
    "    weights = cf.sum_intensity\n",
    "    wnorm  = np.bincount( cf.merge_id, weights = weights )\n",
    "    newcf = {}        \n",
    "    for title in cf.titles:\n",
    "        if title.find( 'intensity' ) >= 0: # unit weights to sum\n",
    "            newcf[title] = np.bincount( cf.merge_id, weights = cf[title] )\n",
    "        else:\n",
    "            newcf[title] = np.bincount( cf.merge_id, weights = cf[title] * weights )/wnorm\n",
    "    mergedcf = ImageD11.columnfile.colfile_from_dict( newcf )\n",
    "    return  mergedcf"
   ]
  },
  {
   "cell_type": "code",
   "execution_count": null,
   "id": "00400dcd-fada-4bab-9282-8bb588deddbd",
   "metadata": {
    "tags": []
   },
   "outputs": [],
   "source": [
    "%%time\n",
    "mall = merge_peaks_hkl( cf )"
   ]
  },
  {
   "cell_type": "code",
   "execution_count": null,
   "id": "74d28b6b-930e-4fe8-8db5-b946c993e87b",
   "metadata": {
    "tags": []
   },
   "outputs": [],
   "source": [
    "mask = fabio.open(dset.maskfile).data"
   ]
  },
  {
   "cell_type": "code",
   "execution_count": null,
   "id": "8f4cc5f5-f140-4567-8e2b-6c172143888f",
   "metadata": {
    "tags": []
   },
   "outputs": [],
   "source": [
    "print(mall.nrows)\n",
    "mclean = ImageD11.peakselect.filter_peaks_by_distance_to_mask( mall, mask )\n",
    "print(mclean.nrows)"
   ]
  },
  {
   "cell_type": "code",
   "execution_count": null,
   "id": "7e30f231-8948-4a27-8fa8-f769138f4dde",
   "metadata": {
    "tags": []
   },
   "outputs": [],
   "source": [
    "oclip = 2 # degrees cut\n",
    "mclean.filter( mclean.omega > dset.obinedges[0]+oclip ) # peaks near the scan start\n",
    "mclean.filter( mclean.omega < dset.obinedges[-1]-oclip) # peaks near the scan end\n",
    "print(\"After removing peaks and scan ends\",mclean.nrows)\n",
    "mclean.filter( mclean.lf > mclean.lf.max() * 0.05 )\n",
    "print(\"After removing peaks close to rotation axis\",mclean.nrows)\n",
    "mclean.filter( mclean.Number_of_pixels > 2 )\n",
    "print(\"After removing peaks with only 4 pixels\",mclean.nrows)"
   ]
  },
  {
   "cell_type": "code",
   "execution_count": null,
   "id": "cc5360b2-8573-452c-a11d-1411115a7862",
   "metadata": {
    "tags": []
   },
   "outputs": [],
   "source": [
    "pl.figure()\n",
    "pl.plot( mall.fc, mall.sc, 'x' )\n",
    "pl.plot( mclean.fc, mclean.sc, '+' )"
   ]
  },
  {
   "cell_type": "code",
   "execution_count": null,
   "id": "812140a8-7c26-491c-af9d-f3fd7a709f66",
   "metadata": {
    "tags": []
   },
   "outputs": [],
   "source": [
    "def write_shelx_mergeall( merged, fname, machine_err = 0.03 ):\n",
    "    # FORMAT(3I4,2F8.2,I4) for h,k,l,Fo2,sigma(Fo2), and batch number\n",
    "    sig = merged.normalised_intensity\n",
    "    err = np.sqrt(sig+1) + machine_err * sig\n",
    "    print(sig.mean(), sig.max())\n",
    "    if sig.max() > 9.99e4:\n",
    "        sc = 9.99e4/sig.max()\n",
    "    else:\n",
    "        sc = 1\n",
    "    print(sc)\n",
    "    pl.hist(sig,bins=200)\n",
    "    with open(fname,'w') as fout:\n",
    "        for i in range(merged.nrows):\n",
    "#        ( h, k, l, s, sI ) in enumerate( merged ):\n",
    "            fout.write(\"%4d%4d%4d%8.2f%8.2f%4d\\n\"%( \n",
    "                merged.h[i],\n",
    "                merged.k[i],\n",
    "                merged.l[i],\n",
    "                sc*sig[i],\n",
    "                sc*err[i],0))"
   ]
  },
  {
   "cell_type": "code",
   "execution_count": null,
   "id": "a9e4e0f6-cfe5-4227-952c-d541e8d0a778",
   "metadata": {
    "tags": []
   },
   "outputs": [],
   "source": [
    "write_shelx_mergeall( mclean, \"si.hkl\" )"
   ]
  },
  {
   "cell_type": "code",
   "execution_count": null,
   "id": "254e0a7f-20c2-4454-a4e0-b1146f220acd",
   "metadata": {
    "tags": []
   },
   "outputs": [],
   "source": [
    "w = cf.parameters.get('wavelength')\n",
    "a = pow( np.linalg.det( g.ubi ), 1/3 )\n",
    "with open('si.ins','w')as fins:\n",
    "    fins.write(f\"\"\"TITL    52457-ICSD in space group F d -3 m S\n",
    "CELL    {w:.5f}   {a:.5f}  {a:.5f}  {a:.5f}   90.000   90.000   90.000\n",
    "ZERR     8        0.0000   0.0000   0.0000    0.000    0.000    0.000\n",
    "LATT 4\n",
    "SYMM X+1/4,-Z,Y+1/4\n",
    "SYMM X+1/4,Z+1/4,-Y\n",
    "SYMM Z+1/4,Y+1/4,-X\n",
    "SYMM -Z,Y+1/4,X+1/4\n",
    "SYMM -Y,X+1/4,Z+1/4\n",
    "SYMM Y+1/4,-X,Z+1/4\n",
    "SYMM Z,X,Y\n",
    "SYMM Y,Z,X\n",
    "SYMM -Y+1/4,-Z+1/4,X\n",
    "SYMM Z,-X+1/4,-Y+1/4\n",
    "SYMM -Y+1/4,Z,-X+1/4\n",
    "SYMM -Z+1/4,-X+1/4,Y\n",
    "SYMM -Z+1/4,X,-Y+1/4\n",
    "SYMM Y,-Z+1/4,-X+1/4\n",
    "SYMM X,-Y+1/4,-Z+1/4\n",
    "SYMM -X+1/4,Y,-Z+1/4\n",
    "SYMM -X+1/4,-Y+1/4,Z\n",
    "SYMM Y+1/4,X+1/4,-Z\n",
    "SYMM -Y,-X,-Z\n",
    "SYMM Z+1/4,-Y,X+1/4\n",
    "SYMM -Z,-Y,-X\n",
    "SYMM -X,Z+1/4,Y+1/4\n",
    "SYMM -X,-Z,-Y\n",
    "SFAC     Si\n",
    "UNIT       8\n",
    "L.S.    10\n",
    "ACTA\n",
    "TEMP     18.00\n",
    "FVAR    0.4788\n",
    "EXTI\n",
    "Si1     1   0.125   0.125   0.125  10.04167   0.00942\n",
    "HKLF    4\n",
    "END\n",
    "\"\"\")"
   ]
  },
  {
   "cell_type": "code",
   "execution_count": null,
   "id": "ce69e77c-626c-491d-a8e5-cc12b9f1b986",
   "metadata": {
    "tags": []
   },
   "outputs": [],
   "source": [
    "!/home/esrf/wright/bin/shelxl si"
   ]
  },
  {
   "cell_type": "code",
   "execution_count": null,
   "id": "83ad7c73-3e82-4e54-af05-599b26724aee",
   "metadata": {
    "tags": []
   },
   "outputs": [],
   "source": [
    "import ImageD11.sym_u"
   ]
  },
  {
   "cell_type": "code",
   "execution_count": null,
   "id": "4546a116-b1e2-4f53-96a0-24641f48f85e",
   "metadata": {
    "tags": []
   },
   "outputs": [],
   "source": [
    "from CifFile import ReadCif \n",
    "cif = ReadCif('si.fcf')"
   ]
  },
  {
   "cell_type": "code",
   "execution_count": null,
   "id": "2bf4d948-b7b3-4c73-9e42-0df404c257db",
   "metadata": {
    "tags": []
   },
   "outputs": [],
   "source": [
    "block = cif['si']"
   ]
  },
  {
   "cell_type": "code",
   "execution_count": null,
   "id": "c458f5bc-0287-4be8-a870-63d630ce4a65",
   "metadata": {
    "tags": []
   },
   "outputs": [],
   "source": [
    "ops = block['_space_group_symop_operation_xyz']\n",
    "h = [int(v) for v in block['_refln_index_h']]\n",
    "k = [int(v) for v in block['_refln_index_k']]\n",
    "l = [int(v) for v in block['_refln_index_l']]\n",
    "#fc = [float(v) for v in block['_refln_F_calc']]\n",
    "fc = [float(v) for v in block['_refln_F_squared_calc']]\n",
    "fo = [float(v) for v in block['_refln_F_squared_meas']]\n",
    "len(fc)"
   ]
  },
  {
   "cell_type": "code",
   "execution_count": null,
   "id": "cb3272c7-30bb-4156-9692-7cfca91f6c0e",
   "metadata": {
    "tags": []
   },
   "outputs": [],
   "source": [
    "pl.plot(fo, np.array(fc),'.', label = 'cro_test')\n",
    "pl.xlabel('fobs')\n",
    "pl.ylabel('fcalc')\n",
    "pl.loglog()"
   ]
  },
  {
   "cell_type": "code",
   "execution_count": null,
   "id": "347e9d29-6f8a-48d9-90bd-6a3727e27238",
   "metadata": {
    "tags": []
   },
   "outputs": [],
   "source": [
    "grp = ImageD11.sym_u.group()"
   ]
  },
  {
   "cell_type": "code",
   "execution_count": null,
   "id": "a25fbe4b-dbbc-49a8-84be-f11a3fa3e88a",
   "metadata": {
    "tags": []
   },
   "outputs": [],
   "source": [
    "mops = list(set([ tuple((24*ImageD11.sym_u.m_from_string( sop ).ravel()).astype(int)) for sop in ops ]))"
   ]
  },
  {
   "cell_type": "code",
   "execution_count": null,
   "id": "9324b9ec-7ec7-4ca0-8bcc-ba900314384e",
   "metadata": {
    "tags": []
   },
   "outputs": [],
   "source": [
    "len(set(mops))"
   ]
  },
  {
   "cell_type": "code",
   "execution_count": null,
   "id": "1adbf51c-69e7-4269-b68b-e4fb604925aa",
   "metadata": {
    "tags": []
   },
   "outputs": [],
   "source": [
    "grp.group = [ np.array( o ).reshape((3,3)).astype(float)/24 for o in set( mops ) ]"
   ]
  },
  {
   "cell_type": "code",
   "execution_count": null,
   "id": "87b7afb0-5593-4e19-a211-c383165147bf",
   "metadata": {
    "tags": []
   },
   "outputs": [],
   "source": [
    "assert( (-24,0,0,0,-24,0,0,0,-24) in mops) "
   ]
  },
  {
   "cell_type": "code",
   "execution_count": null,
   "id": "23753b89-f8ad-43fd-a973-616370cd5e0d",
   "metadata": {
    "tags": []
   },
   "outputs": [],
   "source": [
    "lut = {}\n",
    "for i in range(len(h)):\n",
    "    lut[ int(h[i]), int(k[i]), int(l[i]) ] = fc[i]   #**2\n",
    "    for op in grp.group[1:]:\n",
    "        sh, sk, sl = op.dot( (h[i], k[i], l[i]) )\n",
    "        lut[ int(sh), int(sk), int(sl) ] = fc[i]    #**2"
   ]
  },
  {
   "cell_type": "code",
   "execution_count": null,
   "id": "8bf24358-62f6-4a4f-bb0c-5030b01d2e7e",
   "metadata": {
    "tags": []
   },
   "outputs": [],
   "source": [
    "hkl = np.transpose( (mclean.h, mclean.k, mclean.l)).astype(int)\n",
    "mclean.addcolumn( np.zeros(mclean.nrows), 'Icalc' )\n",
    "bad = 0\n",
    "for i in range(mclean.nrows):\n",
    "    try:\n",
    "        mclean.Icalc[i] = lut[ *tuple( hkl[i] ) ]\n",
    "    except KeyError:\n",
    "        bad += 1\n",
    "        if bad < 10:\n",
    "            print(hkl[i], end=' ')\n",
    "        mclean.Icalc[i] = -1 # missing\n",
    "print(\"...\",bad,\"reflections observed that should be absent (or zero)\")\n",
    "print(\"Set Icalc to -1 for these\")"
   ]
  },
  {
   "cell_type": "code",
   "execution_count": null,
   "id": "90ad0390-7df5-4a8b-b8f9-51cb3ac8b1d2",
   "metadata": {
    "tags": []
   },
   "outputs": [],
   "source": [
    "pl.figure()\n",
    "pl.plot(  mclean.normalised_intensity, mclean.Icalc, \".\")\n",
    "pl.loglog()\n",
    "pl.xlabel( 'calc from shelx')\n",
    "pl.ylabel('observed from sinogram merge')"
   ]
  },
  {
   "cell_type": "code",
   "execution_count": null,
   "id": "17f9e08c-aa17-4133-b2c3-56dd4aedf681",
   "metadata": {
    "tags": []
   },
   "outputs": [],
   "source": [
    "mclean.addcolumn( mclean.Icalc/ mclean.normalised_intensity, 'ratio' )"
   ]
  },
  {
   "cell_type": "code",
   "execution_count": null,
   "id": "3d197383-a345-472f-b7e3-4eb1daa991c6",
   "metadata": {
    "tags": []
   },
   "outputs": [],
   "source": [
    "pl.figure()\n",
    "pl.plot(  mclean.normalised_intensity, mclean.ratio , \".\")\n",
    "pl.loglog()\n",
    "pl.xlabel( 'calc from shelx')\n",
    "pl.ylabel('observed from sinogram merge')"
   ]
  },
  {
   "cell_type": "code",
   "execution_count": null,
   "id": "2f2f637d-09eb-4ff1-ac67-af7ea0d44d6b",
   "metadata": {
    "tags": []
   },
   "outputs": [],
   "source": [
    "import fabio\n",
    "msk = fabio.open( dset.maskfile ).data\n",
    "msk.min(), msk.max(), msk.mean()"
   ]
  },
  {
   "cell_type": "code",
   "execution_count": null,
   "id": "8039440c-9637-442c-87dc-fb33b1fd7a86",
   "metadata": {
    "tags": []
   },
   "outputs": [],
   "source": [
    "f, a = pl.subplots(figsize=(12,12))\n",
    "a.imshow( msk, origin='lower', cmap='gray_r', vmax=2, vmin=0)\n",
    "a.plot( mall.fc, mall.sc, ',')\n",
    "m = mclean.ratio > 10\n",
    "if m.sum() > 1:\n",
    "    f.colorbar(a.scatter( mclean.fc[m], mclean.sc[m], c = mclean.ratio[m], norm='log', cmap='jet'))\n",
    "a.set(aspect='equal')\n"
   ]
  },
  {
   "cell_type": "code",
   "execution_count": null,
   "id": "1fd21a48-8cb9-4f4e-a44e-6710d9b46f57",
   "metadata": {
    "tags": []
   },
   "outputs": [],
   "source": [
    "f, a = pl.subplots(figsize=(6,6))\n",
    "a.plot( mclean.omega, mclean.ratio, '.' )\n",
    "a.set(aspect='auto', xlabel='omega', ylabel='ratio', yscale='log' )"
   ]
  },
  {
   "cell_type": "code",
   "execution_count": null,
   "id": "a23e9923-fe94-4663-b7a8-a723b0ccf4ff",
   "metadata": {
    "tags": []
   },
   "outputs": [],
   "source": [
    "f, a = pl.subplots(figsize=(6,6))\n",
    "a.plot( mclean.Number_of_pixels, mclean.ratio, '.' )\n",
    "a.set(aspect='auto', xlabel='npx', ylabel='ratio', yscale='log', xscale='log', xlim=(1,100))"
   ]
  },
  {
   "cell_type": "code",
   "execution_count": null,
   "id": "4b7e4a00-f666-45b5-9471-160806076125",
   "metadata": {},
   "outputs": [],
   "source": [
    "f, a = pl.subplots(figsize=(6,6))\n",
    "a.plot( 1/mclean.lf, mclean.ratio, '.' )\n",
    "a.set(aspect='auto', xlabel='Lorentz correction', ylabel='ratio', yscale='log', xscale='log' )"
   ]
  },
  {
   "cell_type": "code",
   "execution_count": null,
   "id": "6313b6bd-dc65-4b0e-bd37-fddc5db53c91",
   "metadata": {
    "tags": []
   },
   "outputs": [],
   "source": [
    "f, a = pl.subplots(figsize=(6,6))\n",
    "a.scatter( mclean.eta, mclean.ratio, c = mclean.tth, s = pow( mclean.sum_intensity, 1/3)/10 )\n",
    "a.set(aspect='auto', xlabel='eta', ylabel='ratio')"
   ]
  },
  {
   "cell_type": "code",
   "execution_count": null,
   "id": "220cc3e1-aa9b-4243-a88b-0c1fa6dc4799",
   "metadata": {
    "tags": []
   },
   "outputs": [],
   "source": [
    "mclean.nrows"
   ]
  },
  {
   "cell_type": "code",
   "execution_count": null,
   "id": "c3fd4e92-03ae-4d9d-998d-a5f196c42b1a",
   "metadata": {},
   "outputs": [],
   "source": []
  }
 ],
 "metadata": {
  "kernelspec": {
   "display_name": "Python 3 (main)",
   "language": "python",
   "name": "python3"
  },
  "language_info": {
   "codemirror_mode": {
    "name": "ipython",
    "version": 3
   },
   "file_extension": ".py",
   "mimetype": "text/x-python",
   "name": "python",
   "nbconvert_exporter": "python",
   "pygments_lexer": "ipython3",
   "version": "3.11.6"
  },
  "widgets": {
   "application/vnd.jupyter.widget-state+json": {
    "state": {},
    "version_major": 2,
    "version_minor": 0
   }
  }
 },
 "nbformat": 4,
 "nbformat_minor": 5
}
