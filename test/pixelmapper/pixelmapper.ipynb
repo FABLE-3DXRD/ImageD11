{
 "cells": [
  {
   "cell_type": "markdown",
   "metadata": {},
   "source": [
    "Given:\n",
    "- sparseframe pixels file (s, f, omega, intensity)\n",
    "- parameters file\n",
    "- spatial distortion images (sraw -> sc, fraw -> fc)\n",
    "- ubi file for list of grains\n",
    "    \n",
    "ForEach pixel:\n",
    "- assign it to one or more grains with h,k,l,sign(eta) label\n",
    "- best grain + hklid\n",
    "- second best grain + hklid -> to determine whether this is an overlap problem / twin"
   ]
  },
  {
   "cell_type": "code",
   "execution_count": 1,
   "metadata": {
    "tags": []
   },
   "outputs": [],
   "source": [
    "import sys, time\n",
    "start = time.time()\n",
    "import numpy as np, pylab as pl\n",
    "from ImageD11 import transform, parameters, cImageD11, indexing, columnfile, sym_u, blobcorrector, grain, sparseframe\n",
    "import fabio, h5py\n",
    "\n",
    "\n",
    "PLOT = True\n",
    "%matplotlib inline"
   ]
  },
  {
   "cell_type": "code",
   "execution_count": 2,
   "metadata": {
    "tags": []
   },
   "outputs": [],
   "source": [
    "parfile = \"CeO2.par\"\n",
    "sparsefile = \"silicon_fullscan_strong_sparse.h5\""
   ]
  },
  {
   "cell_type": "code",
   "execution_count": 3,
   "metadata": {
    "tags": []
   },
   "outputs": [
    {
     "name": "stdout",
     "output_type": "stream",
     "text": [
      "PixelLUT( { 'y_center' : 1052.8110762921149,\n",
      "'z_center' : 1126.3638434538875,\n",
      "'y_size' : 75,\n",
      "'z_size' : 75,\n",
      "'distance' : 199745.7890721506,\n",
      "'wavelength' : 0.281784,\n",
      "'omegasign' : 1.0,\n",
      "'tilt_x' : 0.002447409671123302,\n",
      "'tilt_y' : 0.000775118251263542,\n",
      "'tilt_z' : 0.0012905631099530846,\n",
      "'o11' : 1,\n",
      "'o12' : 0,\n",
      "'o21' : 0,\n",
      "'o22' : -1,\n",
      "'wedge' : 0.0,\n",
      "'chi' : 0.0,\n",
      "'dxfile' : '/data/id11/nanoscope/Eiger/spatial_20210415_JW/e2dx.edf',\n",
      "'dyfile' : '/data/id11/nanoscope/Eiger/spatial_20210415_JW/e2dy.edf',\n",
      "'shape' : (2162, 2068), } )\n",
      "CPU times: user 759 ms, sys: 1.2 s, total: 1.96 s\n",
      "Wall time: 1.48 s\n"
     ]
    }
   ],
   "source": [
    "%%time \n",
    "pars = parameters.read_par_file( parfile ).parameters\n",
    "pars['dxfile'] = \"/data/id11/nanoscope/Eiger/spatial_20210415_JW/e2dx.edf\"\n",
    "pars['dyfile'] = \"/data/id11/nanoscope/Eiger/spatial_20210415_JW/e2dy.edf\"\n",
    "tabl = transform.PixelLUT( pars )\n",
    "print(tabl)"
   ]
  },
  {
   "cell_type": "code",
   "execution_count": 4,
   "metadata": {
    "tags": []
   },
   "outputs": [
    {
     "name": "stdout",
     "output_type": "stream",
     "text": [
      "1.1097230476177632e-07\n"
     ]
    }
   ],
   "source": [
    "si, fi = int( tabl.pars['z_center'] ), int( tabl.pars['y_center'])\n",
    "ref = tabl.k[:,si,fi]\n",
    "sub_pixel_factor = 0\n",
    "nfac = 0\n",
    "for i in range(-1,2):\n",
    "    for j in range(-1,2):\n",
    "        dk = (tabl.k[:,si+i,fi+j]-ref)\n",
    "        if i!=0 or j!=0:\n",
    "            # actual distance will be from the center to 1/4 and 3/4 points\n",
    "            sf = np.dot(dk,dk)/(i*i+j*j)/16\n",
    "            sub_pixel_factor += sf\n",
    "            nfac += 1\n",
    "\n",
    "sub_pixel_factor /= 8\n",
    "print(sub_pixel_factor)   # FIXME : do the integral!"
   ]
  },
  {
   "cell_type": "code",
   "execution_count": 5,
   "metadata": {
    "tags": []
   },
   "outputs": [
    {
     "name": "stdout",
     "output_type": "stream",
     "text": [
      "1.1 ['col', 'frame', 'instrument', 'intensity', 'measurement', 'nnz', 'row']\n",
      "{'itype': 'uint16', 'nframes': 180500, 'shape0': 2162, 'shape1': 2068}\n",
      "rot_center (180500,)\n",
      "pixels 1386348 per frame avg: 7.680598337950139\n",
      "row (1386348,) uint16 1386348 2.644 MB\n",
      "col (1386348,) uint16 1386348 2.644 MB\n",
      "frame (1386348,) uint32 1386348 5.288 MB\n",
      "intensity (1386348,) uint16 1386348 2.644 MB\n",
      "measurement/rot_center (180500,) float64 180500 1.377 MB\n",
      "14.598 MB\n"
     ]
    }
   ],
   "source": [
    "def MB(num):\n",
    "    return \"%.3f MB\"%(num / (1024*1024) )\n",
    "\n",
    "with h5py.File(sparsefile ,\"r\") as hin:\n",
    "    for scan in hin:\n",
    "        s = hin[scan]\n",
    "        print(scan,list(s))\n",
    "        print(dict(s.attrs))\n",
    "        for column in list(s['measurement']):\n",
    "            print(column, s['measurement'][column].shape)\n",
    "        nnz = s['nnz'][:]\n",
    "        ipt = np.cumsum(nnz)\n",
    "        print(\"pixels\",ipt[-1],\"per frame avg:\", ipt[-1]/len(nnz))\n",
    "        nbytes = 0\n",
    "        for name in 'row','col','frame','intensity','measurement/rot_center':\n",
    "            a = s[name]\n",
    "            b = a.dtype.itemsize * a.size\n",
    "            print(name, a.shape, a.dtype, a.size, MB(b))\n",
    "            nbytes += b\n",
    "        print(MB(nbytes))"
   ]
  },
  {
   "cell_type": "code",
   "execution_count": 6,
   "metadata": {
    "tags": []
   },
   "outputs": [],
   "source": [
    "s = sparseframe.SparseScan( sparsefile, \"1.1\" )"
   ]
  },
  {
   "cell_type": "code",
   "execution_count": 7,
   "metadata": {
    "tags": []
   },
   "outputs": [
    {
     "data": {
      "text/plain": [
       "{'omega': array([1.0100000e-03, 3.0700000e-03, 5.1500000e-03, ..., 3.6097963e+02,\n",
       "        3.6098161e+02, 3.6098359e+02])}"
      ]
     },
     "execution_count": 7,
     "metadata": {},
     "output_type": "execute_result"
    }
   ],
   "source": [
    "s.motors"
   ]
  },
  {
   "cell_type": "code",
   "execution_count": 8,
   "metadata": {
    "tags": []
   },
   "outputs": [
    {
     "name": "stdout",
     "output_type": "stream",
     "text": [
      "85957\n",
      "CPU times: user 842 ms, sys: 0 ns, total: 842 ms\n",
      "Wall time: 841 ms\n"
     ]
    },
    {
     "data": {
      "image/png": "[encoded data removed]",
      "text/plain": [
       "<Figure size 640x480 with 1 Axes>"
      ]
     },
     "metadata": {},
     "output_type": "display_data"
    }
   ],
   "source": [
    "%%time\n",
    "s.cplabel()\n",
    "if PLOT:\n",
    "    pl.figure()\n",
    "    pl.plot(s.nlabels)\n",
    "print(s.total_labels)"
   ]
  },
  {
   "cell_type": "code",
   "execution_count": 9,
   "metadata": {
    "tags": []
   },
   "outputs": [
    {
     "name": "stdout",
     "output_type": "stream",
     "text": [
      "CPU times: user 2 µs, sys: 1 µs, total: 3 µs\n",
      "Wall time: 5.72 µs\n"
     ]
    }
   ],
   "source": [
    "%time\n",
    "c = columnfile.colfile_from_dict( s.moments() )"
   ]
  },
  {
   "cell_type": "code",
   "execution_count": 10,
   "metadata": {
    "tags": []
   },
   "outputs": [],
   "source": [
    "sc, fc = tabl.spatial( c.s_raw, c.f_raw )\n",
    "c.addcolumn( sc, 'sc')\n",
    "c.addcolumn( fc, 'fc')\n",
    "c.parameters.loadparameters(parfile)\n",
    "c.updateGeometry()"
   ]
  },
  {
   "cell_type": "code",
   "execution_count": 11,
   "metadata": {
    "tags": []
   },
   "outputs": [
    {
     "data": {
      "image/png": "[encoded data removed]",
      "text/plain": [
       "<Figure size 640x480 with 1 Axes>"
      ]
     },
     "metadata": {},
     "output_type": "display_data"
    }
   ],
   "source": [
    "if PLOT:\n",
    "    pl.figure()\n",
    "    pl.plot(c.tth, c.Number_of_pixels * c.tth,\",\")"
   ]
  },
  {
   "cell_type": "code",
   "execution_count": 12,
   "metadata": {
    "tags": []
   },
   "outputs": [],
   "source": [
    "mask = (c.tth * c.Number_of_pixels) > 1000\n",
    "c.filter(mask)"
   ]
  },
  {
   "cell_type": "code",
   "execution_count": 13,
   "metadata": {
    "tags": []
   },
   "outputs": [
    {
     "name": "stdout",
     "output_type": "stream",
     "text": [
      "info: gv: [[-0.09219293 -0.59355797 -0.53267211]\n",
      " [-0.09220581 -0.59352173 -0.53265925]\n",
      " [-0.09221435 -0.59346271 -0.53264467]\n",
      " ...\n",
      " [-0.09226407 -0.59329174 -0.53257455]\n",
      " [-0.09226985 -0.5932261  -0.53254685]\n",
      " [-0.09227603 -0.59317154 -0.53251063]] (3980, 3) float64\n",
      "info: Assign to rings, maximum d-spacing considered: 1.647130\n",
      "info: Ring assignment array shape (3980,)\n",
      "info: Ring     (  h,  k,  l) Mult  total indexed to_index  ubis  peaks_per_ubi   tth\n",
      "info: Ring 27  ( -8, -4,  0)   24     16       0       16     0     31  26.83\n",
      "info: Ring 26  ( -6, -6, -2)   24      0       0        0     0     31  26.14\n",
      "info: Ring 25  ( -7, -5, -1)   56      0       0        0     0     72  25.97\n",
      "info: Ring 24  ( -6, -6,  0)   36     82       0       82     1     46  25.43\n",
      "info: Ring 23  ( -6, -4, -4)   48      0       0        0     0     62  24.71\n",
      "info: Ring 22  ( -7, -3, -3)   24      0       0        0     0     31  24.52\n",
      "info: Ring 21  ( -8,  0,  0)    6     59       0       59     7      7  23.96\n",
      "info: Ring 20  ( -7, -3, -1)   72     14       0       14     0     93  22.99\n",
      "info: Ring 19  ( -6, -4, -2)   48    610       0      610     9     62  22.39\n",
      "info: Ring 18  ( -6, -4,  0)   24      0       0        0     0     31  21.56\n",
      "info: Ring 17  ( -7, -1, -1)   48     41       0       41     0     62  21.35\n",
      "info: Ring 16  ( -4, -4, -4)    8     71       0       71     6     10  20.71\n",
      "info: Ring 15  ( -6, -2, -2)   24      0       0        0     0     31  19.82\n",
      "info: Ring 14  ( -5, -3, -3)   24    249       0      249     7     31  19.59\n",
      "info: Ring 13  ( -6, -2,  0)   24    511       0      511    16     31  18.89\n",
      "info: Ring 12  ( -6,  0,  0)   30      0       0        0     0     39  17.91\n",
      "info: Ring 11  ( -5, -3, -1)   48    265       0      265     4     62  17.66\n",
      "info: Ring 10  ( -4, -4,  0)   12    237       0      237    15     15  16.88\n",
      "info: Ring 9   ( -5, -1, -1)   32    142       0      142     3     41  15.49\n",
      "info: Ring 8   ( -4, -2, -2)   24    744       0      744    23     31  14.60\n",
      "info: Ring 7   ( -4, -2,  0)   24      0       0        0     0     31  13.32\n",
      "info: Ring 6   ( -3, -3, -1)   24    339       0      339    10     31  12.99\n",
      "info: Ring 5   ( -4,  0,  0)    6    142       0      142    18      7  11.91\n",
      "info: Ring 4   ( -2, -2, -2)    8      0       0        0     0     10  10.31\n",
      "info: Ring 3   ( -3, -1, -1)   24    175       0      175     5     31  9.87\n",
      "info: Ring 2   ( -2, -2,  0)   12    280       0      280    17     15  8.42\n",
      "info: Ring 1   ( -2,  0,  0)    6      0       0        0     0      7  5.95\n",
      "info: Ring 0   ( -1, -1, -1)    8      3       0        3     0     10  5.15\n",
      "info: \n",
      "min_pks:  - Current  -->  10\n",
      "info:           - Expected --> 961\n",
      "\n",
      "info: Using only those peaks which are assigned to rings for scoring trial matrices\n",
      "info: Shape of scoring matrix (3980, 3)\n"
     ]
    }
   ],
   "source": [
    "a0 = 5.43094\n",
    "[c.parameters.set(\"cell__%s\"%(abc), a0) for abc in 'abc']\n",
    "i = indexing.indexer_from_colfile( c )\n",
    "i.assigntorings()"
   ]
  },
  {
   "cell_type": "code",
   "execution_count": 14,
   "metadata": {
    "tags": []
   },
   "outputs": [
    {
     "name": "stdout",
     "output_type": "stream",
     "text": [
      "info: hkls of rings being used for indexing\n",
      "info: Ring 1: [(-8, 0, 0), (0, -8, 0), (0, 0, -8), (0, 0, 8), (0, 8, 0), (8, 0, 0)]\n",
      "info: Ring 2: [(-8, 0, 0), (0, -8, 0), (0, 0, -8), (0, 0, 8), (0, 8, 0), (8, 0, 0)]\n",
      "info: Possible angles and cosines between peaks in rings:\n",
      "info: 90.000000 0.000000\n",
      "info: Number of peaks in ring 1: 59\n",
      "info: Number of peaks in ring 2: 59\n",
      "info: Minimum number of peaks to identify a grain 1000\n",
      "info: Number of trial orientations generated 59\n",
      "info: Time taken 0.000217 /s\n",
      "info: Scoring 59 potential orientations\n",
      "info: new grain 3980 pks, i 3826 j 3284 UBI  -3.390993 2.519056 3.411685 0.177557 4.448349 -3.109227 -4.236830 -1.830363 -2.861167\n",
      "info: Number of orientations with more than 1000 peaks is 1\n",
      "info: Time taken 0.012/s\n",
      "info: UBI for best fitting\n",
      "[[-3.39099327  2.51905608  3.41168503]\n",
      " [ 0.17755698  4.44834902 -3.10922664]\n",
      " [-4.23682964 -1.83036327 -2.86116678]]\n",
      "info: Unit cell: (5.429923906088965, 5.430158912151468, 5.430214585958626, 89.99680817009921, 90.00996231000747, 90.00807561734301)\n",
      "\n",
      "info: Indexes 3980 peaks, with <drlv2>=0.003037\n",
      "info: That was the best thing I found so far\n",
      "info: Number of peaks assigned to rings but not indexed = 0\n",
      "Got 1 grains\n"
     ]
    },
    {
     "data": {
      "image/png": "[encoded data removed]",
      "text/plain": [
       "<Figure size 640x480 with 1 Axes>"
      ]
     },
     "metadata": {},
     "output_type": "display_data"
    }
   ],
   "source": [
    "i.minpks = 1000\n",
    "i.hkl_tol = 0.1\n",
    "i.ring_1 = i.ring_2 = 21\n",
    "i.find()\n",
    "i.scorethem()\n",
    "print(\"Got\",len(i.ubis),\"grains\")\n",
    "i.histogram_drlv_fit()\n",
    "if PLOT:\n",
    "    pl.figure()\n",
    "    for j in range(len(i.ubis)):\n",
    "        pl.plot(i.bins[1:], i.histogram[j],\"-\")"
   ]
  },
  {
   "cell_type": "code",
   "execution_count": 15,
   "metadata": {
    "tags": []
   },
   "outputs": [
    {
     "data": {
      "text/plain": [
       "array([[ 4.23682964,  1.83036327,  2.86116678],\n",
       "       [ 0.17755698,  4.44834902, -3.10922664],\n",
       "       [-3.39099327,  2.51905608,  3.41168503]])"
      ]
     },
     "execution_count": 15,
     "metadata": {},
     "output_type": "execute_result"
    }
   ],
   "source": [
    "cubic = sym_u.cubic()\n",
    "ubis = i.ubis = [ sym_u.find_uniq_u( ubi, cubic ) for ubi in i.ubis]\n",
    "ubis[0]"
   ]
  },
  {
   "cell_type": "code",
   "execution_count": 16,
   "metadata": {
    "tags": []
   },
   "outputs": [
    {
     "data": {
      "text/plain": [
       "(5.430214585958626,\n",
       " 5.430158912151468,\n",
       " 5.429923906088965,\n",
       " 90.00807561734301,\n",
       " 89.99003768999255,\n",
       " 90.00319182990079)"
      ]
     },
     "execution_count": 16,
     "metadata": {},
     "output_type": "execute_result"
    }
   ],
   "source": [
    "indexing.ubitocellpars(ubis[0])"
   ]
  },
  {
   "cell_type": "code",
   "execution_count": 17,
   "metadata": {
    "tags": []
   },
   "outputs": [
    {
     "data": {
      "text/plain": [
       "((3, 2162, 2068), 1386348)"
      ]
     },
     "execution_count": 17,
     "metadata": {},
     "output_type": "execute_result"
    }
   ],
   "source": [
    "tabl.k.shape, len(s.row)"
   ]
  },
  {
   "cell_type": "code",
   "execution_count": 18,
   "metadata": {
    "tags": []
   },
   "outputs": [
    {
     "data": {
      "text/plain": [
       "((180500, 2162, 2068), (1386348,), (180500,), (180501,))"
      ]
     },
     "execution_count": 18,
     "metadata": {},
     "output_type": "execute_result"
    }
   ],
   "source": [
    "s.shape, s.row.shape, s.motors['omega'].shape, s.ipt.shape"
   ]
  },
  {
   "cell_type": "code",
   "execution_count": 19,
   "metadata": {
    "tags": []
   },
   "outputs": [
    {
     "name": "stdout",
     "output_type": "stream",
     "text": [
      "CPU times: user 145 ms, sys: 0 ns, total: 145 ms\n",
      "Wall time: 144 ms\n"
     ]
    }
   ],
   "source": [
    "%%time\n",
    "pixel_omega = np.zeros( s.row.shape, float )\n",
    "for frm in range(s.shape[0]):\n",
    "    pixel_omega[ s.ipt[frm] : s.ipt[frm+1] ] = s.motors['omega'][frm]"
   ]
  },
  {
   "cell_type": "code",
   "execution_count": 20,
   "metadata": {
    "tags": []
   },
   "outputs": [
    {
     "name": "stdout",
     "output_type": "stream",
     "text": [
      "CPU times: user 77 ms, sys: 30.4 ms, total: 107 ms\n",
      "Wall time: 106 ms\n"
     ]
    },
    {
     "data": {
      "text/plain": [
       "(3, 1386348)"
      ]
     },
     "execution_count": 20,
     "metadata": {},
     "output_type": "execute_result"
    }
   ],
   "source": [
    "%%time\n",
    "gve = transform.compute_g_from_k( tabl.k[:, s.row, s.col] , pixel_omega )\n",
    "gve.shape"
   ]
  },
  {
   "cell_type": "code",
   "execution_count": 21,
   "metadata": {
    "tags": []
   },
   "outputs": [
    {
     "name": "stdout",
     "output_type": "stream",
     "text": [
      "CPU times: user 1e+03 ns, sys: 1 µs, total: 2 µs\n",
      "Wall time: 5.25 µs\n",
      "(3, 1386348)\n"
     ]
    }
   ],
   "source": [
    "%time \n",
    "ga = np.empty( s.col.shape )\n",
    "ga.fill(-1)\n",
    "ge = np.ones( s.col.shape )\n",
    "for k, ubi in enumerate( i.ubis ):\n",
    "    hkl = np.dot( ubi, gve )\n",
    "    print(hkl.shape)\n",
    "    gcalc = np.dot( np.linalg.inv(ubi), np.round(hkl) )\n",
    "    gerr = gcalc - gve\n",
    "    modge = (gerr**2).sum(axis=0)\n",
    "    best = (modge < ge)\n",
    "    ga[best] = k"
   ]
  },
  {
   "cell_type": "code",
   "execution_count": 22,
   "metadata": {
    "tags": []
   },
   "outputs": [
    {
     "data": {
      "image/png": "[encoded data removed]",
      "text/plain": [
       "<Figure size 640x480 with 1 Axes>"
      ]
     },
     "metadata": {},
     "output_type": "display_data"
    }
   ],
   "source": [
    "ptth = tabl.tth[ s.row, s.col ]\n",
    "peta = tabl.eta[ s.row, s.col ]\n",
    "if PLOT:\n",
    "    pl.figure()\n",
    "    pl.plot( ptth, modge, \",\" )\n",
    "    pl.semilogy()"
   ]
  },
  {
   "cell_type": "code",
   "execution_count": 23,
   "metadata": {
    "tags": []
   },
   "outputs": [
    {
     "data": {
      "image/png": "[encoded data removed]",
      "text/plain": [
       "<Figure size 640x480 with 1 Axes>"
      ]
     },
     "metadata": {},
     "output_type": "display_data"
    },
    {
     "data": {
      "image/png": "[encoded data removed]",
      "text/plain": [
       "<Figure size 640x480 with 1 Axes>"
      ]
     },
     "metadata": {},
     "output_type": "display_data"
    }
   ],
   "source": [
    "m = modge<0.001\n",
    "if PLOT:\n",
    "    pl.figure()\n",
    "    pl.plot( ptth[  m ], peta[ m], \",\")\n",
    "    pl.plot( ptth[ ~m ], peta[~m], \",\")\n",
    "    pl.figure()\n",
    "    pl.plot( pixel_omega[m], s.intensity[m], ',')\n",
    "    pl.plot( pixel_omega[~m], s.intensity[~m], ',')\n",
    "    pl.semilogy()"
   ]
  },
  {
   "cell_type": "markdown",
   "metadata": {},
   "source": [
    "Here, we can now have all the pixels assigned to their grain and hkls \n",
    "\n",
    "... to do next:\n",
    "- build a refinement engine using intensity weighting\n",
    "- deal with saturated peaks"
   ]
  },
  {
   "cell_type": "code",
   "execution_count": 24,
   "metadata": {
    "tags": []
   },
   "outputs": [
    {
     "name": "stdout",
     "output_type": "stream",
     "text": [
      "Total time 6.923663139343262\n"
     ]
    }
   ],
   "source": [
    "print(\"Total time\",time.time()-start)"
   ]
  },
  {
   "cell_type": "code",
   "execution_count": 25,
   "metadata": {
    "tags": []
   },
   "outputs": [
    {
     "name": "stdout",
     "output_type": "stream",
     "text": [
      "(3, 1386348)\n"
     ]
    }
   ],
   "source": [
    "ubi = i.ubis[0]\n",
    "print(gve.shape)\n",
    "h,k,l = np.round( np.dot( ubi, gve ) ).astype(int)\n",
    "gcalc = np.dot( np.linalg.inv(ubi), (h,k,l) )\n",
    "mgerr  = ((gve - gcalc)**2).sum(axis=0)\n",
    "m = mgerr < 0.001\n",
    "se = np.sign(peta).astype(int)"
   ]
  },
  {
   "cell_type": "code",
   "execution_count": 26,
   "metadata": {
    "tags": []
   },
   "outputs": [
    {
     "name": "stdout",
     "output_type": "stream",
     "text": [
      "(1386348,)\n",
      "CPU times: user 104 ms, sys: 70.5 ms, total: 175 ms\n",
      "Wall time: 98.6 ms\n"
     ]
    }
   ],
   "source": [
    "%%time\n",
    "sortkeys = ( h,k,l,se )\n",
    "order = np.lexsort( sortkeys )\n",
    "print(order.shape)"
   ]
  },
  {
   "cell_type": "code",
   "execution_count": 27,
   "metadata": {
    "tags": []
   },
   "outputs": [
    {
     "name": "stdout",
     "output_type": "stream",
     "text": [
      "CPU times: user 2.76 s, sys: 77.2 ms, total: 2.84 s\n",
      "Wall time: 3.15 s\n"
     ]
    }
   ],
   "source": [
    "%%time\n",
    "\n",
    "# indexing from 0 -> h.max() ...  -h.min()->end\n",
    "nh = h.max() - h.min() + 1\n",
    "nk = k.max() - k.min() + 1\n",
    "nl = l.max() - l.min() + 1\n",
    "ne = 3\n",
    "gvar = np.zeros( (3, 3, nh, nk, nl, ne), float )\n",
    "gavg = np.zeros( (3, nh, nk, nl, ne), float )\n",
    "f = np.zeros( (nh, nk, nl, ne), float )\n",
    "e = np.zeros( (9,) ,dtype=float).reshape(3,3)\n",
    "# this does not accumulate !\n",
    "# f[h[m],k[m],l[m],se[m]] += s.intensity[m]\n",
    "# gavg[:, h[m], k[m], l[m], se[m]] += gve[:,m]*s.intensity[m]\n",
    "import numba\n",
    "@numba.njit\n",
    "def incr( m, h, k, l, se, gve, sig, gavg, f, gvar, e  ):\n",
    "    # Compute the mean g-vectors in mask:\n",
    "    for p in range(len(m)):\n",
    "        if m[p]:\n",
    "            gavg[:, h[p],k[p],l[p],se[p]] += sig[p] * gve[:,p]\n",
    "            f[ h[p],k[p],l[p],se[p]] += sig[p]\n",
    "    # Get the mean\n",
    "    for i in range(f.size):\n",
    "        v = f.flat[i] \n",
    "        if v > 0:\n",
    "            gavg[0].flat[i] /= v\n",
    "            gavg[1].flat[i] /= v\n",
    "            gavg[2].flat[i] /= v\n",
    "    # Now get the variances:\n",
    "    #       subpixel_factor = 1.7e-6     # From above. This is the in-plane error\n",
    "    #                                    # not rotational, which depends on omega step.\n",
    "    #                 FIXME - not entirely correct yet. Problem goes back a long time.\n",
    "    for p in range(len(m)):\n",
    "        if m[p]:\n",
    "            dg = gve[:,p] - gavg[:,h[p],k[p],l[p],se[p]]\n",
    "            # this loop is np.outer( dg, dg )\n",
    "            for i in range(3):\n",
    "                for j in range(3):\n",
    "                    gvar[i, j, h[p],k[p],l[p],se[p]]  += (dg[i]*dg[j])*sig[p]\n",
    "            for i in range(3):\n",
    "                gvar[ i, i, h[p], k[p], l[p], se[p]]  += sub_pixel_factor*sig[p]\n",
    "            # We are missing a pixel size contribution here. The pixel \n",
    "            # is not a point in space. This wants to sum up over, for \n",
    "            # example 2 subpixels as (sig/2 times:)\n",
    "            #    outer( dg + p, dg + p ) + ...->    dg(x)dg + 2 dg(x)p + p(x)p\n",
    "            #    outer( dg - p, dg - p ) + ...->    dg(x)dg - 2 dx(x)p + p(x)p\n",
    "                    \n",
    "    for p in range(f.size):\n",
    "        v = f.flat[p]\n",
    "        if v > 0:\n",
    "            for i in range(3):\n",
    "                for j in range(3):\n",
    "                    e[i,j] = gvar[i,j].flat[p] / v\n",
    "            d = np.linalg.det(e)\n",
    "            if d <= 0:\n",
    "                print('error')\n",
    "                print(e, p, v, d)\n",
    "                return None\n",
    "            ie = np.linalg.inv(e)\n",
    "            if ie[0,0] < 0:\n",
    "                print('error -ve')\n",
    "                print( e, p, v, d )\n",
    "                print(ie)\n",
    "                print( 'y',gvar[:,:].flat[p] )\n",
    "                return None\n",
    "            for i in range(3):\n",
    "                for j in range(3):\n",
    "                     gvar[i,j].flat[p] = ie[i,j]\n",
    "            \n",
    "\n",
    "incr( m, h, k, l, se, gve, s.intensity, gavg, f, gvar, e )"
   ]
  },
  {
   "cell_type": "code",
   "execution_count": 28,
   "metadata": {
    "tags": []
   },
   "outputs": [
    {
     "name": "stdout",
     "output_type": "stream",
     "text": [
      "CPU times: user 305 ms, sys: 10 µs, total: 305 ms\n",
      "Wall time: 302 ms\n"
     ]
    }
   ],
   "source": [
    "%%time\n",
    "gvar = np.zeros( (3, 3, nh, nk, nl, ne), float )\n",
    "gavg = np.zeros( (3, nh, nk, nl, ne), float )\n",
    "f = np.zeros( (nh, nk, nl, ne), float )\n",
    "incr( m, h, k, l, se, gve, s.intensity, gavg, f, gvar, e )"
   ]
  },
  {
   "cell_type": "code",
   "execution_count": 29,
   "metadata": {
    "tags": []
   },
   "outputs": [],
   "source": [
    "# option 1: take the average of the observed pixels\n",
    "np.dot(ubi, gavg[:,1,1,1,1]),np.dot(ubi, gavg[:,3,1,1,-1]),\n",
    "# option 2: take the computed gcalc position\n",
    "gcalc = np.dot( np.linalg.inv( ubi ), np.round( np.dot( ubi, gve ) ) )\n",
    "gerr = gcalc - gve"
   ]
  },
  {
   "cell_type": "code",
   "execution_count": 30,
   "metadata": {
    "tags": []
   },
   "outputs": [
    {
     "data": {
      "text/plain": [
       "(array([[ 2544323.6662985 , -1366445.53506615,   -68710.50007142],\n",
       "        [-1366445.53506615,  2267881.27399326,    81535.01403616],\n",
       "        [  -68710.50007142,    81535.01403616,   985649.0529475 ]]),\n",
       " array([0.32242676, 0.4226728 , 0.30082042]),\n",
       " 3218220.0)"
      ]
     },
     "execution_count": 30,
     "metadata": {},
     "output_type": "execute_result"
    }
   ],
   "source": [
    "# check\n",
    "gvar[:,:,3,1,1,1], gavg[:,3,1,1,1], f[3,1,1,1]"
   ]
  },
  {
   "cell_type": "code",
   "execution_count": 31,
   "metadata": {
    "tags": []
   },
   "outputs": [
    {
     "data": {
      "text/plain": [
       "0.41246806399426805"
      ]
     },
     "execution_count": 31,
     "metadata": {},
     "output_type": "execute_result"
    }
   ],
   "source": [
    "# example \n",
    "dg = np.dot( np.linalg.inv(ubi), (3,1,1) ) - gavg[:,3,1,1,1]\n",
    "np.dot(dg, np.dot( gvar[:,:,3,1,1,1], dg ))"
   ]
  },
  {
   "cell_type": "code",
   "execution_count": 32,
   "metadata": {
    "tags": []
   },
   "outputs": [
    {
     "name": "stdout",
     "output_type": "stream",
     "text": [
      "[-4.74061255e-04  1.21921328e-04  1.44423837e-05] \n",
      " [[ 5867692.23582569 -2270150.02409414  -650214.73170314]\n",
      " [-2270150.02409414  1974761.09493604    73067.29469418]\n",
      " [ -650214.73170314    73067.29469418  1348995.90397403]] 289592.0\n"
     ]
    },
    {
     "data": {
      "text/plain": [
       "1.6198880818101624"
      ]
     },
     "execution_count": 32,
     "metadata": {},
     "output_type": "execute_result"
    }
   ],
   "source": [
    "# example\n",
    "dg = np.dot( np.linalg.inv(ubi), (5,3,3) ) - gavg[:,5,3,3,1]\n",
    "print(dg,'\\n', gvar[:,:,5,3,3,1], f[5,3,3,1])\n",
    "np.dot(dg, np.dot( gvar[:,:,5,3,3,1], dg ))"
   ]
  },
  {
   "cell_type": "code",
   "execution_count": 33,
   "metadata": {
    "tags": []
   },
   "outputs": [
    {
     "name": "stdout",
     "output_type": "stream",
     "text": [
      "CPU times: user 34.9 ms, sys: 50.9 ms, total: 85.8 ms\n",
      "Wall time: 49.3 ms\n"
     ]
    }
   ],
   "source": [
    "%%time\n",
    "gouter = np.einsum( 'ik,jk->ijk', gerr, gerr )\n",
    "assert gouter.shape == (3,3,gerr.shape[1])\n",
    "assert np.allclose( np.outer( gerr[:,3], gerr[:,3] ), gouter[:,:,3] )"
   ]
  },
  {
   "cell_type": "code",
   "execution_count": 34,
   "metadata": {
    "tags": []
   },
   "outputs": [
    {
     "name": "stdout",
     "output_type": "stream",
     "text": [
      "795\n",
      "[ 0.143668    0.00599704 -0.11500917  0.0620745   0.15086697  0.08542254\n",
      "  0.09695085 -0.10536001  0.11561242]\n",
      "[9.92401325e-06 6.89078235e-06 9.13867141e-06 7.16004968e-06\n",
      " 1.01916045e-05 7.91843667e-06 1.12661532e-05 1.12959971e-05\n",
      " 1.12832120e-05]\n"
     ]
    },
    {
     "data": {
      "text/plain": [
       "<matplotlib.colorbar.Colorbar at 0x14f24546a8d0>"
      ]
     },
     "execution_count": 34,
     "metadata": {},
     "output_type": "execute_result"
    },
    {
     "data": {
      "image/png": "[encoded data removed]",
      "text/plain": [
       "<Figure size 640x480 with 1 Axes>"
      ]
     },
     "metadata": {},
     "output_type": "display_data"
    },
    {
     "data": {
      "image/png": "[encoded data removed]",
      "text/plain": [
       "<Figure size 640x480 with 2 Axes>"
      ]
     },
     "metadata": {},
     "output_type": "display_data"
    }
   ],
   "source": [
    "# MAM'x = MAd\n",
    "#  ... A  == gvar               3x3\n",
    "#  ... d  == gobs - gcalc       3\n",
    "#  ... M' == dg/dvariable       9x3\n",
    "#  ... x  == variables          9\n",
    "#\n",
    "#  9x3.3x3.3x9.9 = 9x3.3x3.3\n",
    "\n",
    "\n",
    "M = np.zeros( (9,3), float )\n",
    "LSM = np.zeros( (9,9), float )\n",
    "RHS = np.zeros( (9,), float)\n",
    "\n",
    "def dg_dUB( M, h, k, l ):\n",
    "    \"\"\" \n",
    "    dg_dUB :\n",
    "      gx = UB_00.h UB_01.h UB_02.l\n",
    "      gy = UB_10.h UB_11.h UB_12.l\n",
    "      gz = UB_20.h UB_21.h UB_22.l\n",
    "    M is 9x3 :\n",
    "      UB, g\n",
    "    \"\"\"\n",
    "    #          x y z\n",
    "    M[:,:] = ((h,0,0),\n",
    "              (k,0,0),\n",
    "              (l,0,0),\n",
    "              (0,h,0),\n",
    "              (0,k,0),\n",
    "              (0,l,0),\n",
    "              (0,0,h),\n",
    "              (0,0,k),\n",
    "              (0,0,l) )\n",
    "    return M\n",
    "        \n",
    "ub = np.zeros((3,3), float) # Linear problem. hkl already assigned\n",
    "ub = np.linalg.inv( ubis[0]) # not for error estimation - need chi^2\n",
    "npk = 0\n",
    "g_to_fit = []\n",
    "h_to_fit = []\n",
    "XI2 = []\n",
    "fsum = f.sum()\n",
    "for ih in  range(h.min(), h.max()+1):\n",
    "    for ik in  range(k.min(), k.max()+1):\n",
    "        for il in  range(l.min(), l.max()+1):\n",
    "            for sign_eta in (-1,1):\n",
    "                # total intensity for this peak\n",
    "                signal = f[ih,ik,il,sign_eta]/fsum\n",
    "                if signal == 0:\n",
    "                    continue\n",
    "                npk += 1\n",
    "                # This matrix already carries an intensity weighting factor\n",
    "                A = gvar[:,:,ih,ik,il,sign_eta]   # 3x3\n",
    "                # A = np.eye(3)\n",
    "                gobs = gavg[:,ih,ik,il,sign_eta]  # 3\n",
    "                gcalc = np.dot( ub, (ih,ik,il) )  # 3\n",
    "                ge = gobs - gcalc\n",
    "                # Contribution to fit\n",
    "                scor = np.dot(ge, np.dot( A, ge ) ) \n",
    "                assert scor >= 0\n",
    "                cut = 2 * 10\n",
    "                weight = cut*cut/(cut*cut+scor*scor) # weight goes down as scor goes up\n",
    "                XI2.append( scor*weight )\n",
    "                # For later debugging\n",
    "                if 1:\n",
    "                    g_to_fit.append( gobs )\n",
    "                    h_to_fit.append( (ih,ik,il) )\n",
    "                M   = dg_dUB( M, ih, ik, il )\n",
    "                MA   = np.dot( M , A )\n",
    "                LSM += np.dot( MA,  M.T ) * weight\n",
    "                RHS += np.dot( MA, ge )   * weight\n",
    "                # import pdb;pdb.set_trace()\n",
    "#LSM *= npk/XI2\n",
    "#RHS *= npk/XI2\n",
    "iMAT = np.linalg.inv( LSM )\n",
    "ecorfac = np.sum( XI2 ) / (npk - len(RHS) )   # potentially a factor of 2 here in scipy?\n",
    "pCOV = iMAT * ecorfac\n",
    "shifts = np.dot( iMAT, RHS) + ub.ravel()\n",
    "print(npk)\n",
    "print(shifts)\n",
    "print(np.sqrt(np.diag(pCOV)))\n",
    "pl.figure()\n",
    "pl.hist( XI2, bins=128 )\n",
    "pl.ylabel(\"Number of peaks\")\n",
    "pl.xlabel(\"chi^2 contribution\")\n",
    "pl.figure()\n",
    "pl.imshow(pCOV)\n",
    "pl.colorbar()"
   ]
  },
  {
   "cell_type": "code",
   "execution_count": 35,
   "metadata": {
    "tags": []
   },
   "outputs": [
    {
     "name": "stdout",
     "output_type": "stream",
     "text": [
      "[[ 4.23759542  1.83080114  2.86276041]\n",
      " [ 0.17711876  4.44878879 -3.11088157]\n",
      " [-3.3921725   2.51899144  3.41391037]]\n",
      "(5.431799419318222, 5.4314525550143875, 5.432028728787305, 90.02840600844809, 89.979949933465, 90.02000978069958)\n",
      "[ 7.26613085e-06 -1.74592296e-04  1.74953173e-04 -5.66078382e-05\n",
      " -2.47873041e-04  4.94670767e-05]\n"
     ]
    }
   ],
   "source": [
    "ubfit = shifts.reshape(3,3)\n",
    "ubi_fit = np.linalg.inv( ubfit )\n",
    "print(ubi_fit)\n",
    "print(indexing.ubitocellpars(ubi_fit))\n",
    "afit = pow(np.linalg.det(ubi_fit),1/3)\n",
    "print(grain.grain( ubi_fit ).eps_grain( [afit,afit,afit,90,90,90] ))"
   ]
  },
  {
   "cell_type": "code",
   "execution_count": 36,
   "metadata": {
    "tags": []
   },
   "outputs": [
    {
     "name": "stdout",
     "output_type": "stream",
     "text": [
      "[[ 4.23703862  1.83069928  2.86132267]\n",
      " [ 0.17696582  4.44845854 -3.1092815 ]\n",
      " [-3.39195739  2.51901393  3.41214085]]\n",
      "(5.4305730365687115, 5.430260744912878, 5.430792875000058, 90.00745647379075, 89.99429125644221, 90.00593910411533)\n",
      "[ 5.67938422e-06 -5.18256442e-05  4.98177910e-05 -5.18280255e-05\n",
      " -6.50685339e-05  4.61604672e-05]\n"
     ]
    }
   ],
   "source": [
    "g_to_fit = np.array(g_to_fit, float)\n",
    "h_to_fit = np.array(h_to_fit, float)\n",
    "sum_h_outer_h = np.einsum( 'ki,kj->ij', h_to_fit, h_to_fit )\n",
    "sum_h_outer_g = np.einsum( 'ki,kj->ij', h_to_fit, g_to_fit )\n",
    "ubi_fit2 = np.dot( np.linalg.inv( sum_h_outer_g ), sum_h_outer_h ).T\n",
    "print(ubi_fit2)\n",
    "print(indexing.ubitocellpars(ubi_fit2))\n",
    "afit = pow(np.linalg.det( ubi_fit2 ),1/3)\n",
    "print(grain.grain( ubi_fit2 ).eps_grain( [afit,afit,afit,90,90,90] ))"
   ]
  },
  {
   "cell_type": "code",
   "execution_count": 37,
   "metadata": {
    "tags": []
   },
   "outputs": [
    {
     "data": {
      "text/plain": [
       "array([[ 4.23682964,  1.83036327,  2.86116678],\n",
       "       [ 0.17755698,  4.44834902, -3.10922664],\n",
       "       [-3.39099327,  2.51905608,  3.41168503]])"
      ]
     },
     "execution_count": 37,
     "metadata": {},
     "output_type": "execute_result"
    }
   ],
   "source": [
    "i.ubis[0]"
   ]
  },
  {
   "cell_type": "code",
   "execution_count": 38,
   "metadata": {
    "tags": []
   },
   "outputs": [
    {
     "name": "stdout",
     "output_type": "stream",
     "text": [
      "[[ 4.23703862  1.83069928  2.86132267]\n",
      " [ 0.17696582  4.44845854 -3.1092815 ]\n",
      " [-3.39195739  2.51901393  3.41214085]]\n",
      "(5.430573036568713, 5.430260744912878, 5.430792875000058, 90.00745647379074, 89.99429125644222, 90.00593910411533)\n",
      "[ 5.67938422e-06 -5.18256442e-05  4.98177910e-05 -5.18280255e-05\n",
      " -6.50685339e-05  4.61604672e-05]\n"
     ]
    }
   ],
   "source": [
    "ubi_fit3 = indexing.refine( ubi_fit, g_to_fit, 0.4 )\n",
    "print(ubi_fit3)\n",
    "print(indexing.ubitocellpars(ubi_fit3))\n",
    "afit = pow(np.linalg.det( ubi_fit3 ),1/3)\n",
    "print(grain.grain( ubi_fit3 ).eps_grain( [afit,afit,afit,90,90,90] ))"
   ]
  },
  {
   "cell_type": "code",
   "execution_count": 39,
   "metadata": {},
   "outputs": [
    {
     "name": "stdout",
     "output_type": "stream",
     "text": [
      "Total time 11.972310781478882\n"
     ]
    }
   ],
   "source": [
    "print(\"Total time\",time.time()-start)"
   ]
  },
  {
   "cell_type": "code",
   "execution_count": null,
   "metadata": {},
   "outputs": [],
   "source": []
  }
 ],
 "metadata": {
  "kernelspec": {
   "display_name": "Python 3 (main)",
   "language": "python",
   "name": "python3"
  },
  "language_info": {
   "codemirror_mode": {
    "name": "ipython",
    "version": 3
   },
   "file_extension": ".py",
   "mimetype": "text/x-python",
   "name": "python",
   "nbconvert_exporter": "python",
   "pygments_lexer": "ipython3",
   "version": "3.11.6"
  },
  "widgets": {
   "application/vnd.jupyter.widget-state+json": {
    "state": {},
    "version_major": 2,
    "version_minor": 0
   }
  }
 },
 "nbformat": 4,
 "nbformat_minor": 4
}
