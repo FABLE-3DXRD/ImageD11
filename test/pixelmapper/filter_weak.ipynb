{
 "cells": [
  {
   "cell_type": "code",
   "execution_count": 1,
   "id": "aa2bdb20-738b-4640-a8fb-31c8525e894f",
   "metadata": {
    "tags": []
   },
   "outputs": [],
   "source": [
    "import h5py, numpy as np"
   ]
  },
  {
   "cell_type": "code",
   "execution_count": 2,
   "id": "a89f83e4-8b56-4929-a7a1-d8abbe6ace5c",
   "metadata": {
    "tags": []
   },
   "outputs": [
    {
     "name": "stdout",
     "output_type": "stream",
     "text": [
      "1.1 <class 'h5py._hl.group.Group'>\n",
      "1.1/col (3626536,) uint16\n",
      "1.1/frame (3626536,) uint32\n",
      "1.1/instrument <class 'h5py._hl.group.Group'>\n",
      "1.1/instrument/positioners <class 'h5py._hl.group.Group'>\n",
      "1.1/instrument/positioners/dty () float64\n",
      "1.1/instrument/positioners/px () float64\n",
      "1.1/instrument/positioners/py () float64\n",
      "1.1/instrument/positioners/pz () float64\n",
      "1.1/instrument/positioners/rot (180500,) float64\n",
      "1.1/instrument/positioners/shtx () float64\n",
      "1.1/instrument/positioners/shty () float64\n",
      "1.1/instrument/positioners/shtz () float64\n",
      "1.1/intensity (3626536,) uint16\n",
      "1.1/measurement <class 'h5py._hl.group.Group'>\n",
      "1.1/measurement/rot (180500,) float64\n",
      "1.1/measurement/rot_center (180500,) float64\n",
      "1.1/nnz (180500,) uint32\n",
      "1.1/row (3626536,) uint16\n"
     ]
    }
   ],
   "source": [
    "with h5py.File('silicon_fullscan_sparse.h5','r') as hin:\n",
    "    def v(n,x):\n",
    "        if type(x) is h5py.Dataset:\n",
    "            print(n,x.shape, x.dtype)\n",
    "        else:\n",
    "            print(n, type(x))\n",
    "    hin.visititems(v)\n",
    "    s = hin['1.1']\n",
    "    col = s['col'][:]\n",
    "    row = s['row'][:]\n",
    "    frame = s['frame'][:]\n",
    "    nnz=s['nnz'][:]\n",
    "    intensity=s['intensity'][:]"
   ]
  },
  {
   "cell_type": "code",
   "execution_count": 3,
   "id": "de48f01f-ac92-4103-96f3-0f1d0946b046",
   "metadata": {
    "tags": []
   },
   "outputs": [],
   "source": [
    "#import pylab as pl, numpy as np\n",
    "#pl.hist2d( col, np.log(intensity), bins=(1000,32), norm='log');"
   ]
  },
  {
   "cell_type": "code",
   "execution_count": 4,
   "id": "f69df2e7-d0cf-46a7-b3d3-de2acb3e29a3",
   "metadata": {
    "tags": []
   },
   "outputs": [
    {
     "name": "stdout",
     "output_type": "stream",
     "text": [
      "(180500,) (180500,)\n"
     ]
    }
   ],
   "source": [
    "mask = intensity > 9\n",
    "snew = { '1.1/row' :   row[mask], \n",
    "        '1.1/intensity' : intensity[mask], \n",
    "        '1.1/col' : col[mask], \n",
    "        '1.1/frame' : frame[mask] }    \n",
    "snew['1.1/nnz'] = np.bincount( snew['1.1/frame'], minlength = nnz.shape[0] )\n",
    "print( nnz.shape, snew['1.1/nnz'].shape )"
   ]
  },
  {
   "cell_type": "code",
   "execution_count": 5,
   "id": "1f76ee1b-a944-4c7f-b444-d5fb758152b6",
   "metadata": {
    "tags": []
   },
   "outputs": [
    {
     "data": {
      "text/plain": [
       "(4, 180465, (180500,))"
      ]
     },
     "execution_count": 5,
     "metadata": {},
     "output_type": "execute_result"
    }
   ],
   "source": [
    "frame.min(), frame.max(), nnz.shape"
   ]
  },
  {
   "cell_type": "code",
   "execution_count": 6,
   "id": "ed82e4d8-265f-467d-847f-1a2632fd1f57",
   "metadata": {
    "tags": []
   },
   "outputs": [],
   "source": [
    "skips = \"1.1/instrument/positioners/rot\", \"1.1/measurement/rot\",\n",
    "\n",
    "with h5py.File('silicon_fullscan_sparse.h5','r') as hin:\n",
    "    with h5py.File('silicon_fullscan_strong_sparse.h5','w') as hout:\n",
    "        def v(n,x):\n",
    "            if n in skips:\n",
    "                return\n",
    "            if type(x) is h5py.Group:\n",
    "                hout.require_group( n )\n",
    "                hout[n].attrs.update( hin[n].attrs )\n",
    "            if type(x) is h5py.Dataset:\n",
    "                if n in snew:\n",
    "                    a = snew[n][()]\n",
    "                else:\n",
    "                    a = hin[n][()]\n",
    "                if n.find('rot_center')>0:\n",
    "                    a = np.round(a*1e5)/1e5\n",
    "                if len(a.shape):\n",
    "                    cmp = { 'compression' : 'gzip',  'compression_opts' : 9 }\n",
    "                else:\n",
    "                    cmp = {}\n",
    "                hout.create_dataset( name = n,\n",
    "                                     shape = a.shape,\n",
    "                                     chunks= a.shape,\n",
    "                                     dtype = a.dtype,\n",
    "                                     data = a,\n",
    "                                     ** cmp\n",
    "                                      )\n",
    "                hout[n].attrs.update( hin[n].attrs )\n",
    "        hin.visititems( v )"
   ]
  },
  {
   "cell_type": "code",
   "execution_count": null,
   "id": "a566f203-18bb-46d0-aa2c-4df1bf8c6b91",
   "metadata": {},
   "outputs": [],
   "source": []
  }
 ],
 "metadata": {
  "kernelspec": {
   "display_name": "Python 3 (main)",
   "language": "python",
   "name": "python3"
  },
  "language_info": {
   "codemirror_mode": {
    "name": "ipython",
    "version": 3
   },
   "file_extension": ".py",
   "mimetype": "text/x-python",
   "name": "python",
   "nbconvert_exporter": "python",
   "pygments_lexer": "ipython3",
   "version": "3.11.6"
  },
  "widgets": {
   "application/vnd.jupyter.widget-state+json": {
    "state": {},
    "version_major": 2,
    "version_minor": 0
   }
  }
 },
 "nbformat": 4,
 "nbformat_minor": 5
}
